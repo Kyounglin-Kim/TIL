{
 "cells": [
  {
   "cell_type": "markdown",
   "metadata": {},
   "source": [
    "# Selenium 시작하기"
   ]
  },
  {
   "cell_type": "code",
   "execution_count": 6,
   "metadata": {},
   "outputs": [],
   "source": [
    "from selenium import webdriver\n",
    "import time"
   ]
  },
  {
   "cell_type": "code",
   "execution_count": 15,
   "metadata": {},
   "outputs": [
    {
     "data": {
      "text/plain": [
       "<selenium.webdriver.chrome.webdriver.WebDriver (session=\"df3f1f64395f31258792d2dc74f43217\")>"
      ]
     },
     "execution_count": 15,
     "metadata": {},
     "output_type": "execute_result"
    }
   ],
   "source": [
    "path = './driver/chromedriver.exe'\n",
    "driver = webdriver.Chrome(path)\n",
    "driver"
   ]
  },
  {
   "cell_type": "markdown",
   "metadata": {},
   "source": [
    "- Selenium 특정 요소를 찾는 함수\n",
    "- find_elements_*()\n",
    "- find_elements_*()\n",
    "- find_element_by_id()\n",
    "- find_dlement_by_name()\n",
    "- find_dlelment_by_css_selector() # css 확장자 \n",
    "- find_elements_by_tag_name\n",
    "- 리턴시켜주는 타입 WebElement 객체를 리턴 text\n",
    "- #는 아이디 찾을때, .은 클래스 찾을때"
   ]
  },
  {
   "cell_type": "code",
   "execution_count": 16,
   "metadata": {},
   "outputs": [],
   "source": [
    "driver.get('http://python.org')"
   ]
  },
  {
   "cell_type": "code",
   "execution_count": 9,
   "metadata": {},
   "outputs": [
    {
     "data": {
      "text/plain": [
       "[<selenium.webdriver.remote.webelement.WebElement (session=\"0cb68237adea5001b37d3c936a082069\", element=\"d75555e0-ac2e-4e1a-81a7-f94d5d0840af\")>,\n",
       " <selenium.webdriver.remote.webelement.WebElement (session=\"0cb68237adea5001b37d3c936a082069\", element=\"27bee2a3-a058-4b65-b53a-1963b06bd067\")>,\n",
       " <selenium.webdriver.remote.webelement.WebElement (session=\"0cb68237adea5001b37d3c936a082069\", element=\"6defe3e1-d92b-4034-a626-7bf808022985\")>,\n",
       " <selenium.webdriver.remote.webelement.WebElement (session=\"0cb68237adea5001b37d3c936a082069\", element=\"a10b0a97-8e80-4ab1-822c-001d1f61c280\")>,\n",
       " <selenium.webdriver.remote.webelement.WebElement (session=\"0cb68237adea5001b37d3c936a082069\", element=\"2422795f-6de5-4afa-877e-bfe6a519e26d\")>,\n",
       " <selenium.webdriver.remote.webelement.WebElement (session=\"0cb68237adea5001b37d3c936a082069\", element=\"6692b33b-48d3-47a0-938d-9b76bb2bc2f1\")>]"
      ]
     },
     "execution_count": 9,
     "metadata": {},
     "output_type": "execute_result"
    }
   ],
   "source": [
    "menus = driver.find_elements_by_css_selector('#top ul.menu li')\n",
    "menus\n",
    "# top를 찾고 그 안에 ul 찾고 거기의 class인 menu를 찾겠다."
   ]
  },
  {
   "cell_type": "code",
   "execution_count": 14,
   "metadata": {},
   "outputs": [],
   "source": [
    "click_menu = None\n",
    "for menu in menus:\n",
    "    #print(menu.text)\n",
    "    if menu.text=='Python':\n",
    "        click_menu = menu\n",
    "\n",
    "click_menu.click()\n",
    "time.sleep(5)\n",
    "driver.close()"
   ]
  },
  {
   "cell_type": "code",
   "execution_count": 17,
   "metadata": {},
   "outputs": [
    {
     "data": {
      "text/plain": [
       "<selenium.webdriver.chrome.webdriver.WebDriver (session=\"21a9114a1a08434097bbc3b511e24f66\")>"
      ]
     },
     "execution_count": 17,
     "metadata": {},
     "output_type": "execute_result"
    }
   ],
   "source": [
    "path = './driver/chromedriver.exe'\n",
    "driver = webdriver.Chrome(path)\n",
    "driver"
   ]
  },
  {
   "cell_type": "code",
   "execution_count": 18,
   "metadata": {},
   "outputs": [],
   "source": [
    "driver.get('https://datalab.naver.com/shoppingInsight/sCategory.naver')"
   ]
  },
  {
   "cell_type": "code",
   "execution_count": 27,
   "metadata": {},
   "outputs": [
    {
     "name": "stdout",
     "output_type": "stream",
     "text": [
      "<selenium.webdriver.remote.webelement.WebElement (session=\"21a9114a1a08434097bbc3b511e24f66\", element=\"fb62e905-27ef-4b6c-b502-1eeaba362e0f\")>\n"
     ]
    }
   ],
   "source": [
    "ul_tag = driver.find_element_by_css_selector('.rank_top1000_list')\n",
    "print(ul_tag)\n",
    "# 하나의 태그를 가져오는것이기 때문에 element이다."
   ]
  },
  {
   "cell_type": "code",
   "execution_count": 26,
   "metadata": {
    "collapsed": true
   },
   "outputs": [
    {
     "name": "stdout",
     "output_type": "stream",
     "text": [
      "[<selenium.webdriver.remote.webelement.WebElement (session=\"21a9114a1a08434097bbc3b511e24f66\", element=\"9e7b1d1e-14d4-40e8-9a7b-be0934616944\")>, <selenium.webdriver.remote.webelement.WebElement (session=\"21a9114a1a08434097bbc3b511e24f66\", element=\"9da7d7c6-70f4-46c1-82f7-0f3070a42190\")>, <selenium.webdriver.remote.webelement.WebElement (session=\"21a9114a1a08434097bbc3b511e24f66\", element=\"71d65ff0-f91f-4314-89ed-b8f5ca88fa06\")>, <selenium.webdriver.remote.webelement.WebElement (session=\"21a9114a1a08434097bbc3b511e24f66\", element=\"fe857237-0be2-414c-9a58-6fa303c29175\")>, <selenium.webdriver.remote.webelement.WebElement (session=\"21a9114a1a08434097bbc3b511e24f66\", element=\"46102a2c-9e7c-403e-9d32-15d8ab636f30\")>, <selenium.webdriver.remote.webelement.WebElement (session=\"21a9114a1a08434097bbc3b511e24f66\", element=\"b78e106f-8169-4c04-948c-689cbef4c4ee\")>, <selenium.webdriver.remote.webelement.WebElement (session=\"21a9114a1a08434097bbc3b511e24f66\", element=\"a5090e11-f274-4177-ac1f-dc7e96d1ef74\")>, <selenium.webdriver.remote.webelement.WebElement (session=\"21a9114a1a08434097bbc3b511e24f66\", element=\"7cb6f089-7919-40ed-afd7-65d221f5e6b0\")>, <selenium.webdriver.remote.webelement.WebElement (session=\"21a9114a1a08434097bbc3b511e24f66\", element=\"1d61cc44-f717-47d1-931c-4d75f30c3d85\")>, <selenium.webdriver.remote.webelement.WebElement (session=\"21a9114a1a08434097bbc3b511e24f66\", element=\"6c691387-ef54-4ba3-a4fa-1b3d561bf4e6\")>, <selenium.webdriver.remote.webelement.WebElement (session=\"21a9114a1a08434097bbc3b511e24f66\", element=\"ff7d583b-063f-4bab-919d-8d496cb090d7\")>, <selenium.webdriver.remote.webelement.WebElement (session=\"21a9114a1a08434097bbc3b511e24f66\", element=\"062da232-dab5-4a1d-8e19-5bf7b575ce2b\")>, <selenium.webdriver.remote.webelement.WebElement (session=\"21a9114a1a08434097bbc3b511e24f66\", element=\"37f26658-11a1-4591-9dd0-a8ca16b26b2d\")>, <selenium.webdriver.remote.webelement.WebElement (session=\"21a9114a1a08434097bbc3b511e24f66\", element=\"00d59dde-19f0-45bb-b429-fd4c835aab64\")>, <selenium.webdriver.remote.webelement.WebElement (session=\"21a9114a1a08434097bbc3b511e24f66\", element=\"13e72038-6a29-4ef0-be4e-302b16bd7dd1\")>, <selenium.webdriver.remote.webelement.WebElement (session=\"21a9114a1a08434097bbc3b511e24f66\", element=\"d10c12c6-2ed7-4306-8109-820305187edf\")>, <selenium.webdriver.remote.webelement.WebElement (session=\"21a9114a1a08434097bbc3b511e24f66\", element=\"46703b51-bee5-4f1f-a936-a9a3982f525f\")>, <selenium.webdriver.remote.webelement.WebElement (session=\"21a9114a1a08434097bbc3b511e24f66\", element=\"7b5b92cb-8ffd-4f76-8ff4-a6c5a374408e\")>, <selenium.webdriver.remote.webelement.WebElement (session=\"21a9114a1a08434097bbc3b511e24f66\", element=\"f700bea7-9606-4fe8-9464-0ea1493f70f5\")>, <selenium.webdriver.remote.webelement.WebElement (session=\"21a9114a1a08434097bbc3b511e24f66\", element=\"e7919b42-757e-4ed5-9772-f5555905490f\")>]\n"
     ]
    }
   ],
   "source": [
    "li_tag_list=ul_tag.find_elements_by_tag_name('li')\n",
    "print(li_tag_list)"
   ]
  },
  {
   "cell_type": "code",
   "execution_count": 25,
   "metadata": {},
   "outputs": [
    {
     "name": "stdout",
     "output_type": "stream",
     "text": [
      "['1', '원피스']\n",
      "['2', '나이키맨투맨']\n",
      "['3', '나이키바람막이']\n",
      "['4', '맨투맨']\n",
      "['5', '바람막이']\n",
      "['6', '후드집업']\n",
      "['7', '나이키후드티']\n",
      "['8', '트위드자켓']\n",
      "['9', '해리슨캐시미어코트']\n",
      "['10', '트렌치코트']\n",
      "['11', '나이키후드집업']\n",
      "['12', '후리스']\n",
      "['13', '가디건']\n",
      "['14', '잠옷']\n",
      "['15', '가을원피스']\n",
      "['16', '후드티']\n",
      "['17', '써스데이아일랜드원피스']\n",
      "['18', '니트원피스']\n",
      "['19', '라코스테가디건']\n",
      "['20', '블라우스']\n"
     ]
    }
   ],
   "source": [
    "for li in li_tag_list:\n",
    "    print(li.text.split('\\n'))"
   ]
  },
  {
   "cell_type": "code",
   "execution_count": 41,
   "metadata": {},
   "outputs": [],
   "source": [
    "path = './driver/chromedriver.exe'\n",
    "driver = webdriver.Chrome(path)\n",
    "driver.get('https://auto.naver.com/bike/mainList.nhn')"
   ]
  },
  {
   "cell_type": "markdown",
   "metadata": {},
   "source": [
    "- 전체 제조사 element를 찾아서 마우스 클릭하고 그 결과물을 반환받는다\n",
    "- 바이크 제조사 정보를 크롤링\n",
    "- 다음 페이지 버튼이 활성화 되어 있으면 클릭하고 추가적으로 제조사 정보를 반환받는다\n",
    "- 다음 페이지 버튼이 비활성화 되어 있으면 크롤링을 중단한다."
   ]
  },
  {
   "cell_type": "markdown",
   "metadata": {},
   "source": [
    "## 바이크 제조사 전체 페이지 클릭 구현[실습]"
   ]
  },
  {
   "cell_type": "code",
   "execution_count": 42,
   "metadata": {},
   "outputs": [],
   "source": [
    "#bikeBtn = driver.find_element_by_css_selector('.detail_more') -> 바로접근하면 문제 생길때도 있음 지금 실습은  괜찮지만\n",
    "bikeBtn = driver.find_element_by_css_selector('#container>div.spot_main>div.spot_aside>div.tit>a')\n",
    "\n",
    "bikeBtn.click()"
   ]
  },
  {
   "cell_type": "code",
   "execution_count": 37,
   "metadata": {},
   "outputs": [],
   "source": [
    "time.sleep(3)"
   ]
  },
  {
   "cell_type": "code",
   "execution_count": 70,
   "metadata": {
    "scrolled": true
   },
   "outputs": [],
   "source": [
    "# 바이크 제조사 1페이지 바이크 리스트 추출\n",
    "#bike= driver.find_elements_by_css_selector('.emblem_area>ul>li')\n",
    "bikeElements = driver.find_elements_by_css_selector('#_vendor_select_layer>div>div.maker_group>div.emblem_area>ul>li')\n",
    "#print(bikeElements)\n",
    "#print(bike)\n"
   ]
  },
  {
   "cell_type": "code",
   "execution_count": 62,
   "metadata": {
    "collapsed": true
   },
   "outputs": [
    {
     "name": "stdout",
     "output_type": "stream",
     "text": [
      "BMW\n",
      "https://imgauto-phinf.pstatic.net/20200310_295/auto_1583815693764w1MIK_PNG/20200310134808_90XTo2CB.png?type=f30_30\n",
      "https://auto.naver.com/bike/mnfcoMain.nhn?mnfcoNo=1\n",
      "KR모터스\n",
      "https://imgauto-phinf.pstatic.net/20170707_35/auto_1499403672996veFiV_PNG/20170707140110_ZApVlmYd.png?type=f30_30\n",
      "https://auto.naver.com/bike/mnfcoMain.nhn?mnfcoNo=8\n",
      "KTM\n",
      "https://imgauto-phinf.pstatic.net/20170707_86/auto_1499403489069IzvOn_PNG/20170707135806_pkMHEZto.png?type=f30_30\n",
      "https://auto.naver.com/bike/mnfcoMain.nhn?mnfcoNo=2\n",
      "MV아구스타\n",
      "https://imgauto-phinf.pstatic.net/20200106_247/auto_1578277573120pRONl_PNG/20200106112605_VEPQ942y.png?type=f30_30\n",
      "https://auto.naver.com/bike/mnfcoMain.nhn?mnfcoNo=3\n",
      "SYM\n",
      "https://imgauto-phinf.pstatic.net/20170707_69/auto_1499403691607hzmLc_PNG/20170707140129_Xm9IraXN.png?type=f30_30\n",
      "https://auto.naver.com/bike/mnfcoMain.nhn?mnfcoNo=10\n",
      "가와사키\n",
      "https://imgauto-phinf.pstatic.net/20170707_59/auto_149940389771698gvt_PNG/20170707140453_6HUCrEO2.png?type=f30_30\n",
      "https://auto.naver.com/bike/mnfcoMain.nhn?mnfcoNo=41\n",
      "고고로\n",
      "https://imgauto-phinf.pstatic.net/20200416_104/auto_1586997772907Atf4o_PNG/20200416094251_R0tdenWI.png?type=f30_30\n",
      "https://auto.naver.com/bike/mnfcoMain.nhn?mnfcoNo=53\n",
      "니우\n",
      "https://imgauto-phinf.pstatic.net/20200211_29/auto_1581399734416yzf4y_PNG/20200211144210_pcR4hM1R.png?type=f30_30\n",
      "https://auto.naver.com/bike/mnfcoMain.nhn?mnfcoNo=57\n",
      "다임러\n",
      "https://imgauto-phinf.pstatic.net/20191001_115/auto_1569895638495sGCl3_PNG/20191001110710_0Iz3JxnE.png?type=f30_30\n",
      "https://auto.naver.com/bike/mnfcoMain.nhn?mnfcoNo=55\n",
      "닷지\n",
      "https://imgauto-phinf.pstatic.net/20170707_258/auto_1499403835093BSkv4_PNG/20170707140352_J8UrpNno.png?type=f30_30\n",
      "https://auto.naver.com/bike/mnfcoMain.nhn?mnfcoNo=49\n",
      "대림\n",
      "https://imgauto-phinf.pstatic.net/20200306_144/auto_15834768484981kxOH_PNG/20200306154043_IDCmgkrX.png?type=f30_30\n",
      "https://auto.naver.com/bike/mnfcoMain.nhn?mnfcoNo=9\n",
      "두카티\n",
      "https://imgauto-phinf.pstatic.net/20200313_207/auto_1584071057990xwXn8_PNG/20200313124412_nttDZ26D.png?type=f30_30\n",
      "https://auto.naver.com/bike/mnfcoMain.nhn?mnfcoNo=4\n",
      "로얄엔필드\n",
      "https://imgauto-phinf.pstatic.net/20200306_19/auto_1583477817595DPct8_PNG/20200306155650_3gvEUisW.png?type=f30_30\n",
      "https://auto.naver.com/bike/mnfcoMain.nhn?mnfcoNo=42\n",
      "모토구찌\n",
      "https://imgauto-phinf.pstatic.net/20170707_99/auto_1499403620377SUY2j_PNG/20170707140017_av0Q5DJc.png?type=f30_30\n",
      "https://auto.naver.com/bike/mnfcoMain.nhn?mnfcoNo=29\n",
      "베넬리\n",
      "https://imgauto-phinf.pstatic.net/20170707_298/auto_149940364282830FB7_PNG/20170707140039_OqhQgzrP.png?type=f30_30\n",
      "https://auto.naver.com/bike/mnfcoMain.nhn?mnfcoNo=43\n",
      "베스파\n",
      "https://imgauto-phinf.pstatic.net/20200327_83/auto_1585299495007d9vwj_PNG/20200327175807_32P7N286.png?type=f30_30\n",
      "https://auto.naver.com/bike/mnfcoMain.nhn?mnfcoNo=18\n",
      "베타\n",
      "https://imgauto-phinf.pstatic.net/20170707_243/auto_14994036600550xR8J_PNG/20170707140054_w9OPzFyf.png?type=f30_30\n",
      "https://auto.naver.com/bike/mnfcoMain.nhn?mnfcoNo=48\n",
      "벡트릭스\n",
      "https://imgauto-phinf.pstatic.net/20200210_173/auto_1581309211901Ln2bN_PNG/20200210133325_SXnXm7QZ.png?type=f30_30\n",
      "https://auto.naver.com/bike/mnfcoMain.nhn?mnfcoNo=21\n",
      "브라모\n",
      "https://imgauto-phinf.pstatic.net/20200210_57/auto_1581309461684tMTzd_PNG/20200210133737_ctyiecRp.png?type=f30_30\n",
      "https://auto.naver.com/bike/mnfcoMain.nhn?mnfcoNo=37\n",
      "블루샤크\n",
      "https://imgauto-phinf.pstatic.net/20200508_160/auto_1588926919938O09H0_PNG/20200508173447_Baivq88R.png?type=f30_30\n",
      "https://auto.naver.com/bike/mnfcoMain.nhn?mnfcoNo=59\n",
      "비모타\n",
      "https://imgauto-phinf.pstatic.net/20200210_3/auto_1581309342460Cq8L8_PNG/20200210133537_wb4NnXGT.png?type=f30_30\n",
      "https://auto.naver.com/bike/mnfcoMain.nhn?mnfcoNo=33\n",
      "빅토리\n",
      "https://imgauto-phinf.pstatic.net/20170707_250/auto_14994037310380lT41_PNG/20170707140207_nsPJJvuu.png?type=f30_30\n",
      "https://auto.naver.com/bike/mnfcoMain.nhn?mnfcoNo=12\n",
      "스즈키\n",
      "https://imgauto-phinf.pstatic.net/20200207_262/auto_1581063025431IYOlm_PNG/20200207171020_tdJyUmbe.png?type=f30_30\n",
      "https://auto.naver.com/bike/mnfcoMain.nhn?mnfcoNo=15\n",
      "아치\n",
      "https://imgauto-phinf.pstatic.net/20191211_152/auto_1576030127296ldgoj_PNG/20191211110842_ss6wvddP.png?type=f30_30\n",
      "https://auto.naver.com/bike/mnfcoMain.nhn?mnfcoNo=13\n",
      "아프릴리아\n",
      "https://imgauto-phinf.pstatic.net/20170707_51/auto_149940352335462EyU_PNG/20170707135841_A8okFmzI.png?type=f30_30\n",
      "https://auto.naver.com/bike/mnfcoMain.nhn?mnfcoNo=5\n",
      "야마하\n",
      "https://imgauto-phinf.pstatic.net/20200911_42/auto_1599799255742BjqgS_PNG/20200911134050_SEZqfGZQ.png?type=f30_30\n",
      "https://auto.naver.com/bike/mnfcoMain.nhn?mnfcoNo=16\n",
      "우랄\n",
      "https://imgauto-phinf.pstatic.net/20200511_32/auto_15891568939650ytfw_PNG/20200511092807_YSQPYQ6H.png?type=f30_30\n",
      "https://auto.naver.com/bike/mnfcoMain.nhn?mnfcoNo=51\n",
      "이탈젯\n",
      "https://imgauto-phinf.pstatic.net/20170707_35/auto_1499403573966MA2Ky_PNG/20170707135931_xisfE6sK.png?type=f30_30\n",
      "https://auto.naver.com/bike/mnfcoMain.nhn?mnfcoNo=20\n",
      "인디언\n",
      "https://imgauto-phinf.pstatic.net/20200306_94/auto_1583478005716frPcW_PNG/20200306160000_F7jTJnAI.png?type=f30_30\n",
      "https://auto.naver.com/bike/mnfcoMain.nhn?mnfcoNo=19\n",
      "제로\n",
      "https://imgauto-phinf.pstatic.net/20200211_86/auto_1581399544042tVyrG_PNG/20200211143900_Aak3gllx.png?type=f30_30\n",
      "https://auto.naver.com/bike/mnfcoMain.nhn?mnfcoNo=45\n",
      "질레라\n",
      "https://imgauto-phinf.pstatic.net/20170707_150/auto_1499403534722ObiKh_PNG/20170707135852_N2uEr3sk.png?type=f30_30\n",
      "https://auto.naver.com/bike/mnfcoMain.nhn?mnfcoNo=6\n",
      "캔암 BRP\n",
      "https://imgauto-phinf.pstatic.net/20170707_228/auto_1499403938849PIyMC_PNG/20170707140536_X569kcW8.png?type=f30_30\n",
      "https://auto.naver.com/bike/mnfcoMain.nhn?mnfcoNo=35\n",
      "킴코\n",
      "https://imgauto-phinf.pstatic.net/20200211_105/auto_1581393647952v08ut_PNG/20200211130046_kyHVtGAm.png?type=f30_30\n",
      "https://auto.naver.com/bike/mnfcoMain.nhn?mnfcoNo=11\n",
      "트라이엄프\n",
      "https://imgauto-phinf.pstatic.net/20200306_108/auto_1583477219918l17tk_PNG/20200306154654_VfKRcDoV.png?type=f30_30\n",
      "https://auto.naver.com/bike/mnfcoMain.nhn?mnfcoNo=31\n",
      "폴라리스\n",
      "https://imgauto-phinf.pstatic.net/20200306_92/auto_1583477538592tLpg2_PNG/20200306155212_sRrEH7Nu.png?type=f30_30\n",
      "https://auto.naver.com/bike/mnfcoMain.nhn?mnfcoNo=27\n"
     ]
    }
   ],
   "source": [
    "for bike_li in bikeElements:\n",
    "    companyName = bike_li.find_element_by_tag_name('span').text\n",
    "    if(companyName !=''):\n",
    "        print(companyName)\n",
    "    #이미지\n",
    "        img = bike_li.find_element_by_tag_name('img').get_attribute('src')\n",
    "        print(img)\n",
    "    #링크\n",
    "        link = bike_li.find_element_by_tag_name('a').get_attribute('href')\n",
    "        print(link)\n",
    "    \n",
    "time.sleep(3)"
   ]
  },
  {
   "cell_type": "code",
   "execution_count": 68,
   "metadata": {},
   "outputs": [
    {
     "name": "stdout",
     "output_type": "stream",
     "text": [
      "True\n"
     ]
    }
   ],
   "source": [
    "# 제조사 리스트 버튼을 클릭하는 부분 찾아보자\n",
    "nextBtn = driver.find_element_by_css_selector(\"#_vendor_select_layer > div > div.maker_group > div.rolling_btn > button.next\")\n",
    "isFlag = nextBtn.is_enabled()#활성 비활성 확인 코드\n",
    "print(isFlag)"
   ]
  },
  {
   "cell_type": "code",
   "execution_count": 69,
   "metadata": {
    "scrolled": true
   },
   "outputs": [
    {
     "name": "stdout",
     "output_type": "stream",
     "text": [
      "next page is exist~~~\n",
      "푸조\n",
      "https://imgauto-phinf.pstatic.net/20200211_40/auto_1581394183642FtijQ_PNG/20200211130938_oTGaNA0a.png?type=f30_30\n",
      "https://auto.naver.com/bike/mnfcoMain.nhn?mnfcoNo=23\n",
      "피아지오\n",
      "https://imgauto-phinf.pstatic.net/20200327_205/auto_158529962401670gMc_PNG/20200327180019_F8e27mnu.png?type=f30_30\n",
      "https://auto.naver.com/bike/mnfcoMain.nhn?mnfcoNo=7\n",
      "하우주\n",
      "https://imgauto-phinf.pstatic.net/20200723_150/auto_1595476251516fKWJu_PNG/20200723125012_KwPALXVG.png?type=f30_30\n",
      "https://auto.naver.com/bike/mnfcoMain.nhn?mnfcoNo=61\n",
      "할리데이비슨\n",
      "https://imgauto-phinf.pstatic.net/20181114_217/auto_1542158042259qoTKx_PNG/20181114101352_mrZAwjhU.png?type=f30_30\n",
      "https://auto.naver.com/bike/mnfcoMain.nhn?mnfcoNo=14\n",
      "허스크바나\n",
      "https://imgauto-phinf.pstatic.net/20190822_21/auto_1566435071526vqkPl_PNG/20190822094926_kGG402zL.png?type=f30_30\n",
      "https://auto.naver.com/bike/mnfcoMain.nhn?mnfcoNo=39\n",
      "혼다\n",
      "https://imgauto-phinf.pstatic.net/20170707_49/auto_1499409167916Uizy9_PNG/20170707153243_h5zKjsaD.png?type=f30_30\n",
      "https://auto.naver.com/bike/mnfcoMain.nhn?mnfcoNo=17\n"
     ]
    }
   ],
   "source": [
    "if(isFlag==True):\n",
    "    print('next page is exist~~~')\n",
    "    nextBtn.click()\n",
    "    bikeElements = driver.find_elements_by_css_selector('#_vendor_select_layer>div>div.maker_group>div.emblem_area>ul>li')\n",
    "\n",
    "    for bike_li in bikeElements:\n",
    "        companyName = bike_li.find_element_by_tag_name('span').text\n",
    "        if(companyName !=''):\n",
    "            print(companyName)\n",
    "    #이미지\n",
    "            img = bike_li.find_element_by_tag_name('img').get_attribute('src')\n",
    "            print(img)\n",
    "    #링크\n",
    "            link = bike_li.find_element_by_tag_name('a').get_attribute('href')\n",
    "            print(link)"
   ]
  },
  {
   "cell_type": "markdown",
   "metadata": {},
   "source": [
    "## Json형식의 파일 크롤링"
   ]
  },
  {
   "cell_type": "code",
   "execution_count": 10,
   "metadata": {},
   "outputs": [],
   "source": [
    "import json, re\n",
    "from urllib.request import urlopen\n",
    "from html import unescape"
   ]
  },
  {
   "cell_type": "code",
   "execution_count": 11,
   "metadata": {},
   "outputs": [],
   "source": [
    "# 웹페이지 불러오기\n",
    "request = urlopen('http://www.hanbit.co.kr/store/books/full_book_list.html')\n",
    "encoding = request.info().get_content_charset('utf-8')\n",
    "html = request.read().decode(encoding)\n",
    "# html"
   ]
  },
  {
   "cell_type": "markdown",
   "metadata": {},
   "source": [
    "- json.dumps() : 데이터를 json 형태로 인코딩(문자열)\n",
    "- json.dump() : 데이터를 json형태로 인코딩하여 파일에 출력(파일)\n",
    "- ensure_ascii = False : \\xxxx형태로 이스케이프 하지 않고 출력\n",
    "- [{key : value}, {key:value}]indent=size 들여쓰기"
   ]
  },
  {
   "cell_type": "code",
   "execution_count": 12,
   "metadata": {},
   "outputs": [],
   "source": [
    "# - 정규표현식 \n",
    "# - . 모든 문자\n",
    "# - * 0번이상반복\n",
    "# - ? 있어도 되고 없어도 된다\n",
    "# - <a href=\"(.*?)\"> 모든문자가 0번이상 반복하고 값이 있어도 되고 없어도 된다. \n",
    "# - <td class = 'left'><a.*?</td> \n",
    "#   a태그로 시작해서 td태그로 끝나는 모든문자 "
   ]
  },
  {
   "cell_type": "markdown",
   "metadata": {},
   "source": [
    "## json파일 생성"
   ]
  },
  {
   "cell_type": "code",
   "execution_count": 71,
   "metadata": {},
   "outputs": [],
   "source": [
    "# 한빛 출판네트워크 \n",
    "# r'<td class=\"left\"><a.*?</td>' r을 해야 로우 데이터를 가져온다는 뜻이다.\n",
    "#<> vs () => 태그인지 값인지에 대한 차이..?\n",
    "\n",
    "with open('./data/booklist_json.json',mode='w',encoding='utf-8')as file:\n",
    "    data=[]\n",
    "    for partial_html in re.findall(r'<td class=\"left\"><a.*?</td>',html): # re.findall은 정규표현식을 쓴다고 생각하면된다.\n",
    "        #print(partial_html)\n",
    "        search=re.search(r'<a href=\"(.*?)\">',partial_html).group(1) # group()은 매칭되는 태그만 가져온다.-><a>가져옴 (1)은 첫번째 요소 속성들을 가져오게 한다.\n",
    "        url = 'https://www.hanbit.co.kr/'+search\n",
    "        title = re.sub(r'<.*?>','',partial_html) # r'<.*?>을 '' 으로 대체한다는 뜻 \n",
    "        data.append({'BookName' : title, 'Link' : url })\n",
    "        #print(json.dumps(data,ensure_ascii=False,indent=2))\n",
    "    json.dump(data,file,ensure_ascii=False,indent=2 )\n",
    "        \n",
    "\n",
    "    "
   ]
  },
  {
   "cell_type": "code",
   "execution_count": 72,
   "metadata": {},
   "outputs": [],
   "source": [
    "import json"
   ]
  },
  {
   "cell_type": "code",
   "execution_count": 73,
   "metadata": {},
   "outputs": [],
   "source": [
    "with open('./data/booklist_json.json',mode='r',encoding='utf-8') as file :\n",
    "    json_data = json.load(file)   "
   ]
  },
  {
   "cell_type": "code",
   "execution_count": null,
   "metadata": {},
   "outputs": [],
   "source": [
    "# print(json.dumps(json_data,ensure_ascii=False,indent='\\t'))"
   ]
  },
  {
   "cell_type": "code",
   "execution_count": 74,
   "metadata": {},
   "outputs": [
    {
     "data": {
      "text/plain": [
       "'나는 꼭 필요한 것만 남기기로 했다'"
      ]
     },
     "execution_count": 74,
     "metadata": {},
     "output_type": "execute_result"
    }
   ],
   "source": [
    "json_data[0]['BookName']"
   ]
  },
  {
   "cell_type": "code",
   "execution_count": null,
   "metadata": {},
   "outputs": [],
   "source": [
    "print(json.dumps(json_data[0]['BookName'],ensure_ascii=False,indent='\\t'))"
   ]
  },
  {
   "cell_type": "code",
   "execution_count": 75,
   "metadata": {},
   "outputs": [
    {
     "name": "stdout",
     "output_type": "stream",
     "text": [
      "나는 꼭 필요한 것만 남기기로 했다\n",
      "파이썬과 대스크를 활용한 고성능 데이터 분석\n",
      "웹어셈블리 인 액션\n",
      "쉽게 배워 바로 써먹는 디자인 패턴\n",
      "부의 원칙\n",
      "만들면서 배우는 픽셀 아트\n",
      "초보자를 위한 언리얼 엔진 4 입문\n",
      "분산원장 기술\n",
      "회사에서 바로 통하는 3ds Max + V-Ray\n",
      "재미있고 빠른 한글 쓰기 3권 : 교과서 쉬운 낱말\n",
      "나도 초록 식물 잘 키우면 소원이 없겠네\n",
      "IT CookBook, 액세스 2019로 배우는 데이터베이스 기초와 실습\n",
      "GAN 인 액션\n",
      "재미있고 빠른 어휘력 동화 – 아지랑이가 뭐야?\n",
      "재미있고 빠른 어휘력 동화 – 많다의 반대가 뭐야?\n",
      "만화로 보는 바빌론 부자들의 돈 버는 지혜\n",
      "포르잔 C++ 바이블\n",
      "청소년 인문학 수업 - 1권\n",
      "청소년 인문학 수업 - 2권\n",
      "처음 시작하는 파이썬&#40;2판&#41;\n",
      "퀀트 전략을 위한 인공지능 트레이딩\n",
      "처음 시작하는 딥러닝\n",
      "회사에서 바로 통하는 실무 엑셀 매크로&VBA\n",
      "게임 오버\n",
      "초소형 머신러닝 TinyML\n",
      "오늘도 뇌는 거짓말을 한다\n",
      "허팝만 따라 해봐! 유튜브 정석\n",
      "이것이 취업을 위한 코딩 테스트다 with 파이썬\n",
      "딥러닝을 위한 선형대수학\n",
      "유닉스의 탄생\n",
      "회사에서 바로 통하는  오토캐드 AutoCAD 2021\n",
      "IT CookBook, 오라클로 배우는 데이터베이스 개론과 실습&#40;2판&#41;\n",
      "별, 걔 다 그립네\n",
      "대학을 버려야 대학이 산다\n",
      "IT CookBook, 따라 하면서 배우는 사물인터넷\n",
      "재미있고 빠른 첫 한글 준비 선 긋기1권 직선∙곡선∙자음∙모음\n",
      "재미있고 빠른 첫 한글 4권 쌍자음∙받침\n",
      "핸즈온 비지도 학습\n",
      "재미있고 빠른 첫 한글 쓰기1권 모음∙자음∙쉬운 낱말\n",
      "우리 아이 처음 놀이\n",
      "미라클 모닝 기적의 공식&#40;개정판&#41;\n",
      "창의적 공학설계&#40;3판&#41;\n",
      "R로 하는 다변량 데이터 분석 : 이론부터 실무 활용까지\n",
      "공학 핵심수학&#40;2판&#41;  : 기초부터 심화까지 핵심만 쏙쏙\n",
      "응용이 보이는 선형대수학 : 파이썬과 함께하는 선형대수학 이론과 응용\n",
      "파이썬 증권 데이터 분석\n",
      "나의 첫 파이썬&#40;2판&#41;\n",
      "나는 왜 네 말이 힘들까\n",
      "혼자 공부하는 첫 프로그래밍 with 파이썬\n",
      "퇴근길 인문학 수업 : 뉴노멀\n"
     ]
    }
   ],
   "source": [
    "for i in range(len(json_data)):\n",
    "    a= json_data[i]['BookName']\n",
    "    print(a)"
   ]
  }
 ],
 "metadata": {
  "kernelspec": {
   "display_name": "Python 3",
   "language": "python",
   "name": "python3"
  },
  "language_info": {
   "codemirror_mode": {
    "name": "ipython",
    "version": 3
   },
   "file_extension": ".py",
   "mimetype": "text/x-python",
   "name": "python",
   "nbconvert_exporter": "python",
   "pygments_lexer": "ipython3",
   "version": "3.6.12"
  }
 },
 "nbformat": 4,
 "nbformat_minor": 2
}
