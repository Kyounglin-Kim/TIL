{
 "cells": [
  {
   "cell_type": "code",
   "execution_count": 39,
   "metadata": {},
   "outputs": [],
   "source": [
    "from selenium import webdriver\n",
    "from bs4 import BeautifulSoup\n",
    "import requests\n",
    "from tqdm import tqdm_notebook\n",
    "from bs4 import BeautifulSoup\n",
    "import time\n",
    "path = './driver/chromedriver.exe'\n",
    "driver = webdriver.Chrome(path)\n",
    "\n",
    "import numpy as np\n",
    "import pandas as pd"
   ]
  },
  {
   "cell_type": "code",
   "execution_count": 40,
   "metadata": {},
   "outputs": [],
   "source": [
    "# 책 제목 추출을 위한 단어 리스트\n",
    "file_format = ['(지은이)', '(옮긴이)', '(엮은이)', '(글)', '(그림)', '(편곡)', '(감수)', '(원작)', '(참고서)', '(캐릭터)', '(기획)', '(구성)', '(디자인)', '(해설)', '김은숙, 김수연']\n",
    "\n",
    "# 저자 및 출판사를 담을 list\n",
    "book_list = []\n",
    "image =[]\n",
    "title = []\n",
    "isbn_list = []"
   ]
  },
  {
   "cell_type": "code",
   "execution_count": 41,
   "metadata": {},
   "outputs": [],
   "source": [
    "# 소설 url\n",
    "category_url = 'https://www.aladin.co.kr/shop/common/wbest.aspx?BestType=MonthlyBest&BranchType=1&CID=170&Year=2020&Month='\n",
    "rest_url01 = '&page='\n",
    "rest_url02 = '&cnt=1000&SortOrder=1'"
   ]
  },
  {
   "cell_type": "markdown",
   "metadata": {},
   "source": [
    "### 경제경영 3~5월"
   ]
  },
  {
   "cell_type": "code",
   "execution_count": 42,
   "metadata": {},
   "outputs": [
    {
     "name": "stderr",
     "output_type": "stream",
     "text": [
      "C:\\ProgramData\\Anaconda3\\lib\\site-packages\\ipykernel_launcher.py:8: TqdmDeprecationWarning: This function will be removed in tqdm==5.0.0\n",
      "Please use `tqdm.notebook.tqdm` instead of `tqdm.tqdm_notebook`\n",
      "  \n"
     ]
    },
    {
     "data": {
      "application/vnd.jupyter.widget-view+json": {
       "model_id": "a706443f22e84923946a9a6850b8fdf6",
       "version_major": 2,
       "version_minor": 0
      },
      "text/plain": [
       "HBox(children=(HTML(value=''), FloatProgress(value=0.0, max=4.0), HTML(value='')))"
      ]
     },
     "metadata": {},
     "output_type": "display_data"
    },
    {
     "name": "stdout",
     "output_type": "stream",
     "text": [
      "6월 1페이지 cnt = 50\n"
     ]
    },
    {
     "name": "stderr",
     "output_type": "stream",
     "text": [
      "C:\\ProgramData\\Anaconda3\\lib\\site-packages\\ipykernel_launcher.py:47: TqdmDeprecationWarning: This function will be removed in tqdm==5.0.0\n",
      "Please use `tqdm.notebook.tqdm` instead of `tqdm.tqdm_notebook`\n"
     ]
    },
    {
     "data": {
      "application/vnd.jupyter.widget-view+json": {
       "model_id": "79c9bd7648f34529949a04d27ab700ae",
       "version_major": 2,
       "version_minor": 0
      },
      "text/plain": [
       "HBox(children=(HTML(value=''), FloatProgress(value=0.0, max=50.0), HTML(value='')))"
      ]
     },
     "metadata": {},
     "output_type": "display_data"
    },
    {
     "name": "stdout",
     "output_type": "stream",
     "text": [
      "link_list length : 50\n",
      "link_list length : 50\n",
      "link_list length : 50\n",
      "link_list length : 50\n",
      "link_list length : 50\n",
      "link_list length : 50\n",
      "link_list length : 50\n",
      "link_list length : 50\n",
      "link_list length : 50\n",
      "link_list length : 50\n",
      "link_list length : 50\n",
      "link_list length : 50\n",
      "link_list length : 50\n",
      "link_list length : 50\n",
      "link_list length : 50\n",
      "link_list length : 50\n",
      "link_list length : 50\n",
      "link_list length : 50\n",
      "link_list length : 50\n",
      "link_list length : 50\n",
      "link_list length : 50\n",
      "link_list length : 50\n",
      "link_list length : 50\n",
      "link_list length : 50\n",
      "link_list length : 50\n",
      "link_list length : 50\n",
      "link_list length : 50\n",
      "link_list length : 50\n",
      "link_list length : 50\n",
      "link_list length : 50\n",
      "link_list length : 50\n",
      "link_list length : 50\n",
      "link_list length : 50\n",
      "link_list length : 50\n",
      "link_list length : 50\n",
      "link_list length : 50\n",
      "link_list length : 50\n",
      "link_list length : 50\n",
      "link_list length : 50\n",
      "link_list length : 50\n",
      "link_list length : 50\n",
      "link_list length : 50\n",
      "link_list length : 50\n",
      "link_list length : 50\n",
      "link_list length : 50\n",
      "link_list length : 50\n",
      "link_list length : 50\n",
      "link_list length : 50\n",
      "link_list length : 50\n",
      "link_list length : 50\n",
      "\n",
      "50\n",
      "6월 2페이지 cnt = 50\n"
     ]
    },
    {
     "data": {
      "application/vnd.jupyter.widget-view+json": {
       "model_id": "623a5f6daa89491e8c6a3f5478eeda11",
       "version_major": 2,
       "version_minor": 0
      },
      "text/plain": [
       "HBox(children=(HTML(value=''), FloatProgress(value=0.0, max=50.0), HTML(value='')))"
      ]
     },
     "metadata": {},
     "output_type": "display_data"
    },
    {
     "name": "stdout",
     "output_type": "stream",
     "text": [
      "link_list length : 50\n",
      "link_list length : 50\n",
      "link_list length : 50\n",
      "link_list length : 50\n",
      "link_list length : 50\n",
      "link_list length : 50\n",
      "link_list length : 50\n",
      "link_list length : 50\n",
      "link_list length : 50\n",
      "link_list length : 50\n",
      "link_list length : 50\n",
      "link_list length : 50\n",
      "link_list length : 50\n",
      "link_list length : 50\n",
      "link_list length : 50\n",
      "link_list length : 50\n",
      "link_list length : 50\n",
      "link_list length : 50\n",
      "link_list length : 50\n",
      "link_list length : 50\n",
      "link_list length : 50\n",
      "link_list length : 50\n",
      "link_list length : 50\n",
      "link_list length : 50\n",
      "link_list length : 50\n",
      "link_list length : 50\n",
      "link_list length : 50\n",
      "link_list length : 50\n",
      "link_list length : 50\n",
      "link_list length : 50\n",
      "link_list length : 50\n",
      "link_list length : 50\n",
      "link_list length : 50\n",
      "link_list length : 50\n",
      "link_list length : 50\n",
      "link_list length : 50\n",
      "link_list length : 50\n",
      "link_list length : 50\n",
      "link_list length : 50\n",
      "link_list length : 50\n",
      "link_list length : 50\n",
      "link_list length : 50\n",
      "link_list length : 50\n",
      "link_list length : 50\n",
      "link_list length : 50\n",
      "link_list length : 50\n",
      "link_list length : 50\n",
      "link_list length : 50\n",
      "link_list length : 50\n",
      "link_list length : 50\n",
      "\n",
      "100\n",
      "6월 3페이지 cnt = 50\n"
     ]
    },
    {
     "data": {
      "application/vnd.jupyter.widget-view+json": {
       "model_id": "295bd83f25934651a2e6496dce23daff",
       "version_major": 2,
       "version_minor": 0
      },
      "text/plain": [
       "HBox(children=(HTML(value=''), FloatProgress(value=0.0, max=50.0), HTML(value='')))"
      ]
     },
     "metadata": {},
     "output_type": "display_data"
    },
    {
     "name": "stdout",
     "output_type": "stream",
     "text": [
      "link_list length : 50\n",
      "link_list length : 50\n",
      "link_list length : 50\n",
      "link_list length : 50\n",
      "link_list length : 50\n",
      "link_list length : 50\n",
      "link_list length : 50\n",
      "link_list length : 50\n",
      "link_list length : 50\n",
      "link_list length : 50\n",
      "link_list length : 50\n",
      "link_list length : 50\n",
      "link_list length : 50\n",
      "link_list length : 50\n",
      "link_list length : 50\n",
      "link_list length : 50\n",
      "link_list length : 50\n",
      "link_list length : 50\n",
      "link_list length : 50\n",
      "link_list length : 50\n",
      "link_list length : 50\n",
      "link_list length : 50\n",
      "link_list length : 50\n",
      "link_list length : 50\n",
      "link_list length : 50\n",
      "link_list length : 50\n",
      "link_list length : 50\n",
      "link_list length : 50\n",
      "link_list length : 50\n",
      "link_list length : 50\n",
      "link_list length : 50\n",
      "link_list length : 50\n",
      "link_list length : 50\n",
      "link_list length : 50\n",
      "link_list length : 50\n",
      "link_list length : 50\n",
      "link_list length : 50\n",
      "link_list length : 50\n",
      "link_list length : 50\n",
      "link_list length : 50\n",
      "link_list length : 50\n",
      "link_list length : 50\n",
      "link_list length : 50\n",
      "link_list length : 50\n",
      "link_list length : 50\n",
      "link_list length : 50\n",
      "link_list length : 50\n",
      "link_list length : 50\n",
      "link_list length : 50\n",
      "link_list length : 50\n",
      "\n",
      "150\n",
      "6월 4페이지 cnt = 50\n"
     ]
    },
    {
     "data": {
      "application/vnd.jupyter.widget-view+json": {
       "model_id": "7248025f17264aedb6a0de165440090a",
       "version_major": 2,
       "version_minor": 0
      },
      "text/plain": [
       "HBox(children=(HTML(value=''), FloatProgress(value=0.0, max=50.0), HTML(value='')))"
      ]
     },
     "metadata": {},
     "output_type": "display_data"
    },
    {
     "name": "stdout",
     "output_type": "stream",
     "text": [
      "link_list length : 50\n",
      "link_list length : 50\n",
      "link_list length : 50\n",
      "link_list length : 50\n",
      "link_list length : 50\n",
      "link_list length : 50\n",
      "link_list length : 50\n",
      "link_list length : 50\n",
      "link_list length : 50\n",
      "link_list length : 50\n",
      "link_list length : 50\n",
      "link_list length : 50\n",
      "link_list length : 50\n",
      "link_list length : 50\n",
      "link_list length : 50\n",
      "link_list length : 50\n",
      "link_list length : 50\n",
      "link_list length : 50\n",
      "link_list length : 50\n",
      "link_list length : 50\n",
      "link_list length : 50\n",
      "link_list length : 50\n",
      "link_list length : 50\n",
      "link_list length : 50\n",
      "link_list length : 50\n",
      "link_list length : 50\n",
      "link_list length : 50\n",
      "link_list length : 50\n",
      "link_list length : 50\n",
      "link_list length : 50\n",
      "link_list length : 50\n",
      "link_list length : 50\n",
      "link_list length : 50\n",
      "link_list length : 50\n",
      "link_list length : 50\n",
      "link_list length : 50\n",
      "link_list length : 50\n",
      "link_list length : 50\n",
      "link_list length : 50\n",
      "link_list length : 50\n",
      "link_list length : 50\n",
      "link_list length : 50\n",
      "link_list length : 50\n",
      "link_list length : 50\n",
      "link_list length : 50\n",
      "link_list length : 50\n",
      "link_list length : 50\n",
      "link_list length : 50\n",
      "link_list length : 50\n",
      "link_list length : 50\n",
      "\n",
      "200\n",
      "6월 5페이지 cnt = 50\n"
     ]
    },
    {
     "data": {
      "application/vnd.jupyter.widget-view+json": {
       "model_id": "b2c44a52645046d18a8d1af05cf382a3",
       "version_major": 2,
       "version_minor": 0
      },
      "text/plain": [
       "HBox(children=(HTML(value=''), FloatProgress(value=0.0, max=50.0), HTML(value='')))"
      ]
     },
     "metadata": {},
     "output_type": "display_data"
    },
    {
     "name": "stdout",
     "output_type": "stream",
     "text": [
      "link_list length : 50\n",
      "link_list length : 50\n",
      "link_list length : 50\n",
      "link_list length : 50\n",
      "link_list length : 50\n",
      "link_list length : 50\n",
      "link_list length : 50\n",
      "link_list length : 50\n",
      "link_list length : 50\n",
      "link_list length : 50\n",
      "link_list length : 50\n",
      "link_list length : 50\n",
      "link_list length : 50\n",
      "link_list length : 50\n",
      "link_list length : 50\n",
      "link_list length : 50\n",
      "link_list length : 50\n",
      "link_list length : 50\n",
      "link_list length : 50\n",
      "link_list length : 50\n",
      "link_list length : 50\n",
      "link_list length : 50\n",
      "link_list length : 50\n",
      "link_list length : 50\n",
      "link_list length : 50\n",
      "link_list length : 50\n",
      "link_list length : 50\n",
      "link_list length : 50\n",
      "link_list length : 50\n",
      "link_list length : 50\n",
      "link_list length : 50\n",
      "link_list length : 50\n",
      "link_list length : 50\n",
      "link_list length : 50\n",
      "link_list length : 50\n",
      "link_list length : 50\n",
      "link_list length : 50\n",
      "link_list length : 50\n",
      "link_list length : 50\n",
      "link_list length : 50\n",
      "link_list length : 50\n",
      "link_list length : 50\n",
      "link_list length : 50\n",
      "link_list length : 50\n",
      "link_list length : 50\n",
      "link_list length : 50\n",
      "link_list length : 50\n",
      "link_list length : 50\n",
      "link_list length : 50\n",
      "link_list length : 50\n",
      "\n",
      "250\n",
      "7월 1페이지 cnt = 50\n"
     ]
    },
    {
     "data": {
      "application/vnd.jupyter.widget-view+json": {
       "model_id": "97d1434ebd4d4226b35477c8f8a2d34d",
       "version_major": 2,
       "version_minor": 0
      },
      "text/plain": [
       "HBox(children=(HTML(value=''), FloatProgress(value=0.0, max=50.0), HTML(value='')))"
      ]
     },
     "metadata": {},
     "output_type": "display_data"
    },
    {
     "name": "stdout",
     "output_type": "stream",
     "text": [
      "link_list length : 50\n",
      "link_list length : 50\n",
      "link_list length : 50\n",
      "link_list length : 50\n",
      "link_list length : 50\n",
      "link_list length : 50\n",
      "link_list length : 50\n",
      "link_list length : 50\n",
      "link_list length : 50\n",
      "link_list length : 50\n",
      "link_list length : 50\n",
      "link_list length : 50\n",
      "link_list length : 50\n",
      "link_list length : 50\n",
      "link_list length : 50\n",
      "link_list length : 50\n",
      "link_list length : 50\n",
      "link_list length : 50\n",
      "link_list length : 50\n",
      "link_list length : 50\n",
      "link_list length : 50\n",
      "link_list length : 50\n",
      "link_list length : 50\n",
      "link_list length : 50\n",
      "link_list length : 50\n",
      "link_list length : 50\n",
      "link_list length : 50\n",
      "link_list length : 50\n",
      "link_list length : 50\n",
      "link_list length : 50\n",
      "link_list length : 50\n",
      "link_list length : 50\n",
      "link_list length : 50\n",
      "link_list length : 50\n",
      "link_list length : 50\n",
      "link_list length : 50\n",
      "link_list length : 50\n",
      "link_list length : 50\n",
      "link_list length : 50\n",
      "link_list length : 50\n",
      "link_list length : 50\n",
      "link_list length : 50\n",
      "link_list length : 50\n",
      "link_list length : 50\n",
      "link_list length : 50\n",
      "link_list length : 50\n",
      "link_list length : 50\n",
      "link_list length : 50\n",
      "link_list length : 50\n",
      "link_list length : 50\n",
      "\n",
      "300\n",
      "7월 2페이지 cnt = 50\n"
     ]
    },
    {
     "data": {
      "application/vnd.jupyter.widget-view+json": {
       "model_id": "40474afd6fc848baac20c0cca285755c",
       "version_major": 2,
       "version_minor": 0
      },
      "text/plain": [
       "HBox(children=(HTML(value=''), FloatProgress(value=0.0, max=50.0), HTML(value='')))"
      ]
     },
     "metadata": {},
     "output_type": "display_data"
    },
    {
     "name": "stdout",
     "output_type": "stream",
     "text": [
      "link_list length : 50\n",
      "link_list length : 50\n",
      "link_list length : 50\n",
      "link_list length : 50\n",
      "link_list length : 50\n",
      "link_list length : 50\n",
      "link_list length : 50\n",
      "link_list length : 50\n",
      "link_list length : 50\n",
      "link_list length : 50\n",
      "link_list length : 50\n",
      "link_list length : 50\n",
      "link_list length : 50\n",
      "link_list length : 50\n",
      "link_list length : 50\n",
      "link_list length : 50\n",
      "link_list length : 50\n",
      "link_list length : 50\n",
      "link_list length : 50\n",
      "link_list length : 50\n",
      "link_list length : 50\n",
      "link_list length : 50\n",
      "link_list length : 50\n",
      "link_list length : 50\n",
      "link_list length : 50\n",
      "link_list length : 50\n",
      "link_list length : 50\n",
      "link_list length : 50\n",
      "link_list length : 50\n",
      "link_list length : 50\n",
      "link_list length : 50\n",
      "link_list length : 50\n",
      "link_list length : 50\n",
      "link_list length : 50\n",
      "link_list length : 50\n",
      "link_list length : 50\n",
      "link_list length : 50\n",
      "link_list length : 50\n",
      "link_list length : 50\n",
      "link_list length : 50\n",
      "link_list length : 50\n",
      "link_list length : 50\n",
      "link_list length : 50\n",
      "link_list length : 50\n",
      "link_list length : 50\n",
      "link_list length : 50\n",
      "link_list length : 50\n",
      "link_list length : 50\n",
      "link_list length : 50\n",
      "link_list length : 50\n",
      "\n",
      "350\n",
      "7월 3페이지 cnt = 50\n"
     ]
    },
    {
     "data": {
      "application/vnd.jupyter.widget-view+json": {
       "model_id": "7c3a63848d1642b7be949536fd3bb03d",
       "version_major": 2,
       "version_minor": 0
      },
      "text/plain": [
       "HBox(children=(HTML(value=''), FloatProgress(value=0.0, max=50.0), HTML(value='')))"
      ]
     },
     "metadata": {},
     "output_type": "display_data"
    },
    {
     "name": "stdout",
     "output_type": "stream",
     "text": [
      "link_list length : 50\n",
      "link_list length : 50\n",
      "link_list length : 50\n",
      "link_list length : 50\n",
      "link_list length : 50\n",
      "link_list length : 50\n",
      "link_list length : 50\n",
      "link_list length : 50\n",
      "link_list length : 50\n",
      "link_list length : 50\n",
      "link_list length : 50\n",
      "link_list length : 50\n",
      "link_list length : 50\n",
      "link_list length : 50\n",
      "link_list length : 50\n",
      "link_list length : 50\n",
      "link_list length : 50\n",
      "link_list length : 50\n",
      "link_list length : 50\n",
      "link_list length : 50\n",
      "link_list length : 50\n",
      "link_list length : 50\n",
      "link_list length : 50\n",
      "link_list length : 50\n",
      "link_list length : 50\n",
      "link_list length : 50\n",
      "link_list length : 50\n",
      "link_list length : 50\n",
      "link_list length : 50\n",
      "link_list length : 50\n",
      "link_list length : 50\n",
      "link_list length : 50\n",
      "link_list length : 50\n",
      "link_list length : 50\n",
      "link_list length : 50\n",
      "link_list length : 50\n",
      "link_list length : 50\n",
      "link_list length : 50\n",
      "link_list length : 50\n",
      "link_list length : 50\n",
      "link_list length : 50\n",
      "link_list length : 50\n",
      "link_list length : 50\n",
      "link_list length : 50\n",
      "link_list length : 50\n",
      "link_list length : 50\n",
      "link_list length : 50\n",
      "link_list length : 50\n",
      "link_list length : 50\n",
      "link_list length : 50\n",
      "\n",
      "400\n",
      "7월 4페이지 cnt = 50\n"
     ]
    },
    {
     "data": {
      "application/vnd.jupyter.widget-view+json": {
       "model_id": "33fa140a2a9d40bfabdad671d2a0a903",
       "version_major": 2,
       "version_minor": 0
      },
      "text/plain": [
       "HBox(children=(HTML(value=''), FloatProgress(value=0.0, max=50.0), HTML(value='')))"
      ]
     },
     "metadata": {},
     "output_type": "display_data"
    },
    {
     "name": "stdout",
     "output_type": "stream",
     "text": [
      "link_list length : 50\n",
      "link_list length : 50\n",
      "link_list length : 50\n",
      "link_list length : 50\n",
      "link_list length : 50\n",
      "link_list length : 50\n",
      "link_list length : 50\n",
      "link_list length : 50\n",
      "link_list length : 50\n",
      "link_list length : 50\n",
      "link_list length : 50\n",
      "link_list length : 50\n",
      "link_list length : 50\n",
      "link_list length : 50\n",
      "link_list length : 50\n",
      "link_list length : 50\n",
      "link_list length : 50\n",
      "link_list length : 50\n",
      "link_list length : 50\n",
      "link_list length : 50\n",
      "link_list length : 50\n",
      "link_list length : 50\n",
      "link_list length : 50\n",
      "link_list length : 50\n",
      "link_list length : 50\n",
      "link_list length : 50\n",
      "link_list length : 50\n",
      "link_list length : 50\n",
      "link_list length : 50\n",
      "link_list length : 50\n",
      "link_list length : 50\n",
      "link_list length : 50\n",
      "link_list length : 50\n",
      "link_list length : 50\n",
      "link_list length : 50\n",
      "link_list length : 50\n",
      "link_list length : 50\n",
      "link_list length : 50\n",
      "link_list length : 50\n",
      "link_list length : 50\n",
      "link_list length : 50\n",
      "link_list length : 50\n",
      "link_list length : 50\n",
      "link_list length : 50\n",
      "link_list length : 50\n",
      "link_list length : 50\n",
      "link_list length : 50\n",
      "link_list length : 50\n",
      "link_list length : 50\n",
      "link_list length : 50\n",
      "\n",
      "450\n",
      "7월 5페이지 cnt = 50\n"
     ]
    },
    {
     "data": {
      "application/vnd.jupyter.widget-view+json": {
       "model_id": "943d196624484b9cabeb551e4d50113c",
       "version_major": 2,
       "version_minor": 0
      },
      "text/plain": [
       "HBox(children=(HTML(value=''), FloatProgress(value=0.0, max=50.0), HTML(value='')))"
      ]
     },
     "metadata": {},
     "output_type": "display_data"
    },
    {
     "name": "stdout",
     "output_type": "stream",
     "text": [
      "link_list length : 50\n",
      "link_list length : 50\n",
      "link_list length : 50\n",
      "link_list length : 50\n",
      "link_list length : 50\n",
      "link_list length : 50\n",
      "link_list length : 50\n",
      "link_list length : 50\n",
      "link_list length : 50\n",
      "link_list length : 50\n",
      "link_list length : 50\n",
      "link_list length : 50\n",
      "link_list length : 50\n",
      "link_list length : 50\n",
      "link_list length : 50\n",
      "link_list length : 50\n",
      "link_list length : 50\n",
      "link_list length : 50\n",
      "link_list length : 50\n",
      "link_list length : 50\n",
      "link_list length : 50\n",
      "link_list length : 50\n",
      "link_list length : 50\n",
      "link_list length : 50\n",
      "link_list length : 50\n",
      "link_list length : 50\n",
      "link_list length : 50\n",
      "link_list length : 50\n",
      "link_list length : 50\n",
      "link_list length : 50\n",
      "link_list length : 50\n",
      "link_list length : 50\n",
      "link_list length : 50\n",
      "link_list length : 50\n",
      "link_list length : 50\n",
      "link_list length : 50\n",
      "link_list length : 50\n",
      "link_list length : 50\n",
      "link_list length : 50\n",
      "link_list length : 50\n",
      "link_list length : 50\n",
      "link_list length : 50\n",
      "link_list length : 50\n",
      "link_list length : 50\n",
      "link_list length : 50\n",
      "link_list length : 50\n",
      "link_list length : 50\n",
      "link_list length : 50\n",
      "link_list length : 50\n",
      "link_list length : 50\n",
      "\n",
      "500\n",
      "8월 1페이지 cnt = 50\n"
     ]
    },
    {
     "data": {
      "application/vnd.jupyter.widget-view+json": {
       "model_id": "f19aeec7d3274186a6580a5dc53d384a",
       "version_major": 2,
       "version_minor": 0
      },
      "text/plain": [
       "HBox(children=(HTML(value=''), FloatProgress(value=0.0, max=50.0), HTML(value='')))"
      ]
     },
     "metadata": {},
     "output_type": "display_data"
    },
    {
     "name": "stdout",
     "output_type": "stream",
     "text": [
      "link_list length : 50\n",
      "link_list length : 50\n",
      "link_list length : 50\n",
      "link_list length : 50\n",
      "link_list length : 50\n",
      "link_list length : 50\n",
      "link_list length : 50\n",
      "link_list length : 50\n",
      "link_list length : 50\n",
      "link_list length : 50\n",
      "link_list length : 50\n",
      "link_list length : 50\n",
      "link_list length : 50\n",
      "link_list length : 50\n",
      "link_list length : 50\n",
      "link_list length : 50\n",
      "link_list length : 50\n",
      "link_list length : 50\n",
      "link_list length : 50\n",
      "link_list length : 50\n",
      "link_list length : 50\n",
      "link_list length : 50\n",
      "link_list length : 50\n",
      "link_list length : 50\n",
      "link_list length : 50\n",
      "link_list length : 50\n",
      "link_list length : 50\n",
      "link_list length : 50\n",
      "link_list length : 50\n",
      "link_list length : 50\n",
      "link_list length : 50\n",
      "link_list length : 50\n",
      "link_list length : 50\n",
      "link_list length : 50\n",
      "link_list length : 50\n",
      "link_list length : 50\n",
      "link_list length : 50\n",
      "link_list length : 50\n",
      "link_list length : 50\n",
      "link_list length : 50\n",
      "link_list length : 50\n",
      "link_list length : 50\n",
      "link_list length : 50\n",
      "link_list length : 50\n",
      "link_list length : 50\n",
      "link_list length : 50\n",
      "link_list length : 50\n",
      "link_list length : 50\n",
      "link_list length : 50\n",
      "link_list length : 50\n",
      "\n",
      "550\n",
      "8월 2페이지 cnt = 50\n"
     ]
    },
    {
     "data": {
      "application/vnd.jupyter.widget-view+json": {
       "model_id": "8572d0307d0e497c85df6090bbdf818f",
       "version_major": 2,
       "version_minor": 0
      },
      "text/plain": [
       "HBox(children=(HTML(value=''), FloatProgress(value=0.0, max=50.0), HTML(value='')))"
      ]
     },
     "metadata": {},
     "output_type": "display_data"
    },
    {
     "name": "stdout",
     "output_type": "stream",
     "text": [
      "link_list length : 50\n",
      "link_list length : 50\n",
      "link_list length : 50\n",
      "link_list length : 50\n",
      "link_list length : 50\n",
      "link_list length : 50\n",
      "link_list length : 50\n",
      "link_list length : 50\n",
      "link_list length : 50\n",
      "link_list length : 50\n",
      "link_list length : 50\n",
      "link_list length : 50\n",
      "link_list length : 50\n",
      "link_list length : 50\n",
      "link_list length : 50\n",
      "link_list length : 50\n",
      "link_list length : 50\n",
      "link_list length : 50\n",
      "link_list length : 50\n",
      "link_list length : 50\n",
      "link_list length : 50\n",
      "link_list length : 50\n",
      "link_list length : 50\n",
      "link_list length : 50\n",
      "link_list length : 50\n",
      "link_list length : 50\n",
      "link_list length : 50\n",
      "link_list length : 50\n",
      "link_list length : 50\n",
      "link_list length : 50\n",
      "link_list length : 50\n",
      "link_list length : 50\n",
      "link_list length : 50\n",
      "link_list length : 50\n",
      "link_list length : 50\n",
      "link_list length : 50\n",
      "link_list length : 50\n",
      "link_list length : 50\n",
      "link_list length : 50\n",
      "link_list length : 50\n",
      "link_list length : 50\n",
      "link_list length : 50\n",
      "link_list length : 50\n",
      "link_list length : 50\n",
      "link_list length : 50\n",
      "link_list length : 50\n",
      "link_list length : 50\n",
      "link_list length : 50\n",
      "link_list length : 50\n",
      "link_list length : 50\n",
      "\n",
      "600\n",
      "8월 3페이지 cnt = 50\n"
     ]
    },
    {
     "data": {
      "application/vnd.jupyter.widget-view+json": {
       "model_id": "d15cf96253654d92b5f5cee704eb8ef0",
       "version_major": 2,
       "version_minor": 0
      },
      "text/plain": [
       "HBox(children=(HTML(value=''), FloatProgress(value=0.0, max=50.0), HTML(value='')))"
      ]
     },
     "metadata": {},
     "output_type": "display_data"
    },
    {
     "name": "stdout",
     "output_type": "stream",
     "text": [
      "link_list length : 50\n",
      "link_list length : 50\n",
      "link_list length : 50\n",
      "link_list length : 50\n",
      "link_list length : 50\n",
      "link_list length : 50\n",
      "link_list length : 50\n",
      "link_list length : 50\n",
      "link_list length : 50\n",
      "link_list length : 50\n",
      "link_list length : 50\n",
      "link_list length : 50\n",
      "link_list length : 50\n",
      "link_list length : 50\n",
      "link_list length : 50\n",
      "link_list length : 50\n",
      "link_list length : 50\n",
      "link_list length : 50\n",
      "link_list length : 50\n",
      "link_list length : 50\n",
      "link_list length : 50\n",
      "link_list length : 50\n",
      "link_list length : 50\n",
      "link_list length : 50\n",
      "link_list length : 50\n",
      "link_list length : 50\n",
      "link_list length : 50\n",
      "link_list length : 50\n",
      "link_list length : 50\n",
      "link_list length : 50\n",
      "link_list length : 50\n",
      "link_list length : 50\n",
      "link_list length : 50\n",
      "link_list length : 50\n",
      "link_list length : 50\n",
      "link_list length : 50\n",
      "link_list length : 50\n",
      "link_list length : 50\n",
      "link_list length : 50\n",
      "link_list length : 50\n",
      "link_list length : 50\n",
      "link_list length : 50\n",
      "link_list length : 50\n",
      "link_list length : 50\n",
      "link_list length : 50\n",
      "link_list length : 50\n",
      "link_list length : 50\n",
      "link_list length : 50\n",
      "link_list length : 50\n",
      "link_list length : 50\n",
      "\n",
      "650\n",
      "8월 4페이지 cnt = 50\n"
     ]
    },
    {
     "data": {
      "application/vnd.jupyter.widget-view+json": {
       "model_id": "d0761891ed2242789ab6722367936979",
       "version_major": 2,
       "version_minor": 0
      },
      "text/plain": [
       "HBox(children=(HTML(value=''), FloatProgress(value=0.0, max=50.0), HTML(value='')))"
      ]
     },
     "metadata": {},
     "output_type": "display_data"
    },
    {
     "name": "stdout",
     "output_type": "stream",
     "text": [
      "link_list length : 50\n",
      "link_list length : 50\n",
      "link_list length : 50\n",
      "link_list length : 50\n",
      "link_list length : 50\n",
      "link_list length : 50\n",
      "link_list length : 50\n",
      "link_list length : 50\n",
      "link_list length : 50\n",
      "link_list length : 50\n",
      "link_list length : 50\n",
      "link_list length : 50\n",
      "link_list length : 50\n",
      "link_list length : 50\n",
      "link_list length : 50\n",
      "link_list length : 50\n",
      "link_list length : 50\n",
      "link_list length : 50\n",
      "link_list length : 50\n",
      "link_list length : 50\n",
      "link_list length : 50\n",
      "link_list length : 50\n",
      "link_list length : 50\n",
      "link_list length : 50\n",
      "link_list length : 50\n",
      "link_list length : 50\n",
      "link_list length : 50\n",
      "link_list length : 50\n",
      "link_list length : 50\n",
      "link_list length : 50\n",
      "link_list length : 50\n",
      "link_list length : 50\n",
      "link_list length : 50\n",
      "link_list length : 50\n",
      "link_list length : 50\n",
      "link_list length : 50\n",
      "link_list length : 50\n",
      "link_list length : 50\n",
      "link_list length : 50\n",
      "link_list length : 50\n",
      "link_list length : 50\n",
      "link_list length : 50\n",
      "link_list length : 50\n",
      "link_list length : 50\n",
      "link_list length : 50\n",
      "link_list length : 50\n",
      "link_list length : 50\n",
      "link_list length : 50\n",
      "link_list length : 50\n",
      "link_list length : 50\n",
      "\n",
      "700\n",
      "8월 5페이지 cnt = 50\n"
     ]
    },
    {
     "data": {
      "application/vnd.jupyter.widget-view+json": {
       "model_id": "d7abcc61391645b6b29c35d634f393d9",
       "version_major": 2,
       "version_minor": 0
      },
      "text/plain": [
       "HBox(children=(HTML(value=''), FloatProgress(value=0.0, max=50.0), HTML(value='')))"
      ]
     },
     "metadata": {},
     "output_type": "display_data"
    },
    {
     "name": "stdout",
     "output_type": "stream",
     "text": [
      "link_list length : 50\n",
      "link_list length : 50\n",
      "link_list length : 50\n",
      "link_list length : 50\n",
      "link_list length : 50\n",
      "link_list length : 50\n",
      "link_list length : 50\n",
      "link_list length : 50\n",
      "link_list length : 50\n",
      "link_list length : 50\n",
      "link_list length : 50\n",
      "link_list length : 50\n",
      "link_list length : 50\n",
      "link_list length : 50\n",
      "link_list length : 50\n",
      "link_list length : 50\n",
      "link_list length : 50\n",
      "link_list length : 50\n",
      "link_list length : 50\n",
      "link_list length : 50\n",
      "link_list length : 50\n",
      "link_list length : 50\n",
      "link_list length : 50\n",
      "link_list length : 50\n",
      "link_list length : 50\n",
      "link_list length : 50\n",
      "link_list length : 50\n",
      "link_list length : 50\n",
      "link_list length : 50\n",
      "link_list length : 50\n",
      "link_list length : 50\n",
      "link_list length : 50\n",
      "link_list length : 50\n",
      "link_list length : 50\n",
      "link_list length : 50\n",
      "link_list length : 50\n",
      "link_list length : 50\n",
      "link_list length : 50\n",
      "link_list length : 50\n",
      "link_list length : 50\n",
      "link_list length : 50\n",
      "link_list length : 50\n",
      "link_list length : 50\n",
      "link_list length : 50\n",
      "link_list length : 50\n",
      "link_list length : 50\n",
      "link_list length : 50\n",
      "link_list length : 50\n",
      "link_list length : 50\n",
      "link_list length : 50\n",
      "\n",
      "750\n",
      "9월 1페이지 cnt = 50\n"
     ]
    },
    {
     "data": {
      "application/vnd.jupyter.widget-view+json": {
       "model_id": "549a73277dec4c68ba8e1b79ec6a8cdc",
       "version_major": 2,
       "version_minor": 0
      },
      "text/plain": [
       "HBox(children=(HTML(value=''), FloatProgress(value=0.0, max=50.0), HTML(value='')))"
      ]
     },
     "metadata": {},
     "output_type": "display_data"
    },
    {
     "name": "stdout",
     "output_type": "stream",
     "text": [
      "link_list length : 50\n",
      "link_list length : 50\n",
      "link_list length : 50\n",
      "link_list length : 50\n",
      "link_list length : 50\n",
      "link_list length : 50\n",
      "link_list length : 50\n",
      "link_list length : 50\n",
      "link_list length : 50\n",
      "link_list length : 50\n",
      "link_list length : 50\n",
      "link_list length : 50\n",
      "link_list length : 50\n",
      "link_list length : 50\n",
      "link_list length : 50\n",
      "link_list length : 50\n",
      "link_list length : 50\n",
      "link_list length : 50\n",
      "link_list length : 50\n",
      "link_list length : 50\n",
      "link_list length : 50\n",
      "link_list length : 50\n",
      "link_list length : 50\n",
      "link_list length : 50\n",
      "link_list length : 50\n",
      "link_list length : 50\n",
      "link_list length : 50\n",
      "link_list length : 50\n",
      "link_list length : 50\n",
      "link_list length : 50\n",
      "link_list length : 50\n",
      "link_list length : 50\n",
      "link_list length : 50\n",
      "link_list length : 50\n",
      "link_list length : 50\n",
      "link_list length : 50\n",
      "link_list length : 50\n",
      "link_list length : 50\n",
      "link_list length : 50\n",
      "link_list length : 50\n",
      "link_list length : 50\n",
      "link_list length : 50\n",
      "link_list length : 50\n",
      "link_list length : 50\n",
      "link_list length : 50\n",
      "link_list length : 50\n",
      "link_list length : 50\n",
      "link_list length : 50\n",
      "link_list length : 50\n",
      "link_list length : 50\n",
      "\n",
      "800\n",
      "9월 2페이지 cnt = 50\n"
     ]
    },
    {
     "data": {
      "application/vnd.jupyter.widget-view+json": {
       "model_id": "bd82082f65f64cf282d68b13d8560f0c",
       "version_major": 2,
       "version_minor": 0
      },
      "text/plain": [
       "HBox(children=(HTML(value=''), FloatProgress(value=0.0, max=50.0), HTML(value='')))"
      ]
     },
     "metadata": {},
     "output_type": "display_data"
    },
    {
     "name": "stdout",
     "output_type": "stream",
     "text": [
      "link_list length : 50\n",
      "link_list length : 50\n",
      "link_list length : 50\n",
      "link_list length : 50\n",
      "link_list length : 50\n",
      "link_list length : 50\n",
      "link_list length : 50\n",
      "link_list length : 50\n",
      "link_list length : 50\n",
      "link_list length : 50\n",
      "link_list length : 50\n",
      "link_list length : 50\n",
      "link_list length : 50\n",
      "link_list length : 50\n",
      "link_list length : 50\n",
      "link_list length : 50\n",
      "link_list length : 50\n",
      "link_list length : 50\n",
      "link_list length : 50\n",
      "link_list length : 50\n",
      "link_list length : 50\n",
      "link_list length : 50\n",
      "link_list length : 50\n",
      "link_list length : 50\n",
      "link_list length : 50\n",
      "link_list length : 50\n",
      "link_list length : 50\n",
      "link_list length : 50\n",
      "link_list length : 50\n",
      "link_list length : 50\n",
      "link_list length : 50\n",
      "link_list length : 50\n",
      "link_list length : 50\n",
      "link_list length : 50\n",
      "link_list length : 50\n",
      "link_list length : 50\n",
      "link_list length : 50\n",
      "link_list length : 50\n",
      "link_list length : 50\n",
      "link_list length : 50\n",
      "link_list length : 50\n",
      "link_list length : 50\n",
      "link_list length : 50\n",
      "link_list length : 50\n",
      "link_list length : 50\n",
      "link_list length : 50\n",
      "link_list length : 50\n",
      "link_list length : 50\n",
      "link_list length : 50\n",
      "link_list length : 50\n",
      "\n",
      "850\n",
      "9월 3페이지 cnt = 50\n"
     ]
    },
    {
     "data": {
      "application/vnd.jupyter.widget-view+json": {
       "model_id": "2309049234a04a8684cc34eebe6a7b8a",
       "version_major": 2,
       "version_minor": 0
      },
      "text/plain": [
       "HBox(children=(HTML(value=''), FloatProgress(value=0.0, max=50.0), HTML(value='')))"
      ]
     },
     "metadata": {},
     "output_type": "display_data"
    },
    {
     "name": "stdout",
     "output_type": "stream",
     "text": [
      "link_list length : 50\n",
      "link_list length : 50\n",
      "link_list length : 50\n",
      "link_list length : 50\n",
      "link_list length : 50\n",
      "link_list length : 50\n",
      "link_list length : 50\n",
      "link_list length : 50\n",
      "link_list length : 50\n",
      "link_list length : 50\n",
      "link_list length : 50\n",
      "link_list length : 50\n",
      "link_list length : 50\n",
      "link_list length : 50\n",
      "link_list length : 50\n",
      "link_list length : 50\n",
      "link_list length : 50\n",
      "link_list length : 50\n",
      "link_list length : 50\n",
      "link_list length : 50\n",
      "link_list length : 50\n",
      "link_list length : 50\n",
      "link_list length : 50\n",
      "link_list length : 50\n",
      "link_list length : 50\n",
      "link_list length : 50\n",
      "link_list length : 50\n",
      "link_list length : 50\n",
      "link_list length : 50\n",
      "link_list length : 50\n",
      "link_list length : 50\n",
      "link_list length : 50\n",
      "link_list length : 50\n",
      "link_list length : 50\n",
      "link_list length : 50\n",
      "link_list length : 50\n",
      "link_list length : 50\n",
      "link_list length : 50\n",
      "link_list length : 50\n",
      "link_list length : 50\n",
      "link_list length : 50\n",
      "link_list length : 50\n",
      "link_list length : 50\n",
      "link_list length : 50\n",
      "link_list length : 50\n",
      "link_list length : 50\n",
      "link_list length : 50\n",
      "link_list length : 50\n",
      "link_list length : 50\n",
      "link_list length : 50\n",
      "\n",
      "900\n",
      "9월 4페이지 cnt = 50\n"
     ]
    },
    {
     "data": {
      "application/vnd.jupyter.widget-view+json": {
       "model_id": "a737c5e663eb410f97d78a8c871ad569",
       "version_major": 2,
       "version_minor": 0
      },
      "text/plain": [
       "HBox(children=(HTML(value=''), FloatProgress(value=0.0, max=50.0), HTML(value='')))"
      ]
     },
     "metadata": {},
     "output_type": "display_data"
    },
    {
     "name": "stdout",
     "output_type": "stream",
     "text": [
      "link_list length : 50\n",
      "link_list length : 50\n",
      "link_list length : 50\n",
      "link_list length : 50\n",
      "link_list length : 50\n",
      "link_list length : 50\n",
      "link_list length : 50\n",
      "link_list length : 50\n",
      "link_list length : 50\n",
      "link_list length : 50\n",
      "link_list length : 50\n",
      "link_list length : 50\n",
      "link_list length : 50\n",
      "link_list length : 50\n",
      "link_list length : 50\n",
      "link_list length : 50\n",
      "link_list length : 50\n",
      "link_list length : 50\n",
      "link_list length : 50\n",
      "link_list length : 50\n",
      "link_list length : 50\n",
      "link_list length : 50\n",
      "link_list length : 50\n",
      "link_list length : 50\n",
      "link_list length : 50\n",
      "link_list length : 50\n",
      "link_list length : 50\n",
      "link_list length : 50\n",
      "link_list length : 50\n",
      "link_list length : 50\n",
      "link_list length : 50\n",
      "link_list length : 50\n",
      "link_list length : 50\n",
      "link_list length : 50\n",
      "link_list length : 50\n",
      "link_list length : 50\n",
      "link_list length : 50\n",
      "link_list length : 50\n",
      "link_list length : 50\n",
      "link_list length : 50\n",
      "link_list length : 50\n",
      "link_list length : 50\n",
      "link_list length : 50\n",
      "link_list length : 50\n",
      "link_list length : 50\n",
      "link_list length : 50\n",
      "link_list length : 50\n",
      "link_list length : 50\n",
      "link_list length : 50\n",
      "link_list length : 50\n",
      "\n",
      "950\n",
      "9월 5페이지 cnt = 50\n"
     ]
    },
    {
     "data": {
      "application/vnd.jupyter.widget-view+json": {
       "model_id": "9295a4545278465386fcb7e1c665dcff",
       "version_major": 2,
       "version_minor": 0
      },
      "text/plain": [
       "HBox(children=(HTML(value=''), FloatProgress(value=0.0, max=50.0), HTML(value='')))"
      ]
     },
     "metadata": {},
     "output_type": "display_data"
    },
    {
     "name": "stdout",
     "output_type": "stream",
     "text": [
      "link_list length : 50\n",
      "link_list length : 50\n",
      "link_list length : 50\n",
      "link_list length : 50\n",
      "link_list length : 50\n",
      "link_list length : 50\n",
      "link_list length : 50\n",
      "link_list length : 50\n",
      "link_list length : 50\n",
      "link_list length : 50\n",
      "link_list length : 50\n",
      "link_list length : 50\n",
      "link_list length : 50\n",
      "link_list length : 50\n",
      "link_list length : 50\n",
      "link_list length : 50\n",
      "link_list length : 50\n",
      "link_list length : 50\n",
      "link_list length : 50\n",
      "link_list length : 50\n",
      "link_list length : 50\n",
      "link_list length : 50\n",
      "link_list length : 50\n",
      "link_list length : 50\n",
      "link_list length : 50\n",
      "link_list length : 50\n",
      "link_list length : 50\n",
      "link_list length : 50\n",
      "link_list length : 50\n",
      "link_list length : 50\n",
      "link_list length : 50\n",
      "link_list length : 50\n",
      "link_list length : 50\n",
      "link_list length : 50\n",
      "link_list length : 50\n",
      "link_list length : 50\n",
      "link_list length : 50\n",
      "link_list length : 50\n",
      "link_list length : 50\n",
      "link_list length : 50\n",
      "link_list length : 50\n",
      "link_list length : 50\n",
      "link_list length : 50\n",
      "link_list length : 50\n",
      "link_list length : 50\n",
      "link_list length : 50\n",
      "link_list length : 50\n",
      "link_list length : 50\n",
      "link_list length : 50\n",
      "link_list length : 50\n",
      "\n",
      "1000\n",
      "\n"
     ]
    }
   ],
   "source": [
    "# 1 ~ 10월\n",
    "# 각 월별 1위 ~ 250위 데이터 추출\n",
    "# 경제 경영\n",
    "\n",
    "cnt = 0\n",
    "\n",
    "# 월별 페이지 이동\n",
    "for month in tqdm_notebook(range(6, 10)) :\n",
    "    \n",
    "    # 한 월별 6개의 페이지 접근 (1위 ~ 250위)\n",
    "    for page in range(1, 6) :\n",
    "        url = category_url + str(month) + rest_url01 + str(page) + rest_url02\n",
    "        driver.get(url)\n",
    "        \n",
    "        # 필요한 데이터 부분 크롤링\n",
    "        list = driver.find_elements_by_css_selector(\"div.ss_book_box > table > tbody > tr\")\n",
    "        \n",
    "        req = requests.get(url)\n",
    "        content = req.content\n",
    "        \n",
    "        # 크롤링 데이터를 html 형식에 맞게 변환\n",
    "        soup = BeautifulSoup(content,'html.parser')\n",
    "        book_name_elems = soup.select('a.bo3 b')\n",
    "\n",
    "        for i in range(len(list)) :\n",
    "            split_ls = list[i].text.split('\\n')\n",
    "            \n",
    "            image_ls = list[i].find_element_by_tag_name('img').get_attribute('src')\n",
    "            image.append(image_ls)\n",
    "            \n",
    "            title.append(book_name_elems[i].get_text())\n",
    "\n",
    "            for j in split_ls :\n",
    "                if (file_format[0] in j) | (file_format[1] in j) | (file_format[2] in j) | (file_format[3] in j) | (file_format[4] in j) | (file_format[5] in j) | (file_format[6] in j) | (file_format[7] in j) | (file_format[8] in j) | (file_format[9] in j) | (file_format[10] in j) | (file_format[11] in j) | (file_format[12] in j) | (file_format[13] in j) | (file_format[14] in j) :\n",
    "                    book_list.append(j)\n",
    "                    cnt += 1\n",
    "                    break\n",
    "        \n",
    "        print('{}월 {}페이지 cnt = {}'.format(month, page, cnt))\n",
    "        cnt = 0\n",
    "        \n",
    "        \n",
    "        # isbn 크롤링을 위해 페이지 이동 구현\n",
    "        # 링크 리스트 생성\n",
    "        link_list = driver.find_elements_by_css_selector('a.bo3')\n",
    "        \n",
    "        for idx in tqdm_notebook(range(len(link_list))) :\n",
    "            check = False\n",
    "            link_list[idx].click()\n",
    "            \n",
    "            isbn =  driver.find_elements_by_css_selector(\"div.conts_info_list1 > ul > li\")\n",
    "            \n",
    "            for li in isbn :\n",
    "                if 'ISBN' in li.text :\n",
    "                    isbn_list.append(li.text.split(':')[1].strip())\n",
    "                    check = True\n",
    "                    break\n",
    "            \n",
    "            if check is False :\n",
    "                isbn_list.append(np.nan)\n",
    "            \n",
    "            driver.back()\n",
    "            time.sleep(1.1)\n",
    "            link_list = driver.find_elements_by_css_selector('a.bo3')\n",
    "            print('link_list length :', len(link_list))\n",
    "        \n",
    "        print(len(isbn_list))"
   ]
  },
  {
   "cell_type": "code",
   "execution_count": 22,
   "metadata": {},
   "outputs": [],
   "source": [
    "# book_list=book_list[:1000]\n",
    "# image =image[:1000]\n",
    "# title = title[:1000]\n",
    "# isbn_list = isbn_list[:1000]"
   ]
  },
  {
   "cell_type": "code",
   "execution_count": 43,
   "metadata": {},
   "outputs": [],
   "source": [
    "# 작가, 출판사 가져오기\n",
    "\n",
    "split_booklist1=[]\n",
    "author1 = []\n",
    "publisher1 =[]\n",
    "\n",
    "for s in range(len(book_list)):\n",
    "    input = book_list[s].split('|')\n",
    "    split_booklist1.append(input)\n",
    "\n",
    "    author1.append(split_booklist1[s][0])\n",
    "    publisher1.append(split_booklist1[s][1])"
   ]
  },
  {
   "cell_type": "code",
   "execution_count": 44,
   "metadata": {},
   "outputs": [],
   "source": [
    "# 데이터 프레임 만들기 \n",
    "import pandas as pd\n",
    "import numpy as np\n",
    "\n",
    "business06_09 = pd.DataFrame({'title' : title,\n",
    "                     'author' : author1,\n",
    "                     'publisher' : publisher1,\n",
    "                         'isbn' : isbn_list,\n",
    "                    'image' : image})"
   ]
  },
  {
   "cell_type": "code",
   "execution_count": 45,
   "metadata": {},
   "outputs": [
    {
     "data": {
      "text/html": [
       "<div>\n",
       "<style scoped>\n",
       "    .dataframe tbody tr th:only-of-type {\n",
       "        vertical-align: middle;\n",
       "    }\n",
       "\n",
       "    .dataframe tbody tr th {\n",
       "        vertical-align: top;\n",
       "    }\n",
       "\n",
       "    .dataframe thead th {\n",
       "        text-align: right;\n",
       "    }\n",
       "</style>\n",
       "<table border=\"1\" class=\"dataframe\">\n",
       "  <thead>\n",
       "    <tr style=\"text-align: right;\">\n",
       "      <th></th>\n",
       "      <th>title</th>\n",
       "      <th>author</th>\n",
       "      <th>publisher</th>\n",
       "      <th>isbn</th>\n",
       "      <th>image</th>\n",
       "    </tr>\n",
       "  </thead>\n",
       "  <tbody>\n",
       "    <tr>\n",
       "      <th>995</th>\n",
       "      <td>대한민국 땅따먹기</td>\n",
       "      <td>서상하 (지은이)</td>\n",
       "      <td>지혜로</td>\n",
       "      <td>9791187799115</td>\n",
       "      <td>https://image.aladin.co.kr/product/21108/44/co...</td>\n",
       "    </tr>\n",
       "    <tr>\n",
       "      <th>996</th>\n",
       "      <td>비즈니스 커뮤니케이션</td>\n",
       "      <td>이재희 (지은이)</td>\n",
       "      <td>한올출판사</td>\n",
       "      <td>9791156857518</td>\n",
       "      <td>https://image.aladin.co.kr/product/18684/36/co...</td>\n",
       "    </tr>\n",
       "    <tr>\n",
       "      <th>997</th>\n",
       "      <td>거시경제학 (이종화 외)</td>\n",
       "      <td>이종화, 신관호 (지은이)</td>\n",
       "      <td>박영사</td>\n",
       "      <td>9791130306919</td>\n",
       "      <td>https://image.aladin.co.kr/product/18680/59/co...</td>\n",
       "    </tr>\n",
       "    <tr>\n",
       "      <th>998</th>\n",
       "      <td>마케팅 불변의 법칙</td>\n",
       "      <td>알 리스, 잭 트라우트 (지은이), 이수정 (옮긴이), 정지혜 (감수)</td>\n",
       "      <td>비즈니스맵</td>\n",
       "      <td>9788962600568</td>\n",
       "      <td>https://image.aladin.co.kr/product/285/55/cove...</td>\n",
       "    </tr>\n",
       "    <tr>\n",
       "      <th>999</th>\n",
       "      <td>만사오케이의 돈되는 천만원 소액토지</td>\n",
       "      <td>신동기 (지은이)</td>\n",
       "      <td>잇콘</td>\n",
       "      <td>9791190877084</td>\n",
       "      <td>https://image.aladin.co.kr/product/24705/56/co...</td>\n",
       "    </tr>\n",
       "  </tbody>\n",
       "</table>\n",
       "</div>"
      ],
      "text/plain": [
       "                   title                                    author publisher  \\\n",
       "995            대한민국 땅따먹기                                서상하 (지은이)       지혜로    \n",
       "996          비즈니스 커뮤니케이션                                이재희 (지은이)     한올출판사    \n",
       "997        거시경제학 (이종화 외)                           이종화, 신관호 (지은이)       박영사    \n",
       "998           마케팅 불변의 법칙  알 리스, 잭 트라우트 (지은이), 이수정 (옮긴이), 정지혜 (감수)     비즈니스맵    \n",
       "999  만사오케이의 돈되는 천만원 소액토지                                신동기 (지은이)        잇콘    \n",
       "\n",
       "              isbn                                              image  \n",
       "995  9791187799115  https://image.aladin.co.kr/product/21108/44/co...  \n",
       "996  9791156857518  https://image.aladin.co.kr/product/18684/36/co...  \n",
       "997  9791130306919  https://image.aladin.co.kr/product/18680/59/co...  \n",
       "998  9788962600568  https://image.aladin.co.kr/product/285/55/cove...  \n",
       "999  9791190877084  https://image.aladin.co.kr/product/24705/56/co...  "
      ]
     },
     "execution_count": 45,
     "metadata": {},
     "output_type": "execute_result"
    }
   ],
   "source": [
    "business06_09.tail()"
   ]
  },
  {
   "cell_type": "code",
   "execution_count": 46,
   "metadata": {},
   "outputs": [
    {
     "data": {
      "text/plain": [
       "1000"
      ]
     },
     "execution_count": 46,
     "metadata": {},
     "output_type": "execute_result"
    }
   ],
   "source": [
    "len(business06_09)"
   ]
  },
  {
   "cell_type": "code",
   "execution_count": 51,
   "metadata": {},
   "outputs": [],
   "source": [
    "# csv 저장\n",
    "business06_09.to_csv('C:\\\\Users\\\\kim23\\\\data\\\\final\\\\business06_09.csv',index=False,encoding ='utf-8-sig')"
   ]
  },
  {
   "cell_type": "code",
   "execution_count": 52,
   "metadata": {},
   "outputs": [],
   "source": [
    "business01_02 = pd.read_csv('./data/final/business01_02.csv')"
   ]
  },
  {
   "cell_type": "code",
   "execution_count": 53,
   "metadata": {},
   "outputs": [],
   "source": [
    "business03_05 = pd.read_csv('./data/final/business03_05.csv')"
   ]
  },
  {
   "cell_type": "code",
   "execution_count": 54,
   "metadata": {},
   "outputs": [],
   "source": [
    "business10 = pd.read_csv('./data/final/business10.csv')"
   ]
  },
  {
   "cell_type": "code",
   "execution_count": 55,
   "metadata": {},
   "outputs": [],
   "source": [
    "# 데이터프레임 통합 작업\n",
    "business_df = pd.concat([business01_02, business03_05,business06_09,business10], ignore_index = True)"
   ]
  },
  {
   "cell_type": "code",
   "execution_count": 56,
   "metadata": {},
   "outputs": [
    {
     "data": {
      "text/plain": [
       "2500"
      ]
     },
     "execution_count": 56,
     "metadata": {},
     "output_type": "execute_result"
    }
   ],
   "source": [
    "len(business_df)"
   ]
  },
  {
   "cell_type": "code",
   "execution_count": 57,
   "metadata": {},
   "outputs": [],
   "source": [
    "# csv 저장\n",
    "business_df.to_csv('C:\\\\Users\\\\kim23\\\\data\\\\final\\\\business_df.csv',index=False,encoding ='utf-8-sig')"
   ]
  },
  {
   "cell_type": "code",
   "execution_count": 58,
   "metadata": {},
   "outputs": [
    {
     "data": {
      "text/html": [
       "<div>\n",
       "<style scoped>\n",
       "    .dataframe tbody tr th:only-of-type {\n",
       "        vertical-align: middle;\n",
       "    }\n",
       "\n",
       "    .dataframe tbody tr th {\n",
       "        vertical-align: top;\n",
       "    }\n",
       "\n",
       "    .dataframe thead th {\n",
       "        text-align: right;\n",
       "    }\n",
       "</style>\n",
       "<table border=\"1\" class=\"dataframe\">\n",
       "  <thead>\n",
       "    <tr style=\"text-align: right;\">\n",
       "      <th></th>\n",
       "      <th>title</th>\n",
       "      <th>author</th>\n",
       "      <th>publisher</th>\n",
       "      <th>isbn</th>\n",
       "      <th>image</th>\n",
       "    </tr>\n",
       "  </thead>\n",
       "  <tbody>\n",
       "    <tr>\n",
       "      <th>2495</th>\n",
       "      <td>혼자 일하며 연봉 10억 버는 사람들의 비밀</td>\n",
       "      <td>최창희 (지은이)</td>\n",
       "      <td>책들의정원</td>\n",
       "      <td>9791164160679</td>\n",
       "      <td>https://image.aladin.co.kr/product/25232/50/co...</td>\n",
       "    </tr>\n",
       "    <tr>\n",
       "      <th>2496</th>\n",
       "      <td>온라인 라이브 클래스</td>\n",
       "      <td>정강욱, 이연임 (지은이)</td>\n",
       "      <td>리얼러닝</td>\n",
       "      <td>9791197150807</td>\n",
       "      <td>https://image.aladin.co.kr/product/24946/65/co...</td>\n",
       "    </tr>\n",
       "    <tr>\n",
       "      <th>2497</th>\n",
       "      <td>아빠와 딸의 주식 투자 레슨</td>\n",
       "      <td>대니얼 타운, 필 타운 (지은이), 김인정 (옮긴이)</td>\n",
       "      <td>에프엔미디어</td>\n",
       "      <td>9791188754250</td>\n",
       "      <td>https://image.aladin.co.kr/product/23481/71/co...</td>\n",
       "    </tr>\n",
       "    <tr>\n",
       "      <th>2498</th>\n",
       "      <td>페이크</td>\n",
       "      <td>로버트 기요사키 (지은이), 박슬라 (옮긴이)</td>\n",
       "      <td>민음인</td>\n",
       "      <td>9791158885342</td>\n",
       "      <td>https://image.aladin.co.kr/product/19692/30/co...</td>\n",
       "    </tr>\n",
       "    <tr>\n",
       "      <th>2499</th>\n",
       "      <td>나는 오를 땅만 산다</td>\n",
       "      <td>김종율(옥탑방보보스) (지은이)</td>\n",
       "      <td>한국경제신문</td>\n",
       "      <td>9788947544306</td>\n",
       "      <td>https://image.aladin.co.kr/product/17546/61/co...</td>\n",
       "    </tr>\n",
       "  </tbody>\n",
       "</table>\n",
       "</div>"
      ],
      "text/plain": [
       "                         title                          author publisher  \\\n",
       "2495  혼자 일하며 연봉 10억 버는 사람들의 비밀                      최창희 (지은이)     책들의정원    \n",
       "2496               온라인 라이브 클래스                 정강욱, 이연임 (지은이)      리얼러닝    \n",
       "2497           아빠와 딸의 주식 투자 레슨  대니얼 타운, 필 타운 (지은이), 김인정 (옮긴이)    에프엔미디어    \n",
       "2498                       페이크      로버트 기요사키 (지은이), 박슬라 (옮긴이)       민음인    \n",
       "2499               나는 오를 땅만 산다              김종율(옥탑방보보스) (지은이)    한국경제신문    \n",
       "\n",
       "               isbn                                              image  \n",
       "2495  9791164160679  https://image.aladin.co.kr/product/25232/50/co...  \n",
       "2496  9791197150807  https://image.aladin.co.kr/product/24946/65/co...  \n",
       "2497  9791188754250  https://image.aladin.co.kr/product/23481/71/co...  \n",
       "2498  9791158885342  https://image.aladin.co.kr/product/19692/30/co...  \n",
       "2499  9788947544306  https://image.aladin.co.kr/product/17546/61/co...  "
      ]
     },
     "execution_count": 58,
     "metadata": {},
     "output_type": "execute_result"
    }
   ],
   "source": [
    "business_df.tail()"
   ]
  },
  {
   "cell_type": "code",
   "execution_count": 59,
   "metadata": {},
   "outputs": [
    {
     "data": {
      "text/plain": [
       "1100"
      ]
     },
     "execution_count": 59,
     "metadata": {},
     "output_type": "execute_result"
    }
   ],
   "source": [
    "# 중복데이터 제거\n",
    "business_remove_df = business_df.drop_duplicates('isbn',keep='first')\n",
    "len(business_remove_df)"
   ]
  },
  {
   "cell_type": "code",
   "execution_count": 60,
   "metadata": {},
   "outputs": [],
   "source": [
    "# csv 저장\n",
    "business_remove_df.to_csv('C:\\\\Users\\\\kim23\\\\data\\\\final\\\\business_remove_df.csv',index=False,encoding ='utf-8-sig')"
   ]
  },
  {
   "cell_type": "markdown",
   "metadata": {},
   "source": [
    "### 에세이"
   ]
  },
  {
   "cell_type": "code",
   "execution_count": 23,
   "metadata": {},
   "outputs": [],
   "source": [
    "from selenium import webdriver\n",
    "from bs4 import BeautifulSoup\n",
    "import requests\n",
    "from tqdm import tqdm_notebook\n",
    "from bs4 import BeautifulSoup\n",
    "import time\n",
    "path = './driver/chromedriver.exe'\n",
    "driver = webdriver.Chrome(path)\n",
    "\n",
    "import numpy as np\n",
    "import pandas as pd"
   ]
  },
  {
   "cell_type": "code",
   "execution_count": 24,
   "metadata": {},
   "outputs": [],
   "source": [
    "# 책 제목 추출을 위한 단어 리스트\n",
    "file_format = ['(지은이)', '(옮긴이)', '(엮은이)','(글)',\n",
    "               '(그림)', '(편곡)', '(감수)','(원작)','(참고서)','(캐릭터)',\n",
    "               '(기획)','(구성)','(디자인)','(해설)','김은숙, 김수연',\n",
    "               '(Yozoh)', '(사진)', '(추천)', '(데조로)', '(리릭스)', '(그래픽)']\n",
    "# 저자 및 출판사를 담을 list\n",
    "book_list = []\n",
    "image =[]\n",
    "title = []\n",
    "isbn_list = []"
   ]
  },
  {
   "cell_type": "code",
   "execution_count": 25,
   "metadata": {},
   "outputs": [],
   "source": [
    "# 소설 url\n",
    "category_url = 'https://www.aladin.co.kr/shop/common/wbest.aspx?BestType=MonthlyBest&BranchType=1&CID=55889&Year=2020&Month='\n",
    "rest_url01 = '&page='\n",
    "rest_url02 = '&cnt=1000&SortOrder=1'"
   ]
  },
  {
   "cell_type": "code",
   "execution_count": 26,
   "metadata": {},
   "outputs": [
    {
     "name": "stderr",
     "output_type": "stream",
     "text": [
      "C:\\ProgramData\\Anaconda3\\lib\\site-packages\\ipykernel_launcher.py:8: TqdmDeprecationWarning: This function will be removed in tqdm==5.0.0\n",
      "Please use `tqdm.notebook.tqdm` instead of `tqdm.tqdm_notebook`\n",
      "  \n"
     ]
    },
    {
     "data": {
      "application/vnd.jupyter.widget-view+json": {
       "model_id": "bc3fb52fd7bd421daa9914746a8d8436",
       "version_major": 2,
       "version_minor": 0
      },
      "text/plain": [
       "HBox(children=(HTML(value=''), FloatProgress(value=0.0, max=1.0), HTML(value='')))"
      ]
     },
     "metadata": {},
     "output_type": "display_data"
    },
    {
     "name": "stdout",
     "output_type": "stream",
     "text": [
      "1월 1페이지 cnt = 50\n"
     ]
    },
    {
     "name": "stderr",
     "output_type": "stream",
     "text": [
      "C:\\ProgramData\\Anaconda3\\lib\\site-packages\\ipykernel_launcher.py:47: TqdmDeprecationWarning: This function will be removed in tqdm==5.0.0\n",
      "Please use `tqdm.notebook.tqdm` instead of `tqdm.tqdm_notebook`\n"
     ]
    },
    {
     "data": {
      "application/vnd.jupyter.widget-view+json": {
       "model_id": "c57008948a36402e89dc58bf628def8e",
       "version_major": 2,
       "version_minor": 0
      },
      "text/plain": [
       "HBox(children=(HTML(value=''), FloatProgress(value=0.0, max=50.0), HTML(value='')))"
      ]
     },
     "metadata": {},
     "output_type": "display_data"
    },
    {
     "name": "stdout",
     "output_type": "stream",
     "text": [
      "link_list length : 50\n",
      "link_list length : 50\n",
      "link_list length : 50\n",
      "link_list length : 50\n",
      "link_list length : 50\n",
      "link_list length : 50\n",
      "link_list length : 50\n",
      "link_list length : 50\n",
      "link_list length : 50\n",
      "link_list length : 50\n",
      "link_list length : 50\n",
      "link_list length : 50\n",
      "link_list length : 50\n",
      "link_list length : 50\n",
      "link_list length : 50\n",
      "link_list length : 50\n",
      "link_list length : 50\n",
      "link_list length : 50\n",
      "link_list length : 50\n",
      "link_list length : 50\n",
      "link_list length : 50\n",
      "link_list length : 50\n",
      "link_list length : 50\n",
      "link_list length : 50\n",
      "link_list length : 50\n",
      "link_list length : 50\n",
      "link_list length : 50\n",
      "link_list length : 50\n",
      "link_list length : 50\n",
      "link_list length : 50\n",
      "link_list length : 50\n",
      "link_list length : 50\n",
      "link_list length : 50\n",
      "link_list length : 50\n",
      "link_list length : 50\n",
      "link_list length : 50\n",
      "link_list length : 50\n",
      "link_list length : 50\n",
      "link_list length : 50\n",
      "link_list length : 50\n",
      "link_list length : 50\n",
      "link_list length : 50\n",
      "link_list length : 50\n",
      "link_list length : 50\n",
      "link_list length : 50\n",
      "link_list length : 50\n",
      "link_list length : 50\n",
      "link_list length : 50\n",
      "link_list length : 50\n",
      "link_list length : 50\n",
      "\n",
      "50\n",
      "1월 2페이지 cnt = 50\n"
     ]
    },
    {
     "data": {
      "application/vnd.jupyter.widget-view+json": {
       "model_id": "e3a5db016c0e4f7fa8c6a068f17433c6",
       "version_major": 2,
       "version_minor": 0
      },
      "text/plain": [
       "HBox(children=(HTML(value=''), FloatProgress(value=0.0, max=50.0), HTML(value='')))"
      ]
     },
     "metadata": {},
     "output_type": "display_data"
    },
    {
     "name": "stdout",
     "output_type": "stream",
     "text": [
      "link_list length : 50\n",
      "link_list length : 50\n",
      "link_list length : 50\n",
      "link_list length : 50\n",
      "link_list length : 50\n",
      "link_list length : 50\n",
      "link_list length : 50\n",
      "link_list length : 50\n",
      "link_list length : 50\n",
      "link_list length : 50\n",
      "link_list length : 50\n",
      "link_list length : 50\n",
      "link_list length : 50\n",
      "link_list length : 50\n",
      "link_list length : 50\n",
      "link_list length : 50\n",
      "link_list length : 50\n",
      "link_list length : 50\n",
      "link_list length : 50\n",
      "link_list length : 50\n",
      "link_list length : 50\n",
      "link_list length : 50\n",
      "link_list length : 50\n",
      "link_list length : 50\n",
      "link_list length : 50\n",
      "link_list length : 50\n",
      "link_list length : 50\n",
      "link_list length : 50\n",
      "link_list length : 50\n",
      "link_list length : 50\n",
      "link_list length : 50\n",
      "link_list length : 50\n",
      "link_list length : 50\n",
      "link_list length : 50\n",
      "link_list length : 50\n",
      "link_list length : 50\n",
      "link_list length : 50\n",
      "link_list length : 50\n",
      "link_list length : 50\n",
      "link_list length : 50\n",
      "link_list length : 50\n",
      "link_list length : 50\n",
      "link_list length : 50\n",
      "link_list length : 50\n",
      "link_list length : 50\n",
      "link_list length : 50\n",
      "link_list length : 50\n",
      "link_list length : 50\n",
      "link_list length : 50\n",
      "link_list length : 50\n",
      "\n",
      "100\n",
      "1월 3페이지 cnt = 50\n"
     ]
    },
    {
     "data": {
      "application/vnd.jupyter.widget-view+json": {
       "model_id": "fc22b2a069454b7e9f4c12521beb49d7",
       "version_major": 2,
       "version_minor": 0
      },
      "text/plain": [
       "HBox(children=(HTML(value=''), FloatProgress(value=0.0, max=50.0), HTML(value='')))"
      ]
     },
     "metadata": {},
     "output_type": "display_data"
    },
    {
     "name": "stdout",
     "output_type": "stream",
     "text": [
      "link_list length : 50\n",
      "link_list length : 50\n",
      "link_list length : 50\n",
      "link_list length : 50\n",
      "link_list length : 50\n",
      "link_list length : 50\n",
      "link_list length : 50\n",
      "link_list length : 50\n",
      "link_list length : 50\n",
      "link_list length : 50\n",
      "link_list length : 50\n",
      "link_list length : 50\n",
      "link_list length : 50\n",
      "link_list length : 50\n",
      "link_list length : 50\n",
      "link_list length : 50\n",
      "link_list length : 50\n",
      "link_list length : 50\n",
      "link_list length : 50\n",
      "link_list length : 50\n",
      "link_list length : 50\n",
      "link_list length : 50\n",
      "link_list length : 50\n",
      "link_list length : 50\n",
      "link_list length : 50\n",
      "link_list length : 50\n",
      "link_list length : 50\n",
      "link_list length : 50\n",
      "link_list length : 50\n",
      "link_list length : 50\n",
      "link_list length : 50\n",
      "link_list length : 50\n",
      "link_list length : 50\n",
      "link_list length : 50\n",
      "link_list length : 50\n",
      "link_list length : 50\n",
      "link_list length : 50\n",
      "link_list length : 50\n",
      "link_list length : 50\n",
      "link_list length : 50\n",
      "link_list length : 50\n",
      "link_list length : 50\n",
      "link_list length : 50\n",
      "link_list length : 50\n",
      "link_list length : 50\n",
      "link_list length : 50\n",
      "link_list length : 50\n",
      "link_list length : 50\n",
      "link_list length : 50\n",
      "link_list length : 50\n",
      "\n",
      "150\n",
      "1월 4페이지 cnt = 50\n"
     ]
    },
    {
     "data": {
      "application/vnd.jupyter.widget-view+json": {
       "model_id": "97a9db0df9754c3c9f5511edda6eb7b2",
       "version_major": 2,
       "version_minor": 0
      },
      "text/plain": [
       "HBox(children=(HTML(value=''), FloatProgress(value=0.0, max=50.0), HTML(value='')))"
      ]
     },
     "metadata": {},
     "output_type": "display_data"
    },
    {
     "name": "stdout",
     "output_type": "stream",
     "text": [
      "link_list length : 50\n",
      "link_list length : 50\n",
      "link_list length : 50\n",
      "link_list length : 50\n",
      "link_list length : 50\n",
      "link_list length : 50\n",
      "link_list length : 50\n",
      "link_list length : 50\n",
      "link_list length : 50\n",
      "link_list length : 50\n",
      "link_list length : 50\n",
      "link_list length : 50\n",
      "link_list length : 50\n",
      "link_list length : 50\n",
      "link_list length : 50\n",
      "link_list length : 50\n",
      "link_list length : 50\n",
      "link_list length : 50\n",
      "link_list length : 50\n",
      "link_list length : 50\n",
      "link_list length : 50\n",
      "link_list length : 50\n",
      "link_list length : 50\n",
      "link_list length : 50\n",
      "link_list length : 50\n",
      "link_list length : 50\n",
      "link_list length : 50\n",
      "link_list length : 50\n",
      "link_list length : 50\n",
      "link_list length : 50\n",
      "link_list length : 50\n",
      "link_list length : 50\n",
      "link_list length : 50\n",
      "link_list length : 50\n",
      "link_list length : 50\n",
      "link_list length : 50\n",
      "link_list length : 50\n",
      "link_list length : 50\n",
      "link_list length : 50\n",
      "link_list length : 50\n",
      "link_list length : 50\n",
      "link_list length : 50\n",
      "link_list length : 50\n",
      "link_list length : 50\n",
      "link_list length : 50\n",
      "link_list length : 50\n",
      "link_list length : 50\n",
      "link_list length : 50\n",
      "link_list length : 50\n",
      "link_list length : 50\n",
      "\n",
      "200\n",
      "1월 5페이지 cnt = 50\n"
     ]
    },
    {
     "data": {
      "application/vnd.jupyter.widget-view+json": {
       "model_id": "0681edb76d0c42418ba3d76f6d9f864c",
       "version_major": 2,
       "version_minor": 0
      },
      "text/plain": [
       "HBox(children=(HTML(value=''), FloatProgress(value=0.0, max=50.0), HTML(value='')))"
      ]
     },
     "metadata": {},
     "output_type": "display_data"
    },
    {
     "name": "stdout",
     "output_type": "stream",
     "text": [
      "link_list length : 50\n",
      "link_list length : 50\n",
      "link_list length : 50\n",
      "link_list length : 50\n",
      "link_list length : 50\n",
      "link_list length : 50\n",
      "link_list length : 50\n",
      "link_list length : 50\n",
      "link_list length : 50\n",
      "link_list length : 50\n",
      "link_list length : 50\n",
      "link_list length : 50\n",
      "link_list length : 50\n",
      "link_list length : 50\n",
      "link_list length : 50\n",
      "link_list length : 50\n",
      "link_list length : 50\n",
      "link_list length : 50\n",
      "link_list length : 50\n",
      "link_list length : 50\n",
      "link_list length : 50\n",
      "link_list length : 50\n",
      "link_list length : 50\n",
      "link_list length : 50\n",
      "link_list length : 50\n",
      "link_list length : 50\n",
      "link_list length : 50\n",
      "link_list length : 50\n",
      "link_list length : 50\n",
      "link_list length : 50\n",
      "link_list length : 50\n",
      "link_list length : 50\n",
      "link_list length : 50\n",
      "link_list length : 50\n",
      "link_list length : 50\n",
      "link_list length : 50\n",
      "link_list length : 50\n",
      "link_list length : 50\n",
      "link_list length : 50\n",
      "link_list length : 50\n",
      "link_list length : 50\n",
      "link_list length : 50\n",
      "link_list length : 50\n",
      "link_list length : 50\n",
      "link_list length : 50\n",
      "link_list length : 50\n",
      "link_list length : 50\n",
      "link_list length : 50\n",
      "link_list length : 50\n",
      "link_list length : 50\n",
      "\n",
      "250\n",
      "\n"
     ]
    }
   ],
   "source": [
    "# 1 ~ 10월\n",
    "# 각 월별 1위 ~ 250위 데이터 추출\n",
    "# 경제 경영\n",
    "\n",
    "cnt = 0\n",
    "\n",
    "# 월별 페이지 이동\n",
    "for month in tqdm_notebook(range(1, 2)) :\n",
    "    \n",
    "    # 한 월별 6개의 페이지 접근 (1위 ~ 250위)\n",
    "    for page in range(1, 6) :\n",
    "        url = category_url + str(month) + rest_url01 + str(page) + rest_url02\n",
    "        driver.get(url)\n",
    "        \n",
    "        # 필요한 데이터 부분 크롤링\n",
    "        list = driver.find_elements_by_css_selector(\"div.ss_book_box > table > tbody > tr\")\n",
    "        \n",
    "        req = requests.get(url)\n",
    "        content = req.content\n",
    "        \n",
    "        # 크롤링 데이터를 html 형식에 맞게 변환\n",
    "        soup = BeautifulSoup(content,'html.parser')\n",
    "        book_name_elems = soup.select('a.bo3 b')\n",
    "\n",
    "        for i in range(len(list)) :\n",
    "            split_ls = list[i].text.split('\\n')\n",
    "            \n",
    "            image_ls = list[i].find_element_by_tag_name('img').get_attribute('src')\n",
    "            image.append(image_ls)\n",
    "            \n",
    "            title.append(book_name_elems[i].get_text())\n",
    "\n",
    "            for j in split_ls :\n",
    "                if (file_format[0] in j) | (file_format[1] in j) | (file_format[2] in j) | (file_format[3] in j) | (file_format[4] in j) | (file_format[5] in j) | (file_format[6] in j) | (file_format[7] in j) | (file_format[8] in j) | (file_format[9] in j) | (file_format[10] in j) | (file_format[11] in j) | (file_format[12] in j) | (file_format[13] in j) | (file_format[14] in j)| (file_format[15] in j) | (file_format[16] in j) | (file_format[17] in j)| (file_format[18] in j) | (file_format[19] in j) | (file_format[20] in j)   :\n",
    "                    book_list.append(j)\n",
    "                    cnt += 1\n",
    "                    break\n",
    "        \n",
    "        print('{}월 {}페이지 cnt = {}'.format(month, page, cnt))\n",
    "        cnt = 0\n",
    "        \n",
    "        \n",
    "        # isbn 크롤링을 위해 페이지 이동 구현\n",
    "        # 링크 리스트 생성\n",
    "        link_list = driver.find_elements_by_css_selector('a.bo3')\n",
    "        \n",
    "        for idx in tqdm_notebook(range(len(link_list))) :\n",
    "            check = False\n",
    "            link_list[idx].click()\n",
    "            \n",
    "            isbn =  driver.find_elements_by_css_selector(\"div.conts_info_list1 > ul > li\")\n",
    "            \n",
    "            for li in isbn :\n",
    "                if 'ISBN' in li.text :\n",
    "                    isbn_list.append(li.text.split(':')[1].strip())\n",
    "                    check = True\n",
    "                    break\n",
    "            \n",
    "            if check is False :\n",
    "                isbn_list.append(np.nan)\n",
    "            \n",
    "            driver.back()\n",
    "            time.sleep(1.1)\n",
    "            link_list = driver.find_elements_by_css_selector('a.bo3')\n",
    "            print('link_list length :', len(link_list))\n",
    "        \n",
    "        print(len(isbn_list))"
   ]
  },
  {
   "cell_type": "code",
   "execution_count": 27,
   "metadata": {},
   "outputs": [],
   "source": [
    "# 작가, 출판사 가져오기\n",
    "\n",
    "split_booklist1=[]\n",
    "author1 = []\n",
    "publisher1 =[]\n",
    "\n",
    "for s in range(len(book_list)):\n",
    "    input = book_list[s].split('|')\n",
    "    split_booklist1.append(input)\n",
    "\n",
    "    author1.append(split_booklist1[s][0])\n",
    "    publisher1.append(split_booklist1[s][1])"
   ]
  },
  {
   "cell_type": "code",
   "execution_count": 29,
   "metadata": {
    "scrolled": true
   },
   "outputs": [],
   "source": [
    "# 데이터 프레임 만들기  \n",
    "import pandas as pd\n",
    "import numpy as np\n",
    "\n",
    "essay01 = pd.DataFrame({'title' : title,\n",
    "                     'author' : author1,\n",
    "                     'publisher' : publisher1,\n",
    "                         'isbn' : isbn_list,\n",
    "                    'image' : image})"
   ]
  },
  {
   "cell_type": "code",
   "execution_count": 23,
   "metadata": {},
   "outputs": [],
   "source": [
    "# book_list=book_list[:750]\n",
    "# image =image[:750]\n",
    "# title = title[:750]\n",
    "# isbn_list = isbn_list[:750]"
   ]
  },
  {
   "cell_type": "code",
   "execution_count": 28,
   "metadata": {},
   "outputs": [
    {
     "name": "stdout",
     "output_type": "stream",
     "text": [
      "250\n",
      "250\n",
      "250\n",
      "250\n"
     ]
    }
   ],
   "source": [
    "print(len(book_list))\n",
    "print(len(image))\n",
    "print(len(title))\n",
    "print(len(isbn_list))"
   ]
  },
  {
   "cell_type": "code",
   "execution_count": 30,
   "metadata": {},
   "outputs": [
    {
     "data": {
      "text/html": [
       "<div>\n",
       "<style scoped>\n",
       "    .dataframe tbody tr th:only-of-type {\n",
       "        vertical-align: middle;\n",
       "    }\n",
       "\n",
       "    .dataframe tbody tr th {\n",
       "        vertical-align: top;\n",
       "    }\n",
       "\n",
       "    .dataframe thead th {\n",
       "        text-align: right;\n",
       "    }\n",
       "</style>\n",
       "<table border=\"1\" class=\"dataframe\">\n",
       "  <thead>\n",
       "    <tr style=\"text-align: right;\">\n",
       "      <th></th>\n",
       "      <th>title</th>\n",
       "      <th>author</th>\n",
       "      <th>publisher</th>\n",
       "      <th>isbn</th>\n",
       "      <th>image</th>\n",
       "    </tr>\n",
       "  </thead>\n",
       "  <tbody>\n",
       "    <tr>\n",
       "      <th>245</th>\n",
       "      <td>세계 최고의 여행기 열하일기 - 상</td>\n",
       "      <td>박지원 (지은이), 고미숙, 김풍기, 길진숙 (옮긴이)</td>\n",
       "      <td>북드라망</td>\n",
       "      <td>9788997969265</td>\n",
       "      <td>https://image.aladin.co.kr/product/3177/63/cov...</td>\n",
       "    </tr>\n",
       "    <tr>\n",
       "      <th>246</th>\n",
       "      <td>아틀라스</td>\n",
       "      <td>호르헤 루이스 보르헤스 (지은이), 송병선, 박정원 (옮긴이)</td>\n",
       "      <td>민음사</td>\n",
       "      <td>9788937436536</td>\n",
       "      <td>https://image.aladin.co.kr/product/22732/71/co...</td>\n",
       "    </tr>\n",
       "    <tr>\n",
       "      <th>247</th>\n",
       "      <td>혼자여서 괜찮은 하루 (선셋 에디션)</td>\n",
       "      <td>곽정은 (지은이)</td>\n",
       "      <td>포르체</td>\n",
       "      <td>9788965708827</td>\n",
       "      <td>https://image.aladin.co.kr/product/20895/16/co...</td>\n",
       "    </tr>\n",
       "    <tr>\n",
       "      <th>248</th>\n",
       "      <td>호찌냥찌</td>\n",
       "      <td>Grace J(정하나) (지은이)</td>\n",
       "      <td>행복한북클럽</td>\n",
       "      <td>9791189969196</td>\n",
       "      <td>https://image.aladin.co.kr/product/20343/34/co...</td>\n",
       "    </tr>\n",
       "    <tr>\n",
       "      <th>249</th>\n",
       "      <td>장래희망은, 귀여운 할머니</td>\n",
       "      <td>하정 (지은이)</td>\n",
       "      <td>좋은여름</td>\n",
       "      <td>9791196702977</td>\n",
       "      <td>https://image.aladin.co.kr/product/19219/41/co...</td>\n",
       "    </tr>\n",
       "  </tbody>\n",
       "</table>\n",
       "</div>"
      ],
      "text/plain": [
       "                    title                               author publisher  \\\n",
       "245   세계 최고의 여행기 열하일기 - 상      박지원 (지은이), 고미숙, 김풍기, 길진숙 (옮긴이)      북드라망    \n",
       "246                  아틀라스  호르헤 루이스 보르헤스 (지은이), 송병선, 박정원 (옮긴이)       민음사    \n",
       "247  혼자여서 괜찮은 하루 (선셋 에디션)                           곽정은 (지은이)       포르체    \n",
       "248                  호찌냥찌                  Grace J(정하나) (지은이)    행복한북클럽    \n",
       "249        장래희망은, 귀여운 할머니                            하정 (지은이)      좋은여름    \n",
       "\n",
       "              isbn                                              image  \n",
       "245  9788997969265  https://image.aladin.co.kr/product/3177/63/cov...  \n",
       "246  9788937436536  https://image.aladin.co.kr/product/22732/71/co...  \n",
       "247  9788965708827  https://image.aladin.co.kr/product/20895/16/co...  \n",
       "248  9791189969196  https://image.aladin.co.kr/product/20343/34/co...  \n",
       "249  9791196702977  https://image.aladin.co.kr/product/19219/41/co...  "
      ]
     },
     "execution_count": 30,
     "metadata": {},
     "output_type": "execute_result"
    }
   ],
   "source": [
    "essay01.tail()"
   ]
  },
  {
   "cell_type": "code",
   "execution_count": 31,
   "metadata": {},
   "outputs": [],
   "source": [
    "# csv 저장\n",
    "essay01.to_csv('C:\\\\Users\\\\kim23\\\\data\\\\final\\\\essay01.csv',index=False,encoding ='utf-8-sig')"
   ]
  },
  {
   "cell_type": "code",
   "execution_count": 33,
   "metadata": {},
   "outputs": [],
   "source": [
    "\n",
    "essay04_06 = pd.read_csv('./data/final/essay04_06.csv')"
   ]
  },
  {
   "cell_type": "code",
   "execution_count": 34,
   "metadata": {},
   "outputs": [
    {
     "data": {
      "text/html": [
       "<div>\n",
       "<style scoped>\n",
       "    .dataframe tbody tr th:only-of-type {\n",
       "        vertical-align: middle;\n",
       "    }\n",
       "\n",
       "    .dataframe tbody tr th {\n",
       "        vertical-align: top;\n",
       "    }\n",
       "\n",
       "    .dataframe thead th {\n",
       "        text-align: right;\n",
       "    }\n",
       "</style>\n",
       "<table border=\"1\" class=\"dataframe\">\n",
       "  <thead>\n",
       "    <tr style=\"text-align: right;\">\n",
       "      <th></th>\n",
       "      <th>title</th>\n",
       "      <th>author</th>\n",
       "      <th>publisher</th>\n",
       "      <th>isbn</th>\n",
       "      <th>image</th>\n",
       "    </tr>\n",
       "  </thead>\n",
       "  <tbody>\n",
       "    <tr>\n",
       "      <th>0</th>\n",
       "      <td>밤은 이야기하기 좋은 시간이니까요</td>\n",
       "      <td>이도우 (지은이)</td>\n",
       "      <td>위즈덤하우스</td>\n",
       "      <td>9.791190e+12</td>\n",
       "      <td>https://image.aladin.co.kr/product/23670/80/co...</td>\n",
       "    </tr>\n",
       "    <tr>\n",
       "      <th>1</th>\n",
       "      <td>오래 준비해온 대답</td>\n",
       "      <td>김영하 (지은이)</td>\n",
       "      <td>복복서가</td>\n",
       "      <td>9.791200e+12</td>\n",
       "      <td>https://image.aladin.co.kr/product/23816/21/co...</td>\n",
       "    </tr>\n",
       "    <tr>\n",
       "      <th>2</th>\n",
       "      <td>1cm 다이빙</td>\n",
       "      <td>태수, 문정 (지은이)</td>\n",
       "      <td>FIKA(피카)</td>\n",
       "      <td>9.791190e+12</td>\n",
       "      <td>https://image.aladin.co.kr/product/22869/54/co...</td>\n",
       "    </tr>\n",
       "    <tr>\n",
       "      <th>3</th>\n",
       "      <td>사랑 밖의 모든 말들</td>\n",
       "      <td>김금희 (지은이)</td>\n",
       "      <td>문학동네</td>\n",
       "      <td>9.788950e+12</td>\n",
       "      <td>https://image.aladin.co.kr/product/23776/45/co...</td>\n",
       "    </tr>\n",
       "    <tr>\n",
       "      <th>4</th>\n",
       "      <td>아무튼, 메모</td>\n",
       "      <td>정혜윤 (지은이)</td>\n",
       "      <td>위고</td>\n",
       "      <td>9.791190e+12</td>\n",
       "      <td>https://image.aladin.co.kr/product/23479/83/co...</td>\n",
       "    </tr>\n",
       "  </tbody>\n",
       "</table>\n",
       "</div>"
      ],
      "text/plain": [
       "                title         author   publisher          isbn  \\\n",
       "0  밤은 이야기하기 좋은 시간이니까요     이도우 (지은이)      위즈덤하우스   9.791190e+12   \n",
       "1          오래 준비해온 대답     김영하 (지은이)        복복서가   9.791200e+12   \n",
       "2             1cm 다이빙  태수, 문정 (지은이)    FIKA(피카)   9.791190e+12   \n",
       "3         사랑 밖의 모든 말들     김금희 (지은이)        문학동네   9.788950e+12   \n",
       "4             아무튼, 메모     정혜윤 (지은이)          위고   9.791190e+12   \n",
       "\n",
       "                                               image  \n",
       "0  https://image.aladin.co.kr/product/23670/80/co...  \n",
       "1  https://image.aladin.co.kr/product/23816/21/co...  \n",
       "2  https://image.aladin.co.kr/product/22869/54/co...  \n",
       "3  https://image.aladin.co.kr/product/23776/45/co...  \n",
       "4  https://image.aladin.co.kr/product/23479/83/co...  "
      ]
     },
     "execution_count": 34,
     "metadata": {},
     "output_type": "execute_result"
    }
   ],
   "source": [
    "essay07_10 = pd.read_csv('./data/final/essay07_10.csv')"
   ]
  },
  {
   "cell_type": "code",
   "execution_count": 35,
   "metadata": {},
   "outputs": [],
   "source": [
    "essay01_02 = pd.read_csv('./data/final/essay01_02.csv')"
   ]
  },
  {
   "cell_type": "code",
   "execution_count": 36,
   "metadata": {},
   "outputs": [],
   "source": [
    "essay03 = pd.read_csv('./data/final/essay03.csv')"
   ]
  },
  {
   "cell_type": "code",
   "execution_count": 37,
   "metadata": {},
   "outputs": [],
   "source": [
    "# 데이터프레임 합치기\n",
    "essay_df = pd.concat([essay01_02,essay03,essay04_06,essay07_10], ignore_index = True)"
   ]
  },
  {
   "cell_type": "code",
   "execution_count": 39,
   "metadata": {},
   "outputs": [
    {
     "data": {
      "text/plain": [
       "2500"
      ]
     },
     "execution_count": 39,
     "metadata": {},
     "output_type": "execute_result"
    }
   ],
   "source": [
    "len(essay_df)"
   ]
  },
  {
   "cell_type": "code",
   "execution_count": 40,
   "metadata": {},
   "outputs": [
    {
     "data": {
      "text/html": [
       "<div>\n",
       "<style scoped>\n",
       "    .dataframe tbody tr th:only-of-type {\n",
       "        vertical-align: middle;\n",
       "    }\n",
       "\n",
       "    .dataframe tbody tr th {\n",
       "        vertical-align: top;\n",
       "    }\n",
       "\n",
       "    .dataframe thead th {\n",
       "        text-align: right;\n",
       "    }\n",
       "</style>\n",
       "<table border=\"1\" class=\"dataframe\">\n",
       "  <thead>\n",
       "    <tr style=\"text-align: right;\">\n",
       "      <th></th>\n",
       "      <th>title</th>\n",
       "      <th>author</th>\n",
       "      <th>publisher</th>\n",
       "      <th>isbn</th>\n",
       "      <th>image</th>\n",
       "    </tr>\n",
       "  </thead>\n",
       "  <tbody>\n",
       "    <tr>\n",
       "      <th>2495</th>\n",
       "      <td>나는 가끔 나의 안부를 묻곤 해</td>\n",
       "      <td>김혜진 (지은이)</td>\n",
       "      <td>좋은북스</td>\n",
       "      <td>9791190764032</td>\n",
       "      <td>https://image.aladin.co.kr/product/25214/12/co...</td>\n",
       "    </tr>\n",
       "    <tr>\n",
       "      <th>2496</th>\n",
       "      <td>법륜 스님의 행복 (양장본 특별 에디션)</td>\n",
       "      <td>법륜 (지은이), 최승미 (그림)</td>\n",
       "      <td>나무의마음</td>\n",
       "      <td>9791190457101</td>\n",
       "      <td>https://image.aladin.co.kr/product/24423/58/co...</td>\n",
       "    </tr>\n",
       "    <tr>\n",
       "      <th>2497</th>\n",
       "      <td>아무튼, 여름</td>\n",
       "      <td>김신회 (지은이)</td>\n",
       "      <td>제철소</td>\n",
       "      <td>9791188343317</td>\n",
       "      <td>https://image.aladin.co.kr/product/24129/36/co...</td>\n",
       "    </tr>\n",
       "    <tr>\n",
       "      <th>2498</th>\n",
       "      <td>영화와 시</td>\n",
       "      <td>정지돈 (지은이)</td>\n",
       "      <td>시간의흐름</td>\n",
       "      <td>9791196517182</td>\n",
       "      <td>https://image.aladin.co.kr/product/23686/36/co...</td>\n",
       "    </tr>\n",
       "    <tr>\n",
       "      <th>2499</th>\n",
       "      <td>하틀랜드</td>\n",
       "      <td>세라 스마시 (지은이), 홍한별 (옮긴이)</td>\n",
       "      <td>반비</td>\n",
       "      <td>9791190403887</td>\n",
       "      <td>https://image.aladin.co.kr/product/23178/93/co...</td>\n",
       "    </tr>\n",
       "  </tbody>\n",
       "</table>\n",
       "</div>"
      ],
      "text/plain": [
       "                       title                    author publisher  \\\n",
       "2495       나는 가끔 나의 안부를 묻곤 해                김혜진 (지은이)      좋은북스    \n",
       "2496  법륜 스님의 행복 (양장본 특별 에디션)       법륜 (지은이), 최승미 (그림)     나무의마음    \n",
       "2497                 아무튼, 여름                김신회 (지은이)       제철소    \n",
       "2498                   영화와 시                정지돈 (지은이)     시간의흐름    \n",
       "2499                    하틀랜드  세라 스마시 (지은이), 홍한별 (옮긴이)        반비    \n",
       "\n",
       "               isbn                                              image  \n",
       "2495  9791190764032  https://image.aladin.co.kr/product/25214/12/co...  \n",
       "2496  9791190457101  https://image.aladin.co.kr/product/24423/58/co...  \n",
       "2497  9791188343317  https://image.aladin.co.kr/product/24129/36/co...  \n",
       "2498  9791196517182  https://image.aladin.co.kr/product/23686/36/co...  \n",
       "2499  9791190403887  https://image.aladin.co.kr/product/23178/93/co...  "
      ]
     },
     "execution_count": 40,
     "metadata": {},
     "output_type": "execute_result"
    }
   ],
   "source": [
    "essay_df.tail()"
   ]
  },
  {
   "cell_type": "code",
   "execution_count": 41,
   "metadata": {},
   "outputs": [],
   "source": [
    "# csv 저장\n",
    "essay_df.to_csv('C:\\\\Users\\\\kim23\\\\data\\\\final\\\\essay_df.csv',index=False,encoding ='utf-8-sig')"
   ]
  },
  {
   "cell_type": "code",
   "execution_count": 44,
   "metadata": {},
   "outputs": [
    {
     "data": {
      "text/plain": [
       "889"
      ]
     },
     "execution_count": 44,
     "metadata": {},
     "output_type": "execute_result"
    }
   ],
   "source": [
    "# 중복데이터 제거\n",
    "essay_remove_df = essay_df.drop_duplicates('isbn',keep='first')\n",
    "len(essay_remove_df)"
   ]
  },
  {
   "cell_type": "code",
   "execution_count": 46,
   "metadata": {},
   "outputs": [],
   "source": [
    "# csv 저장\n",
    "essay_remove_df.to_csv('C:\\\\Users\\\\kim23\\\\data\\\\final\\\\essay_remove_df.csv',index=False,encoding ='utf-8-sig')"
   ]
  },
  {
   "cell_type": "markdown",
   "metadata": {},
   "source": [
    "### 인문학"
   ]
  },
  {
   "cell_type": "code",
   "execution_count": 56,
   "metadata": {},
   "outputs": [],
   "source": [
    "from selenium import webdriver\n",
    "from bs4 import BeautifulSoup\n",
    "import requests\n",
    "from tqdm import tqdm_notebook\n",
    "from bs4 import BeautifulSoup\n",
    "import time\n",
    "path = './driver/chromedriver.exe'\n",
    "driver = webdriver.Chrome(path)\n",
    "\n",
    "import numpy as np\n",
    "import pandas as pd"
   ]
  },
  {
   "cell_type": "code",
   "execution_count": 57,
   "metadata": {},
   "outputs": [],
   "source": [
    "# 책 제목 추출을 위한 단어 리스트\n",
    "file_format = ['(지은이)', '(옮긴이)', '(엮은이)','(글)',\n",
    "               '(그림)', '(편곡)', '(감수)','(원작)','(참고서)','(캐릭터)',\n",
    "               '(기획)','(구성)','(디자인)','(해설)','김은숙, 김수연',\n",
    "               '(Yozoh)', '(사진)', '(추천)', '(데조로)', '(리릭스)', '(그래픽)']\n",
    "# 저자 및 출판사를 담을 list\n",
    "book_list = []\n",
    "image =[]\n",
    "title = []\n",
    "isbn_list = []"
   ]
  },
  {
   "cell_type": "code",
   "execution_count": 58,
   "metadata": {},
   "outputs": [],
   "source": [
    "# 인문학 url\n",
    "category_url = 'https://www.aladin.co.kr/shop/common/wbest.aspx?BestType=MonthlyBest&BranchType=1&CID=656&Year=2020&Month='\n",
    "rest_url01 = '&page='\n",
    "rest_url02 = '&cnt=1000&SortOrder=1'"
   ]
  },
  {
   "cell_type": "code",
   "execution_count": 59,
   "metadata": {},
   "outputs": [
    {
     "name": "stderr",
     "output_type": "stream",
     "text": [
      "C:\\ProgramData\\Anaconda3\\lib\\site-packages\\ipykernel_launcher.py:8: TqdmDeprecationWarning: This function will be removed in tqdm==5.0.0\n",
      "Please use `tqdm.notebook.tqdm` instead of `tqdm.tqdm_notebook`\n",
      "  \n"
     ]
    },
    {
     "data": {
      "application/vnd.jupyter.widget-view+json": {
       "model_id": "7c80924934f944d1a26b7e19390e87f5",
       "version_major": 2,
       "version_minor": 0
      },
      "text/plain": [
       "HBox(children=(HTML(value=''), FloatProgress(value=0.0, max=1.0), HTML(value='')))"
      ]
     },
     "metadata": {},
     "output_type": "display_data"
    },
    {
     "name": "stdout",
     "output_type": "stream",
     "text": [
      "10월 1페이지 cnt = 50\n"
     ]
    },
    {
     "name": "stderr",
     "output_type": "stream",
     "text": [
      "C:\\ProgramData\\Anaconda3\\lib\\site-packages\\ipykernel_launcher.py:47: TqdmDeprecationWarning: This function will be removed in tqdm==5.0.0\n",
      "Please use `tqdm.notebook.tqdm` instead of `tqdm.tqdm_notebook`\n"
     ]
    },
    {
     "data": {
      "application/vnd.jupyter.widget-view+json": {
       "model_id": "b3a55c2e51074ccb8c6f6e00b502e905",
       "version_major": 2,
       "version_minor": 0
      },
      "text/plain": [
       "HBox(children=(HTML(value=''), FloatProgress(value=0.0, max=50.0), HTML(value='')))"
      ]
     },
     "metadata": {},
     "output_type": "display_data"
    },
    {
     "name": "stdout",
     "output_type": "stream",
     "text": [
      "link_list length : 50\n",
      "link_list length : 50\n",
      "link_list length : 50\n",
      "link_list length : 50\n",
      "link_list length : 50\n",
      "link_list length : 50\n",
      "link_list length : 50\n",
      "link_list length : 50\n",
      "link_list length : 50\n",
      "link_list length : 50\n",
      "link_list length : 50\n",
      "link_list length : 50\n",
      "link_list length : 50\n",
      "link_list length : 50\n",
      "link_list length : 50\n",
      "link_list length : 50\n",
      "link_list length : 50\n",
      "link_list length : 50\n",
      "link_list length : 50\n",
      "link_list length : 50\n",
      "link_list length : 50\n",
      "link_list length : 50\n",
      "link_list length : 50\n",
      "link_list length : 50\n",
      "link_list length : 50\n",
      "link_list length : 50\n",
      "link_list length : 50\n",
      "link_list length : 50\n",
      "link_list length : 50\n",
      "link_list length : 50\n",
      "link_list length : 50\n",
      "link_list length : 50\n",
      "link_list length : 50\n",
      "link_list length : 50\n",
      "link_list length : 50\n",
      "link_list length : 50\n",
      "link_list length : 50\n",
      "link_list length : 50\n",
      "link_list length : 50\n",
      "link_list length : 50\n",
      "link_list length : 50\n",
      "link_list length : 50\n",
      "link_list length : 50\n",
      "link_list length : 50\n",
      "link_list length : 50\n",
      "link_list length : 50\n",
      "link_list length : 50\n",
      "link_list length : 50\n",
      "link_list length : 50\n",
      "link_list length : 50\n",
      "\n",
      "50\n",
      "10월 2페이지 cnt = 50\n"
     ]
    },
    {
     "data": {
      "application/vnd.jupyter.widget-view+json": {
       "model_id": "8fcfc4e70cb049e483bf6a65796bf7e9",
       "version_major": 2,
       "version_minor": 0
      },
      "text/plain": [
       "HBox(children=(HTML(value=''), FloatProgress(value=0.0, max=50.0), HTML(value='')))"
      ]
     },
     "metadata": {},
     "output_type": "display_data"
    },
    {
     "name": "stdout",
     "output_type": "stream",
     "text": [
      "link_list length : 50\n",
      "link_list length : 50\n",
      "link_list length : 50\n",
      "link_list length : 50\n",
      "link_list length : 50\n",
      "link_list length : 50\n",
      "link_list length : 50\n",
      "link_list length : 50\n",
      "link_list length : 50\n",
      "link_list length : 50\n",
      "link_list length : 50\n",
      "link_list length : 50\n",
      "link_list length : 50\n",
      "link_list length : 50\n",
      "link_list length : 50\n",
      "link_list length : 50\n",
      "link_list length : 50\n",
      "link_list length : 50\n",
      "link_list length : 50\n",
      "link_list length : 50\n",
      "link_list length : 50\n",
      "link_list length : 50\n",
      "link_list length : 50\n",
      "link_list length : 50\n",
      "link_list length : 50\n",
      "link_list length : 50\n",
      "link_list length : 50\n",
      "link_list length : 50\n",
      "link_list length : 50\n",
      "link_list length : 50\n",
      "link_list length : 50\n",
      "link_list length : 50\n",
      "link_list length : 50\n",
      "link_list length : 50\n",
      "link_list length : 50\n",
      "link_list length : 50\n",
      "link_list length : 50\n",
      "link_list length : 50\n",
      "link_list length : 50\n",
      "link_list length : 50\n",
      "link_list length : 50\n",
      "link_list length : 50\n",
      "link_list length : 50\n",
      "link_list length : 50\n",
      "link_list length : 50\n",
      "link_list length : 50\n",
      "link_list length : 50\n",
      "link_list length : 50\n",
      "link_list length : 50\n",
      "link_list length : 50\n",
      "\n",
      "100\n",
      "10월 3페이지 cnt = 50\n"
     ]
    },
    {
     "data": {
      "application/vnd.jupyter.widget-view+json": {
       "model_id": "fea5ef7d2fb84ea89c9d88a2af625a5b",
       "version_major": 2,
       "version_minor": 0
      },
      "text/plain": [
       "HBox(children=(HTML(value=''), FloatProgress(value=0.0, max=50.0), HTML(value='')))"
      ]
     },
     "metadata": {},
     "output_type": "display_data"
    },
    {
     "name": "stdout",
     "output_type": "stream",
     "text": [
      "link_list length : 50\n",
      "link_list length : 50\n",
      "link_list length : 50\n",
      "link_list length : 50\n",
      "link_list length : 50\n",
      "link_list length : 50\n",
      "link_list length : 50\n",
      "link_list length : 50\n",
      "link_list length : 50\n",
      "link_list length : 50\n",
      "link_list length : 50\n",
      "link_list length : 50\n",
      "link_list length : 50\n",
      "link_list length : 50\n",
      "link_list length : 50\n",
      "link_list length : 50\n",
      "link_list length : 50\n",
      "link_list length : 50\n",
      "link_list length : 50\n",
      "link_list length : 50\n",
      "link_list length : 50\n",
      "link_list length : 50\n",
      "link_list length : 50\n",
      "link_list length : 50\n",
      "link_list length : 50\n",
      "link_list length : 50\n",
      "link_list length : 50\n",
      "link_list length : 50\n",
      "link_list length : 50\n",
      "link_list length : 50\n",
      "link_list length : 50\n",
      "link_list length : 50\n",
      "link_list length : 50\n",
      "link_list length : 50\n",
      "link_list length : 50\n",
      "link_list length : 50\n",
      "link_list length : 50\n",
      "link_list length : 50\n",
      "link_list length : 50\n",
      "link_list length : 50\n",
      "link_list length : 50\n",
      "link_list length : 50\n",
      "link_list length : 50\n",
      "link_list length : 50\n",
      "link_list length : 50\n",
      "link_list length : 50\n",
      "link_list length : 50\n",
      "link_list length : 50\n",
      "link_list length : 50\n",
      "link_list length : 50\n",
      "\n",
      "150\n",
      "10월 4페이지 cnt = 50\n"
     ]
    },
    {
     "data": {
      "application/vnd.jupyter.widget-view+json": {
       "model_id": "dd6114858d8d40178b83471811c80b45",
       "version_major": 2,
       "version_minor": 0
      },
      "text/plain": [
       "HBox(children=(HTML(value=''), FloatProgress(value=0.0, max=50.0), HTML(value='')))"
      ]
     },
     "metadata": {},
     "output_type": "display_data"
    },
    {
     "name": "stdout",
     "output_type": "stream",
     "text": [
      "link_list length : 50\n",
      "link_list length : 50\n",
      "link_list length : 50\n",
      "link_list length : 50\n",
      "link_list length : 50\n",
      "link_list length : 50\n",
      "link_list length : 50\n",
      "link_list length : 50\n",
      "link_list length : 50\n",
      "link_list length : 50\n",
      "link_list length : 50\n",
      "link_list length : 50\n",
      "link_list length : 50\n",
      "link_list length : 50\n",
      "link_list length : 50\n",
      "link_list length : 50\n",
      "link_list length : 50\n",
      "link_list length : 50\n",
      "link_list length : 50\n",
      "link_list length : 50\n",
      "link_list length : 50\n",
      "link_list length : 50\n",
      "link_list length : 50\n",
      "link_list length : 50\n",
      "link_list length : 50\n",
      "link_list length : 50\n",
      "link_list length : 50\n",
      "link_list length : 50\n",
      "link_list length : 50\n",
      "link_list length : 50\n",
      "link_list length : 50\n",
      "link_list length : 50\n",
      "link_list length : 50\n",
      "link_list length : 50\n",
      "link_list length : 50\n",
      "link_list length : 50\n",
      "link_list length : 50\n",
      "link_list length : 50\n",
      "link_list length : 50\n",
      "link_list length : 50\n",
      "link_list length : 50\n",
      "link_list length : 50\n",
      "link_list length : 50\n",
      "link_list length : 50\n",
      "link_list length : 50\n",
      "link_list length : 50\n",
      "link_list length : 50\n",
      "link_list length : 50\n",
      "link_list length : 50\n",
      "link_list length : 50\n",
      "\n",
      "200\n",
      "10월 5페이지 cnt = 50\n"
     ]
    },
    {
     "data": {
      "application/vnd.jupyter.widget-view+json": {
       "model_id": "02a638a15587402197f35a3fad76837e",
       "version_major": 2,
       "version_minor": 0
      },
      "text/plain": [
       "HBox(children=(HTML(value=''), FloatProgress(value=0.0, max=50.0), HTML(value='')))"
      ]
     },
     "metadata": {},
     "output_type": "display_data"
    },
    {
     "name": "stdout",
     "output_type": "stream",
     "text": [
      "link_list length : 50\n",
      "link_list length : 50\n",
      "link_list length : 50\n",
      "link_list length : 50\n",
      "link_list length : 50\n",
      "link_list length : 50\n",
      "link_list length : 50\n",
      "link_list length : 50\n",
      "link_list length : 50\n",
      "link_list length : 50\n",
      "link_list length : 50\n",
      "link_list length : 50\n",
      "link_list length : 50\n",
      "link_list length : 50\n",
      "link_list length : 50\n",
      "link_list length : 50\n",
      "link_list length : 50\n",
      "link_list length : 50\n",
      "link_list length : 50\n",
      "link_list length : 50\n",
      "link_list length : 50\n",
      "link_list length : 50\n",
      "link_list length : 50\n",
      "link_list length : 50\n",
      "link_list length : 50\n",
      "link_list length : 50\n",
      "link_list length : 50\n",
      "link_list length : 50\n",
      "link_list length : 50\n",
      "link_list length : 50\n",
      "link_list length : 50\n",
      "link_list length : 50\n",
      "link_list length : 50\n",
      "link_list length : 50\n",
      "link_list length : 50\n",
      "link_list length : 50\n",
      "link_list length : 50\n",
      "link_list length : 50\n",
      "link_list length : 50\n",
      "link_list length : 50\n",
      "link_list length : 50\n",
      "link_list length : 50\n",
      "link_list length : 50\n",
      "link_list length : 50\n",
      "link_list length : 50\n",
      "link_list length : 50\n",
      "link_list length : 50\n",
      "link_list length : 50\n",
      "link_list length : 50\n",
      "link_list length : 50\n",
      "\n",
      "250\n",
      "\n"
     ]
    }
   ],
   "source": [
    "# 1 ~ 10월\n",
    "# 각 월별 1위 ~ 250위 데이터 추출\n",
    "# 경제 경영\n",
    "\n",
    "cnt = 0\n",
    "\n",
    "# 월별 페이지 이동\n",
    "for month in tqdm_notebook(range(10, 11)) :\n",
    "    \n",
    "    # 한 월별 6개의 페이지 접근 (1위 ~ 250위)\n",
    "    for page in range(1, 6) :\n",
    "        url = category_url + str(month) + rest_url01 + str(page) + rest_url02\n",
    "        driver.get(url)\n",
    "        \n",
    "        # 필요한 데이터 부분 크롤링\n",
    "        list = driver.find_elements_by_css_selector(\"div.ss_book_box > table > tbody > tr\")\n",
    "        \n",
    "        req = requests.get(url)\n",
    "        content = req.content\n",
    "        \n",
    "        # 크롤링 데이터를 html 형식에 맞게 변환\n",
    "        soup = BeautifulSoup(content,'html.parser')\n",
    "        book_name_elems = soup.select('a.bo3 b')\n",
    "\n",
    "        for i in range(len(list)) :\n",
    "            split_ls = list[i].text.split('\\n')\n",
    "            \n",
    "            image_ls = list[i].find_element_by_tag_name('img').get_attribute('src')\n",
    "            image.append(image_ls)\n",
    "            \n",
    "            title.append(book_name_elems[i].get_text())\n",
    "\n",
    "            for j in split_ls :\n",
    "                if (file_format[0] in j) | (file_format[1] in j) | (file_format[2] in j) | (file_format[3] in j) | (file_format[4] in j) | (file_format[5] in j) | (file_format[6] in j) | (file_format[7] in j) | (file_format[8] in j) | (file_format[9] in j) | (file_format[10] in j) | (file_format[11] in j) | (file_format[12] in j) | (file_format[13] in j) | (file_format[14] in j)| (file_format[15] in j) | (file_format[16] in j) | (file_format[17] in j)| (file_format[18] in j) | (file_format[19] in j) | (file_format[20] in j)   :\n",
    "                    book_list.append(j)\n",
    "                    cnt += 1\n",
    "                    break\n",
    "        \n",
    "        print('{}월 {}페이지 cnt = {}'.format(month, page, cnt))\n",
    "        cnt = 0\n",
    "        \n",
    "        \n",
    "        # isbn 크롤링을 위해 페이지 이동 구현\n",
    "        # 링크 리스트 생성\n",
    "        link_list = driver.find_elements_by_css_selector('a.bo3')\n",
    "        \n",
    "        for idx in tqdm_notebook(range(len(link_list))) :\n",
    "            check = False\n",
    "            link_list[idx].click()\n",
    "            \n",
    "            isbn =  driver.find_elements_by_css_selector(\"div.conts_info_list1 > ul > li\")\n",
    "            \n",
    "            for li in isbn :\n",
    "                if 'ISBN' in li.text :\n",
    "                    isbn_list.append(li.text.split(':')[1].strip())\n",
    "                    check = True\n",
    "                    break\n",
    "            \n",
    "            if check is False :\n",
    "                isbn_list.append(np.nan)\n",
    "            \n",
    "            driver.back()\n",
    "            time.sleep(1.1)\n",
    "            link_list = driver.find_elements_by_css_selector('a.bo3')\n",
    "            print('link_list length :', len(link_list))\n",
    "        \n",
    "        print(len(isbn_list))"
   ]
  },
  {
   "cell_type": "code",
   "execution_count": 61,
   "metadata": {},
   "outputs": [],
   "source": [
    "# 작가, 출판사 가져오기\n",
    "\n",
    "split_booklist1=[]\n",
    "author1 = []\n",
    "publisher1 =[]\n",
    "\n",
    "for s in range(len(book_list)):\n",
    "    input = book_list[s].split('|')\n",
    "    split_booklist1.append(input)\n",
    "\n",
    "    author1.append(split_booklist1[s][0])\n",
    "    publisher1.append(split_booklist1[s][1])"
   ]
  },
  {
   "cell_type": "code",
   "execution_count": 60,
   "metadata": {},
   "outputs": [
    {
     "name": "stdout",
     "output_type": "stream",
     "text": [
      "250\n",
      "250\n",
      "250\n",
      "250\n"
     ]
    }
   ],
   "source": [
    "print(len(book_list))\n",
    "print(len(image))\n",
    "print(len(title))\n",
    "print(len(isbn_list))"
   ]
  },
  {
   "cell_type": "code",
   "execution_count": 53,
   "metadata": {},
   "outputs": [],
   "source": [
    "# 데이터 프레임 만들기  \n",
    "import pandas as pd\n",
    "import numpy as np\n",
    "\n",
    "humanities01_09 = pd.DataFrame({'title' : title,\n",
    "                     'author' : author1,\n",
    "                     'publisher' : publisher1,\n",
    "                         'isbn' : isbn_list,\n",
    "                    'image' : image})"
   ]
  },
  {
   "cell_type": "code",
   "execution_count": 62,
   "metadata": {},
   "outputs": [],
   "source": [
    "# 데이터 프레임 만들기  \n",
    "import pandas as pd\n",
    "import numpy as np\n",
    "\n",
    "humanities10= pd.DataFrame({'title' : title,\n",
    "                     'author' : author1,\n",
    "                     'publisher' : publisher1,\n",
    "                         'isbn' : isbn_list,\n",
    "                    'image' : image})"
   ]
  },
  {
   "cell_type": "code",
   "execution_count": 54,
   "metadata": {},
   "outputs": [
    {
     "data": {
      "text/html": [
       "<div>\n",
       "<style scoped>\n",
       "    .dataframe tbody tr th:only-of-type {\n",
       "        vertical-align: middle;\n",
       "    }\n",
       "\n",
       "    .dataframe tbody tr th {\n",
       "        vertical-align: top;\n",
       "    }\n",
       "\n",
       "    .dataframe thead th {\n",
       "        text-align: right;\n",
       "    }\n",
       "</style>\n",
       "<table border=\"1\" class=\"dataframe\">\n",
       "  <thead>\n",
       "    <tr style=\"text-align: right;\">\n",
       "      <th></th>\n",
       "      <th>title</th>\n",
       "      <th>author</th>\n",
       "      <th>publisher</th>\n",
       "      <th>isbn</th>\n",
       "      <th>image</th>\n",
       "    </tr>\n",
       "  </thead>\n",
       "  <tbody>\n",
       "    <tr>\n",
       "      <th>2245</th>\n",
       "      <td>생각의 탄생</td>\n",
       "      <td>로버트 루트번스타인, 미셸 루트번스타인 (지은이), 박종성 (옮긴이)</td>\n",
       "      <td>에코의서재</td>\n",
       "      <td>9788995688991</td>\n",
       "      <td>https://image.aladin.co.kr/product/90/57/cover...</td>\n",
       "    </tr>\n",
       "    <tr>\n",
       "      <th>2246</th>\n",
       "      <td>논문 쓰기의 기술</td>\n",
       "      <td>우에노 지즈코 (지은이), 한주희 (옮긴이)</td>\n",
       "      <td>동녘</td>\n",
       "      <td>9788972979678</td>\n",
       "      <td>https://image.aladin.co.kr/product/25122/24/co...</td>\n",
       "    </tr>\n",
       "    <tr>\n",
       "      <th>2247</th>\n",
       "      <td>빨강의 역사</td>\n",
       "      <td>미셸 파스투로 (지은이), 고선일 (옮긴이)</td>\n",
       "      <td>미술문화</td>\n",
       "      <td>9791185954646</td>\n",
       "      <td>https://image.aladin.co.kr/product/25096/9/cov...</td>\n",
       "    </tr>\n",
       "    <tr>\n",
       "      <th>2248</th>\n",
       "      <td>1일 1강 논어 강독</td>\n",
       "      <td>박재희 (지은이)</td>\n",
       "      <td>김영사</td>\n",
       "      <td>9788934986584</td>\n",
       "      <td>https://image.aladin.co.kr/product/24975/6/cov...</td>\n",
       "    </tr>\n",
       "    <tr>\n",
       "      <th>2249</th>\n",
       "      <td>뉴필로소퍼 2020 11호</td>\n",
       "      <td>뉴필로소퍼 편집부 (엮은이)</td>\n",
       "      <td>바다출판사</td>\n",
       "      <td>9772586476005</td>\n",
       "      <td>https://image.aladin.co.kr/product/24486/76/co...</td>\n",
       "    </tr>\n",
       "  </tbody>\n",
       "</table>\n",
       "</div>"
      ],
      "text/plain": [
       "               title                                   author publisher  \\\n",
       "2245          생각의 탄생  로버트 루트번스타인, 미셸 루트번스타인 (지은이), 박종성 (옮긴이)     에코의서재    \n",
       "2246       논문 쓰기의 기술                우에노 지즈코 (지은이), 한주희 (옮긴이)        동녘    \n",
       "2247          빨강의 역사                미셸 파스투로 (지은이), 고선일 (옮긴이)      미술문화    \n",
       "2248     1일 1강 논어 강독                               박재희 (지은이)       김영사    \n",
       "2249  뉴필로소퍼 2020 11호                         뉴필로소퍼 편집부 (엮은이)     바다출판사    \n",
       "\n",
       "               isbn                                              image  \n",
       "2245  9788995688991  https://image.aladin.co.kr/product/90/57/cover...  \n",
       "2246  9788972979678  https://image.aladin.co.kr/product/25122/24/co...  \n",
       "2247  9791185954646  https://image.aladin.co.kr/product/25096/9/cov...  \n",
       "2248  9788934986584  https://image.aladin.co.kr/product/24975/6/cov...  \n",
       "2249  9772586476005  https://image.aladin.co.kr/product/24486/76/co...  "
      ]
     },
     "execution_count": 54,
     "metadata": {},
     "output_type": "execute_result"
    }
   ],
   "source": [
    "humanities01_09.tail()"
   ]
  },
  {
   "cell_type": "code",
   "execution_count": 63,
   "metadata": {},
   "outputs": [
    {
     "data": {
      "text/html": [
       "<div>\n",
       "<style scoped>\n",
       "    .dataframe tbody tr th:only-of-type {\n",
       "        vertical-align: middle;\n",
       "    }\n",
       "\n",
       "    .dataframe tbody tr th {\n",
       "        vertical-align: top;\n",
       "    }\n",
       "\n",
       "    .dataframe thead th {\n",
       "        text-align: right;\n",
       "    }\n",
       "</style>\n",
       "<table border=\"1\" class=\"dataframe\">\n",
       "  <thead>\n",
       "    <tr style=\"text-align: right;\">\n",
       "      <th></th>\n",
       "      <th>title</th>\n",
       "      <th>author</th>\n",
       "      <th>publisher</th>\n",
       "      <th>isbn</th>\n",
       "      <th>image</th>\n",
       "    </tr>\n",
       "  </thead>\n",
       "  <tbody>\n",
       "    <tr>\n",
       "      <th>245</th>\n",
       "      <td>정적 : 나를 변화시키는 조용한 기적</td>\n",
       "      <td>배철현 (지은이)</td>\n",
       "      <td>21세기북스</td>\n",
       "      <td>9788950982676</td>\n",
       "      <td>https://image.aladin.co.kr/product/20775/34/co...</td>\n",
       "    </tr>\n",
       "    <tr>\n",
       "      <th>246</th>\n",
       "      <td>다크호스</td>\n",
       "      <td>토드 로즈, 오기 오가스 (지은이), 정미나 (옮긴이)</td>\n",
       "      <td>21세기북스</td>\n",
       "      <td>9788950982256</td>\n",
       "      <td>https://image.aladin.co.kr/product/20166/4/cov...</td>\n",
       "    </tr>\n",
       "    <tr>\n",
       "      <th>247</th>\n",
       "      <td>놓아 버림</td>\n",
       "      <td>데이비드 호킨스 (지은이), 박찬준 (옮긴이)</td>\n",
       "      <td>판미동</td>\n",
       "      <td>9788960179110</td>\n",
       "      <td>https://image.aladin.co.kr/product/3226/29/cov...</td>\n",
       "    </tr>\n",
       "    <tr>\n",
       "      <th>248</th>\n",
       "      <td>예술의 쓸모</td>\n",
       "      <td>강은진 (지은이)</td>\n",
       "      <td>다산초당(다산북스)</td>\n",
       "      <td>9791130631295</td>\n",
       "      <td>https://image.aladin.co.kr/product/25093/39/co...</td>\n",
       "    </tr>\n",
       "    <tr>\n",
       "      <th>249</th>\n",
       "      <td>크리톤</td>\n",
       "      <td>플라톤 (지은이), 이기백 (옮긴이)</td>\n",
       "      <td>아카넷</td>\n",
       "      <td>9788957336861</td>\n",
       "      <td>https://image.aladin.co.kr/product/24794/80/co...</td>\n",
       "    </tr>\n",
       "  </tbody>\n",
       "</table>\n",
       "</div>"
      ],
      "text/plain": [
       "                    title                           author     publisher  \\\n",
       "245  정적 : 나를 변화시키는 조용한 기적                       배철현 (지은이)        21세기북스    \n",
       "246                  다크호스  토드 로즈, 오기 오가스 (지은이), 정미나 (옮긴이)        21세기북스    \n",
       "247                 놓아 버림       데이비드 호킨스 (지은이), 박찬준 (옮긴이)           판미동    \n",
       "248                예술의 쓸모                       강은진 (지은이)    다산초당(다산북스)    \n",
       "249                   크리톤            플라톤 (지은이), 이기백 (옮긴이)           아카넷    \n",
       "\n",
       "              isbn                                              image  \n",
       "245  9788950982676  https://image.aladin.co.kr/product/20775/34/co...  \n",
       "246  9788950982256  https://image.aladin.co.kr/product/20166/4/cov...  \n",
       "247  9788960179110  https://image.aladin.co.kr/product/3226/29/cov...  \n",
       "248  9791130631295  https://image.aladin.co.kr/product/25093/39/co...  \n",
       "249  9788957336861  https://image.aladin.co.kr/product/24794/80/co...  "
      ]
     },
     "execution_count": 63,
     "metadata": {},
     "output_type": "execute_result"
    }
   ],
   "source": [
    "humanities10.tail()"
   ]
  },
  {
   "cell_type": "code",
   "execution_count": 55,
   "metadata": {},
   "outputs": [],
   "source": [
    "# csv 저장\n",
    "humanities01_09.to_csv('C:\\\\Users\\\\kim23\\\\data\\\\final\\\\humanities01_09.csv',index=False,encoding ='utf-8-sig')"
   ]
  },
  {
   "cell_type": "code",
   "execution_count": 64,
   "metadata": {},
   "outputs": [],
   "source": [
    "# csv 저장\n",
    "humanities10.to_csv('C:\\\\Users\\\\kim23\\\\data\\\\final\\\\humanities10.csv',index=False,encoding ='utf-8-sig')"
   ]
  },
  {
   "cell_type": "code",
   "execution_count": 65,
   "metadata": {},
   "outputs": [],
   "source": [
    "# 데이터프레임 합치기\n",
    "humanities_df = pd.concat([humanities01_09,humanities10], ignore_index = True)"
   ]
  },
  {
   "cell_type": "code",
   "execution_count": 66,
   "metadata": {},
   "outputs": [
    {
     "data": {
      "text/plain": [
       "2500"
      ]
     },
     "execution_count": 66,
     "metadata": {},
     "output_type": "execute_result"
    }
   ],
   "source": [
    "len(humanities_df)"
   ]
  },
  {
   "cell_type": "code",
   "execution_count": 67,
   "metadata": {},
   "outputs": [],
   "source": [
    "# csv 저장\n",
    "humanities_df.to_csv('C:\\\\Users\\\\kim23\\\\data\\\\final\\\\humanities_df.csv',index=False,encoding ='utf-8-sig')"
   ]
  },
  {
   "cell_type": "code",
   "execution_count": 68,
   "metadata": {},
   "outputs": [
    {
     "data": {
      "text/plain": [
       "929"
      ]
     },
     "execution_count": 68,
     "metadata": {},
     "output_type": "execute_result"
    }
   ],
   "source": [
    "# 중복데이터 제거\n",
    "humanities_remove_df = humanities_df.drop_duplicates('isbn',keep='first')\n",
    "len(humanities_remove_df)"
   ]
  },
  {
   "cell_type": "code",
   "execution_count": 69,
   "metadata": {},
   "outputs": [],
   "source": [
    "humanities_remove_df.to_csv('C:\\\\Users\\\\kim23\\\\data\\\\final\\\\humanities_remove_df.csv',index=False,encoding ='utf-8-sig')"
   ]
  },
  {
   "cell_type": "markdown",
   "metadata": {},
   "source": [
    "### 장르소설"
   ]
  },
  {
   "cell_type": "code",
   "execution_count": 79,
   "metadata": {},
   "outputs": [],
   "source": [
    "from selenium import webdriver\n",
    "from bs4 import BeautifulSoup\n",
    "import requests\n",
    "from tqdm import tqdm_notebook\n",
    "from bs4 import BeautifulSoup\n",
    "import time\n",
    "path = './driver/chromedriver.exe'\n",
    "driver = webdriver.Chrome(path)\n",
    "\n",
    "import numpy as np\n",
    "import pandas as pd"
   ]
  },
  {
   "cell_type": "code",
   "execution_count": null,
   "metadata": {},
   "outputs": [],
   "source": [
    "# # 책 제목 추출을 위한 단어 리스트\n",
    "# file_format = ['(지은이)', '(옮긴이)', '(엮은이)','(글)',\n",
    "#                '(그림)', '(편곡)', '(감수)','(원작)','(참고서)','(캐릭터)',\n",
    "#                '(기획)','(구성)','(디자인)','(해설)','김은숙, 김수연',\n",
    "#                '(Yozoh)', '(사진)', '(추천)', '(데조로)', '(리릭스)', '(그래픽)']\n",
    "# # 저자 및 출판사를 담을 list\n",
    "# book_list = []\n",
    "# image =[]\n",
    "# title = []\n",
    "# isbn_list = []"
   ]
  },
  {
   "cell_type": "code",
   "execution_count": 80,
   "metadata": {},
   "outputs": [],
   "source": [
    "# 장르소설 url\n",
    "category_url = 'https://www.aladin.co.kr/shop/common/wbest.aspx?BestType=MonthlyBest&BranchType=1&CID=112011&Year=2020&Month='\n",
    "rest_url01 = '&page='\n",
    "rest_url02 = '&cnt=1000&SortOrder=1'"
   ]
  },
  {
   "cell_type": "code",
   "execution_count": 81,
   "metadata": {},
   "outputs": [
    {
     "name": "stderr",
     "output_type": "stream",
     "text": [
      "C:\\ProgramData\\Anaconda3\\lib\\site-packages\\ipykernel_launcher.py:24: TqdmDeprecationWarning: This function will be removed in tqdm==5.0.0\n",
      "Please use `tqdm.notebook.tqdm` instead of `tqdm.tqdm_notebook`\n"
     ]
    },
    {
     "data": {
      "application/vnd.jupyter.widget-view+json": {
       "model_id": "02246288a1de4cb181697333aec5f4ca",
       "version_major": 2,
       "version_minor": 0
      },
      "text/plain": [
       "HBox(children=(HTML(value=''), FloatProgress(value=0.0, max=10.0), HTML(value='')))"
      ]
     },
     "metadata": {},
     "output_type": "display_data"
    },
    {
     "name": "stdout",
     "output_type": "stream",
     "text": [
      "1월 1페이지 cnt = 47\n",
      "ban       length : 3\n",
      "image     length : 47\n",
      "title     length : 47\n",
      "book_list length : 47\n"
     ]
    },
    {
     "name": "stderr",
     "output_type": "stream",
     "text": [
      "C:\\ProgramData\\Anaconda3\\lib\\site-packages\\ipykernel_launcher.py:74: TqdmDeprecationWarning: This function will be removed in tqdm==5.0.0\n",
      "Please use `tqdm.notebook.tqdm` instead of `tqdm.tqdm_notebook`\n"
     ]
    },
    {
     "data": {
      "application/vnd.jupyter.widget-view+json": {
       "model_id": "f3d2950c2d9a40ee8b0d084d9eaa2d98",
       "version_major": 2,
       "version_minor": 0
      },
      "text/plain": [
       "HBox(children=(HTML(value=''), FloatProgress(value=0.0, max=50.0), HTML(value='')))"
      ]
     },
     "metadata": {},
     "output_type": "display_data"
    },
    {
     "name": "stdout",
     "output_type": "stream",
     "text": [
      "\n",
      "47\n",
      "1월 2페이지 cnt = 50\n",
      "ban       length : 0\n",
      "image     length : 97\n",
      "title     length : 97\n",
      "book_list length : 97\n"
     ]
    },
    {
     "data": {
      "application/vnd.jupyter.widget-view+json": {
       "model_id": "30b499171b8e44c4a89d180794d5a1ce",
       "version_major": 2,
       "version_minor": 0
      },
      "text/plain": [
       "HBox(children=(HTML(value=''), FloatProgress(value=0.0, max=50.0), HTML(value='')))"
      ]
     },
     "metadata": {},
     "output_type": "display_data"
    },
    {
     "name": "stdout",
     "output_type": "stream",
     "text": [
      "\n",
      "97\n",
      "1월 3페이지 cnt = 50\n",
      "ban       length : 0\n",
      "image     length : 147\n",
      "title     length : 147\n",
      "book_list length : 147\n"
     ]
    },
    {
     "data": {
      "application/vnd.jupyter.widget-view+json": {
       "model_id": "77935cee28ba4d1c88af0d5fc70c4fd2",
       "version_major": 2,
       "version_minor": 0
      },
      "text/plain": [
       "HBox(children=(HTML(value=''), FloatProgress(value=0.0, max=50.0), HTML(value='')))"
      ]
     },
     "metadata": {},
     "output_type": "display_data"
    },
    {
     "name": "stdout",
     "output_type": "stream",
     "text": [
      "\n",
      "147\n",
      "1월 4페이지 cnt = 50\n",
      "ban       length : 0\n",
      "image     length : 197\n",
      "title     length : 197\n",
      "book_list length : 197\n"
     ]
    },
    {
     "data": {
      "application/vnd.jupyter.widget-view+json": {
       "model_id": "245afc570bf04a8d8b707fa95406b39d",
       "version_major": 2,
       "version_minor": 0
      },
      "text/plain": [
       "HBox(children=(HTML(value=''), FloatProgress(value=0.0, max=50.0), HTML(value='')))"
      ]
     },
     "metadata": {},
     "output_type": "display_data"
    },
    {
     "name": "stdout",
     "output_type": "stream",
     "text": [
      "\n",
      "197\n",
      "1월 5페이지 cnt = 48\n",
      "ban       length : 2\n",
      "image     length : 245\n",
      "title     length : 245\n",
      "book_list length : 245\n"
     ]
    },
    {
     "data": {
      "application/vnd.jupyter.widget-view+json": {
       "model_id": "66c1ed1a30924a4a988ef3c6231e86e9",
       "version_major": 2,
       "version_minor": 0
      },
      "text/plain": [
       "HBox(children=(HTML(value=''), FloatProgress(value=0.0, max=50.0), HTML(value='')))"
      ]
     },
     "metadata": {},
     "output_type": "display_data"
    },
    {
     "name": "stdout",
     "output_type": "stream",
     "text": [
      "\n",
      "245\n",
      "2월 1페이지 cnt = 48\n",
      "ban       length : 2\n",
      "image     length : 293\n",
      "title     length : 293\n",
      "book_list length : 293\n"
     ]
    },
    {
     "data": {
      "application/vnd.jupyter.widget-view+json": {
       "model_id": "13c528b707514464bf3169703375a46e",
       "version_major": 2,
       "version_minor": 0
      },
      "text/plain": [
       "HBox(children=(HTML(value=''), FloatProgress(value=0.0, max=50.0), HTML(value='')))"
      ]
     },
     "metadata": {},
     "output_type": "display_data"
    },
    {
     "name": "stdout",
     "output_type": "stream",
     "text": [
      "\n",
      "293\n",
      "2월 2페이지 cnt = 49\n",
      "ban       length : 1\n",
      "image     length : 342\n",
      "title     length : 342\n",
      "book_list length : 342\n"
     ]
    },
    {
     "data": {
      "application/vnd.jupyter.widget-view+json": {
       "model_id": "bc1da545a6034206af8d637a4e8aa171",
       "version_major": 2,
       "version_minor": 0
      },
      "text/plain": [
       "HBox(children=(HTML(value=''), FloatProgress(value=0.0, max=50.0), HTML(value='')))"
      ]
     },
     "metadata": {},
     "output_type": "display_data"
    },
    {
     "name": "stdout",
     "output_type": "stream",
     "text": [
      "\n",
      "342\n",
      "2월 3페이지 cnt = 48\n",
      "ban       length : 2\n",
      "image     length : 390\n",
      "title     length : 390\n",
      "book_list length : 390\n"
     ]
    },
    {
     "data": {
      "application/vnd.jupyter.widget-view+json": {
       "model_id": "ed06cf326151412e92d722720330e89d",
       "version_major": 2,
       "version_minor": 0
      },
      "text/plain": [
       "HBox(children=(HTML(value=''), FloatProgress(value=0.0, max=50.0), HTML(value='')))"
      ]
     },
     "metadata": {},
     "output_type": "display_data"
    },
    {
     "name": "stdout",
     "output_type": "stream",
     "text": [
      "\n",
      "390\n",
      "2월 4페이지 cnt = 47\n",
      "ban       length : 3\n",
      "image     length : 437\n",
      "title     length : 437\n",
      "book_list length : 437\n"
     ]
    },
    {
     "data": {
      "application/vnd.jupyter.widget-view+json": {
       "model_id": "4fbd36ff43ed4ea49ac84e701c31ced3",
       "version_major": 2,
       "version_minor": 0
      },
      "text/plain": [
       "HBox(children=(HTML(value=''), FloatProgress(value=0.0, max=50.0), HTML(value='')))"
      ]
     },
     "metadata": {},
     "output_type": "display_data"
    },
    {
     "name": "stdout",
     "output_type": "stream",
     "text": [
      "\n",
      "437\n",
      "2월 5페이지 cnt = 49\n",
      "ban       length : 1\n",
      "image     length : 486\n",
      "title     length : 486\n",
      "book_list length : 486\n"
     ]
    },
    {
     "data": {
      "application/vnd.jupyter.widget-view+json": {
       "model_id": "00511bec5f8c4bee8bd562fdb21b02d2",
       "version_major": 2,
       "version_minor": 0
      },
      "text/plain": [
       "HBox(children=(HTML(value=''), FloatProgress(value=0.0, max=50.0), HTML(value='')))"
      ]
     },
     "metadata": {},
     "output_type": "display_data"
    },
    {
     "name": "stdout",
     "output_type": "stream",
     "text": [
      "\n",
      "486\n",
      "3월 1페이지 cnt = 49\n",
      "ban       length : 1\n",
      "image     length : 535\n",
      "title     length : 535\n",
      "book_list length : 535\n"
     ]
    },
    {
     "data": {
      "application/vnd.jupyter.widget-view+json": {
       "model_id": "b6b89d45491240d2878eb854c124e866",
       "version_major": 2,
       "version_minor": 0
      },
      "text/plain": [
       "HBox(children=(HTML(value=''), FloatProgress(value=0.0, max=50.0), HTML(value='')))"
      ]
     },
     "metadata": {},
     "output_type": "display_data"
    },
    {
     "name": "stdout",
     "output_type": "stream",
     "text": [
      "\n",
      "535\n",
      "3월 2페이지 cnt = 48\n",
      "ban       length : 2\n",
      "image     length : 583\n",
      "title     length : 583\n",
      "book_list length : 583\n"
     ]
    },
    {
     "data": {
      "application/vnd.jupyter.widget-view+json": {
       "model_id": "2a0dc8090a394338bca34d7f91d61ccf",
       "version_major": 2,
       "version_minor": 0
      },
      "text/plain": [
       "HBox(children=(HTML(value=''), FloatProgress(value=0.0, max=50.0), HTML(value='')))"
      ]
     },
     "metadata": {},
     "output_type": "display_data"
    },
    {
     "name": "stdout",
     "output_type": "stream",
     "text": [
      "\n",
      "583\n",
      "3월 3페이지 cnt = 50\n",
      "ban       length : 0\n",
      "image     length : 633\n",
      "title     length : 633\n",
      "book_list length : 633\n"
     ]
    },
    {
     "data": {
      "application/vnd.jupyter.widget-view+json": {
       "model_id": "664c0eccdbe14d61a01efeec7fd49c7d",
       "version_major": 2,
       "version_minor": 0
      },
      "text/plain": [
       "HBox(children=(HTML(value=''), FloatProgress(value=0.0, max=50.0), HTML(value='')))"
      ]
     },
     "metadata": {},
     "output_type": "display_data"
    },
    {
     "name": "stdout",
     "output_type": "stream",
     "text": [
      "\n",
      "633\n",
      "3월 4페이지 cnt = 48\n",
      "ban       length : 2\n",
      "image     length : 681\n",
      "title     length : 681\n",
      "book_list length : 681\n"
     ]
    },
    {
     "data": {
      "application/vnd.jupyter.widget-view+json": {
       "model_id": "7c1885f9a4df49399a22b8b498d0fc71",
       "version_major": 2,
       "version_minor": 0
      },
      "text/plain": [
       "HBox(children=(HTML(value=''), FloatProgress(value=0.0, max=50.0), HTML(value='')))"
      ]
     },
     "metadata": {},
     "output_type": "display_data"
    },
    {
     "name": "stdout",
     "output_type": "stream",
     "text": [
      "\n",
      "681\n",
      "3월 5페이지 cnt = 45\n",
      "ban       length : 5\n",
      "image     length : 726\n",
      "title     length : 726\n",
      "book_list length : 726\n"
     ]
    },
    {
     "data": {
      "application/vnd.jupyter.widget-view+json": {
       "model_id": "b400b386c4ff4f25aab74178f11f922d",
       "version_major": 2,
       "version_minor": 0
      },
      "text/plain": [
       "HBox(children=(HTML(value=''), FloatProgress(value=0.0, max=50.0), HTML(value='')))"
      ]
     },
     "metadata": {},
     "output_type": "display_data"
    },
    {
     "name": "stdout",
     "output_type": "stream",
     "text": [
      "\n",
      "726\n",
      "4월 1페이지 cnt = 49\n",
      "ban       length : 1\n",
      "image     length : 775\n",
      "title     length : 775\n",
      "book_list length : 775\n"
     ]
    },
    {
     "data": {
      "application/vnd.jupyter.widget-view+json": {
       "model_id": "1c6588526d904c769059d132bbaf2744",
       "version_major": 2,
       "version_minor": 0
      },
      "text/plain": [
       "HBox(children=(HTML(value=''), FloatProgress(value=0.0, max=50.0), HTML(value='')))"
      ]
     },
     "metadata": {},
     "output_type": "display_data"
    },
    {
     "name": "stdout",
     "output_type": "stream",
     "text": [
      "\n",
      "775\n",
      "4월 2페이지 cnt = 49\n",
      "ban       length : 1\n",
      "image     length : 824\n",
      "title     length : 824\n",
      "book_list length : 824\n"
     ]
    },
    {
     "data": {
      "application/vnd.jupyter.widget-view+json": {
       "model_id": "dc6022bd0e624e8ba215e99b3e9e40b4",
       "version_major": 2,
       "version_minor": 0
      },
      "text/plain": [
       "HBox(children=(HTML(value=''), FloatProgress(value=0.0, max=50.0), HTML(value='')))"
      ]
     },
     "metadata": {},
     "output_type": "display_data"
    },
    {
     "name": "stdout",
     "output_type": "stream",
     "text": [
      "\n",
      "824\n",
      "4월 3페이지 cnt = 49\n",
      "ban       length : 1\n",
      "image     length : 873\n",
      "title     length : 873\n",
      "book_list length : 873\n"
     ]
    },
    {
     "data": {
      "application/vnd.jupyter.widget-view+json": {
       "model_id": "461c2cc0f7cc4277930b300ed250daf6",
       "version_major": 2,
       "version_minor": 0
      },
      "text/plain": [
       "HBox(children=(HTML(value=''), FloatProgress(value=0.0, max=50.0), HTML(value='')))"
      ]
     },
     "metadata": {},
     "output_type": "display_data"
    },
    {
     "name": "stdout",
     "output_type": "stream",
     "text": [
      "\n",
      "873\n",
      "4월 4페이지 cnt = 49\n",
      "ban       length : 1\n",
      "image     length : 922\n",
      "title     length : 922\n",
      "book_list length : 922\n"
     ]
    },
    {
     "data": {
      "application/vnd.jupyter.widget-view+json": {
       "model_id": "7c5336b60e9c4d27ba0a809492262f66",
       "version_major": 2,
       "version_minor": 0
      },
      "text/plain": [
       "HBox(children=(HTML(value=''), FloatProgress(value=0.0, max=50.0), HTML(value='')))"
      ]
     },
     "metadata": {},
     "output_type": "display_data"
    },
    {
     "name": "stdout",
     "output_type": "stream",
     "text": [
      "\n",
      "922\n",
      "4월 5페이지 cnt = 47\n",
      "ban       length : 3\n",
      "image     length : 969\n",
      "title     length : 969\n",
      "book_list length : 969\n"
     ]
    },
    {
     "data": {
      "application/vnd.jupyter.widget-view+json": {
       "model_id": "74a5c14035df4b0f95e57a36d51e94a2",
       "version_major": 2,
       "version_minor": 0
      },
      "text/plain": [
       "HBox(children=(HTML(value=''), FloatProgress(value=0.0, max=50.0), HTML(value='')))"
      ]
     },
     "metadata": {},
     "output_type": "display_data"
    },
    {
     "name": "stdout",
     "output_type": "stream",
     "text": [
      "\n",
      "969\n",
      "5월 1페이지 cnt = 49\n",
      "ban       length : 1\n",
      "image     length : 1018\n",
      "title     length : 1018\n",
      "book_list length : 1018\n"
     ]
    },
    {
     "data": {
      "application/vnd.jupyter.widget-view+json": {
       "model_id": "c84fd8c08a7d41769bca12848ff3cdd2",
       "version_major": 2,
       "version_minor": 0
      },
      "text/plain": [
       "HBox(children=(HTML(value=''), FloatProgress(value=0.0, max=50.0), HTML(value='')))"
      ]
     },
     "metadata": {},
     "output_type": "display_data"
    },
    {
     "name": "stdout",
     "output_type": "stream",
     "text": [
      "\n",
      "1018\n",
      "5월 2페이지 cnt = 49\n",
      "ban       length : 1\n",
      "image     length : 1067\n",
      "title     length : 1067\n",
      "book_list length : 1067\n"
     ]
    },
    {
     "data": {
      "application/vnd.jupyter.widget-view+json": {
       "model_id": "e85139e4d46344ffb457e0e3a43ec8d9",
       "version_major": 2,
       "version_minor": 0
      },
      "text/plain": [
       "HBox(children=(HTML(value=''), FloatProgress(value=0.0, max=50.0), HTML(value='')))"
      ]
     },
     "metadata": {},
     "output_type": "display_data"
    },
    {
     "name": "stdout",
     "output_type": "stream",
     "text": [
      "\n",
      "1067\n",
      "5월 3페이지 cnt = 49\n",
      "ban       length : 1\n",
      "image     length : 1116\n",
      "title     length : 1116\n",
      "book_list length : 1116\n"
     ]
    },
    {
     "data": {
      "application/vnd.jupyter.widget-view+json": {
       "model_id": "39828e4a32ad4b59b7bb9e0e51cee4f5",
       "version_major": 2,
       "version_minor": 0
      },
      "text/plain": [
       "HBox(children=(HTML(value=''), FloatProgress(value=0.0, max=50.0), HTML(value='')))"
      ]
     },
     "metadata": {},
     "output_type": "display_data"
    },
    {
     "name": "stdout",
     "output_type": "stream",
     "text": [
      "\n",
      "1116\n",
      "5월 4페이지 cnt = 50\n",
      "ban       length : 0\n",
      "image     length : 1166\n",
      "title     length : 1166\n",
      "book_list length : 1166\n"
     ]
    },
    {
     "data": {
      "application/vnd.jupyter.widget-view+json": {
       "model_id": "e99d404bd5d64692ae4b1dc4288420c8",
       "version_major": 2,
       "version_minor": 0
      },
      "text/plain": [
       "HBox(children=(HTML(value=''), FloatProgress(value=0.0, max=50.0), HTML(value='')))"
      ]
     },
     "metadata": {},
     "output_type": "display_data"
    },
    {
     "name": "stdout",
     "output_type": "stream",
     "text": [
      "\n",
      "1166\n",
      "5월 5페이지 cnt = 47\n",
      "ban       length : 3\n",
      "image     length : 1213\n",
      "title     length : 1213\n",
      "book_list length : 1213\n"
     ]
    },
    {
     "data": {
      "application/vnd.jupyter.widget-view+json": {
       "model_id": "b1500a6922044c228faee84c99eb18e5",
       "version_major": 2,
       "version_minor": 0
      },
      "text/plain": [
       "HBox(children=(HTML(value=''), FloatProgress(value=0.0, max=50.0), HTML(value='')))"
      ]
     },
     "metadata": {},
     "output_type": "display_data"
    },
    {
     "name": "stdout",
     "output_type": "stream",
     "text": [
      "\n",
      "1213\n",
      "6월 1페이지 cnt = 48\n",
      "ban       length : 2\n",
      "image     length : 1261\n",
      "title     length : 1261\n",
      "book_list length : 1261\n"
     ]
    },
    {
     "data": {
      "application/vnd.jupyter.widget-view+json": {
       "model_id": "4f91387f3c354178acd687b6e927795a",
       "version_major": 2,
       "version_minor": 0
      },
      "text/plain": [
       "HBox(children=(HTML(value=''), FloatProgress(value=0.0, max=50.0), HTML(value='')))"
      ]
     },
     "metadata": {},
     "output_type": "display_data"
    },
    {
     "name": "stdout",
     "output_type": "stream",
     "text": [
      "\n",
      "1261\n",
      "6월 2페이지 cnt = 50\n",
      "ban       length : 0\n",
      "image     length : 1311\n",
      "title     length : 1311\n",
      "book_list length : 1311\n"
     ]
    },
    {
     "data": {
      "application/vnd.jupyter.widget-view+json": {
       "model_id": "6a8f8ad34c92419da3586fd48bec71ae",
       "version_major": 2,
       "version_minor": 0
      },
      "text/plain": [
       "HBox(children=(HTML(value=''), FloatProgress(value=0.0, max=50.0), HTML(value='')))"
      ]
     },
     "metadata": {},
     "output_type": "display_data"
    },
    {
     "name": "stdout",
     "output_type": "stream",
     "text": [
      "\n",
      "1311\n",
      "6월 3페이지 cnt = 49\n",
      "ban       length : 1\n",
      "image     length : 1360\n",
      "title     length : 1360\n",
      "book_list length : 1360\n"
     ]
    },
    {
     "data": {
      "application/vnd.jupyter.widget-view+json": {
       "model_id": "3e23e3ac9e604878ad28d04c3598e6b0",
       "version_major": 2,
       "version_minor": 0
      },
      "text/plain": [
       "HBox(children=(HTML(value=''), FloatProgress(value=0.0, max=50.0), HTML(value='')))"
      ]
     },
     "metadata": {},
     "output_type": "display_data"
    },
    {
     "name": "stdout",
     "output_type": "stream",
     "text": [
      "\n",
      "1360\n",
      "6월 4페이지 cnt = 47\n",
      "ban       length : 3\n",
      "image     length : 1407\n",
      "title     length : 1407\n",
      "book_list length : 1407\n"
     ]
    },
    {
     "data": {
      "application/vnd.jupyter.widget-view+json": {
       "model_id": "eecf52db5ac74f9b81c87573f4d9a1e7",
       "version_major": 2,
       "version_minor": 0
      },
      "text/plain": [
       "HBox(children=(HTML(value=''), FloatProgress(value=0.0, max=50.0), HTML(value='')))"
      ]
     },
     "metadata": {},
     "output_type": "display_data"
    },
    {
     "name": "stdout",
     "output_type": "stream",
     "text": [
      "\n",
      "1407\n",
      "6월 5페이지 cnt = 50\n",
      "ban       length : 0\n",
      "image     length : 1457\n",
      "title     length : 1457\n",
      "book_list length : 1457\n"
     ]
    },
    {
     "data": {
      "application/vnd.jupyter.widget-view+json": {
       "model_id": "23c5d6c7817c4f548eb223ca5d8181b6",
       "version_major": 2,
       "version_minor": 0
      },
      "text/plain": [
       "HBox(children=(HTML(value=''), FloatProgress(value=0.0, max=50.0), HTML(value='')))"
      ]
     },
     "metadata": {},
     "output_type": "display_data"
    },
    {
     "name": "stdout",
     "output_type": "stream",
     "text": [
      "\n",
      "1457\n",
      "7월 1페이지 cnt = 49\n",
      "ban       length : 1\n",
      "image     length : 1506\n",
      "title     length : 1506\n",
      "book_list length : 1506\n"
     ]
    },
    {
     "data": {
      "application/vnd.jupyter.widget-view+json": {
       "model_id": "43b829ec80754b1fbca62a68d3c4f2e9",
       "version_major": 2,
       "version_minor": 0
      },
      "text/plain": [
       "HBox(children=(HTML(value=''), FloatProgress(value=0.0, max=50.0), HTML(value='')))"
      ]
     },
     "metadata": {},
     "output_type": "display_data"
    },
    {
     "name": "stdout",
     "output_type": "stream",
     "text": [
      "\n",
      "1506\n",
      "7월 2페이지 cnt = 50\n",
      "ban       length : 0\n",
      "image     length : 1556\n",
      "title     length : 1556\n",
      "book_list length : 1556\n"
     ]
    },
    {
     "data": {
      "application/vnd.jupyter.widget-view+json": {
       "model_id": "46ec4e4ef2bf4819ba9109b79b7ab413",
       "version_major": 2,
       "version_minor": 0
      },
      "text/plain": [
       "HBox(children=(HTML(value=''), FloatProgress(value=0.0, max=50.0), HTML(value='')))"
      ]
     },
     "metadata": {},
     "output_type": "display_data"
    },
    {
     "name": "stdout",
     "output_type": "stream",
     "text": [
      "\n",
      "1556\n",
      "7월 3페이지 cnt = 49\n",
      "ban       length : 1\n",
      "image     length : 1605\n",
      "title     length : 1605\n",
      "book_list length : 1605\n"
     ]
    },
    {
     "data": {
      "application/vnd.jupyter.widget-view+json": {
       "model_id": "b7e794f4d6224d13b52da30af5173c69",
       "version_major": 2,
       "version_minor": 0
      },
      "text/plain": [
       "HBox(children=(HTML(value=''), FloatProgress(value=0.0, max=50.0), HTML(value='')))"
      ]
     },
     "metadata": {},
     "output_type": "display_data"
    },
    {
     "name": "stdout",
     "output_type": "stream",
     "text": [
      "\n",
      "1605\n",
      "7월 4페이지 cnt = 48\n",
      "ban       length : 2\n",
      "image     length : 1653\n",
      "title     length : 1653\n",
      "book_list length : 1653\n"
     ]
    },
    {
     "data": {
      "application/vnd.jupyter.widget-view+json": {
       "model_id": "1554e948c0c4494e874494bdaad2ec21",
       "version_major": 2,
       "version_minor": 0
      },
      "text/plain": [
       "HBox(children=(HTML(value=''), FloatProgress(value=0.0, max=50.0), HTML(value='')))"
      ]
     },
     "metadata": {},
     "output_type": "display_data"
    },
    {
     "name": "stdout",
     "output_type": "stream",
     "text": [
      "\n",
      "1653\n",
      "7월 5페이지 cnt = 49\n",
      "ban       length : 1\n",
      "image     length : 1702\n",
      "title     length : 1702\n",
      "book_list length : 1702\n"
     ]
    },
    {
     "data": {
      "application/vnd.jupyter.widget-view+json": {
       "model_id": "0fd839866de14fd6b97a789f66d7abae",
       "version_major": 2,
       "version_minor": 0
      },
      "text/plain": [
       "HBox(children=(HTML(value=''), FloatProgress(value=0.0, max=50.0), HTML(value='')))"
      ]
     },
     "metadata": {},
     "output_type": "display_data"
    },
    {
     "name": "stdout",
     "output_type": "stream",
     "text": [
      "\n",
      "1702\n",
      "8월 1페이지 cnt = 50\n",
      "ban       length : 0\n",
      "image     length : 1752\n",
      "title     length : 1752\n",
      "book_list length : 1752\n"
     ]
    },
    {
     "data": {
      "application/vnd.jupyter.widget-view+json": {
       "model_id": "cb6bdf9fd48e4f5dbb53f57427e1b583",
       "version_major": 2,
       "version_minor": 0
      },
      "text/plain": [
       "HBox(children=(HTML(value=''), FloatProgress(value=0.0, max=50.0), HTML(value='')))"
      ]
     },
     "metadata": {},
     "output_type": "display_data"
    },
    {
     "name": "stdout",
     "output_type": "stream",
     "text": [
      "\n",
      "1752\n",
      "8월 2페이지 cnt = 48\n",
      "ban       length : 2\n",
      "image     length : 1800\n",
      "title     length : 1800\n",
      "book_list length : 1800\n"
     ]
    },
    {
     "data": {
      "application/vnd.jupyter.widget-view+json": {
       "model_id": "ea93ea7b96284704b52a0f760467d865",
       "version_major": 2,
       "version_minor": 0
      },
      "text/plain": [
       "HBox(children=(HTML(value=''), FloatProgress(value=0.0, max=50.0), HTML(value='')))"
      ]
     },
     "metadata": {},
     "output_type": "display_data"
    },
    {
     "name": "stdout",
     "output_type": "stream",
     "text": [
      "\n",
      "1800\n",
      "8월 3페이지 cnt = 48\n",
      "ban       length : 2\n",
      "image     length : 1848\n",
      "title     length : 1848\n",
      "book_list length : 1848\n"
     ]
    },
    {
     "data": {
      "application/vnd.jupyter.widget-view+json": {
       "model_id": "fd498c5ca02b47949ff9c2c407094e2c",
       "version_major": 2,
       "version_minor": 0
      },
      "text/plain": [
       "HBox(children=(HTML(value=''), FloatProgress(value=0.0, max=50.0), HTML(value='')))"
      ]
     },
     "metadata": {},
     "output_type": "display_data"
    },
    {
     "name": "stdout",
     "output_type": "stream",
     "text": [
      "\n",
      "1848\n",
      "8월 4페이지 cnt = 50\n",
      "ban       length : 0\n",
      "image     length : 1898\n",
      "title     length : 1898\n",
      "book_list length : 1898\n"
     ]
    },
    {
     "data": {
      "application/vnd.jupyter.widget-view+json": {
       "model_id": "56fd59fc4ad84f318218ba65557094a5",
       "version_major": 2,
       "version_minor": 0
      },
      "text/plain": [
       "HBox(children=(HTML(value=''), FloatProgress(value=0.0, max=50.0), HTML(value='')))"
      ]
     },
     "metadata": {},
     "output_type": "display_data"
    },
    {
     "name": "stdout",
     "output_type": "stream",
     "text": [
      "\n",
      "1898\n",
      "8월 5페이지 cnt = 46\n",
      "ban       length : 4\n",
      "image     length : 1944\n",
      "title     length : 1944\n",
      "book_list length : 1944\n"
     ]
    },
    {
     "data": {
      "application/vnd.jupyter.widget-view+json": {
       "model_id": "b7b766d26e04404d94a05a70cb4a549c",
       "version_major": 2,
       "version_minor": 0
      },
      "text/plain": [
       "HBox(children=(HTML(value=''), FloatProgress(value=0.0, max=50.0), HTML(value='')))"
      ]
     },
     "metadata": {},
     "output_type": "display_data"
    },
    {
     "name": "stdout",
     "output_type": "stream",
     "text": [
      "\n",
      "1944\n",
      "9월 1페이지 cnt = 50\n",
      "ban       length : 0\n",
      "image     length : 1994\n",
      "title     length : 1994\n",
      "book_list length : 1994\n"
     ]
    },
    {
     "data": {
      "application/vnd.jupyter.widget-view+json": {
       "model_id": "d281fe875b514691a09ca4d30c1a793f",
       "version_major": 2,
       "version_minor": 0
      },
      "text/plain": [
       "HBox(children=(HTML(value=''), FloatProgress(value=0.0, max=50.0), HTML(value='')))"
      ]
     },
     "metadata": {},
     "output_type": "display_data"
    },
    {
     "name": "stdout",
     "output_type": "stream",
     "text": [
      "\n",
      "1994\n",
      "9월 2페이지 cnt = 48\n",
      "ban       length : 2\n",
      "image     length : 2042\n",
      "title     length : 2042\n",
      "book_list length : 2042\n"
     ]
    },
    {
     "data": {
      "application/vnd.jupyter.widget-view+json": {
       "model_id": "171813c4d97148efba63861a8e1b84de",
       "version_major": 2,
       "version_minor": 0
      },
      "text/plain": [
       "HBox(children=(HTML(value=''), FloatProgress(value=0.0, max=50.0), HTML(value='')))"
      ]
     },
     "metadata": {},
     "output_type": "display_data"
    },
    {
     "name": "stdout",
     "output_type": "stream",
     "text": [
      "\n",
      "2042\n",
      "9월 3페이지 cnt = 48\n",
      "ban       length : 2\n",
      "image     length : 2090\n",
      "title     length : 2090\n",
      "book_list length : 2090\n"
     ]
    },
    {
     "data": {
      "application/vnd.jupyter.widget-view+json": {
       "model_id": "5bc7cfa633964700ad2fc1249ca37eff",
       "version_major": 2,
       "version_minor": 0
      },
      "text/plain": [
       "HBox(children=(HTML(value=''), FloatProgress(value=0.0, max=50.0), HTML(value='')))"
      ]
     },
     "metadata": {},
     "output_type": "display_data"
    },
    {
     "name": "stdout",
     "output_type": "stream",
     "text": [
      "\n",
      "2090\n",
      "9월 4페이지 cnt = 49\n",
      "ban       length : 1\n",
      "image     length : 2139\n",
      "title     length : 2139\n",
      "book_list length : 2139\n"
     ]
    },
    {
     "data": {
      "application/vnd.jupyter.widget-view+json": {
       "model_id": "5e7ca1ee69c04890a996835cde7d8335",
       "version_major": 2,
       "version_minor": 0
      },
      "text/plain": [
       "HBox(children=(HTML(value=''), FloatProgress(value=0.0, max=50.0), HTML(value='')))"
      ]
     },
     "metadata": {},
     "output_type": "display_data"
    },
    {
     "name": "stdout",
     "output_type": "stream",
     "text": [
      "\n",
      "2139\n",
      "9월 5페이지 cnt = 49\n",
      "ban       length : 1\n",
      "image     length : 2188\n",
      "title     length : 2188\n",
      "book_list length : 2188\n"
     ]
    },
    {
     "data": {
      "application/vnd.jupyter.widget-view+json": {
       "model_id": "47e0ed1fe962425bba3c022bca146fc9",
       "version_major": 2,
       "version_minor": 0
      },
      "text/plain": [
       "HBox(children=(HTML(value=''), FloatProgress(value=0.0, max=50.0), HTML(value='')))"
      ]
     },
     "metadata": {},
     "output_type": "display_data"
    },
    {
     "name": "stdout",
     "output_type": "stream",
     "text": [
      "\n",
      "2188\n",
      "10월 1페이지 cnt = 48\n",
      "ban       length : 2\n",
      "image     length : 2236\n",
      "title     length : 2236\n",
      "book_list length : 2236\n"
     ]
    },
    {
     "data": {
      "application/vnd.jupyter.widget-view+json": {
       "model_id": "fca7bf09a6384a8aa97068fe8c409f55",
       "version_major": 2,
       "version_minor": 0
      },
      "text/plain": [
       "HBox(children=(HTML(value=''), FloatProgress(value=0.0, max=50.0), HTML(value='')))"
      ]
     },
     "metadata": {},
     "output_type": "display_data"
    },
    {
     "name": "stdout",
     "output_type": "stream",
     "text": [
      "\n",
      "2236\n",
      "10월 2페이지 cnt = 50\n",
      "ban       length : 0\n",
      "image     length : 2286\n",
      "title     length : 2286\n",
      "book_list length : 2286\n"
     ]
    },
    {
     "data": {
      "application/vnd.jupyter.widget-view+json": {
       "model_id": "7457af35931f40bd9e2398f763839023",
       "version_major": 2,
       "version_minor": 0
      },
      "text/plain": [
       "HBox(children=(HTML(value=''), FloatProgress(value=0.0, max=50.0), HTML(value='')))"
      ]
     },
     "metadata": {},
     "output_type": "display_data"
    },
    {
     "name": "stdout",
     "output_type": "stream",
     "text": [
      "\n",
      "2286\n",
      "10월 3페이지 cnt = 50\n",
      "ban       length : 0\n",
      "image     length : 2336\n",
      "title     length : 2336\n",
      "book_list length : 2336\n"
     ]
    },
    {
     "data": {
      "application/vnd.jupyter.widget-view+json": {
       "model_id": "4deaad43e2d14d3aa941cbd1c80e17e2",
       "version_major": 2,
       "version_minor": 0
      },
      "text/plain": [
       "HBox(children=(HTML(value=''), FloatProgress(value=0.0, max=50.0), HTML(value='')))"
      ]
     },
     "metadata": {},
     "output_type": "display_data"
    },
    {
     "name": "stdout",
     "output_type": "stream",
     "text": [
      "\n",
      "2336\n",
      "10월 4페이지 cnt = 50\n",
      "ban       length : 0\n",
      "image     length : 2386\n",
      "title     length : 2386\n",
      "book_list length : 2386\n"
     ]
    },
    {
     "data": {
      "application/vnd.jupyter.widget-view+json": {
       "model_id": "e060b4ddd5d74a6e909ce986874dfdea",
       "version_major": 2,
       "version_minor": 0
      },
      "text/plain": [
       "HBox(children=(HTML(value=''), FloatProgress(value=0.0, max=50.0), HTML(value='')))"
      ]
     },
     "metadata": {},
     "output_type": "display_data"
    },
    {
     "name": "stdout",
     "output_type": "stream",
     "text": [
      "\n",
      "2386\n",
      "10월 5페이지 cnt = 49\n",
      "ban       length : 1\n",
      "image     length : 2435\n",
      "title     length : 2435\n",
      "book_list length : 2435\n"
     ]
    },
    {
     "data": {
      "application/vnd.jupyter.widget-view+json": {
       "model_id": "3e155163719e416eaa493c471022575d",
       "version_major": 2,
       "version_minor": 0
      },
      "text/plain": [
       "HBox(children=(HTML(value=''), FloatProgress(value=0.0, max=50.0), HTML(value='')))"
      ]
     },
     "metadata": {},
     "output_type": "display_data"
    },
    {
     "name": "stdout",
     "output_type": "stream",
     "text": [
      "\n",
      "2435\n",
      "\n"
     ]
    }
   ],
   "source": [
    "# 1 ~ 10월\n",
    "# 각 월별 1위 ~ 250위 데이터 추출\n",
    "# 총 2500권의 책 데이터 추출\n",
    "\n",
    "# 책 제목 추출을 위한 단어 리스트\n",
    "file_format = ['(지은이)', '(옮긴이)', '(엮은이)', '(글)', '(그림)', '(편곡)', '(감수)', '(원작)', '(참고서)', '(캐릭터)', '(기획)', '(구성)', '(디자인)', '(해설)', '김은숙, 김수연']\n",
    "\n",
    "# 저자 및 출판사를 담을 list\n",
    "book_list = []\n",
    "\n",
    "# 데이터를 담을 list\n",
    "image =[]\n",
    "title = []\n",
    "isbn_list = []\n",
    "\n",
    "# 19금 책 데이터의 인덱스를 담을 list\n",
    "ban = []\n",
    "\n",
    "# 데이터가 모두 잘 들어왔는지 확인하는 debug 변수\n",
    "cnt = 0\n",
    "\n",
    "\n",
    "# 월별 페이지 이동\n",
    "for month in tqdm_notebook(range(1, 11)) :\n",
    "    \n",
    "    # 한 월별 6개의 페이지 접근 (1위 ~ 250위)\n",
    "    for page in range(1, 6) :\n",
    "        url = category_url + str(month) + rest_url01 + str(page) + rest_url02\n",
    "        driver.get(url)\n",
    "        \n",
    "        # 필요한 데이터 부분 크롤링\n",
    "        list = driver.find_elements_by_css_selector(\"div.ss_book_box > table > tbody > tr\")\n",
    "        \n",
    "        req = requests.get(url)\n",
    "        content = req.content\n",
    "        \n",
    "        # 크롤링 데이터를 html 형식에 맞게 변환\n",
    "        soup = BeautifulSoup(content,'html.parser')\n",
    "        book_name_elems = soup.select('a.bo3 b')\n",
    "        \n",
    "        # 이미지 url, 제목 추출\n",
    "        # 저자, 출판사가 포함되어있는 문자열 추출\n",
    "        for i in range(len(list)) :\n",
    "            split_ls = list[i].text.split('\\n')\n",
    "            \n",
    "            image_ls = list[i].find_elements_by_tag_name('img')\n",
    "            \n",
    "            if '19_150cover.png' in image_ls[0].get_attribute('src') :\n",
    "                ban.append(i)\n",
    "                continue\n",
    "            else :\n",
    "                image.append(image_ls[0].get_attribute('src'))\n",
    "            \n",
    "            title.append(book_name_elems[i].get_text())\n",
    "\n",
    "            for j in split_ls :\n",
    "                if (file_format[0] in j) | (file_format[1] in j) | (file_format[2] in j) | (file_format[3] in j) | (file_format[4] in j) | (file_format[5] in j) | (file_format[6] in j) | (file_format[7] in j) | (file_format[8] in j) | (file_format[9] in j) | (file_format[10] in j) | (file_format[11] in j) | (file_format[12] in j) | (file_format[13] in j) | (file_format[14] in j) :\n",
    "                    book_list.append(j)\n",
    "                    cnt += 1\n",
    "                    break\n",
    "        \n",
    "        print('{}월 {}페이지 cnt = {}'.format(month, page, cnt))\n",
    "        print('ban       length :', len(ban))\n",
    "        print('image     length :', len(image))\n",
    "        print('title     length :', len(title))\n",
    "        print('book_list length :', len(book_list))\n",
    "        cnt = 0\n",
    "        \n",
    "        \n",
    "        # isbn 크롤링을 위해 페이지 이동 구현\n",
    "        # 링크 리스트 생성\n",
    "        link_list = driver.find_elements_by_css_selector('a.bo3')\n",
    "        \n",
    "        for idx in tqdm_notebook(range(len(link_list))) :\n",
    "            checkFlag = False\n",
    "            \n",
    "            if idx in ban :\n",
    "                continue\n",
    "            else :\n",
    "                link_list[idx].click()\n",
    "            \n",
    "            isbn =  driver.find_elements_by_css_selector(\"div.conts_info_list1 > ul > li\")\n",
    "            \n",
    "            for li in isbn :\n",
    "                if 'ISBN' in li.text :\n",
    "                    isbn_list.append(li.text.split(':')[1].strip())\n",
    "                    checkFlag = True\n",
    "                    break\n",
    "            \n",
    "            if checkFlag is not True :\n",
    "                isbn_list.append(np.nan)\n",
    "            \n",
    "            driver.back()\n",
    "            link_list = driver.find_elements_by_css_selector('a.bo3')\n",
    "            \n",
    "            time.sleep(1.2)\n",
    "            link_list = driver.find_elements_by_css_selector('a.bo3')\n",
    "            \n",
    "        print(len(isbn_list))\n",
    "        ban = []"
   ]
  },
  {
   "cell_type": "code",
   "execution_count": 82,
   "metadata": {},
   "outputs": [],
   "source": [
    "# 작가, 출판사 가져오기\n",
    "\n",
    "split_booklist1=[]\n",
    "author1 = []\n",
    "publisher1 =[]\n",
    "\n",
    "for s in range(len(book_list)):\n",
    "    input = book_list[s].split('|')\n",
    "    split_booklist1.append(input)\n",
    "\n",
    "    author1.append(split_booklist1[s][0])\n",
    "    publisher1.append(split_booklist1[s][1])"
   ]
  },
  {
   "cell_type": "code",
   "execution_count": 83,
   "metadata": {},
   "outputs": [],
   "source": [
    "# 데이터 프레임 만들기  \n",
    "import pandas as pd\n",
    "import numpy as np\n",
    "\n",
    "genre_fiction_df = pd.DataFrame({'title' : title,\n",
    "                     'author' : author1,\n",
    "                     'publisher' : publisher1,\n",
    "                         'isbn' : isbn_list,\n",
    "                    'image' : image})"
   ]
  },
  {
   "cell_type": "code",
   "execution_count": 84,
   "metadata": {},
   "outputs": [
    {
     "data": {
      "text/html": [
       "<div>\n",
       "<style scoped>\n",
       "    .dataframe tbody tr th:only-of-type {\n",
       "        vertical-align: middle;\n",
       "    }\n",
       "\n",
       "    .dataframe tbody tr th {\n",
       "        vertical-align: top;\n",
       "    }\n",
       "\n",
       "    .dataframe thead th {\n",
       "        text-align: right;\n",
       "    }\n",
       "</style>\n",
       "<table border=\"1\" class=\"dataframe\">\n",
       "  <thead>\n",
       "    <tr style=\"text-align: right;\">\n",
       "      <th></th>\n",
       "      <th>title</th>\n",
       "      <th>author</th>\n",
       "      <th>publisher</th>\n",
       "      <th>isbn</th>\n",
       "      <th>image</th>\n",
       "    </tr>\n",
       "  </thead>\n",
       "  <tbody>\n",
       "    <tr>\n",
       "      <th>2430</th>\n",
       "      <td>신데렐라를 곱게 키웠습니다 1</td>\n",
       "      <td>키아르네 (지은이)</td>\n",
       "      <td>피오렛</td>\n",
       "      <td>9791128398759</td>\n",
       "      <td>https://image.aladin.co.kr/product/25115/6/cov...</td>\n",
       "    </tr>\n",
       "    <tr>\n",
       "      <th>2431</th>\n",
       "      <td>바람의 그림자 (합본 특별판)</td>\n",
       "      <td>카를로스 루이스 사폰 (지은이), 정동섭 (옮긴이)</td>\n",
       "      <td>문학동네</td>\n",
       "      <td>9788954673907</td>\n",
       "      <td>https://image.aladin.co.kr/product/24992/36/co...</td>\n",
       "    </tr>\n",
       "    <tr>\n",
       "      <th>2432</th>\n",
       "      <td>타오르는 마음</td>\n",
       "      <td>이두온 (지은이)</td>\n",
       "      <td>은행나무</td>\n",
       "      <td>9791190492836</td>\n",
       "      <td>https://image.aladin.co.kr/product/24410/48/co...</td>\n",
       "    </tr>\n",
       "    <tr>\n",
       "      <th>2433</th>\n",
       "      <td>거짓말이 보이는 나는, 솔직한 너에게 사랑을 했다</td>\n",
       "      <td>사쿠라이 미나 (지은이), 주승현 (옮긴이)</td>\n",
       "      <td>제우미디어</td>\n",
       "      <td>9788959528158</td>\n",
       "      <td>https://image.aladin.co.kr/product/20447/34/co...</td>\n",
       "    </tr>\n",
       "    <tr>\n",
       "      <th>2434</th>\n",
       "      <td>벚꽃지는 계절에 그대를 그리워하네</td>\n",
       "      <td>우타노 쇼고 (지은이), 김성기 (옮긴이)</td>\n",
       "      <td>한즈미디어(한스미디어)</td>\n",
       "      <td>9791160073522</td>\n",
       "      <td>https://image.aladin.co.kr/product/18731/44/co...</td>\n",
       "    </tr>\n",
       "  </tbody>\n",
       "</table>\n",
       "</div>"
      ],
      "text/plain": [
       "                            title                         author  \\\n",
       "2430             신데렐라를 곱게 키웠습니다 1                    키아르네 (지은이)    \n",
       "2431             바람의 그림자 (합본 특별판)  카를로스 루이스 사폰 (지은이), 정동섭 (옮긴이)    \n",
       "2432                      타오르는 마음                     이두온 (지은이)    \n",
       "2433  거짓말이 보이는 나는, 솔직한 너에게 사랑을 했다      사쿠라이 미나 (지은이), 주승현 (옮긴이)    \n",
       "2434           벚꽃지는 계절에 그대를 그리워하네       우타노 쇼고 (지은이), 김성기 (옮긴이)    \n",
       "\n",
       "           publisher           isbn  \\\n",
       "2430            피오렛   9791128398759   \n",
       "2431           문학동네   9788954673907   \n",
       "2432           은행나무   9791190492836   \n",
       "2433          제우미디어   9788959528158   \n",
       "2434   한즈미디어(한스미디어)   9791160073522   \n",
       "\n",
       "                                                  image  \n",
       "2430  https://image.aladin.co.kr/product/25115/6/cov...  \n",
       "2431  https://image.aladin.co.kr/product/24992/36/co...  \n",
       "2432  https://image.aladin.co.kr/product/24410/48/co...  \n",
       "2433  https://image.aladin.co.kr/product/20447/34/co...  \n",
       "2434  https://image.aladin.co.kr/product/18731/44/co...  "
      ]
     },
     "execution_count": 84,
     "metadata": {},
     "output_type": "execute_result"
    }
   ],
   "source": [
    "genre_fiction_df.tail()"
   ]
  },
  {
   "cell_type": "code",
   "execution_count": 85,
   "metadata": {},
   "outputs": [],
   "source": [
    "# csv 저장\n",
    "genre_fiction_df.to_csv('C:\\\\Users\\\\kim23\\\\data\\\\final\\\\genre_fiction_df.csv',index=False,encoding ='utf-8-sig')"
   ]
  },
  {
   "cell_type": "code",
   "execution_count": 86,
   "metadata": {},
   "outputs": [
    {
     "data": {
      "text/plain": [
       "954"
      ]
     },
     "execution_count": 86,
     "metadata": {},
     "output_type": "execute_result"
    }
   ],
   "source": [
    "genre_fiction_remove_df = genre_fiction_df.drop_duplicates('isbn',keep='first')\n",
    "len(genre_fiction_remove_df)"
   ]
  },
  {
   "cell_type": "code",
   "execution_count": 87,
   "metadata": {},
   "outputs": [],
   "source": [
    "# csv 저장\n",
    "genre_fiction_remove_df.to_csv('C:\\\\Users\\\\kim23\\\\data\\\\final\\\\genre_fiction_remove_df.csv',index=False,encoding ='utf-8-sig')"
   ]
  },
  {
   "cell_type": "markdown",
   "metadata": {},
   "source": [
    "### 데이터 프레임통합"
   ]
  },
  {
   "cell_type": "code",
   "execution_count": 89,
   "metadata": {},
   "outputs": [],
   "source": [
    "business = pd.read_csv('./data/final/business_remove_df.csv')"
   ]
  },
  {
   "cell_type": "code",
   "execution_count": 90,
   "metadata": {},
   "outputs": [],
   "source": [
    "classic = pd.read_csv('./data/final/classic_df_remove.csv')"
   ]
  },
  {
   "cell_type": "code",
   "execution_count": 91,
   "metadata": {},
   "outputs": [],
   "source": [
    "essay = pd.read_csv('./data/final/essay_remove_df.csv')"
   ]
  },
  {
   "cell_type": "code",
   "execution_count": 92,
   "metadata": {},
   "outputs": [],
   "source": [
    "fiction_poem = pd.read_csv('./data/final/fiction_poem_df_remove.csv')"
   ]
  },
  {
   "cell_type": "code",
   "execution_count": 93,
   "metadata": {},
   "outputs": [],
   "source": [
    "genre_fiction = pd.read_csv('./data/final/genre_fiction_remove_df.csv')"
   ]
  },
  {
   "cell_type": "code",
   "execution_count": 94,
   "metadata": {},
   "outputs": [],
   "source": [
    "science = pd.read_csv('./data/final/science_df_remove.csv')"
   ]
  },
  {
   "cell_type": "code",
   "execution_count": 95,
   "metadata": {},
   "outputs": [],
   "source": [
    "social_science=pd.read_csv('./data/final/social_science_df_remove.csv')"
   ]
  },
  {
   "cell_type": "code",
   "execution_count": 96,
   "metadata": {},
   "outputs": [],
   "source": [
    "self = pd.read_csv('./data/final/self_improvement_df_remove.csv')"
   ]
  },
  {
   "cell_type": "code",
   "execution_count": 97,
   "metadata": {},
   "outputs": [],
   "source": [
    "art = pd.read_csv('./data/final/art_culture_df_remove.csv')"
   ]
  },
  {
   "cell_type": "code",
   "execution_count": 98,
   "metadata": {},
   "outputs": [],
   "source": [
    "humanities = pd.read_csv('./data/final/humanities_remove_df.csv')"
   ]
  },
  {
   "cell_type": "code",
   "execution_count": null,
   "metadata": {},
   "outputs": [],
   "source": [
    "# 수정필요"
   ]
  },
  {
   "cell_type": "code",
   "execution_count": 105,
   "metadata": {},
   "outputs": [],
   "source": [
    "fic_po_fi = pd.read_csv('./data/final/fiction_poem_remove_filtered.csv',encoding='CP949')"
   ]
  },
  {
   "cell_type": "code",
   "execution_count": 106,
   "metadata": {},
   "outputs": [
    {
     "data": {
      "text/html": [
       "<div>\n",
       "<style scoped>\n",
       "    .dataframe tbody tr th:only-of-type {\n",
       "        vertical-align: middle;\n",
       "    }\n",
       "\n",
       "    .dataframe tbody tr th {\n",
       "        vertical-align: top;\n",
       "    }\n",
       "\n",
       "    .dataframe thead th {\n",
       "        text-align: right;\n",
       "    }\n",
       "</style>\n",
       "<table border=\"1\" class=\"dataframe\">\n",
       "  <thead>\n",
       "    <tr style=\"text-align: right;\">\n",
       "      <th></th>\n",
       "      <th>title</th>\n",
       "      <th>author</th>\n",
       "      <th>publisher</th>\n",
       "      <th>image</th>\n",
       "    </tr>\n",
       "  </thead>\n",
       "  <tbody>\n",
       "    <tr>\n",
       "      <th>0</th>\n",
       "      <td>너와 함께라면 인생도 여행이다</td>\n",
       "      <td>나태주 (지은이)</td>\n",
       "      <td>열림원</td>\n",
       "      <td>https://image.aladin.co.kr/product/22160/14/co...</td>\n",
       "    </tr>\n",
       "    <tr>\n",
       "      <th>1</th>\n",
       "      <td>우리가 빛의 속도로 갈 수 없다면</td>\n",
       "      <td>김초엽 (지은이)</td>\n",
       "      <td>허블</td>\n",
       "      <td>https://image.aladin.co.kr/product/19359/16/co...</td>\n",
       "    </tr>\n",
       "    <tr>\n",
       "      <th>2</th>\n",
       "      <td>일의 기쁨과 슬픔</td>\n",
       "      <td>장류진 (지은이)</td>\n",
       "      <td>창비</td>\n",
       "      <td>https://image.aladin.co.kr/product/21292/13/co...</td>\n",
       "    </tr>\n",
       "    <tr>\n",
       "      <th>3</th>\n",
       "      <td>목소리를 드릴게요</td>\n",
       "      <td>정세랑 (지은이)</td>\n",
       "      <td>아작</td>\n",
       "      <td>https://image.aladin.co.kr/product/22246/11/co...</td>\n",
       "    </tr>\n",
       "    <tr>\n",
       "      <th>4</th>\n",
       "      <td>초판본 데미안 (리커버 한정판, 패브릭 양장)</td>\n",
       "      <td>헤르만 헤세 (지은이), 이순학 (옮긴이)</td>\n",
       "      <td>더스토리</td>\n",
       "      <td>https://image.aladin.co.kr/product/12440/88/co...</td>\n",
       "    </tr>\n",
       "  </tbody>\n",
       "</table>\n",
       "</div>"
      ],
      "text/plain": [
       "                       title                   author publisher  \\\n",
       "0           너와 함께라면 인생도 여행이다                나태주 (지은이)       열림원   \n",
       "1         우리가 빛의 속도로 갈 수 없다면                김초엽 (지은이)        허블   \n",
       "2                  일의 기쁨과 슬픔                장류진 (지은이)        창비   \n",
       "3                  목소리를 드릴게요                정세랑 (지은이)        아작   \n",
       "4  초판본 데미안 (리커버 한정판, 패브릭 양장)  헤르만 헤세 (지은이), 이순학 (옮긴이)      더스토리   \n",
       "\n",
       "                                               image  \n",
       "0  https://image.aladin.co.kr/product/22160/14/co...  \n",
       "1  https://image.aladin.co.kr/product/19359/16/co...  \n",
       "2  https://image.aladin.co.kr/product/21292/13/co...  \n",
       "3  https://image.aladin.co.kr/product/22246/11/co...  \n",
       "4  https://image.aladin.co.kr/product/12440/88/co...  "
      ]
     },
     "execution_count": 106,
     "metadata": {},
     "output_type": "execute_result"
    }
   ],
   "source": [
    "fic_po_fi.head()"
   ]
  },
  {
   "cell_type": "code",
   "execution_count": 108,
   "metadata": {},
   "outputs": [],
   "source": [
    "ge_fi = pd.read_csv('./data/final/genre_fiction_remove_filtered.csv',encoding='CP949')"
   ]
  },
  {
   "cell_type": "code",
   "execution_count": 122,
   "metadata": {},
   "outputs": [
    {
     "name": "stdout",
     "output_type": "stream",
     "text": [
      "570\n",
      "954\n",
      "984\n"
     ]
    }
   ],
   "source": [
    "# 소설 필요없는 데이터 제거\n",
    "print(len(ge_fi))\n",
    "print(len(genre_fiction))\n",
    "\n",
    "check_ge= pd.merge(ge_fi,genre_fiction,how='outer',on='title')\n",
    "print(len(check_ge))"
   ]
  },
  {
   "cell_type": "code",
   "execution_count": 119,
   "metadata": {},
   "outputs": [
    {
     "data": {
      "text/html": [
       "<div>\n",
       "<style scoped>\n",
       "    .dataframe tbody tr th:only-of-type {\n",
       "        vertical-align: middle;\n",
       "    }\n",
       "\n",
       "    .dataframe tbody tr th {\n",
       "        vertical-align: top;\n",
       "    }\n",
       "\n",
       "    .dataframe thead th {\n",
       "        text-align: right;\n",
       "    }\n",
       "</style>\n",
       "<table border=\"1\" class=\"dataframe\">\n",
       "  <thead>\n",
       "    <tr style=\"text-align: right;\">\n",
       "      <th></th>\n",
       "      <th>title</th>\n",
       "      <th>author</th>\n",
       "      <th>publisher</th>\n",
       "      <th>genre</th>\n",
       "      <th>isbn</th>\n",
       "      <th>image</th>\n",
       "    </tr>\n",
       "  </thead>\n",
       "  <tbody>\n",
       "    <tr>\n",
       "      <th>0</th>\n",
       "      <td>우리가 빛의 속도로 갈 수 없다면</td>\n",
       "      <td>김초엽 (지은이)</td>\n",
       "      <td>허블</td>\n",
       "      <td>장르소설</td>\n",
       "      <td>9.791190e+12</td>\n",
       "      <td>https://image.aladin.co.kr/product/19359/16/co...</td>\n",
       "    </tr>\n",
       "    <tr>\n",
       "      <th>1</th>\n",
       "      <td>목소리를 드릴게요</td>\n",
       "      <td>정세랑 (지은이)</td>\n",
       "      <td>아작</td>\n",
       "      <td>장르소설</td>\n",
       "      <td>9.791170e+12</td>\n",
       "      <td>https://image.aladin.co.kr/product/22246/11/co...</td>\n",
       "    </tr>\n",
       "    <tr>\n",
       "      <th>2</th>\n",
       "      <td>증언들</td>\n",
       "      <td>마거릿 애트우드 (지은이), 김선형 (옮긴이)</td>\n",
       "      <td>황금가지</td>\n",
       "      <td>장르소설</td>\n",
       "      <td>9.791160e+12</td>\n",
       "      <td>https://image.aladin.co.kr/product/22453/14/co...</td>\n",
       "    </tr>\n",
       "    <tr>\n",
       "      <th>3</th>\n",
       "      <td>루팡의 딸</td>\n",
       "      <td>요코제키 다이 (지은이), 최재호 (옮긴이)</td>\n",
       "      <td>북플라자</td>\n",
       "      <td>장르소설</td>\n",
       "      <td>9.789000e+12</td>\n",
       "      <td>https://image.aladin.co.kr/product/20773/98/co...</td>\n",
       "    </tr>\n",
       "    <tr>\n",
       "      <th>4</th>\n",
       "      <td>책벌레의 하극상 제4부 귀족원의 자칭 도서위원 5</td>\n",
       "      <td>카즈키 미야 (지은이), 시이나 유우 (그림), 김봄 (옮긴이)</td>\n",
       "      <td>길찾기</td>\n",
       "      <td>장르소설</td>\n",
       "      <td>9.791160e+12</td>\n",
       "      <td>https://image.aladin.co.kr/product/22497/25/co...</td>\n",
       "    </tr>\n",
       "  </tbody>\n",
       "</table>\n",
       "</div>"
      ],
      "text/plain": [
       "                         title                                author  \\\n",
       "0           우리가 빛의 속도로 갈 수 없다면                            김초엽 (지은이)    \n",
       "1                    목소리를 드릴게요                            정세랑 (지은이)    \n",
       "2                          증언들            마거릿 애트우드 (지은이), 김선형 (옮긴이)    \n",
       "3                        루팡의 딸             요코제키 다이 (지은이), 최재호 (옮긴이)    \n",
       "4  책벌레의 하극상 제4부 귀족원의 자칭 도서위원 5  카즈키 미야 (지은이), 시이나 유우 (그림), 김봄 (옮긴이)    \n",
       "\n",
       "  publisher genre          isbn  \\\n",
       "0       허블   장르소설  9.791190e+12   \n",
       "1       아작   장르소설  9.791170e+12   \n",
       "2     황금가지   장르소설  9.791160e+12   \n",
       "3     북플라자   장르소설  9.789000e+12   \n",
       "4      길찾기   장르소설  9.791160e+12   \n",
       "\n",
       "                                               image  \n",
       "0  https://image.aladin.co.kr/product/19359/16/co...  \n",
       "1  https://image.aladin.co.kr/product/22246/11/co...  \n",
       "2  https://image.aladin.co.kr/product/22453/14/co...  \n",
       "3  https://image.aladin.co.kr/product/20773/98/co...  \n",
       "4  https://image.aladin.co.kr/product/22497/25/co...  "
      ]
     },
     "execution_count": 119,
     "metadata": {},
     "output_type": "execute_result"
    }
   ],
   "source": [
    "check_ge.head()"
   ]
  },
  {
   "cell_type": "code",
   "execution_count": 114,
   "metadata": {},
   "outputs": [],
   "source": [
    "# csv 저장\n",
    "check_ge.to_csv('C:\\\\Users\\\\kim23\\\\data\\\\final\\\\genre_fiction_final_df.csv',index=False,encoding ='utf-8-sig')"
   ]
  },
  {
   "cell_type": "code",
   "execution_count": 115,
   "metadata": {},
   "outputs": [
    {
     "name": "stdout",
     "output_type": "stream",
     "text": [
      "832\n",
      "1020\n",
      "781\n"
     ]
    }
   ],
   "source": [
    "# 소설 필요없는 데이터 제거\n",
    "print(len(fic_po_fi))\n",
    "print(len(fiction_poem))\n",
    "\n",
    "check_fi_po= pd.merge(fiction_poem,fic_po_fi,how='inner')\n",
    "print(len(check_fi_po))"
   ]
  },
  {
   "cell_type": "code",
   "execution_count": 130,
   "metadata": {},
   "outputs": [],
   "source": [
    "# 데이터프레임 합치기\n",
    "book_df = pd.concat([business,classic,essay,science,social_science,self,art,humanities], ignore_index = True)"
   ]
  },
  {
   "cell_type": "code",
   "execution_count": 132,
   "metadata": {},
   "outputs": [
    {
     "data": {
      "text/plain": [
       "7549"
      ]
     },
     "execution_count": 132,
     "metadata": {},
     "output_type": "execute_result"
    }
   ],
   "source": [
    "len(book_df)"
   ]
  },
  {
   "cell_type": "code",
   "execution_count": 134,
   "metadata": {},
   "outputs": [
    {
     "data": {
      "text/plain": [
       "5470"
      ]
     },
     "execution_count": 134,
     "metadata": {},
     "output_type": "execute_result"
    }
   ],
   "source": [
    "book_df_a = book_df.drop_duplicates('title',keep='first')\n",
    "len(book_df_a)"
   ]
  },
  {
   "cell_type": "code",
   "execution_count": 135,
   "metadata": {},
   "outputs": [
    {
     "data": {
      "text/plain": [
       "69"
      ]
     },
     "execution_count": 135,
     "metadata": {},
     "output_type": "execute_result"
    }
   ],
   "source": [
    "bbb = book_df.drop_duplicates('isbn',keep='first')\n",
    "len(bbb)"
   ]
  },
  {
   "cell_type": "code",
   "execution_count": 136,
   "metadata": {},
   "outputs": [
    {
     "data": {
      "text/html": [
       "<div>\n",
       "<style scoped>\n",
       "    .dataframe tbody tr th:only-of-type {\n",
       "        vertical-align: middle;\n",
       "    }\n",
       "\n",
       "    .dataframe tbody tr th {\n",
       "        vertical-align: top;\n",
       "    }\n",
       "\n",
       "    .dataframe thead th {\n",
       "        text-align: right;\n",
       "    }\n",
       "</style>\n",
       "<table border=\"1\" class=\"dataframe\">\n",
       "  <thead>\n",
       "    <tr style=\"text-align: right;\">\n",
       "      <th></th>\n",
       "      <th>title</th>\n",
       "      <th>author</th>\n",
       "      <th>publisher</th>\n",
       "      <th>genre</th>\n",
       "      <th>isbn</th>\n",
       "      <th>image</th>\n",
       "    </tr>\n",
       "  </thead>\n",
       "  <tbody>\n",
       "    <tr>\n",
       "      <th>0</th>\n",
       "      <td>트렌드 코리아 2020</td>\n",
       "      <td>김난도, 전미영, 최지혜, 이향은, 이준영, 김서영, 이수진, 서유현, 권정윤 (지...</td>\n",
       "      <td>미래의창</td>\n",
       "      <td>경제경영</td>\n",
       "      <td>9.78896e+12</td>\n",
       "      <td>https://image.aladin.co.kr/product/21094/63/co...</td>\n",
       "    </tr>\n",
       "    <tr>\n",
       "      <th>1</th>\n",
       "      <td>린치핀</td>\n",
       "      <td>세스 고딘 (지은이), 윤영삼 (옮긴이)</td>\n",
       "      <td>라이스메이커</td>\n",
       "      <td>경제경영</td>\n",
       "      <td>9.79119e+12</td>\n",
       "      <td>https://image.aladin.co.kr/product/22213/37/co...</td>\n",
       "    </tr>\n",
       "    <tr>\n",
       "      <th>2</th>\n",
       "      <td>부자 되는 법을 가르쳐 드립니다</td>\n",
       "      <td>라밋 세티 (지은이), 김태훈 (옮긴이)</td>\n",
       "      <td>안드로메디안</td>\n",
       "      <td>경제경영</td>\n",
       "      <td>9.79114e+12</td>\n",
       "      <td>https://image.aladin.co.kr/product/22331/62/co...</td>\n",
       "    </tr>\n",
       "    <tr>\n",
       "      <th>3</th>\n",
       "      <td>부의 추월차선</td>\n",
       "      <td>엠제이 드마코 (지은이), 신소영 (옮긴이)</td>\n",
       "      <td>토트</td>\n",
       "      <td>경제경영</td>\n",
       "      <td>9.78899e+12</td>\n",
       "      <td>https://image.aladin.co.kr/product/3036/43/cov...</td>\n",
       "    </tr>\n",
       "    <tr>\n",
       "      <th>4</th>\n",
       "      <td>리더의 용기</td>\n",
       "      <td>브레네 브라운 (지은이), 강주헌 (옮긴이)</td>\n",
       "      <td>갤리온</td>\n",
       "      <td>경제경영</td>\n",
       "      <td>9.7889e+12</td>\n",
       "      <td>https://image.aladin.co.kr/product/22018/96/co...</td>\n",
       "    </tr>\n",
       "  </tbody>\n",
       "</table>\n",
       "</div>"
      ],
      "text/plain": [
       "               title                                             author  \\\n",
       "0       트렌드 코리아 2020  김난도, 전미영, 최지혜, 이향은, 이준영, 김서영, 이수진, 서유현, 권정윤 (지...   \n",
       "1                린치핀                            세스 고딘 (지은이), 윤영삼 (옮긴이)    \n",
       "2  부자 되는 법을 가르쳐 드립니다                            라밋 세티 (지은이), 김태훈 (옮긴이)    \n",
       "3            부의 추월차선                          엠제이 드마코 (지은이), 신소영 (옮긴이)    \n",
       "4             리더의 용기                          브레네 브라운 (지은이), 강주헌 (옮긴이)    \n",
       "\n",
       "  publisher genre         isbn  \\\n",
       "0     미래의창   경제경영  9.78896e+12   \n",
       "1   라이스메이커   경제경영  9.79119e+12   \n",
       "2   안드로메디안   경제경영  9.79114e+12   \n",
       "3       토트   경제경영  9.78899e+12   \n",
       "4      갤리온   경제경영   9.7889e+12   \n",
       "\n",
       "                                               image  \n",
       "0  https://image.aladin.co.kr/product/21094/63/co...  \n",
       "1  https://image.aladin.co.kr/product/22213/37/co...  \n",
       "2  https://image.aladin.co.kr/product/22331/62/co...  \n",
       "3  https://image.aladin.co.kr/product/3036/43/cov...  \n",
       "4  https://image.aladin.co.kr/product/22018/96/co...  "
      ]
     },
     "execution_count": 136,
     "metadata": {},
     "output_type": "execute_result"
    }
   ],
   "source": [
    "book_df.head()"
   ]
  }
 ],
 "metadata": {
  "kernelspec": {
   "display_name": "Python 3",
   "language": "python",
   "name": "python3"
  },
  "language_info": {
   "codemirror_mode": {
    "name": "ipython",
    "version": 3
   },
   "file_extension": ".py",
   "mimetype": "text/x-python",
   "name": "python",
   "nbconvert_exporter": "python",
   "pygments_lexer": "ipython3",
   "version": "3.6.12"
  }
 },
 "nbformat": 4,
 "nbformat_minor": 4
}
