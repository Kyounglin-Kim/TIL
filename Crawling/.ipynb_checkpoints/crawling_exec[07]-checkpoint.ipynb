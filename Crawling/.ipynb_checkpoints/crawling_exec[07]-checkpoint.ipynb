{
 "cells": [
  {
   "cell_type": "markdown",
   "metadata": {},
   "source": [
    "# Selenium 시작하기"
   ]
  },
  {
   "cell_type": "code",
   "execution_count": 2,
   "metadata": {},
   "outputs": [],
   "source": [
    "from selenium import webdriver"
   ]
  },
  {
   "cell_type": "code",
   "execution_count": 5,
   "metadata": {},
   "outputs": [
    {
     "data": {
      "text/plain": [
       "<selenium.webdriver.chrome.webdriver.WebDriver (session=\"ef9c80e177c87ab8ce5cc0271f715fbe\")>"
      ]
     },
     "execution_count": 5,
     "metadata": {},
     "output_type": "execute_result"
    }
   ],
   "source": [
    "path = './driver/chromedriver.exe'\n",
    "driver = webdriver.Chrome(path)\n",
    "driver"
   ]
  },
  {
   "cell_type": "markdown",
   "metadata": {},
   "source": [
    "## Json형식의 파일 크롤링"
   ]
  },
  {
   "cell_type": "code",
   "execution_count": 4,
   "metadata": {},
   "outputs": [],
   "source": [
    "import json, re\n",
    "from urllib.request import urlopen\n",
    "from html import unescape"
   ]
  },
  {
   "cell_type": "code",
   "execution_count": 5,
   "metadata": {},
   "outputs": [],
   "source": [
    "# 웹페이지 불러오기\n",
    "request = urlopen('http://www.hanbit.co.kr/store/books/full_book_list.html')\n",
    "encoding = request.info().get_content_charset('utf-8')\n",
    "html = request.read().decode(encoding)\n",
    "# html"
   ]
  },
  {
   "cell_type": "markdown",
   "metadata": {},
   "source": [
    "- json.dumps() : 데이터를 json 형태로 인코딩(문자열)\n",
    "- json.dump() : 데이터를 json형태로 인코딩하여 파일에 출력(파일)\n",
    "- ensure_ascii = False : \\xxxx형태로 이스케이프 하지 않고 출력\n",
    "- [{key : value}, {key:value}]indent=size 들여쓰기"
   ]
  },
  {
   "cell_type": "code",
   "execution_count": null,
   "metadata": {},
   "outputs": [],
   "source": [
    "# - 정규표현식 \n",
    "# - . 모든 문자\n",
    "# - * 0번이상반복\n",
    "# - ? 있어도 되고 없어도 된다\n",
    "# - <a href=\"(.*?)\"> 모든문자가 0번이상 반복하고 값이 있어도 되고 없어도 된다. \n",
    "# - <td class = 'left'><a.*?</td> \n",
    "#   a태그로 시작해서 td태그로 끝나는 모든문자 "
   ]
  },
  {
   "cell_type": "markdown",
   "metadata": {},
   "source": [
    "## json파일 생성"
   ]
  },
  {
   "cell_type": "code",
   "execution_count": 26,
   "metadata": {},
   "outputs": [],
   "source": [
    "# 한빛 출판네트워크 \n",
    "# r'<td class=\"left\"><a.*?</td>' r을 해야 로우 데이터를 가져온다는 뜻이다.\n",
    "#<> vs () => 태그인지 값인지에 대한 차이..?\n",
    "\n",
    "with open('./data/booklist_json.json',mode='w',encoding='utf-8')as file:\n",
    "    data=[]\n",
    "    for partial_html in re.findall(r'<td class=\"left\"><a.*?</td>',html): # re.findall은 정규표현식을 쓴다고 생각하면된다.\n",
    "        #print(partial_html)\n",
    "        search=re.search(r'<a href=\"(.*?)\">',partial_html).group(1) # group()은 매칭되는 태그만 가져온다.-><a>가져옴 (1)은 첫번째 요소 속성들을 가져오게 한다.\n",
    "        url = 'https://www.hanbit.co.kr/'+search\n",
    "        title = re.sub(r'<.*?>','',partial_html) # r'<.*?>을 '' 으로 대체한다는 뜻 \n",
    "        data.append({'BookName' : title, 'Link' : url })\n",
    "        #print(json.dumps(data,ensure_ascii=False,indent=2))\n",
    "    json.dump(data,file,ensure_ascii=False,indent=2 )\n",
    "        \n",
    "\n",
    "    "
   ]
  },
  {
   "cell_type": "code",
   "execution_count": 25,
   "metadata": {},
   "outputs": [],
   "source": [
    "import json"
   ]
  },
  {
   "cell_type": "code",
   "execution_count": 28,
   "metadata": {},
   "outputs": [],
   "source": [
    "with open('./data/booklist_json.json',mode='r',encoding='utf-8') as file :\n",
    "    json_data = json.load(file)   "
   ]
  },
  {
   "cell_type": "code",
   "execution_count": 6,
   "metadata": {},
   "outputs": [],
   "source": [
    "# print(json.dumps(json_data,ensure_ascii=False,indent='\\t'))"
   ]
  },
  {
   "cell_type": "code",
   "execution_count": 37,
   "metadata": {},
   "outputs": [
    {
     "data": {
      "text/plain": [
       "'나는 꼭 필요한 것만 남기기로 했다'"
      ]
     },
     "execution_count": 37,
     "metadata": {},
     "output_type": "execute_result"
    }
   ],
   "source": [
    "json_data[0]['BookName']"
   ]
  },
  {
   "cell_type": "code",
   "execution_count": 43,
   "metadata": {},
   "outputs": [
    {
     "name": "stdout",
     "output_type": "stream",
     "text": [
      "\"나는 꼭 필요한 것만 남기기로 했다\"\n"
     ]
    }
   ],
   "source": [
    "print(json.dumps(json_data[0]['BookName'],ensure_ascii=False,indent='\\t'))"
   ]
  },
  {
   "cell_type": "code",
   "execution_count": 45,
   "metadata": {},
   "outputs": [
    {
     "name": "stdout",
     "output_type": "stream",
     "text": [
      "나는 꼭 필요한 것만 남기기로 했다\n",
      "파이썬과 대스크를 활용한 고성능 데이터 분석\n",
      "웹어셈블리 인 액션\n",
      "쉽게 배워 바로 써먹는 디자인 패턴\n",
      "부의 원칙\n",
      "만들면서 배우는 픽셀 아트\n",
      "초보자를 위한 언리얼 엔진 4 입문\n",
      "분산원장 기술\n",
      "회사에서 바로 통하는 3ds Max + V-Ray\n",
      "재미있고 빠른 한글 쓰기 3권 : 교과서 쉬운 낱말\n",
      "나도 초록 식물 잘 키우면 소원이 없겠네\n",
      "IT CookBook, 액세스 2019로 배우는 데이터베이스 기초와 실습\n",
      "GAN 인 액션\n",
      "재미있고 빠른 어휘력 동화 – 아지랑이가 뭐야?\n",
      "재미있고 빠른 어휘력 동화 – 많다의 반대가 뭐야?\n",
      "만화로 보는 바빌론 부자들의 돈 버는 지혜\n",
      "포르잔 C++ 바이블\n",
      "청소년 인문학 수업 - 1권\n",
      "청소년 인문학 수업 - 2권\n",
      "처음 시작하는 파이썬&#40;2판&#41;\n",
      "퀀트 전략을 위한 인공지능 트레이딩\n",
      "처음 시작하는 딥러닝\n",
      "회사에서 바로 통하는 실무 엑셀 매크로&VBA\n",
      "게임 오버\n",
      "초소형 머신러닝 TinyML\n",
      "오늘도 뇌는 거짓말을 한다\n",
      "허팝만 따라 해봐! 유튜브 정석\n",
      "이것이 취업을 위한 코딩 테스트다 with 파이썬\n",
      "딥러닝을 위한 선형대수학\n",
      "유닉스의 탄생\n",
      "회사에서 바로 통하는  오토캐드 AutoCAD 2021\n",
      "IT CookBook, 오라클로 배우는 데이터베이스 개론과 실습&#40;2판&#41;\n",
      "별, 걔 다 그립네\n",
      "대학을 버려야 대학이 산다\n",
      "IT CookBook, 따라 하면서 배우는 사물인터넷\n",
      "재미있고 빠른 첫 한글 준비 선 긋기1권 직선∙곡선∙자음∙모음\n",
      "재미있고 빠른 첫 한글 4권 쌍자음∙받침\n",
      "핸즈온 비지도 학습\n",
      "재미있고 빠른 첫 한글 쓰기1권 모음∙자음∙쉬운 낱말\n",
      "우리 아이 처음 놀이\n",
      "미라클 모닝 기적의 공식&#40;개정판&#41;\n",
      "창의적 공학설계&#40;3판&#41;\n",
      "R로 하는 다변량 데이터 분석 : 이론부터 실무 활용까지\n",
      "공학 핵심수학&#40;2판&#41;  : 기초부터 심화까지 핵심만 쏙쏙\n",
      "응용이 보이는 선형대수학 : 파이썬과 함께하는 선형대수학 이론과 응용\n",
      "파이썬 증권 데이터 분석\n",
      "나의 첫 파이썬&#40;2판&#41;\n",
      "나는 왜 네 말이 힘들까\n",
      "혼자 공부하는 첫 프로그래밍 with 파이썬\n",
      "퇴근길 인문학 수업 : 뉴노멀\n"
     ]
    }
   ],
   "source": [
    "for i in range(len(json_data)):\n",
    "    a= json_data[i]['BookName']\n",
    "    print(a)"
   ]
  }
 ],
 "metadata": {
  "kernelspec": {
   "display_name": "Python 3",
   "language": "python",
   "name": "python3"
  },
  "language_info": {
   "codemirror_mode": {
    "name": "ipython",
    "version": 3
   },
   "file_extension": ".py",
   "mimetype": "text/x-python",
   "name": "python",
   "nbconvert_exporter": "python",
   "pygments_lexer": "ipython3",
   "version": "3.6.5"
  }
 },
 "nbformat": 4,
 "nbformat_minor": 2
}
