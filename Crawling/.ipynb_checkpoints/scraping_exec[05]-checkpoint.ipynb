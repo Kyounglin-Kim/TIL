{
 "cells": [
  {
   "cell_type": "markdown",
   "metadata": {},
   "source": [
    "## 웹 스크렙핑 실습 및 csv 파일 작성과 이미지 스크랩핑"
   ]
  },
  {
   "cell_type": "code",
   "execution_count": null,
   "metadata": {},
   "outputs": [],
   "source": [
    "from urllib.request import urlopen\n",
    "from bs4 import BeautifulSoup\n",
    "from urllib.error   import HTTPError\n",
    "from urllib.error   import URLError"
   ]
  },
  {
   "cell_type": "markdown",
   "metadata": {},
   "source": [
    "Anaconda Prompt 관리자 권한으로 실행\n",
    "\n",
    "conda install konlpy\n",
    "또는\n",
    "pip install konlpy\n",
    "\n",
    "python\n",
    "import nltk\n",
    "nltk.download()\n",
    "-> All packages에서 stopwords, punkt 다운로드\n",
    "\n",
    "conda install wordcloud\n",
    "또는\n",
    "pip install wordcloud\n",
    "\n",
    "conda install gensim\n",
    "\n",
    "conda install -c conda-forge jpype1"
   ]
  },
  {
   "cell_type": "code",
   "execution_count": 2,
   "metadata": {},
   "outputs": [],
   "source": [
    "# sub_url 옆에 date 날짜 바꿔도 값이 나온다 \n",
    "url = 'https://www.imdb.com/title/tt4154756/reviews?ref_=tt_ql_3'\n",
    "\n",
    "# 오픈을 할때 예외처리를 통해 만약 오류가 생기면 원인을 알수 있게 함수 있음\n",
    "# url을 지정해도 되고 urlopen안에 url을 입력해도 된다\n",
    "try :\n",
    "    html = urlopen(url)  \n",
    "except HTTPError as he :\n",
    "    print('http error')\n",
    "except URLError as ue :\n",
    "    print('url error')\n",
    "else :\n",
    "    soup = BeautifulSoup(html.read(), 'html.parser',from_encoding='utf-8')"
   ]
  },
  {
   "cell_type": "markdown",
   "metadata": {},
   "source": [
    "- 점수(별점), 리뷰제목, 작성자 닉네임, 작성날짜, 리뷰내용"
   ]
  },
  {
   "cell_type": "code",
   "execution_count": 3,
   "metadata": {},
   "outputs": [],
   "source": [
    "review_list=soup.find_all('div',{'class' : 'imdb-user-review'})"
   ]
  },
  {
   "cell_type": "code",
   "execution_count": null,
   "metadata": {},
   "outputs": [],
   "source": [
    "# review_list"
   ]
  },
  {
   "cell_type": "markdown",
   "metadata": {},
   "source": [
    "### 자연어 처리 기초\n",
    "- 꼬꼬마\n",
    "- 한나눔\n",
    "- 트위터 "
   ]
  },
  {
   "cell_type": "code",
   "execution_count": 17,
   "metadata": {},
   "outputs": [],
   "source": [
    "from konlpy.tag import Kkma"
   ]
  },
  {
   "cell_type": "code",
   "execution_count": null,
   "metadata": {},
   "outputs": [],
   "source": [
    "kkoma=Kkma()"
   ]
  },
  {
   "cell_type": "code",
   "execution_count": null,
   "metadata": {},
   "outputs": [],
   "source": [
    "kkoma.nouns('한국어 문장 분석을 시작합니다. 재미있어요~~')"
   ]
  },
  {
   "cell_type": "code",
   "execution_count": null,
   "metadata": {},
   "outputs": [],
   "source": [
    "kkoma.sentences('한국어 문장 분석을 시작합니다 재미있어요~~')"
   ]
  },
  {
   "cell_type": "code",
   "execution_count": null,
   "metadata": {},
   "outputs": [],
   "source": [
    "# 형태소 분석\n",
    "kkoma.pos('한국어 문장 분석을 시작합니다. 재미있어요~~')"
   ]
  },
  {
   "cell_type": "markdown",
   "metadata": {},
   "source": [
    "* 워드클라우드"
   ]
  },
  {
   "cell_type": "code",
   "execution_count": 4,
   "metadata": {},
   "outputs": [],
   "source": [
    "from wordcloud import WordCloud, STOPWORDS"
   ]
  },
  {
   "cell_type": "code",
   "execution_count": 5,
   "metadata": {},
   "outputs": [],
   "source": [
    "import numpy as np\n",
    "from PIL import Image"
   ]
  },
  {
   "cell_type": "code",
   "execution_count": null,
   "metadata": {},
   "outputs": [],
   "source": [
    "text = open('./data/07. alice.txt').read()"
   ]
  },
  {
   "cell_type": "code",
   "execution_count": null,
   "metadata": {},
   "outputs": [],
   "source": [
    "#text"
   ]
  },
  {
   "cell_type": "code",
   "execution_count": null,
   "metadata": {},
   "outputs": [],
   "source": [
    "alice_mask = np.array(Image.open('./images/07. alice_mask.png'))"
   ]
  },
  {
   "cell_type": "code",
   "execution_count": null,
   "metadata": {},
   "outputs": [],
   "source": [
    "alice_mask"
   ]
  },
  {
   "cell_type": "code",
   "execution_count": 6,
   "metadata": {},
   "outputs": [],
   "source": [
    "import matplotlib.pyplot as plt\n",
    "%matplotlib inline\n",
    "\n",
    "# 한글 폰트 문제 해결\n",
    "import platform\n",
    "\n",
    "from matplotlib import font_manager, rc\n",
    "# plt.rcParams['axes.unicode_minus'] = False\n",
    "\n",
    "if platform.system() == 'Darwin':\n",
    "    rc('font', family='AppleGothic')\n",
    "elif platform.system() == 'Windows':\n",
    "    path = \"c:/Windows/Fonts/malgun.ttf\"\n",
    "    font_name = font_manager.FontProperties(fname=path).get_name()\n",
    "    rc('font', family=font_name)\n",
    "else:\n",
    "    print('Unknown system... sorry~~~~') \n"
   ]
  },
  {
   "cell_type": "code",
   "execution_count": null,
   "metadata": {},
   "outputs": [],
   "source": [
    "# 앨리스 그림 모양\n",
    "plt.figure(figsize=(8,8))\n",
    "plt.imshow(alice_mask,cmap=plt.cm.gray)\n",
    "plt.show()"
   ]
  },
  {
   "cell_type": "code",
   "execution_count": null,
   "metadata": {},
   "outputs": [],
   "source": [
    "sw =set(STOPWORDS) # 불용어 사전..? 추가하기  불용어 -> 인터넷 검색시 검색용어로 사용하지 않는 단어\n",
    "sw.add('sald')\n",
    "wc=WordCloud(background_color='white',max_words=2000, mask=alice_mask, stopwords = sw )\n",
    "# wc=WordCloud(background_color='white',max_words=2000, mask=alice_mask) # 불용어 제거"
   ]
  },
  {
   "cell_type": "code",
   "execution_count": null,
   "metadata": {},
   "outputs": [],
   "source": [
    "wc = wc.generate(text)\n",
    "# wc.words_"
   ]
  },
  {
   "cell_type": "code",
   "execution_count": null,
   "metadata": {},
   "outputs": [],
   "source": [
    "# 앨리스 그림 모양\n",
    "plt.figure(figsize=(10,10))\n",
    "plt.imshow(wc,cmap=plt.cm.gray)\n",
    "plt.axis('off') # x축 y축 \n",
    "plt.show()"
   ]
  },
  {
   "cell_type": "markdown",
   "metadata": {},
   "source": [
    "- 점수(별점), 리뷰제목, 작성자 닉네임, 작성날짜, 리뷰내용\n",
    "- 감정분석(VADER) - NLTK\n",
    "- good + 0.1 , awful -0.1, perfect +0.2\n",
    "- 문장에서 저런 단어가 추출되면 나올 때마다 점수를 더하고 빼서 양수면 긍정, 음수면 부정 평가해보기"
   ]
  },
  {
   "cell_type": "code",
   "execution_count": 7,
   "metadata": {},
   "outputs": [
    {
     "name": "stderr",
     "output_type": "stream",
     "text": [
      "C:\\ProgramData\\Anaconda3\\lib\\site-packages\\nltk\\twitter\\__init__.py:20: UserWarning: The twython library has not been installed. Some functionality from the twitter package will not be available.\n",
      "  warnings.warn(\"The twython library has not been installed. \"\n"
     ]
    },
    {
     "name": "stdout",
     "output_type": "stream",
     "text": [
      "[nltk_data] Downloading package vader_lexicon to\n",
      "[nltk_data]     C:\\Users\\kim23\\AppData\\Roaming\\nltk_data...\n",
      "[nltk_data]   Package vader_lexicon is already up-to-date!\n"
     ]
    }
   ],
   "source": [
    "from nltk import tokenize\n",
    "from nltk.sentiment.vader import SentimentIntensityAnalyzer\n",
    "import nltk\n",
    "\n",
    "nltk.download('vader_lexicon')\n",
    "sid = SentimentIntensityAnalyzer()"
   ]
  },
  {
   "cell_type": "code",
   "execution_count": null,
   "metadata": {},
   "outputs": [],
   "source": [
    "data = []\n",
    "sum_review = ''\n",
    "# 워드클라우드 띄워줄 때  모든 리뷰 텍스트를 한문자열\n",
    "for review in review_list :\n",
    "    score = review.find('span').get_text().replace('\\n', '')\n",
    " \n",
    "    title = review.find('a').get_text().replace('\\n', '')\n",
    "  \n",
    "    writer = review.find('span', 'display-name-link').get_text()\n",
    "   \n",
    "    date = review.find('span', 'review-date').get_text()\n",
    "   \n",
    "    content = review.find('div', 'show-more__control').get_text()\n",
    "  \n",
    "    \n",
    "    sum_review = sum_review + content\n",
    "    lines_list = tokenize.sent_tokenize(content)\n",
    "    sum = 0\n",
    "    \n",
    "    # polarity_scores() : 문장을 단어별로 분석해서 긍정, 부정, 중립에 대한 점수를 계산하고 종합 점수를 반환\n",
    "    for sent in lines_list :\n",
    "        ss = sid.polarity_scores(sent)\n",
    "        sum = sum + ss['compound']\n",
    "    \n",
    "    sum1 = str(sum / len(lines_list))\n",
    "    data.append([score, title, writer, date, content, sum1])\n"
   ]
  },
  {
   "cell_type": "code",
   "execution_count": null,
   "metadata": {},
   "outputs": [],
   "source": [
    "import pandas as pd\n",
    "score_list.head()"
   ]
  },
  {
   "cell_type": "code",
   "execution_count": null,
   "metadata": {},
   "outputs": [],
   "source": [
    "# csv 파일 만들기\n",
    "\n",
    "with open('./data/service_imdb_wordcloud.csv','w',encoding='utf-8') as file:\n",
    "    file.write('score, title, writer, date, content,sum \\n')\n",
    "    \n",
    "    # data를 반복해서 저장\n",
    "    for idx in data:\n",
    "        file.write(\"{},{},{},{},{}\\n\".format(idx[0],idx[1],idx[2],idx[3],idx[4],idx[5]))"
   ]
  },
  {
   "cell_type": "code",
   "execution_count": null,
   "metadata": {},
   "outputs": [],
   "source": [
    "import panda"
   ]
  },
  {
   "cell_type": "code",
   "execution_count": null,
   "metadata": {},
   "outputs": [],
   "source": [
    "# pandas 로 만들기 - ㅔㄷ이터 프레임 만들기\n",
    "score_list=[]\n",
    "title_list=[]\n",
    "writer_list=[]\n",
    "date_list=[]\n",
    "content_list=[]\n",
    "sum1_list=[]\n",
    "\n",
    "sum_review = ''\n",
    "\n",
    "for review in review_list :\n",
    "    score = review.find('span').get_text().replace('\\n', '')\n",
    "    score_list.append(score)\n",
    " \n",
    "    title = review.find('a').get_text().replace('\\n', '')\n",
    "    title_list.append(title)\n",
    "  \n",
    "    writer = review.find('span', 'display-name-link').get_text()\n",
    "    writer_list.append(writer)\n",
    "   \n",
    "    date = review.find('span', 'review-date').get_text()\n",
    "    date_list.append(date)\n",
    "   \n",
    "    content = review.find('div', 'show-more__control').get_text()\n",
    "    content_list.append(content)\n",
    "  \n",
    "    \n",
    "    sum_review = sum_review + content\n",
    "    lines_list = tokenize.sent_tokenize(content)\n",
    "    sum = 0\n",
    "\n",
    "    for sent in lines_list :\n",
    "        ss = sid.polarity_scores(sent)\n",
    "        sum = sum + ss['compound']\n",
    "    \n",
    "    sum1 = str(sum / len(lines_list))\n",
    "    sum1_list.append(sum1)\n"
   ]
  },
  {
   "cell_type": "code",
   "execution_count": 15,
   "metadata": {},
   "outputs": [
    {
     "data": {
      "text/html": [
       "<div>\n",
       "<style scoped>\n",
       "    .dataframe tbody tr th:only-of-type {\n",
       "        vertical-align: middle;\n",
       "    }\n",
       "\n",
       "    .dataframe tbody tr th {\n",
       "        vertical-align: top;\n",
       "    }\n",
       "\n",
       "    .dataframe thead th {\n",
       "        text-align: right;\n",
       "    }\n",
       "</style>\n",
       "<table border=\"1\" class=\"dataframe\">\n",
       "  <thead>\n",
       "    <tr style=\"text-align: right;\">\n",
       "      <th></th>\n",
       "      <th>score</th>\n",
       "      <th>title</th>\n",
       "      <th>writer</th>\n",
       "      <th>date</th>\n",
       "      <th>content</th>\n",
       "      <th>sum</th>\n",
       "    </tr>\n",
       "  </thead>\n",
       "  <tbody>\n",
       "    <tr>\n",
       "      <th>0</th>\n",
       "      <td>9/10</td>\n",
       "      <td>Great</td>\n",
       "      <td>MR_Heraclius</td>\n",
       "      <td>23 February 2020</td>\n",
       "      <td>This movie portrays a villain that by far has ...</td>\n",
       "      <td>-0.06573333333333331</td>\n",
       "    </tr>\n",
       "    <tr>\n",
       "      <th>1</th>\n",
       "      <td>10/10</td>\n",
       "      <td>Way better than endgame</td>\n",
       "      <td>michaelhowell12</td>\n",
       "      <td>2 September 2019</td>\n",
       "      <td>This film is way better than endgame!\\nThe act...</td>\n",
       "      <td>0.5872857142857143</td>\n",
       "    </tr>\n",
       "    <tr>\n",
       "      <th>2</th>\n",
       "      <td>10/10</td>\n",
       "      <td>IT'S NOT A MASTERPIECE..</td>\n",
       "      <td>ProfGenki</td>\n",
       "      <td>31 August 2020</td>\n",
       "      <td>..but still 10/10. Or 9.5 if its possible.The ...</td>\n",
       "      <td>0.3859333333333333</td>\n",
       "    </tr>\n",
       "    <tr>\n",
       "      <th>3</th>\n",
       "      <td>10/10</td>\n",
       "      <td>Somehow they pulled this off</td>\n",
       "      <td>Jesper2801</td>\n",
       "      <td>26 April 2018</td>\n",
       "      <td>I consider myself a big comic book marvel fan....</td>\n",
       "      <td>0.22276249999999997</td>\n",
       "    </tr>\n",
       "    <tr>\n",
       "      <th>4</th>\n",
       "      <td>10/10</td>\n",
       "      <td>Unlike anything ever done in the history of c...</td>\n",
       "      <td>kjames-26542</td>\n",
       "      <td>14 August 2018</td>\n",
       "      <td>This movie is the beginning of the culmination...</td>\n",
       "      <td>-0.012816666666666652</td>\n",
       "    </tr>\n",
       "    <tr>\n",
       "      <th>5</th>\n",
       "      <td>10/10</td>\n",
       "      <td>This movie will blow your mind and break your...</td>\n",
       "      <td>shawneofthedead</td>\n",
       "      <td>25 April 2018</td>\n",
       "      <td>Over the past decade, Marvel has earned itself...</td>\n",
       "      <td>0.12366538461538462</td>\n",
       "    </tr>\n",
       "    <tr>\n",
       "      <th>6</th>\n",
       "      <td>10/10</td>\n",
       "      <td>Best movie Avengers infinity war 2018</td>\n",
       "      <td>udit-mehra-631</td>\n",
       "      <td>12 July 2020</td>\n",
       "      <td>Best movie Avengers infinity war 2018 I was am...</td>\n",
       "      <td>0.29388</td>\n",
       "    </tr>\n",
       "    <tr>\n",
       "      <th>7</th>\n",
       "      <td>10/10</td>\n",
       "      <td>Worth the wait, believe the hype</td>\n",
       "      <td>ubtgkse</td>\n",
       "      <td>29 July 2020</td>\n",
       "      <td>Avengers infinity war is a masterpiece in ever...</td>\n",
       "      <td>0.49345</td>\n",
       "    </tr>\n",
       "    <tr>\n",
       "      <th>8</th>\n",
       "      <td>10/10</td>\n",
       "      <td>A Summer Film That IS Even Better Than The Hype</td>\n",
       "      <td>garethvk</td>\n",
       "      <td>24 April 2018</td>\n",
       "      <td>Summer movies often hype themselves as spectac...</td>\n",
       "      <td>0.2901666666666667</td>\n",
       "    </tr>\n",
       "    <tr>\n",
       "      <th>9</th>\n",
       "      <td>9/10</td>\n",
       "      <td>Excellent Film</td>\n",
       "      <td>kevintgeisler</td>\n",
       "      <td>19 June 2018</td>\n",
       "      <td>I was amazed to see so many negative reviews; ...</td>\n",
       "      <td>0.27908</td>\n",
       "    </tr>\n",
       "    <tr>\n",
       "      <th>10</th>\n",
       "      <td>9/10</td>\n",
       "      <td>Breathtaking</td>\n",
       "      <td>jordanthomas_2009-346-914758</td>\n",
       "      <td>12 June 2018</td>\n",
       "      <td>Infinity War does a brilliant job by seamlessl...</td>\n",
       "      <td>0.01000740740740744</td>\n",
       "    </tr>\n",
       "    <tr>\n",
       "      <th>11</th>\n",
       "      <td>9/10</td>\n",
       "      <td>the final battle in this movie was great and ...</td>\n",
       "      <td>nahumthebest</td>\n",
       "      <td>7 July 2020</td>\n",
       "      <td>I have always felt Marvel VILLAINS that hit th...</td>\n",
       "      <td>0.21559999999999999</td>\n",
       "    </tr>\n",
       "    <tr>\n",
       "      <th>12</th>\n",
       "      <td>10/10</td>\n",
       "      <td>The amount of people that don't understand th...</td>\n",
       "      <td>blparker-31738</td>\n",
       "      <td>27 April 2018</td>\n",
       "      <td>All the reviews that say this movie has no plo...</td>\n",
       "      <td>-0.09684285714285716</td>\n",
       "    </tr>\n",
       "    <tr>\n",
       "      <th>13</th>\n",
       "      <td>10/10</td>\n",
       "      <td>Adventure Awaits</td>\n",
       "      <td>WasiReviews</td>\n",
       "      <td>4 August 2020</td>\n",
       "      <td>Infinity War had a lot to offer with stunning ...</td>\n",
       "      <td>0.30476</td>\n",
       "    </tr>\n",
       "    <tr>\n",
       "      <th>14</th>\n",
       "      <td>9/10</td>\n",
       "      <td>Great movie</td>\n",
       "      <td>Emersongut</td>\n",
       "      <td>2 August 2020</td>\n",
       "      <td>That fact is that most of the bad ratings here...</td>\n",
       "      <td>0.9723</td>\n",
       "    </tr>\n",
       "    <tr>\n",
       "      <th>15</th>\n",
       "      <td>10/10</td>\n",
       "      <td>The best marvel film!</td>\n",
       "      <td>matthewleighton</td>\n",
       "      <td>29 July 2020</td>\n",
       "      <td>By far the best marvel film, it is so good. Th...</td>\n",
       "      <td>0.6873</td>\n",
       "    </tr>\n",
       "    <tr>\n",
       "      <th>16</th>\n",
       "      <td>10/10</td>\n",
       "      <td>Superhero odyssey</td>\n",
       "      <td>adeckofcards</td>\n",
       "      <td>25 July 2020</td>\n",
       "      <td>A tape of incomparable magnitudes. An unpreced...</td>\n",
       "      <td>0.4412888888888889</td>\n",
       "    </tr>\n",
       "    <tr>\n",
       "      <th>17</th>\n",
       "      <td>10/10</td>\n",
       "      <td>The Best Marvel Movie</td>\n",
       "      <td>overwatchgengi</td>\n",
       "      <td>20 July 2020</td>\n",
       "      <td>10 Years of Build Up wasn't wasted on this Mov...</td>\n",
       "      <td>0.29761666666666664</td>\n",
       "    </tr>\n",
       "    <tr>\n",
       "      <th>18</th>\n",
       "      <td>10/10</td>\n",
       "      <td>The Pinnacle of Blockbustes</td>\n",
       "      <td>benjaminpiche</td>\n",
       "      <td>5 July 2020</td>\n",
       "      <td>I believe that Avengers : Infinity War is with...</td>\n",
       "      <td>0.20436666666666667</td>\n",
       "    </tr>\n",
       "    <tr>\n",
       "      <th>19</th>\n",
       "      <td>10/10</td>\n",
       "      <td>Avengers: Infinity War....just WOW</td>\n",
       "      <td>moniak-60149</td>\n",
       "      <td>20 May 2018</td>\n",
       "      <td>With the beggining of the movie it was full of...</td>\n",
       "      <td>0.1121</td>\n",
       "    </tr>\n",
       "    <tr>\n",
       "      <th>20</th>\n",
       "      <td>10/10</td>\n",
       "      <td>Epic conclusion to Marvel's first 10 years</td>\n",
       "      <td>mto10</td>\n",
       "      <td>23 May 2018</td>\n",
       "      <td>I absolutely loved this movie. It was intense,...</td>\n",
       "      <td>0.17769047619047618</td>\n",
       "    </tr>\n",
       "    <tr>\n",
       "      <th>21</th>\n",
       "      <td>9/10</td>\n",
       "      <td>wonderful</td>\n",
       "      <td>e-90900</td>\n",
       "      <td>5 September 2020</td>\n",
       "      <td>Wuuuuuuuuu, love you three thousand times. Soo...</td>\n",
       "      <td>0.31845</td>\n",
       "    </tr>\n",
       "    <tr>\n",
       "      <th>22</th>\n",
       "      <td>10/10</td>\n",
       "      <td>A mega crossover that doesn't disappoint!!</td>\n",
       "      <td>jackpatrick-65727</td>\n",
       "      <td>2 September 2020</td>\n",
       "      <td>Avengers: Infinity War is the one of the 2 bes...</td>\n",
       "      <td>0.34595714285714285</td>\n",
       "    </tr>\n",
       "    <tr>\n",
       "      <th>23</th>\n",
       "      <td>10/10</td>\n",
       "      <td>The beginning of the end</td>\n",
       "      <td>MAYESY-44</td>\n",
       "      <td>1 September 2020</td>\n",
       "      <td>Absolutely brilliant from the MCU once you put...</td>\n",
       "      <td>0.261375</td>\n",
       "    </tr>\n",
       "    <tr>\n",
       "      <th>24</th>\n",
       "      <td>8/10</td>\n",
       "      <td>Excellent Movie</td>\n",
       "      <td>JoshuaCalebJohnson</td>\n",
       "      <td>30 August 2020</td>\n",
       "      <td>This movie ended up being even better than I e...</td>\n",
       "      <td>0.43095</td>\n",
       "    </tr>\n",
       "  </tbody>\n",
       "</table>\n",
       "</div>"
      ],
      "text/plain": [
       "    score                                              title  \\\n",
       "0    9/10                                              Great   \n",
       "1   10/10                            Way better than endgame   \n",
       "2   10/10                           IT'S NOT A MASTERPIECE..   \n",
       "3   10/10                       Somehow they pulled this off   \n",
       "4   10/10   Unlike anything ever done in the history of c...   \n",
       "5   10/10   This movie will blow your mind and break your...   \n",
       "6   10/10              Best movie Avengers infinity war 2018   \n",
       "7   10/10                   Worth the wait, believe the hype   \n",
       "8   10/10    A Summer Film That IS Even Better Than The Hype   \n",
       "9    9/10                                     Excellent Film   \n",
       "10   9/10                                       Breathtaking   \n",
       "11   9/10   the final battle in this movie was great and ...   \n",
       "12  10/10   The amount of people that don't understand th...   \n",
       "13  10/10                                   Adventure Awaits   \n",
       "14   9/10                                        Great movie   \n",
       "15  10/10                              The best marvel film!   \n",
       "16  10/10                                  Superhero odyssey   \n",
       "17  10/10                              The Best Marvel Movie   \n",
       "18  10/10                        The Pinnacle of Blockbustes   \n",
       "19  10/10                 Avengers: Infinity War....just WOW   \n",
       "20  10/10         Epic conclusion to Marvel's first 10 years   \n",
       "21   9/10                                          wonderful   \n",
       "22  10/10         A mega crossover that doesn't disappoint!!   \n",
       "23  10/10                           The beginning of the end   \n",
       "24   8/10                                    Excellent Movie   \n",
       "\n",
       "                          writer              date  \\\n",
       "0                   MR_Heraclius  23 February 2020   \n",
       "1                michaelhowell12  2 September 2019   \n",
       "2                      ProfGenki    31 August 2020   \n",
       "3                     Jesper2801     26 April 2018   \n",
       "4                   kjames-26542    14 August 2018   \n",
       "5                shawneofthedead     25 April 2018   \n",
       "6                 udit-mehra-631      12 July 2020   \n",
       "7                        ubtgkse      29 July 2020   \n",
       "8                       garethvk     24 April 2018   \n",
       "9                  kevintgeisler      19 June 2018   \n",
       "10  jordanthomas_2009-346-914758      12 June 2018   \n",
       "11                  nahumthebest       7 July 2020   \n",
       "12                blparker-31738     27 April 2018   \n",
       "13                   WasiReviews     4 August 2020   \n",
       "14                    Emersongut     2 August 2020   \n",
       "15               matthewleighton      29 July 2020   \n",
       "16                  adeckofcards      25 July 2020   \n",
       "17                overwatchgengi      20 July 2020   \n",
       "18                 benjaminpiche       5 July 2020   \n",
       "19                  moniak-60149       20 May 2018   \n",
       "20                         mto10       23 May 2018   \n",
       "21                       e-90900  5 September 2020   \n",
       "22             jackpatrick-65727  2 September 2020   \n",
       "23                     MAYESY-44  1 September 2020   \n",
       "24            JoshuaCalebJohnson    30 August 2020   \n",
       "\n",
       "                                              content                    sum  \n",
       "0   This movie portrays a villain that by far has ...   -0.06573333333333331  \n",
       "1   This film is way better than endgame!\\nThe act...     0.5872857142857143  \n",
       "2   ..but still 10/10. Or 9.5 if its possible.The ...     0.3859333333333333  \n",
       "3   I consider myself a big comic book marvel fan....    0.22276249999999997  \n",
       "4   This movie is the beginning of the culmination...  -0.012816666666666652  \n",
       "5   Over the past decade, Marvel has earned itself...    0.12366538461538462  \n",
       "6   Best movie Avengers infinity war 2018 I was am...                0.29388  \n",
       "7   Avengers infinity war is a masterpiece in ever...                0.49345  \n",
       "8   Summer movies often hype themselves as spectac...     0.2901666666666667  \n",
       "9   I was amazed to see so many negative reviews; ...                0.27908  \n",
       "10  Infinity War does a brilliant job by seamlessl...    0.01000740740740744  \n",
       "11  I have always felt Marvel VILLAINS that hit th...    0.21559999999999999  \n",
       "12  All the reviews that say this movie has no plo...   -0.09684285714285716  \n",
       "13  Infinity War had a lot to offer with stunning ...                0.30476  \n",
       "14  That fact is that most of the bad ratings here...                 0.9723  \n",
       "15  By far the best marvel film, it is so good. Th...                 0.6873  \n",
       "16  A tape of incomparable magnitudes. An unpreced...     0.4412888888888889  \n",
       "17  10 Years of Build Up wasn't wasted on this Mov...    0.29761666666666664  \n",
       "18  I believe that Avengers : Infinity War is with...    0.20436666666666667  \n",
       "19  With the beggining of the movie it was full of...                 0.1121  \n",
       "20  I absolutely loved this movie. It was intense,...    0.17769047619047618  \n",
       "21  Wuuuuuuuuu, love you three thousand times. Soo...                0.31845  \n",
       "22  Avengers: Infinity War is the one of the 2 bes...    0.34595714285714285  \n",
       "23  Absolutely brilliant from the MCU once you put...               0.261375  \n",
       "24  This movie ended up being even better than I e...                0.43095  "
      ]
     },
     "execution_count": 15,
     "metadata": {},
     "output_type": "execute_result"
    }
   ],
   "source": [
    "# pandas로 읽기\n",
    "\n",
    "import pandas as pd\n",
    "df = pd.DataFrame({\n",
    "    'score' : score_list,\n",
    "    'title' : title_list,\n",
    "    'writer' : writer_list,\n",
    "    'date' : date_list,\n",
    "    'content' : content_list,\n",
    "    'sum' : sum1_list\n",
    "})\n",
    "\n",
    "# csv 읽기\n",
    "\n",
    "df.to_csv('./data/df.csv',  mode = 'w',encoding='utf-8') # csv데이터 생성\n",
    "df"
   ]
  },
  {
   "cell_type": "code",
   "execution_count": 16,
   "metadata": {},
   "outputs": [
    {
     "data": {
      "image/png": "[encoded data removed]",
      "text/plain": [
       "<Figure size 432x288 with 1 Axes>"
      ]
     },
     "metadata": {},
     "output_type": "display_data"
    }
   ],
   "source": [
    "# 이미지가 없기때문에 위에 작업하고는 다른 방법으로 실행\n",
    "\n",
    "wordcloud= WordCloud(width=3000, height=2500,stopwords=set(STOPWORDS)).generate(sum_review)\n",
    "plt.imshow(wordcloud)\n",
    "plt.show()"
   ]
  },
  {
   "cell_type": "code",
   "execution_count": null,
   "metadata": {},
   "outputs": [],
   "source": []
  },
  {
   "cell_type": "code",
   "execution_count": null,
   "metadata": {},
   "outputs": [],
   "source": []
  },
  {
   "cell_type": "code",
   "execution_count": null,
   "metadata": {},
   "outputs": [],
   "source": []
  }
 ],
 "metadata": {
  "kernelspec": {
   "display_name": "Python 3",
   "language": "python",
   "name": "python3"
  },
  "language_info": {
   "codemirror_mode": {
    "name": "ipython",
    "version": 3
   },
   "file_extension": ".py",
   "mimetype": "text/x-python",
   "name": "python",
   "nbconvert_exporter": "python",
   "pygments_lexer": "ipython3",
   "version": "3.6.5"
  }
 },
 "nbformat": 4,
 "nbformat_minor": 2
}
