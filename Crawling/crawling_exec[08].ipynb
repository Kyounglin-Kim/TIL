{
 "cells": [
  {
   "cell_type": "code",
   "execution_count": 169,
   "metadata": {},
   "outputs": [
    {
     "data": {
      "text/plain": [
       "<selenium.webdriver.chrome.webdriver.WebDriver (session=\"cdbec315970b92d28ca15ca271f2144e\")>"
      ]
     },
     "execution_count": 169,
     "metadata": {},
     "output_type": "execute_result"
    }
   ],
   "source": [
    "from selenium import webdriver\n",
    "import time\n",
    "\n",
    "path = './driver/chromedriver.exe'\n",
    "driver = webdriver.Chrome(path)\n",
    "driver"
   ]
  },
  {
   "cell_type": "code",
   "execution_count": 73,
   "metadata": {},
   "outputs": [
    {
     "name": "stdout",
     "output_type": "stream",
     "text": [
      "72\n"
     ]
    }
   ],
   "source": [
    "# 페이지 넘기는 작업\n",
    "\n",
    "# 단위 테스트 코드(전체 코드 x)\n",
    "# id : contents\n",
    "# class : prList\n",
    "# tag : a\n",
    "details_list=[]\n",
    "\n",
    "for page in range(1,9): #페이지 이동하기 \n",
    "    url ='https://www.ildong.com/kor/product/list.id?page='+str(page)+'&halt=&prdDisease=&prdCategory=5&searchVal=&searchOption=0'\n",
    "    driver.get(url)\n",
    "    #id = driver.find_element_by_css_selector('#contents')\n",
    "    #elements = id.find_elements_by_css_selector('div.content>div.productBox>div.prCnt>div.prList>ul>li')\n",
    "    prList = driver.find_element_by_class_name('prList')\n",
    "    a_tag = prList.find_elements_by_tag_name('a')\n",
    "    \n",
    "    for idx in range(0,9):\n",
    "        a_tag[idx].click()\n",
    "        detail = driver.find_element_by_class_name('detailCnt2')\n",
    "        #print(detail.text)\n",
    "        details_list.append(detail.text)\n",
    "        driver.back() # back을 해야 페이지에서 나옴 \n",
    "        prList = driver.find_element_by_class_name('prList')\n",
    "        a_tag = prList.find_elements_by_tag_name('a')\n",
    "        time.sleep(1)\n",
    "    \n",
    "            \n",
    "print(len(details_list))            "
   ]
  },
  {
   "cell_type": "code",
   "execution_count": 166,
   "metadata": {},
   "outputs": [
    {
     "data": {
      "text/plain": [
       "<selenium.webdriver.chrome.webdriver.WebDriver (session=\"e06a91355475caf2d5982145c86d120e\")>"
      ]
     },
     "execution_count": 166,
     "metadata": {},
     "output_type": "execute_result"
    }
   ],
   "source": [
    "from selenium import webdriver\n",
    "import time\n",
    "\n",
    "path = './driver/chromedriver.exe'\n",
    "driver = webdriver.Chrome(path)\n",
    "driver"
   ]
  },
  {
   "cell_type": "markdown",
   "metadata": {},
   "source": [
    "### 크롤링 실습"
   ]
  },
  {
   "cell_type": "code",
   "execution_count": 171,
   "metadata": {},
   "outputs": [],
   "source": [
    "# 개인적으로 연습한 코드 -> 크롤링 실패....x 크롤링이 갑자기 되다가 안됨 \n",
    "\n",
    "\n",
    "# name_list=[]\n",
    "\n",
    "# for page in range(1,11): #페이지 이동하기 \n",
    "#     url ='https://www.fightersmarket.co.kr/goods/goods_list.php?page='+str(page)+'&cateCd=005'\n",
    "#     driver.get(url)\n",
    "#     a_tag = driver.find_elements_by_css_selector('div.item_info_cont > div.item_tit_box>a')\n",
    "\n",
    "#     for idx in range(len(a_tag)):\n",
    "#         a_tag[idx].click()\n",
    "#         name = driver.find_element_by_class_name('item_detail_tit>h3')\n",
    "#         name_list.append(name.text)\n",
    "        \n",
    "# #         brand = driver.find_element_by_class_name('review_point')\n",
    "# #         details_list.append([name.text,review.text])\n",
    "        \n",
    "#         driver.back() # back을 해야 페이지에서 나옴          \n",
    "#         a_tag = driver.find_elements_by_css_selector('div.item_info_cont > div.item_tit_box > a')\n",
    "    \n",
    "#         time.sleep(0.5)\n",
    "    \n",
    "            \n",
    "# print(len(name_list))   "
   ]
  },
  {
   "cell_type": "code",
   "execution_count": 172,
   "metadata": {},
   "outputs": [],
   "source": [
    "# 하나씩 연습해본 코드 \n",
    "\n",
    "# # 이름, 판매가, 브랜드\n",
    "\n",
    "# url ='https://www.fightersmarket.co.kr/goods/goods_list.php?page=1&cateCd=005'\n",
    "# driver.get(url)\n",
    "# a_tag = driver.find_elements_by_css_selector('div.item_info_cont > div.item_tit_box>a')\n",
    "# # #print(a_tag)\n",
    "# # print(len(a_tag))\n",
    "# #print(a_tag[2])   \n",
    "\n",
    "# a_tag[1].click()\n",
    "\n",
    "# # #name = driver.find_element_by_css_selector('div.item_info_box>div.item_tit_detail_cont>div.item_detail_tit>h3')\n",
    "# name = driver.find_element_by_class_name('item_detail_tit>h3')\n",
    "\n",
    "# # print(name)\n",
    "# print(name.text)\n",
    "\n",
    "\n",
    "# # driver.back()"
   ]
  }
 ],
 "metadata": {
  "kernelspec": {
   "display_name": "Python 3",
   "language": "python",
   "name": "python3"
  },
  "language_info": {
   "codemirror_mode": {
    "name": "ipython",
    "version": 3
   },
   "file_extension": ".py",
   "mimetype": "text/x-python",
   "name": "python",
   "nbconvert_exporter": "python",
   "pygments_lexer": "ipython3",
   "version": "3.6.5"
  }
 },
 "nbformat": 4,
 "nbformat_minor": 2
}
