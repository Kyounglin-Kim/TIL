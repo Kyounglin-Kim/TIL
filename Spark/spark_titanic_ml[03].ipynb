{
 "cells": [
  {
   "cell_type": "code",
   "execution_count": 1,
   "metadata": {
    "scrolled": true
   },
   "outputs": [
    {
     "data": {
      "text/plain": [
       "<pyspark.sql.context.SQLContext at 0x1776186c240>"
      ]
     },
     "execution_count": 1,
     "metadata": {},
     "output_type": "execute_result"
    }
   ],
   "source": [
    "from pyspark import SparkConf, SparkContext\n",
    "from pyspark.sql import SQLContext\n",
    "\n",
    "conf = SparkConf().setMaster('local').setAppName('sparkApp')\n",
    "spark = SparkContext(conf=conf)\n",
    "\n",
    "sqlCtx = SQLContext(spark)\n",
    "sqlCtx"
   ]
  },
  {
   "cell_type": "markdown",
   "metadata": {},
   "source": [
    "### Titanic 실습"
   ]
  },
  {
   "cell_type": "code",
   "execution_count": 2,
   "metadata": {},
   "outputs": [
    {
     "data": {
      "text/plain": [
       "pyspark.sql.dataframe.DataFrame"
      ]
     },
     "execution_count": 2,
     "metadata": {},
     "output_type": "execute_result"
    }
   ],
   "source": [
    "titanic=sqlCtx.read.csv('./data/spark_titanic_train.csv',\n",
    "                       header=True,\n",
    "                       inferSchema=True)\n",
    "type(titanic)"
   ]
  },
  {
   "cell_type": "code",
   "execution_count": 3,
   "metadata": {},
   "outputs": [
    {
     "name": "stdout",
     "output_type": "stream",
     "text": [
      "root\n",
      " |-- PassengerId: integer (nullable = true)\n",
      " |-- Survived: integer (nullable = true)\n",
      " |-- Pclass: integer (nullable = true)\n",
      " |-- Name: string (nullable = true)\n",
      " |-- Sex: string (nullable = true)\n",
      " |-- Age: double (nullable = true)\n",
      " |-- SibSp: integer (nullable = true)\n",
      " |-- Parch: integer (nullable = true)\n",
      " |-- Ticket: string (nullable = true)\n",
      " |-- Fare: double (nullable = true)\n",
      " |-- Cabin: string (nullable = true)\n",
      " |-- Embarked: string (nullable = true)\n",
      "\n"
     ]
    }
   ],
   "source": [
    "titanic.printSchema()"
   ]
  },
  {
   "cell_type": "code",
   "execution_count": 4,
   "metadata": {},
   "outputs": [
    {
     "name": "stdout",
     "output_type": "stream",
     "text": [
      "+--------+------+\n",
      "|Survived|Pclass|\n",
      "+--------+------+\n",
      "|       0|     3|\n",
      "|       1|     1|\n",
      "|       1|     3|\n",
      "|       1|     1|\n",
      "|       0|     3|\n",
      "|       0|     3|\n",
      "|       0|     1|\n",
      "|       0|     3|\n",
      "|       1|     3|\n",
      "|       1|     2|\n",
      "|       1|     3|\n",
      "|       1|     1|\n",
      "|       0|     3|\n",
      "|       0|     3|\n",
      "|       0|     3|\n",
      "|       1|     2|\n",
      "|       0|     3|\n",
      "|       1|     2|\n",
      "|       0|     3|\n",
      "|       1|     3|\n",
      "+--------+------+\n",
      "only showing top 20 rows\n",
      "\n"
     ]
    }
   ],
   "source": [
    "titanic.select(['Survived','Pclass']).show()"
   ]
  },
  {
   "cell_type": "markdown",
   "metadata": {},
   "source": [
    "- EDA"
   ]
  },
  {
   "cell_type": "code",
   "execution_count": 5,
   "metadata": {},
   "outputs": [
    {
     "name": "stdout",
     "output_type": "stream",
     "text": [
      "+--------+-----+\n",
      "|Survived|count|\n",
      "+--------+-----+\n",
      "|       1|  342|\n",
      "|       0|  549|\n",
      "+--------+-----+\n",
      "\n"
     ]
    }
   ],
   "source": [
    "titanic.groupBy('Survived').count().show()"
   ]
  },
  {
   "cell_type": "code",
   "execution_count": 6,
   "metadata": {},
   "outputs": [
    {
     "name": "stdout",
     "output_type": "stream",
     "text": [
      "+------+--------+-----+\n",
      "|   Sex|Survived|count|\n",
      "+------+--------+-----+\n",
      "|  male|       0|  468|\n",
      "|female|       1|  233|\n",
      "|female|       0|   81|\n",
      "|  male|       1|  109|\n",
      "+------+--------+-----+\n",
      "\n"
     ]
    }
   ],
   "source": [
    "titanic.groupBy('Sex','Survived').count().show()"
   ]
  },
  {
   "cell_type": "code",
   "execution_count": 7,
   "metadata": {},
   "outputs": [],
   "source": [
    "from pyspark.sql.functions import mean,col,split,regexp_extract, when, lit\n"
   ]
  },
  {
   "cell_type": "code",
   "execution_count": 8,
   "metadata": {},
   "outputs": [],
   "source": [
    "from pyspark.sql.functions import mean,col,split, col, regexp_extract, when, lit\n",
    "# This function use to print feature with null values and null count \n",
    "def null_value_count(df):\n",
    "  null_columns_counts = []\n",
    "  numRows = df.count()\n",
    "  for k in df.columns:\n",
    "    nullRows = df.where(col(k).isNull()).count()\n",
    "    if(nullRows > 0):\n",
    "      temp = k,nullRows\n",
    "      null_columns_counts.append(temp)\n",
    "  return(null_columns_counts)\n"
   ]
  },
  {
   "cell_type": "code",
   "execution_count": 9,
   "metadata": {},
   "outputs": [],
   "source": [
    "null_list = null_value_count(titanic)"
   ]
  },
  {
   "cell_type": "code",
   "execution_count": 10,
   "metadata": {},
   "outputs": [
    {
     "data": {
      "text/plain": [
       "[('Age', 177), ('Cabin', 687), ('Embarked', 2)]"
      ]
     },
     "execution_count": 10,
     "metadata": {},
     "output_type": "execute_result"
    }
   ],
   "source": [
    "# 긱 feature에 대한 결측치의 수를 확인할 수 있다\n",
    "null_list "
   ]
  },
  {
   "cell_type": "code",
   "execution_count": 11,
   "metadata": {},
   "outputs": [
    {
     "name": "stdout",
     "output_type": "stream",
     "text": [
      "+--------+---+\n",
      "|  column|cnt|\n",
      "+--------+---+\n",
      "|     Age|177|\n",
      "|   Cabin|687|\n",
      "|Embarked|  2|\n",
      "+--------+---+\n",
      "\n"
     ]
    }
   ],
   "source": [
    "sqlCtx.createDataFrame(null_list,['column','cnt']).show()"
   ]
  },
  {
   "cell_type": "code",
   "execution_count": 12,
   "metadata": {},
   "outputs": [
    {
     "name": "stdout",
     "output_type": "stream",
     "text": [
      "+-----------------+\n",
      "|         avg(Age)|\n",
      "+-----------------+\n",
      "|29.69911764705882|\n",
      "+-----------------+\n",
      "\n"
     ]
    }
   ],
   "source": [
    "# 나이에 대한 평균을 구한다면?\n",
    "titanic.select(mean('Age')).show()"
   ]
  },
  {
   "cell_type": "code",
   "execution_count": 13,
   "metadata": {},
   "outputs": [
    {
     "name": "stdout",
     "output_type": "stream",
     "text": [
      "+--------------------+\n",
      "|                Name|\n",
      "+--------------------+\n",
      "|Braund, Mr. Owen ...|\n",
      "|Cumings, Mrs. Joh...|\n",
      "|Heikkinen, Miss. ...|\n",
      "|Futrelle, Mrs. Ja...|\n",
      "|Allen, Mr. Willia...|\n",
      "|    Moran, Mr. James|\n",
      "|McCarthy, Mr. Tim...|\n",
      "|Palsson, Master. ...|\n",
      "|Johnson, Mrs. Osc...|\n",
      "|Nasser, Mrs. Nich...|\n",
      "|Sandstrom, Miss. ...|\n",
      "|Bonnell, Miss. El...|\n",
      "|Saundercock, Mr. ...|\n",
      "|Andersson, Mr. An...|\n",
      "|Vestrom, Miss. Hu...|\n",
      "|Hewlett, Mrs. (Ma...|\n",
      "|Rice, Master. Eugene|\n",
      "|Williams, Mr. Cha...|\n",
      "|Vander Planke, Mr...|\n",
      "|Masselmani, Mrs. ...|\n",
      "+--------------------+\n",
      "only showing top 20 rows\n",
      "\n"
     ]
    }
   ],
   "source": [
    "titanic.select('Name').show()"
   ]
  },
  {
   "cell_type": "code",
   "execution_count": 16,
   "metadata": {},
   "outputs": [],
   "source": [
    "# type(col('Name')) => column\n",
    "# type('Name') => str\n",
    "#regexp_extract(col('Name'))\n",
    "\n",
    "\n",
    "# spark 컬럼 추가\n",
    "titanic = titanic.withColumn('initial', regexp_extract(col('Name'), '([A-Za-z]+)\\.', 1))"
   ]
  },
  {
   "cell_type": "code",
   "execution_count": 17,
   "metadata": {},
   "outputs": [
    {
     "name": "stdout",
     "output_type": "stream",
     "text": [
      "+-------+\n",
      "|initial|\n",
      "+-------+\n",
      "|     Mr|\n",
      "|    Mrs|\n",
      "|   Miss|\n",
      "|    Mrs|\n",
      "|     Mr|\n",
      "|     Mr|\n",
      "|     Mr|\n",
      "| Master|\n",
      "|    Mrs|\n",
      "|    Mrs|\n",
      "|   Miss|\n",
      "|   Miss|\n",
      "|     Mr|\n",
      "|     Mr|\n",
      "|   Miss|\n",
      "|    Mrs|\n",
      "| Master|\n",
      "|     Mr|\n",
      "|    Mrs|\n",
      "|    Mrs|\n",
      "+-------+\n",
      "only showing top 20 rows\n",
      "\n"
     ]
    }
   ],
   "source": [
    "titanic.select('initial').show() # 추가 된 것을 확인 할 수 있다."
   ]
  },
  {
   "cell_type": "code",
   "execution_count": 18,
   "metadata": {},
   "outputs": [
    {
     "name": "stdout",
     "output_type": "stream",
     "text": [
      "+--------+\n",
      "| initial|\n",
      "+--------+\n",
      "|     Don|\n",
      "|    Miss|\n",
      "|Countess|\n",
      "|     Col|\n",
      "|     Rev|\n",
      "|    Lady|\n",
      "|  Master|\n",
      "|     Mme|\n",
      "|    Capt|\n",
      "|      Mr|\n",
      "|      Dr|\n",
      "|     Mrs|\n",
      "|     Sir|\n",
      "|Jonkheer|\n",
      "|    Mlle|\n",
      "|   Major|\n",
      "|      Ms|\n",
      "+--------+\n",
      "\n"
     ]
    }
   ],
   "source": [
    "titanic.select('initial').distinct().show()"
   ]
  },
  {
   "cell_type": "code",
   "execution_count": 19,
   "metadata": {},
   "outputs": [],
   "source": [
    "titanic=titanic.replace(['Don'],['Other']) # 글자 변환\n"
   ]
  },
  {
   "cell_type": "code",
   "execution_count": 20,
   "metadata": {},
   "outputs": [
    {
     "data": {
      "text/plain": [
       "<bound method DataFrame.show of DataFrame[initial: string]>"
      ]
     },
     "execution_count": 20,
     "metadata": {},
     "output_type": "execute_result"
    }
   ],
   "source": [
    "titanic.select('initial').distinct().show #확인"
   ]
  },
  {
   "cell_type": "code",
   "execution_count": 22,
   "metadata": {},
   "outputs": [
    {
     "name": "stdout",
     "output_type": "stream",
     "text": [
      "+--------+------------------+\n",
      "| initial|          avg(age)|\n",
      "+--------+------------------+\n",
      "|    Miss|21.773972602739725|\n",
      "|Countess|              33.0|\n",
      "|     Col|              58.0|\n",
      "|     Rev|43.166666666666664|\n",
      "|    Lady|              48.0|\n",
      "|   Other|              40.0|\n",
      "|  Master| 4.574166666666667|\n",
      "|     Mme|              24.0|\n",
      "|    Capt|              70.0|\n",
      "|      Mr|32.368090452261306|\n",
      "|      Dr|              42.0|\n",
      "|     Mrs|35.898148148148145|\n",
      "|     Sir|              49.0|\n",
      "|Jonkheer|              38.0|\n",
      "|    Mlle|              24.0|\n",
      "|   Major|              48.5|\n",
      "|      Ms|              28.0|\n",
      "+--------+------------------+\n",
      "\n"
     ]
    }
   ],
   "source": [
    "titanic.groupby('initial').avg('age').show()"
   ]
  },
  {
   "cell_type": "code",
   "execution_count": 23,
   "metadata": {},
   "outputs": [],
   "source": [
    "titanic = titanic.replace(['Mlle','Mme', 'Ms', 'Dr','Major','Lady','Countess','Jonkheer','Col','Rev','Capt','Sir','Don'],\n",
    "               ['Miss','Miss','Miss','Mr','Mr',  'Mrs',  'Mrs',  'Other',  'Other','Other','Mr','Mr','Mr'])\n"
   ]
  },
  {
   "cell_type": "code",
   "execution_count": 24,
   "metadata": {},
   "outputs": [
    {
     "name": "stdout",
     "output_type": "stream",
     "text": [
      "+-------+\n",
      "|initial|\n",
      "+-------+\n",
      "|     Mr|\n",
      "|     Mr|\n",
      "|    Mrs|\n",
      "|     Mr|\n",
      "|     Mr|\n",
      "|    Mrs|\n",
      "|    Mrs|\n",
      "|     Mr|\n",
      "|    Mrs|\n",
      "+-------+\n",
      "\n"
     ]
    }
   ],
   "source": [
    "titanic.filter(titanic['Age']==48).select('initial').show()"
   ]
  },
  {
   "cell_type": "code",
   "execution_count": 25,
   "metadata": {},
   "outputs": [
    {
     "name": "stdout",
     "output_type": "stream",
     "text": [
      "+--------+-----+\n",
      "|Embarked|count|\n",
      "+--------+-----+\n",
      "|       Q|   77|\n",
      "|    null|    2|\n",
      "|       C|  168|\n",
      "|       S|  644|\n",
      "+--------+-----+\n",
      "\n"
     ]
    }
   ],
   "source": [
    "# null 처리 방법\n",
    "titanic.groupby('Embarked').count().show()"
   ]
  },
  {
   "cell_type": "code",
   "execution_count": 26,
   "metadata": {},
   "outputs": [],
   "source": [
    "titanic = titanic.na.fill({'Embarked':'S'})"
   ]
  },
  {
   "cell_type": "code",
   "execution_count": 27,
   "metadata": {},
   "outputs": [
    {
     "name": "stdout",
     "output_type": "stream",
     "text": [
      "+--------+-----+\n",
      "|Embarked|count|\n",
      "+--------+-----+\n",
      "|       Q|   77|\n",
      "|       C|  168|\n",
      "|       S|  646|\n",
      "+--------+-----+\n",
      "\n"
     ]
    }
   ],
   "source": [
    "titanic.groupby('Embarked').count().show()"
   ]
  },
  {
   "cell_type": "code",
   "execution_count": 28,
   "metadata": {},
   "outputs": [],
   "source": [
    "titanic = titanic.drop('Cabin')"
   ]
  },
  {
   "cell_type": "code",
   "execution_count": 29,
   "metadata": {},
   "outputs": [
    {
     "name": "stdout",
     "output_type": "stream",
     "text": [
      "root\n",
      " |-- PassengerId: integer (nullable = true)\n",
      " |-- Survived: integer (nullable = true)\n",
      " |-- Pclass: integer (nullable = true)\n",
      " |-- Name: string (nullable = true)\n",
      " |-- Sex: string (nullable = true)\n",
      " |-- Age: double (nullable = true)\n",
      " |-- SibSp: integer (nullable = true)\n",
      " |-- Parch: integer (nullable = true)\n",
      " |-- Ticket: string (nullable = true)\n",
      " |-- Fare: double (nullable = true)\n",
      " |-- Embarked: string (nullable = false)\n",
      " |-- initial: string (nullable = true)\n",
      "\n"
     ]
    }
   ],
   "source": [
    "titanic.printSchema()"
   ]
  },
  {
   "cell_type": "code",
   "execution_count": 31,
   "metadata": {},
   "outputs": [],
   "source": [
    "# 파생 컬럼 만든느 방법\n",
    "titanic = titanic.withColumn('Family_Size',col('SibSp')+col('Parch'))"
   ]
  },
  {
   "cell_type": "code",
   "execution_count": 32,
   "metadata": {},
   "outputs": [
    {
     "name": "stdout",
     "output_type": "stream",
     "text": [
      "+-----------+\n",
      "|Family_Size|\n",
      "+-----------+\n",
      "|          1|\n",
      "|          1|\n",
      "|          0|\n",
      "|          1|\n",
      "|          0|\n",
      "|          0|\n",
      "|          0|\n",
      "|          4|\n",
      "|          2|\n",
      "|          1|\n",
      "|          2|\n",
      "|          0|\n",
      "|          0|\n",
      "|          6|\n",
      "|          0|\n",
      "|          0|\n",
      "|          5|\n",
      "|          0|\n",
      "|          1|\n",
      "|          0|\n",
      "+-----------+\n",
      "only showing top 20 rows\n",
      "\n"
     ]
    }
   ],
   "source": [
    "titanic.select('Family_Size').show()"
   ]
  },
  {
   "cell_type": "code",
   "execution_count": 34,
   "metadata": {},
   "outputs": [
    {
     "name": "stdout",
     "output_type": "stream",
     "text": [
      "+-----------+-----+\n",
      "|Family_Size|count|\n",
      "+-----------+-----+\n",
      "|          1|  161|\n",
      "|          6|   12|\n",
      "|          3|   29|\n",
      "|          5|   22|\n",
      "|          4|   15|\n",
      "|          7|    6|\n",
      "|         10|    7|\n",
      "|          2|  102|\n",
      "|          0|  537|\n",
      "+-----------+-----+\n",
      "\n"
     ]
    }
   ],
   "source": [
    "titanic.groupby('Family_Size').count().show()"
   ]
  },
  {
   "cell_type": "code",
   "execution_count": 37,
   "metadata": {},
   "outputs": [],
   "source": [
    "# 0으로 셋팅\n",
    "titanic = titanic.withColumn('Alona',lit(0))"
   ]
  },
  {
   "cell_type": "code",
   "execution_count": 39,
   "metadata": {},
   "outputs": [
    {
     "name": "stdout",
     "output_type": "stream",
     "text": [
      "+-----+\n",
      "|Alona|\n",
      "+-----+\n",
      "|    0|\n",
      "|    0|\n",
      "|    0|\n",
      "|    0|\n",
      "|    0|\n",
      "|    0|\n",
      "|    0|\n",
      "|    0|\n",
      "|    0|\n",
      "|    0|\n",
      "|    0|\n",
      "|    0|\n",
      "|    0|\n",
      "|    0|\n",
      "|    0|\n",
      "|    0|\n",
      "|    0|\n",
      "|    0|\n",
      "|    0|\n",
      "|    0|\n",
      "+-----+\n",
      "only showing top 20 rows\n",
      "\n"
     ]
    }
   ],
   "source": [
    "titanic.select('Alona').show()"
   ]
  },
  {
   "cell_type": "code",
   "execution_count": 41,
   "metadata": {},
   "outputs": [],
   "source": [
    "titanic = titanic.withColumn('Alone',when(titanic['Family_Size']==0,1).otherwise(titanic['Alona']))"
   ]
  },
  {
   "cell_type": "code",
   "execution_count": 42,
   "metadata": {},
   "outputs": [
    {
     "name": "stdout",
     "output_type": "stream",
     "text": [
      "+-----+\n",
      "|Alona|\n",
      "+-----+\n",
      "|    0|\n",
      "|    0|\n",
      "|    0|\n",
      "|    0|\n",
      "|    0|\n",
      "|    0|\n",
      "|    0|\n",
      "|    0|\n",
      "|    0|\n",
      "|    0|\n",
      "|    0|\n",
      "|    0|\n",
      "|    0|\n",
      "|    0|\n",
      "|    0|\n",
      "|    0|\n",
      "|    0|\n",
      "|    0|\n",
      "|    0|\n",
      "|    0|\n",
      "+-----+\n",
      "only showing top 20 rows\n",
      "\n"
     ]
    }
   ],
   "source": [
    "titanic.select('Alona').show()"
   ]
  },
  {
   "cell_type": "code",
   "execution_count": 43,
   "metadata": {},
   "outputs": [
    {
     "data": {
      "text/plain": [
       "['PassengerId',\n",
       " 'Survived',\n",
       " 'Pclass',\n",
       " 'Name',\n",
       " 'Sex',\n",
       " 'Age',\n",
       " 'SibSp',\n",
       " 'Parch',\n",
       " 'Ticket',\n",
       " 'Fare',\n",
       " 'Embarked',\n",
       " 'initial',\n",
       " 'Family_Size',\n",
       " 'Alona',\n",
       " 'Alone']"
      ]
     },
     "execution_count": 43,
     "metadata": {},
     "output_type": "execute_result"
    }
   ],
   "source": [
    "titanic.columns"
   ]
  },
  {
   "cell_type": "code",
   "execution_count": 44,
   "metadata": {},
   "outputs": [],
   "source": [
    "from pyspark.ml.feature import StringIndexer\n",
    "from pyspark.ml import Pipeline\n"
   ]
  },
  {
   "cell_type": "code",
   "execution_count": 45,
   "metadata": {},
   "outputs": [],
   "source": [
    "indexers = [StringIndexer(inputCol=column, outputCol=column+\"_index\").fit(titanic) for column in [\"Sex\",\"Embarked\",\"initial\"]]\n",
    "pipeline = Pipeline(stages=indexers)\n",
    "titanic = pipeline.fit(titanic).transform(titanic)\n"
   ]
  },
  {
   "cell_type": "code",
   "execution_count": 46,
   "metadata": {},
   "outputs": [],
   "source": [
    "titanic = titanic.na.fill({'Age':20})"
   ]
  },
  {
   "cell_type": "code",
   "execution_count": 47,
   "metadata": {},
   "outputs": [],
   "source": [
    "titanic = titanic.drop(\"PassengerId\",\"Name\",\"Ticket\",\"Cabin\",\"Embarked\",\"Sex\",\"initial\")\n"
   ]
  },
  {
   "cell_type": "code",
   "execution_count": 51,
   "metadata": {},
   "outputs": [],
   "source": [
    "from pyspark.ml.feature import VectorAssembler"
   ]
  },
  {
   "cell_type": "code",
   "execution_count": 52,
   "metadata": {},
   "outputs": [],
   "source": [
    "feature = VectorAssembler(inputCols = titanic.columns[1:],outputCol='features')\n",
    "feature_vector=feature.transform(titanic)"
   ]
  },
  {
   "cell_type": "code",
   "execution_count": 53,
   "metadata": {},
   "outputs": [
    {
     "name": "stdout",
     "output_type": "stream",
     "text": [
      "root\n",
      " |-- Survived: integer (nullable = true)\n",
      " |-- Pclass: integer (nullable = true)\n",
      " |-- Age: double (nullable = false)\n",
      " |-- SibSp: integer (nullable = true)\n",
      " |-- Parch: integer (nullable = true)\n",
      " |-- Fare: double (nullable = true)\n",
      " |-- Family_Size: integer (nullable = true)\n",
      " |-- Alona: integer (nullable = false)\n",
      " |-- Alone: integer (nullable = false)\n",
      " |-- Sex_index: double (nullable = false)\n",
      " |-- Embarked_index: double (nullable = false)\n",
      " |-- initial_index: double (nullable = false)\n",
      " |-- features: vector (nullable = true)\n",
      "\n"
     ]
    }
   ],
   "source": [
    "feature_vector.printSchema()"
   ]
  },
  {
   "cell_type": "code",
   "execution_count": 54,
   "metadata": {},
   "outputs": [],
   "source": [
    "trainData,testData = feature_vector.randomSplit([.8,.2],seed=100)"
   ]
  },
  {
   "cell_type": "code",
   "execution_count": 55,
   "metadata": {},
   "outputs": [
    {
     "name": "stdout",
     "output_type": "stream",
     "text": [
      "+--------+------+----+-----+-----+--------+-----------+-----+-----+---------+--------------+-------------+--------------------+\n",
      "|Survived|Pclass| Age|SibSp|Parch|    Fare|Family_Size|Alona|Alone|Sex_index|Embarked_index|initial_index|            features|\n",
      "+--------+------+----+-----+-----+--------+-----------+-----+-----+---------+--------------+-------------+--------------------+\n",
      "|       0|     1| 2.0|    1|    2|  151.55|          3|    0|    0|      1.0|           0.0|          1.0|[1.0,2.0,1.0,2.0,...|\n",
      "|       0|     1|18.0|    1|    0|   108.9|          1|    0|    0|      0.0|           1.0|          0.0|(11,[0,1,2,4,5,9]...|\n",
      "|       0|     1|19.0|    1|    0|    53.1|          1|    0|    0|      0.0|           0.0|          0.0|(11,[0,1,2,4,5],[...|\n",
      "|       0|     1|20.0|    0|    0|     0.0|          0|    0|    1|      0.0|           0.0|          0.0|(11,[0,1,7],[1.0,...|\n",
      "|       0|     1|20.0|    0|    0|     0.0|          0|    0|    1|      0.0|           0.0|          0.0|(11,[0,1,7],[1.0,...|\n",
      "|       0|     1|20.0|    0|    0|  25.925|          0|    0|    1|      0.0|           0.0|          0.0|(11,[0,1,4,7],[1....|\n",
      "|       0|     1|20.0|    0|    0|    26.0|          0|    0|    1|      0.0|           0.0|          0.0|(11,[0,1,4,7],[1....|\n",
      "|       0|     1|20.0|    0|    0|   26.55|          0|    0|    1|      0.0|           0.0|          0.0|(11,[0,1,4,7],[1....|\n",
      "|       0|     1|20.0|    0|    0| 27.7208|          0|    0|    1|      0.0|           1.0|          0.0|(11,[0,1,4,7,9],[...|\n",
      "|       0|     1|20.0|    0|    0| 30.6958|          0|    0|    1|      0.0|           1.0|          0.0|(11,[0,1,4,7,9],[...|\n",
      "|       0|     1|20.0|    0|    0|    31.0|          0|    0|    1|      0.0|           0.0|          0.0|(11,[0,1,4,7],[1....|\n",
      "|       0|     1|20.0|    0|    0|    35.0|          0|    0|    1|      0.0|           0.0|          0.0|(11,[0,1,4,7],[1....|\n",
      "|       0|     1|20.0|    0|    0|    42.4|          0|    0|    1|      0.0|           0.0|          0.0|(11,[0,1,4,7],[1....|\n",
      "|       0|     1|20.0|    0|    0|    50.0|          0|    0|    1|      0.0|           0.0|          0.0|(11,[0,1,4,7],[1....|\n",
      "|       0|     1|20.0|    0|    0|    52.0|          0|    0|    1|      0.0|           0.0|          0.0|(11,[0,1,4,7],[1....|\n",
      "|       0|     1|20.0|    0|    0|221.7792|          0|    0|    1|      0.0|           0.0|          0.0|(11,[0,1,4,7],[1....|\n",
      "|       0|     1|20.0|    0|    0| 227.525|          0|    0|    1|      0.0|           1.0|          0.0|(11,[0,1,4,7,9],[...|\n",
      "|       0|     1|22.0|    0|    0|135.6333|          0|    0|    1|      0.0|           1.0|          0.0|(11,[0,1,4,7,9],[...|\n",
      "|       0|     1|24.0|    0|    0|    79.2|          0|    0|    1|      0.0|           1.0|          0.0|(11,[0,1,4,7,9],[...|\n",
      "|       0|     1|24.0|    0|    1|247.5208|          1|    0|    0|      0.0|           1.0|          0.0|(11,[0,1,3,4,5,9]...|\n",
      "+--------+------+----+-----+-----+--------+-----------+-----+-----+---------+--------------+-------------+--------------------+\n",
      "only showing top 20 rows\n",
      "\n"
     ]
    }
   ],
   "source": [
    "trainData.show()"
   ]
  },
  {
   "cell_type": "markdown",
   "metadata": {},
   "source": [
    "- 모델링\n",
    "- Spark ML(DTC, LR, RFC,COTC,NB, SVM)"
   ]
  },
  {
   "cell_type": "code",
   "execution_count": 65,
   "metadata": {},
   "outputs": [
    {
     "name": "stderr",
     "output_type": "stream",
     "text": [
      "Exception ignored in: <object repr() failed>\n",
      "Traceback (most recent call last):\n",
      "  File \"C:\\ProgramData\\Anaconda3\\lib\\site-packages\\pyspark\\ml\\wrapper.py\", line 42, in __del__\n",
      "    if SparkContext._active_spark_context and self._java_obj is not None:\n",
      "AttributeError: 'LogisticRegression' object has no attribute '_java_obj'\n",
      "Exception ignored in: <object repr() failed>\n",
      "Traceback (most recent call last):\n",
      "  File \"C:\\ProgramData\\Anaconda3\\lib\\site-packages\\pyspark\\ml\\wrapper.py\", line 42, in __del__\n",
      "    if SparkContext._active_spark_context and self._java_obj is not None:\n",
      "AttributeError: 'LogisticRegression' object has no attribute '_java_obj'\n",
      "Exception ignored in: <object repr() failed>\n",
      "Traceback (most recent call last):\n",
      "  File \"C:\\ProgramData\\Anaconda3\\lib\\site-packages\\pyspark\\ml\\wrapper.py\", line 42, in __del__\n",
      "    if SparkContext._active_spark_context and self._java_obj is not None:\n",
      "AttributeError: 'LogisticRegression' object has no attribute '_java_obj'\n"
     ]
    }
   ],
   "source": [
    "# LOGISTIC REGRESSION\n",
    "# 데이터 범주가 0,1 사이의 값으로 예측하는 분류 알고리즘\n",
    "from pyspark.ml.classification import LogisticRegression\n",
    "\n",
    "lr = LogisticRegression(labelCol='Survived',featuresCol='features')\n",
    "lr_model = lr.fit(trainData) # 학습된 모델 만들기 (학습이 이루어짐)\n",
    "lr_pred = lr_model.transform(testData)"
   ]
  },
  {
   "cell_type": "code",
   "execution_count": 69,
   "metadata": {},
   "outputs": [
    {
     "name": "stdout",
     "output_type": "stream",
     "text": [
      "+--------+------+----+-----+-----+-------+-----------+-----+-----+---------+--------------+-------------+--------------------+--------------------+--------------------+----------+\n",
      "|Survived|Pclass| Age|SibSp|Parch|   Fare|Family_Size|Alona|Alone|Sex_index|Embarked_index|initial_index|            features|       rawPrediction|         probability|prediction|\n",
      "+--------+------+----+-----+-----+-------+-----------+-----+-----+---------+--------------+-------------+--------------------+--------------------+--------------------+----------+\n",
      "|       0|     1|19.0|    3|    2|  263.0|          5|    0|    0|      0.0|           0.0|          0.0|(11,[0,1,2,3,4,5]...|[1.12323145345704...|[0.75458762580674...|       0.0|\n",
      "|       0|     1|20.0|    0|    0|27.7208|          0|    0|    1|      0.0|           1.0|          0.0|(11,[0,1,4,7,9],[...|[0.16165256257039...|[0.54032536516929...|       0.0|\n",
      "|       0|     1|20.0|    0|    0|   39.6|          0|    0|    1|      0.0|           1.0|          0.0|(11,[0,1,4,7,9],[...|[0.11249747052745...|[0.52809474403684...|       0.0|\n",
      "|       0|     1|21.0|    0|    1|77.2875|          1|    0|    0|      0.0|           0.0|          0.0|(11,[0,1,3,4,5],[...|[-0.3003807158472...|[0.42546441667384...|       1.0|\n",
      "|       0|     1|27.0|    0|    2|  211.5|          2|    0|    0|      0.0|           1.0|          0.0|(11,[0,1,3,4,5,9]...|[-0.4073593299110...|[0.39954547300070...|       1.0|\n",
      "|       0|     1|29.0|    1|    0|   66.6|          1|    0|    0|      0.0|           0.0|          0.0|(11,[0,1,2,4,5],[...|[0.12346672548569...|[0.53082752999550...|       0.0|\n",
      "|       0|     1|36.0|    0|    0| 40.125|          0|    0|    1|      0.0|           1.0|          0.0|(11,[0,1,4,7,9],[...|[0.53427981870645...|[0.63048075735084...|       0.0|\n",
      "|       0|     1|36.0|    1|    0|  78.85|          1|    0|    0|      0.0|           0.0|          0.0|(11,[0,1,2,4,5],[...|[0.25825749957116...|[0.56420789846059...|       0.0|\n",
      "|       0|     1|37.0|    1|    0|   53.1|          1|    0|    0|      0.0|           0.0|          0.0|(11,[0,1,2,4,5],[...|[0.39130592252631...|[0.59659703399037...|       0.0|\n",
      "|       0|     1|38.0|    0|    0|    0.0|          0|    0|    1|      0.0|           0.0|          4.0|(11,[0,1,7,10],[1...|[-1.5859179657295...|[0.16995898588417...|       1.0|\n",
      "|       0|     1|39.0|    0|    0|    0.0|          0|    0|    1|      0.0|           0.0|          0.0|(11,[0,1,7],[1.0,...|[0.92593968548843...|[0.71625081014959...|       0.0|\n",
      "|       0|     1|40.0|    0|    0|    0.0|          0|    0|    1|      0.0|           0.0|          0.0|(11,[0,1,7],[1.0,...|[0.95243685750869...|[0.72160498558938...|       0.0|\n",
      "|       0|     1|47.0|    0|    0|34.0208|          0|    0|    1|      0.0|           0.0|          0.0|(11,[0,1,4,7],[1....|[0.99714196270666...|[0.73049628345010...|       0.0|\n",
      "|       0|     1|50.0|    1|    0|106.425|          1|    0|    0|      0.0|           1.0|          0.0|(11,[0,1,2,4,5,9]...|[0.36898036098742...|[0.59121257474263...|       0.0|\n",
      "|       0|     1|51.0|    0|    1|61.3792|          1|    0|    0|      0.0|           1.0|          0.0|(11,[0,1,3,4,5,9]...|[0.41422699536033...|[0.60210099862797...|       0.0|\n",
      "|       0|     1|56.0|    0|    0|30.6958|          0|    0|    1|      0.0|           1.0|          0.0|(11,[0,1,4,7,9],[...|[1.10324046514345...|[0.75086677864079...|       0.0|\n",
      "|       0|     1|62.0|    0|    0|  26.55|          0|    0|    1|      0.0|           0.0|          0.0|(11,[0,1,4,7],[1....|[1.42551306089355...|[0.80620123581574...|       0.0|\n",
      "|       0|     1|71.0|    0|    0|34.6542|          0|    0|    1|      0.0|           1.0|          0.0|(11,[0,1,4,7,9],[...|[1.48431853198336...|[0.81522398350921...|       0.0|\n",
      "|       0|     2|18.0|    0|    0|   73.5|          0|    0|    1|      0.0|           0.0|          0.0|(11,[0,1,4,7],[2....|[0.98322956917109...|[0.72774856323033...|       0.0|\n",
      "|       0|     2|21.0|    1|    0|   11.5|          1|    0|    0|      0.0|           0.0|          0.0|(11,[0,1,2,4,5],[...|[1.05735541320759...|[0.74218483705373...|       0.0|\n",
      "+--------+------+----+-----+-----+-------+-----------+-----+-----+---------+--------------+-------------+--------------------+--------------------+--------------------+----------+\n",
      "only showing top 20 rows\n",
      "\n"
     ]
    }
   ],
   "source": [
    "lr_pred.show()"
   ]
  },
  {
   "cell_type": "code",
   "execution_count": 72,
   "metadata": {},
   "outputs": [
    {
     "name": "stdout",
     "output_type": "stream",
     "text": [
      "+----------+--------+--------------------+\n",
      "|Prediction|Survived|            features|\n",
      "+----------+--------+--------------------+\n",
      "|       0.0|       0|(11,[0,1,2,3,4,5]...|\n",
      "|       0.0|       0|(11,[0,1,4,7,9],[...|\n",
      "|       0.0|       0|(11,[0,1,4,7,9],[...|\n",
      "|       1.0|       0|(11,[0,1,3,4,5],[...|\n",
      "|       1.0|       0|(11,[0,1,3,4,5,9]...|\n",
      "|       0.0|       0|(11,[0,1,2,4,5],[...|\n",
      "|       0.0|       0|(11,[0,1,4,7,9],[...|\n",
      "|       0.0|       0|(11,[0,1,2,4,5],[...|\n",
      "|       0.0|       0|(11,[0,1,2,4,5],[...|\n",
      "|       1.0|       0|(11,[0,1,7,10],[1...|\n",
      "|       0.0|       0|(11,[0,1,7],[1.0,...|\n",
      "|       0.0|       0|(11,[0,1,7],[1.0,...|\n",
      "|       0.0|       0|(11,[0,1,4,7],[1....|\n",
      "|       0.0|       0|(11,[0,1,2,4,5,9]...|\n",
      "|       0.0|       0|(11,[0,1,3,4,5,9]...|\n",
      "|       0.0|       0|(11,[0,1,4,7,9],[...|\n",
      "|       0.0|       0|(11,[0,1,4,7],[1....|\n",
      "|       0.0|       0|(11,[0,1,4,7,9],[...|\n",
      "|       0.0|       0|(11,[0,1,4,7],[2....|\n",
      "|       0.0|       0|(11,[0,1,2,4,5],[...|\n",
      "+----------+--------+--------------------+\n",
      "only showing top 20 rows\n",
      "\n"
     ]
    }
   ],
   "source": [
    "# type(lr_pred) -> 데이터 프레임\n",
    "# lr_pred.printSchema()\n",
    "lr_pred.select('Prediction','Survived','features').show()"
   ]
  },
  {
   "cell_type": "code",
   "execution_count": 74,
   "metadata": {},
   "outputs": [],
   "source": [
    "# 평가\n",
    "from pyspark.ml.evaluation import MulticlassClassificationEvaluator\n",
    "\n",
    "evaluater = MulticlassClassificationEvaluator(labelCol='Survived',\n",
    "                                    predictionCol='prediction',\n",
    "                                    metricName='accuracy')"
   ]
  },
  {
   "cell_type": "code",
   "execution_count": 75,
   "metadata": {},
   "outputs": [
    {
     "name": "stdout",
     "output_type": "stream",
     "text": [
      "acc :  0.8\n",
      "err :  0.19999999999999996\n"
     ]
    }
   ],
   "source": [
    "acc = evaluater.evaluate(lr_pred)\n",
    "print('acc : ',acc)\n",
    "print('err : ',1.0-acc)"
   ]
  }
 ],
 "metadata": {
  "kernelspec": {
   "display_name": "Python 3",
   "language": "python",
   "name": "python3"
  },
  "language_info": {
   "codemirror_mode": {
    "name": "ipython",
    "version": 3
   },
   "file_extension": ".py",
   "mimetype": "text/x-python",
   "name": "python",
   "nbconvert_exporter": "python",
   "pygments_lexer": "ipython3",
   "version": "3.6.12"
  }
 },
 "nbformat": 4,
 "nbformat_minor": 2
}
