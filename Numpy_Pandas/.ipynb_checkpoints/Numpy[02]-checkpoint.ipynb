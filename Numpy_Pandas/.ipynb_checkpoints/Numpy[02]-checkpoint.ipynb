{
 "cells": [
  {
   "cell_type": "markdown",
   "metadata": {},
   "source": [
    "- 배열의 크기 변형\n",
    "- reshape"
   ]
  },
  {
   "cell_type": "code",
   "execution_count": 1,
   "metadata": {},
   "outputs": [],
   "source": [
    "import numpy as np"
   ]
  },
  {
   "cell_type": "code",
   "execution_count": 2,
   "metadata": {},
   "outputs": [],
   "source": [
    "def aryInfo(ary):\n",
    "    print('type : {}'.format(type(ary)))\n",
    "    print('shape : {}'.format(ary.shape))\n",
    "    print('dimension : {}'.format(ary.ndim))\n",
    "    print('dtype : {}'.format(ary.dtype))\n",
    "    print(\"Array Data : \\n\",ary)"
   ]
  },
  {
   "cell_type": "code",
   "execution_count": 5,
   "metadata": {},
   "outputs": [
    {
     "name": "stdout",
     "output_type": "stream",
     "text": [
      "type : <class 'numpy.ndarray'>\n",
      "shape : (12,)\n",
      "dimension : 1\n",
      "dtype : int32\n",
      "Array Data : \n",
      " [ 0  1  2  3  4  5  6  7  8  9 10 11]\n"
     ]
    }
   ],
   "source": [
    "arr = np.arange(0,12,1)\n",
    "aryInfo(arr)"
   ]
  },
  {
   "cell_type": "code",
   "execution_count": 7,
   "metadata": {},
   "outputs": [
    {
     "name": "stdout",
     "output_type": "stream",
     "text": [
      "type : <class 'numpy.ndarray'>\n",
      "shape : (4, 3)\n",
      "dimension : 2\n",
      "dtype : int32\n",
      "Array Data : \n",
      " [[ 0  1  2]\n",
      " [ 3  4  5]\n",
      " [ 6  7  8]\n",
      " [ 9 10 11]]\n"
     ]
    }
   ],
   "source": [
    "arr1 = arr.reshape(4,3) \n",
    "# 4행 3열 배열을 만들어줌 열을 입력하는 자리는 자동계산이기 때문에 -1일을 주어도 알아서 표현된다\n",
    "aryInfo(arr1)"
   ]
  },
  {
   "cell_type": "code",
   "execution_count": 9,
   "metadata": {},
   "outputs": [
    {
     "name": "stdout",
     "output_type": "stream",
     "text": [
      "type : <class 'numpy.ndarray'>\n",
      "shape : (2, 2, 3)\n",
      "dimension : 3\n",
      "dtype : int32\n",
      "Array Data : \n",
      " [[[ 0  1  2]\n",
      "  [ 3  4  5]]\n",
      "\n",
      " [[ 6  7  8]\n",
      "  [ 9 10 11]]]\n"
     ]
    }
   ],
   "source": [
    "arr2 = arr.reshape(2,2,-1) # 3차원을 만들어 준다\n",
    "aryInfo(arr2)"
   ]
  },
  {
   "cell_type": "markdown",
   "metadata": {},
   "source": [
    "- 무조건 1차원 배열로 변경하고 싶다면\n",
    "- flatten()\n",
    "- ravel()"
   ]
  },
  {
   "cell_type": "code",
   "execution_count": 10,
   "metadata": {},
   "outputs": [
    {
     "name": "stdout",
     "output_type": "stream",
     "text": [
      "type : <class 'numpy.ndarray'>\n",
      "shape : (5,)\n",
      "dimension : 1\n",
      "dtype : int32\n",
      "Array Data : \n",
      " [0 1 2 3 4]\n"
     ]
    }
   ],
   "source": [
    "arr=np.arange(5)\n",
    "aryInfo(arr) # 1차원"
   ]
  },
  {
   "cell_type": "code",
   "execution_count": 11,
   "metadata": {},
   "outputs": [
    {
     "name": "stdout",
     "output_type": "stream",
     "text": [
      "type : <class 'numpy.ndarray'>\n",
      "shape : (1, 5)\n",
      "dimension : 2\n",
      "dtype : int32\n",
      "Array Data : \n",
      " [[0 1 2 3 4]]\n"
     ]
    }
   ],
   "source": [
    "arr1 = arr.reshape(1,5)\n",
    "aryInfo(arr1) # 2차원"
   ]
  },
  {
   "cell_type": "code",
   "execution_count": 12,
   "metadata": {},
   "outputs": [
    {
     "data": {
      "text/plain": [
       "array([0, 1, 2, 3, 4])"
      ]
     },
     "execution_count": 12,
     "metadata": {},
     "output_type": "execute_result"
    }
   ],
   "source": [
    "arr1.flatten() # 1차원으로 리턴된다"
   ]
  },
  {
   "cell_type": "code",
   "execution_count": 13,
   "metadata": {},
   "outputs": [
    {
     "data": {
      "text/plain": [
       "array([0, 1, 2, 3, 4])"
      ]
     },
     "execution_count": 13,
     "metadata": {},
     "output_type": "execute_result"
    }
   ],
   "source": [
    "arr1.ravel()"
   ]
  },
  {
   "cell_type": "code",
   "execution_count": 14,
   "metadata": {},
   "outputs": [
    {
     "name": "stdout",
     "output_type": "stream",
     "text": [
      "type : <class 'numpy.ndarray'>\n",
      "shape : (1, 5)\n",
      "dimension : 2\n",
      "dtype : int32\n",
      "Array Data : \n",
      " [[0 1 2 3 4]]\n"
     ]
    }
   ],
   "source": [
    "# 새로운 array가 생김 다른 객체를 만들고 싶을때 copy 원본 view를 쓸때에는 reshape만 사용\n",
    "# 행의 수가 동일 할때만 가능하다\n",
    "arr2 = arr.reshape(1,5).copy()\n",
    "aryInfo(arr2)"
   ]
  },
  {
   "cell_type": "markdown",
   "metadata": {},
   "source": [
    "- 배열 연결(concatenate) -> 배열과 배열을 더해 큰 배열을 만들어줌\n",
    "- hstack\n",
    "- vstack\n",
    "- dstack\n",
    "- stack\n",
    "- r_\n",
    "- c_\n",
    "- tile"
   ]
  },
  {
   "cell_type": "code",
   "execution_count": 18,
   "metadata": {},
   "outputs": [
    {
     "name": "stdout",
     "output_type": "stream",
     "text": [
      "type : <class 'numpy.ndarray'>\n",
      "shape : (2, 3)\n",
      "dimension : 2\n",
      "dtype : float64\n",
      "Array Data : \n",
      " [[1. 1. 1.]\n",
      " [1. 1. 1.]]\n",
      "**************************************************\n",
      "type : <class 'numpy.ndarray'>\n",
      "shape : (2, 2)\n",
      "dimension : 2\n",
      "dtype : float64\n",
      "Array Data : \n",
      " [[0. 0.]\n",
      " [0. 0.]]\n",
      "**************************************************\n"
     ]
    },
    {
     "data": {
      "text/plain": [
       "array([[1., 1., 1., 0., 0.],\n",
       "       [1., 1., 1., 0., 0.]])"
      ]
     },
     "execution_count": 18,
     "metadata": {},
     "output_type": "execute_result"
    }
   ],
   "source": [
    "# hstack -> 행의 수가 같은 2개 이상의 배열을 옆으로 연결(열의 수가 더 많은 배열 만들때 사용)\n",
    "h_arr01 = np.ones((2,3))\n",
    "aryInfo(h_arr01)\n",
    "print(\"*\"*50)\n",
    "h_arr02 = np.zeros((2,2))\n",
    "aryInfo(h_arr02)\n",
    "print(\"*\"*50)\n",
    "np.hstack([h_arr01,h_arr02])"
   ]
  },
  {
   "cell_type": "code",
   "execution_count": 19,
   "metadata": {},
   "outputs": [
    {
     "name": "stdout",
     "output_type": "stream",
     "text": [
      "type : <class 'numpy.ndarray'>\n",
      "shape : (2, 3)\n",
      "dimension : 2\n",
      "dtype : float64\n",
      "Array Data : \n",
      " [[1. 1. 1.]\n",
      " [1. 1. 1.]]\n",
      "**************************************************\n",
      "type : <class 'numpy.ndarray'>\n",
      "shape : (3, 3)\n",
      "dimension : 2\n",
      "dtype : float64\n",
      "Array Data : \n",
      " [[0. 0. 0.]\n",
      " [0. 0. 0.]\n",
      " [0. 0. 0.]]\n",
      "**************************************************\n"
     ]
    },
    {
     "data": {
      "text/plain": [
       "array([[1., 1., 1.],\n",
       "       [1., 1., 1.],\n",
       "       [0., 0., 0.],\n",
       "       [0., 0., 0.],\n",
       "       [0., 0., 0.]])"
      ]
     },
     "execution_count": 19,
     "metadata": {},
     "output_type": "execute_result"
    }
   ],
   "source": [
    "# vstack -> 열의 수가 같은 2개 이상의 배열을 위 아래로 연결(행의 수가 더 많은 배열 만들때 사용)\n",
    "# 열의 수 동일\n",
    "h_arr01 = np.ones((2,3))\n",
    "aryInfo(h_arr01)\n",
    "print(\"*\"*50)\n",
    "h_arr02 = np.zeros((3,3))\n",
    "aryInfo(h_arr02)\n",
    "print(\"*\"*50)\n",
    "np.vstack([h_arr01,h_arr02])"
   ]
  },
  {
   "cell_type": "code",
   "execution_count": 27,
   "metadata": {},
   "outputs": [
    {
     "name": "stdout",
     "output_type": "stream",
     "text": [
      "type : <class 'numpy.ndarray'>\n",
      "shape : (3, 4)\n",
      "dimension : 2\n",
      "dtype : float64\n",
      "Array Data : \n",
      " [[1. 1. 1. 1.]\n",
      " [1. 1. 1. 1.]\n",
      " [1. 1. 1. 1.]]\n",
      "**************************************************\n",
      "type : <class 'numpy.ndarray'>\n",
      "shape : (3, 4)\n",
      "dimension : 2\n",
      "dtype : float64\n",
      "Array Data : \n",
      " [[0. 0. 0. 0.]\n",
      " [0. 0. 0. 0.]\n",
      " [0. 0. 0. 0.]]\n",
      "**************************************************\n",
      "type : <class 'numpy.ndarray'>\n",
      "shape : (3, 4, 2)\n",
      "dimension : 3\n",
      "dtype : float64\n",
      "Array Data : \n",
      " [[[1. 0.]\n",
      "  [1. 0.]\n",
      "  [1. 0.]\n",
      "  [1. 0.]]\n",
      "\n",
      " [[1. 0.]\n",
      "  [1. 0.]\n",
      "  [1. 0.]\n",
      "  [1. 0.]]\n",
      "\n",
      " [[1. 0.]\n",
      "  [1. 0.]\n",
      "  [1. 0.]\n",
      "  [1. 0.]]]\n"
     ]
    }
   ],
   "source": [
    "# shape(3,4) -> 1개의 3차원으로 만들기 (3,4,2) \n",
    "# 3은 차원이 되고 4는 행이됨 열은 자동 생성\n",
    "# dstack을 사용하면 (3,4,2) 여기서 3은 3차원 4,2는 4행 2열을 뜻한다\n",
    "# 차원의 길이를 늘리는 것이기 때문에 행과 열 같아야한다\n",
    "h_arr01 = np.ones((3,4))\n",
    "aryInfo(h_arr01)\n",
    "print(\"*\"*50)\n",
    "h_arr02 = np.zeros((3,4))\n",
    "aryInfo(h_arr02)\n",
    "print(\"*\"*50)\n",
    "aryInfo(np.dstack([h_arr01,h_arr02]))"
   ]
  },
  {
   "cell_type": "code",
   "execution_count": 24,
   "metadata": {},
   "outputs": [
    {
     "name": "stdout",
     "output_type": "stream",
     "text": [
      "type : <class 'numpy.ndarray'>\n",
      "shape : (2, 3, 4)\n",
      "dimension : 3\n",
      "dtype : float64\n",
      "Array Data : \n",
      " [[[1. 1. 1. 1.]\n",
      "  [1. 1. 1. 1.]\n",
      "  [1. 1. 1. 1.]]\n",
      "\n",
      " [[0. 0. 0. 0.]\n",
      "  [0. 0. 0. 0.]\n",
      "  [0. 0. 0. 0.]]]\n"
     ]
    }
   ],
   "source": [
    "# np.stack은 평소 할던 shape의 모양으로 추출\n",
    "aryInfo(np.stack([h_arr01,h_arr02]))"
   ]
  },
  {
   "cell_type": "code",
   "execution_count": 29,
   "metadata": {},
   "outputs": [
    {
     "name": "stdout",
     "output_type": "stream",
     "text": [
      "type : <class 'numpy.ndarray'>\n",
      "shape : (6,)\n",
      "dimension : 1\n",
      "dtype : int32\n",
      "Array Data : \n",
      " [1 2 3 4 5 6]\n",
      "type : <class 'numpy.ndarray'>\n",
      "shape : (3, 2)\n",
      "dimension : 2\n",
      "dtype : int32\n",
      "Array Data : \n",
      " [[1 4]\n",
      " [2 5]\n",
      " [3 6]]\n"
     ]
    }
   ],
   "source": [
    "# r_\n",
    "# 1차원으로 연결\n",
    "# 인덱서(index) 좌우로 연결시켜주는 것 특이하게 [] 사용\n",
    "aryInfo(np.r_[np.array([1,2,3]),np.array([4,5,6])])\n",
    "#c_\n",
    "aryInfo(np.c_[np.array([1,2,3]),np.array([4,5,6])]) # combine 배열의 차원을 추가해서 좌우로 데이터 연결\n"
   ]
  },
  {
   "cell_type": "code",
   "execution_count": 34,
   "metadata": {},
   "outputs": [
    {
     "name": "stdout",
     "output_type": "stream",
     "text": [
      "type : <class 'numpy.ndarray'>\n",
      "shape : (6, 6)\n",
      "dimension : 2\n",
      "dtype : int32\n",
      "Array Data : \n",
      " [[1 2 3 1 2 3]\n",
      " [4 5 6 4 5 6]\n",
      " [1 2 3 1 2 3]\n",
      " [4 5 6 4 5 6]\n",
      " [1 2 3 1 2 3]\n",
      " [4 5 6 4 5 6]]\n"
     ]
    }
   ],
   "source": [
    "aryInfo(np.tile(np.array([[1,2,3],[4,5,6]]),(3,2))) # 행을 3번 반복 열을 2번 반복"
   ]
  },
  {
   "cell_type": "markdown",
   "metadata": {},
   "source": [
    "- ndarray delete() 함수\n",
    "- axis 기준 행과 열을 삭제 할 수 있다.\n",
    "- axis 지정하지 않으면 1차원 변환 삭제\n",
    "- 원본 배열을 변경하지 않고 새로운 배열 return"
   ]
  },
  {
   "cell_type": "code",
   "execution_count": 36,
   "metadata": {},
   "outputs": [
    {
     "name": "stdout",
     "output_type": "stream",
     "text": [
      "type : <class 'numpy.ndarray'>\n",
      "shape : (3, 4)\n",
      "dimension : 2\n",
      "dtype : int32\n",
      "Array Data : \n",
      " [[9 9 4 8]\n",
      " [5 9 7 8]\n",
      " [4 4 2 0]]\n"
     ]
    }
   ],
   "source": [
    "arr = np.random.randint(0,10,(3,4)) # 난수 생성\n",
    "aryInfo(arr)"
   ]
  },
  {
   "cell_type": "code",
   "execution_count": 39,
   "metadata": {},
   "outputs": [
    {
     "name": "stdout",
     "output_type": "stream",
     "text": [
      "type : <class 'numpy.ndarray'>\n",
      "shape : (11,)\n",
      "dimension : 1\n",
      "dtype : int32\n",
      "Array Data : \n",
      " [9 4 8 5 9 7 8 4 4 2 0]\n",
      "**************************************************\n",
      "type : <class 'numpy.ndarray'>\n",
      "shape : (3, 4)\n",
      "dimension : 2\n",
      "dtype : int32\n",
      "Array Data : \n",
      " [[9 9 4 8]\n",
      " [5 9 7 8]\n",
      " [4 4 2 0]]\n",
      "**************************************************\n",
      "type : <class 'numpy.ndarray'>\n",
      "shape : (2, 4)\n",
      "dimension : 2\n",
      "dtype : int32\n",
      "Array Data : \n",
      " [[9 9 4 8]\n",
      " [4 4 2 0]]\n",
      "**************************************************\n",
      "type : <class 'numpy.ndarray'>\n",
      "shape : (3, 3)\n",
      "dimension : 2\n",
      "dtype : int32\n",
      "Array Data : \n",
      " [[9 4 8]\n",
      " [5 7 8]\n",
      " [4 2 0]]\n"
     ]
    }
   ],
   "source": [
    "result = np.delete(arr,1) # 인덱스번지의 값을 삭제\n",
    "aryInfo(result)\n",
    "print('*'*50)\n",
    "aryInfo(arr)\n",
    "print('*'*50)\n",
    "result = np.delete(arr,1,axis=0) # 1번째 행이 삭제된다\n",
    "aryInfo(result)\n",
    "print('*'*50)\n",
    "result = np.delete(arr,1,axis=1) # 1번째 열이 삭제된다\n",
    "aryInfo(result)"
   ]
  },
  {
   "cell_type": "markdown",
   "metadata": {},
   "source": [
    "### 배열의 연산\n",
    "- vector operation(명시적으로 반복문을 사용하지 않더라도 모든 원소에 대해서 연산 가능)"
   ]
  },
  {
   "cell_type": "code",
   "execution_count": 41,
   "metadata": {},
   "outputs": [
    {
     "name": "stdout",
     "output_type": "stream",
     "text": [
      "[    1     2     3 ...  9998  9999 10000]\n",
      "[10001 10002 10003 ... 19998 19999 20000]\n"
     ]
    }
   ],
   "source": [
    "x = np.arange(1,10001)\n",
    "print(x)\n",
    "y = np.arange(10001,20001)\n",
    "print(y)"
   ]
  },
  {
   "cell_type": "code",
   "execution_count": 49,
   "metadata": {},
   "outputs": [
    {
     "name": "stdout",
     "output_type": "stream",
     "text": [
      "[0 0 0 ... 0 0 0]\n",
      "[10002 10004 10006 10008 10010 10012 10014 10016 10018 10020]\n",
      "Wall time: 7.95 ms\n"
     ]
    }
   ],
   "source": [
    "%%time \n",
    "# 셀이 실행되는 시간 측정\n",
    "z = np.zeros_like(x)\n",
    "print(z)\n",
    "for i in range(10000):\n",
    "    z[i] = x[i]+y[i]\n",
    "print(z[:10])"
   ]
  },
  {
   "cell_type": "code",
   "execution_count": 45,
   "metadata": {},
   "outputs": [
    {
     "name": "stdout",
     "output_type": "stream",
     "text": [
      "[10002 10004 10006 10008 10010 10012 10014 10016 10018 10020]\n",
      "Wall time: 11 ms\n"
     ]
    }
   ],
   "source": [
    "%%time\n",
    "z= x + y\n",
    "print(z[:10])"
   ]
  },
  {
   "cell_type": "code",
   "execution_count": 53,
   "metadata": {},
   "outputs": [
    {
     "name": "stdout",
     "output_type": "stream",
     "text": [
      "[False  True False  True]\n",
      "[False  True  True  True]\n",
      "False\n",
      "True\n",
      "[10 20 30 40]\n"
     ]
    }
   ],
   "source": [
    "# 비교, 논리 연산도 가능하다\n",
    "x = np.array([1,2,3,4])\n",
    "y = np.array([4,2,2,4])\n",
    "z = np.array([1,2,3,4])\n",
    "print(x == y) # size가 같아야 한다\n",
    "print(x >= y)\n",
    "# 배열의 모든 원소가 같은지 다른지를 판단하고 싶다면?\n",
    "print(np.all(x == y))\n",
    "print(np.all(x == z))\n",
    "\n",
    "# 스칼라 연산\n",
    "print(x*10)"
   ]
  },
  {
   "cell_type": "code",
   "execution_count": 54,
   "metadata": {},
   "outputs": [
    {
     "name": "stdout",
     "output_type": "stream",
     "text": [
      "type : <class 'numpy.ndarray'>\n",
      "shape : (3, 4)\n",
      "dimension : 2\n",
      "dtype : int32\n",
      "Array Data : \n",
      " [[ 0  1  2  3]\n",
      " [ 4  5  6  7]\n",
      " [ 8  9 10 11]]\n"
     ]
    }
   ],
   "source": [
    "x = np.arange(12).reshape(3,4)\n",
    "aryInfo(x)"
   ]
  },
  {
   "cell_type": "code",
   "execution_count": 55,
   "metadata": {},
   "outputs": [
    {
     "name": "stdout",
     "output_type": "stream",
     "text": [
      "[[   0  100  200  300]\n",
      " [ 400  500  600  700]\n",
      " [ 800  900 1000 1100]]\n"
     ]
    }
   ],
   "source": [
    "print(x*100) #broadcasing 적용됨"
   ]
  },
  {
   "cell_type": "markdown",
   "metadata": {},
   "source": [
    "### broadcasting\n",
    "- 스칼라를 벡터와 같은 크기로 확장시켜 요소에 대한 계산이 가능하게 만든 것\n",
    "- 차원이 다를때에도 적용된다"
   ]
  },
  {
   "cell_type": "code",
   "execution_count": 56,
   "metadata": {},
   "outputs": [
    {
     "name": "stdout",
     "output_type": "stream",
     "text": [
      "type : <class 'numpy.ndarray'>\n",
      "shape : (5, 3)\n",
      "dimension : 2\n",
      "dtype : int32\n",
      "Array Data : \n",
      " [[0 1 2]\n",
      " [1 2 3]\n",
      " [2 3 4]\n",
      " [3 4 5]\n",
      " [4 5 6]]\n"
     ]
    }
   ],
   "source": [
    "x = np.vstack([range(7)[i:i+3]for i in range(5)])\n",
    "aryInfo(x)"
   ]
  },
  {
   "cell_type": "code",
   "execution_count": 60,
   "metadata": {},
   "outputs": [
    {
     "name": "stdout",
     "output_type": "stream",
     "text": [
      "type : <class 'numpy.ndarray'>\n",
      "shape : (5, 1)\n",
      "dimension : 2\n",
      "dtype : int32\n",
      "Array Data : \n",
      " [[0]\n",
      " [1]\n",
      " [2]\n",
      " [3]\n",
      " [4]]\n",
      "[[ 0  1  2]\n",
      " [ 2  3  4]\n",
      " [ 4  5  6]\n",
      " [ 6  7  8]\n",
      " [ 8  9 10]]\n"
     ]
    }
   ],
   "source": [
    "y=np.arange(5)[:,np.newaxis] # 2차원의 y를 만듬\n",
    "aryInfo(y) "
   ]
  },
  {
   "cell_type": "code",
   "execution_count": 61,
   "metadata": {},
   "outputs": [
    {
     "data": {
      "text/plain": [
       "array([[ 0,  1,  2],\n",
       "       [ 2,  3,  4],\n",
       "       [ 4,  5,  6],\n",
       "       [ 6,  7,  8],\n",
       "       [ 8,  9, 10]])"
      ]
     },
     "execution_count": 61,
     "metadata": {},
     "output_type": "execute_result"
    }
   ],
   "source": [
    "x+y"
   ]
  },
  {
   "cell_type": "markdown",
   "metadata": {},
   "source": [
    "- 최대/최소 : min, max, argmin, argmax\n",
    "- 통계 : sum, mean, median, std, var"
   ]
  },
  {
   "cell_type": "code",
   "execution_count": 63,
   "metadata": {},
   "outputs": [
    {
     "name": "stdout",
     "output_type": "stream",
     "text": [
      "type : <class 'numpy.int32'>\n",
      "shape : ()\n",
      "dimension : 0\n",
      "dtype : int32\n",
      "Array Data : \n",
      " 10\n"
     ]
    }
   ],
   "source": [
    "x=np.array([1,2,3,4])\n",
    "aryInfo(np.sum(x))"
   ]
  },
  {
   "cell_type": "code",
   "execution_count": 66,
   "metadata": {},
   "outputs": [
    {
     "name": "stdout",
     "output_type": "stream",
     "text": [
      "type : <class 'numpy.int32'>\n",
      "shape : ()\n",
      "dimension : 0\n",
      "dtype : int32\n",
      "Array Data : \n",
      " 10\n"
     ]
    }
   ],
   "source": [
    "aryInfo(x.sum())"
   ]
  },
  {
   "cell_type": "code",
   "execution_count": 74,
   "metadata": {},
   "outputs": [
    {
     "name": "stdout",
     "output_type": "stream",
     "text": [
      "최솟값 인덱스 :  0\n",
      "최솟값 :  1\n",
      "최대값 인덱스 :  3\n",
      "최대값 :  4\n",
      "중위수 :  2.5\n",
      "평균 :  2.5\n",
      "**************************************************\n",
      "False\n",
      "True\n"
     ]
    }
   ],
   "source": [
    "print('최솟값 인덱스 : ',x.argmin())\n",
    "print('최솟값 : ' , x[x.argmin()])\n",
    "print('최대값 인덱스 : ',x.argmax())\n",
    "print('최대값 : ' , x[x.argmax()]) # argmin/argmax는 인덱스 번지를 리턴해 준다\n",
    "print('중위수 : ' , np.median(x))\n",
    "print('평균 : ' , np.mean(x))\n",
    "\n",
    "print('*'*50)\n",
    "\n",
    "print(np.all([True,True,False])) #np.all은 요소의 모든 값이 같아야 True and연산과 비슷\n",
    "print(np.any([True,True,False])) # 요소가 하나라도 다르면 True -> Or 연산과 비슷"
   ]
  },
  {
   "cell_type": "code",
   "execution_count": 77,
   "metadata": {},
   "outputs": [
    {
     "name": "stdout",
     "output_type": "stream",
     "text": [
      "type : <class 'numpy.ndarray'>\n",
      "shape : (100, 100)\n",
      "dimension : 2\n",
      "dtype : int32\n",
      "Array Data : \n",
      " [[0 0 0 ... 0 0 0]\n",
      " [0 0 0 ... 0 0 0]\n",
      " [0 0 0 ... 0 0 0]\n",
      " ...\n",
      " [0 0 0 ... 0 0 0]\n",
      " [0 0 0 ... 0 0 0]\n",
      " [0 0 0 ... 0 0 0]]\n",
      "True\n"
     ]
    }
   ],
   "source": [
    "all_matrix = np.zeros((100,100),dtype = np.int)\n",
    "aryInfo(all_matrix)\n",
    "\n",
    "print(np.all(all_matrix == all_matrix))"
   ]
  },
  {
   "cell_type": "code",
   "execution_count": 83,
   "metadata": {},
   "outputs": [
    {
     "name": "stdout",
     "output_type": "stream",
     "text": [
      "True\n"
     ]
    }
   ],
   "source": [
    "x_vector = np.array([1,2,3,2])\n",
    "y_vector = np.array([2,2,3,2])\n",
    "z_vector = np.array([6,4,4,5])\n",
    "\n",
    "print(((x_vector <=y_vector)&(y_vector<=z_vector)).all())"
   ]
  },
  {
   "cell_type": "markdown",
   "metadata": {},
   "source": [
    "### 연산의 대상이 2차원이라면?\n",
    "- axis = 0 열 연산\n",
    "- axis = 1 행 연산 (생략 될 경우 디폴트 값으로 0)\n"
   ]
  },
  {
   "cell_type": "code",
   "execution_count": 86,
   "metadata": {
    "scrolled": false
   },
   "outputs": [
    {
     "name": "stdout",
     "output_type": "stream",
     "text": [
      "type : <class 'numpy.ndarray'>\n",
      "shape : (4, 5)\n",
      "dimension : 2\n",
      "dtype : int32\n",
      "Array Data : \n",
      " [[ 1  2  3  4  5]\n",
      " [ 6  7  8  9 10]\n",
      " [11 12 13 14 15]\n",
      " [16 17 18 19 20]]\n"
     ]
    }
   ],
   "source": [
    "x_matrix = np.arange(1,21,1).reshape(4,-1)\n",
    "aryInfo(x_matrix)"
   ]
  },
  {
   "cell_type": "code",
   "execution_count": 89,
   "metadata": {},
   "outputs": [
    {
     "name": "stdout",
     "output_type": "stream",
     "text": [
      "[34 38 42 46 50]\n",
      "[15 40 65 90]\n"
     ]
    }
   ],
   "source": [
    "print(x_matrix.sum(axis=0)) # 열에 대한 합을 구해준다\n",
    "print(x_matrix.sum(axis=1)) # 행에 대한 합을 구해준다"
   ]
  },
  {
   "cell_type": "code",
   "execution_count": 98,
   "metadata": {},
   "outputs": [
    {
     "name": "stdout",
     "output_type": "stream",
     "text": [
      "type : <class 'numpy.ndarray'>\n",
      "shape : (5, 6)\n",
      "dimension : 2\n",
      "dtype : int32\n",
      "Array Data : \n",
      " [[ 1  2  3  4  5  6]\n",
      " [ 7  8  9 10 11 12]\n",
      " [13 14 15 16 17 18]\n",
      " [19 20 21 22 23 24]\n",
      " [25 26 27 28 29 30]]\n",
      "30\n",
      "[ 21  57  93 129 165]\n",
      "[ 6 12 18 24 30]\n",
      "[13. 14. 15. 16. 17. 18.]\n",
      "[25 26 27 28 29 30]\n"
     ]
    }
   ],
   "source": [
    "# 실수로 이루어진 5 * 6 행렬을 만들기\n",
    "matrix = np.arange(1,31,1).reshape(5,6)\n",
    "aryInfo(matrix)\n",
    "\n",
    "# 1. 전체의 최대값\n",
    "print(matrix.max())\n",
    "# 2. 각 행의 합\n",
    "print(matrix.sum(axis=1))\n",
    "# 3. 각 행의 최대값\n",
    "print(matrix.max(axis=1))\n",
    "# 4. 각 열의 평균\n",
    "print(matrix.mean(axis=0))\n",
    "# 5. 각 열의 최대값\n",
    "print(matrix.max(axis=0))"
   ]
  },
  {
   "cell_type": "markdown",
   "metadata": {},
   "source": [
    "### 정렬\n",
    "- sort()\n",
    "- axis = 0 행을 정렬, 1이면 열 정렬\n",
    "- inplace = T, F -> 원본에 적용\n",
    "- np.sort() : 정렬된 배열\n",
    "- arr.sort() : 원본이 정렬(inplace = T)-> None"
   ]
  },
  {
   "cell_type": "code",
   "execution_count": 101,
   "metadata": {},
   "outputs": [
    {
     "name": "stdout",
     "output_type": "stream",
     "text": [
      "[3 4 5 7]\n",
      "[4 3 5 7]\n"
     ]
    }
   ],
   "source": [
    "x= np.array([4,3,5,7])\n",
    "print(np.sort(x))\n",
    "print(x) # 원본에 적용되는것은 아님"
   ]
  },
  {
   "cell_type": "code",
   "execution_count": 105,
   "metadata": {},
   "outputs": [
    {
     "data": {
      "text/plain": [
       "array([[ 3,  4,  5,  7],\n",
       "       [ 1,  9, 11, 12],\n",
       "       [ 1,  2, 14, 15]])"
      ]
     },
     "execution_count": 105,
     "metadata": {},
     "output_type": "execute_result"
    }
   ],
   "source": [
    "x = np.array([[4,3,5,7],\n",
    "            [1,12,11,9],\n",
    "            [2,15,1,14]])\n",
    "np.sort(x,axis=1)  # inplace = F가 되서 x 변수에 바로 적용이 안됨"
   ]
  },
  {
   "cell_type": "code",
   "execution_count": 106,
   "metadata": {},
   "outputs": [
    {
     "data": {
      "text/plain": [
       "array([[ 3,  4,  5,  7],\n",
       "       [ 1,  9, 11, 12],\n",
       "       [ 1,  2, 14, 15]])"
      ]
     },
     "execution_count": 106,
     "metadata": {},
     "output_type": "execute_result"
    }
   ],
   "source": [
    "x.sort(axis=1) # inplace = T가 되서 x 변수에 바로 적용\n",
    "x"
   ]
  },
  {
   "cell_type": "markdown",
   "metadata": {},
   "source": [
    "- argsort : sort된 것의 인덱스 번지를 리턴한다"
   ]
  },
  {
   "cell_type": "code",
   "execution_count": 107,
   "metadata": {},
   "outputs": [
    {
     "name": "stdout",
     "output_type": "stream",
     "text": [
      "[1 0 2 3]\n",
      "[3 4 5 7]\n"
     ]
    }
   ],
   "source": [
    "x = np.array([4,3,5,7])\n",
    "idx = np.argsort(x)\n",
    "print(idx)\n",
    "print(x[idx])"
   ]
  },
  {
   "cell_type": "markdown",
   "metadata": {},
   "source": [
    "- 아래 추출한 값을 가지고 내림차순으로 상위 5%까지만 결과를 출력하려면?"
   ]
  },
  {
   "cell_type": "code",
   "execution_count": 112,
   "metadata": {},
   "outputs": [
    {
     "name": "stdout",
     "output_type": "stream",
     "text": [
      "[0 1 2 3 4 5 6 7 8 9]\n",
      "[5 0 2 4 6 9 3 7 8 1]\n",
      "[0 1 2 3 4 5 6 7 8 9]\n",
      "[9 8 7 6 5 4 3 2 1 0]\n"
     ]
    }
   ],
   "source": [
    "# 내림차순\n",
    "arr = np.arange(10)\n",
    "print(arr)\n",
    "np.random.shuffle(arr) # 배열을 섞는기법\n",
    "print(arr)\n",
    "print(np.sort(arr)) # 오름차순\n",
    "print(np.sort(arr)[::-1]) # 내림차순"
   ]
  },
  {
   "cell_type": "code",
   "execution_count": 113,
   "metadata": {},
   "outputs": [
    {
     "name": "stdout",
     "output_type": "stream",
     "text": [
      "type : <class 'numpy.ndarray'>\n",
      "shape : (200,)\n",
      "dimension : 1\n",
      "dtype : float64\n",
      "Array Data : \n",
      " [ 0.40535466 -0.79011194  0.3721925  -0.38893121  0.32575252  0.79189277\n",
      "  0.09273688  0.94599351  1.07729646 -1.95881911 -1.05414099  0.33913151\n",
      "  0.21828955 -0.24181684 -0.08386573 -0.47735044 -0.03911068  0.21590567\n",
      " -0.30750676  0.27340911  0.88468735  0.58258461 -1.15094135  1.25453252\n",
      " -1.09520037 -0.08985435  1.00834521 -0.62916657 -1.05717501  0.55391098\n",
      " -2.24212715 -2.12014518 -0.2727452  -2.03439419 -1.3523648  -0.43652471\n",
      "  0.12023739  0.58607691  0.22327404 -0.73592287 -0.29755298 -0.16205628\n",
      " -0.35370255 -1.15525848 -0.31253138  1.67842386 -0.09630334  0.24024745\n",
      "  0.96858238 -0.19332352 -0.50066693 -1.34478187 -0.93526711  0.46095768\n",
      "  0.00662742 -0.45698324  0.57756825  1.09823421  0.45152555 -2.66579532\n",
      "  0.93833155  1.0116205   0.16274092  1.16119929  0.28796294  0.18101773\n",
      "  0.91470553 -0.2341454  -0.47024681  0.99431234  0.66251013 -0.12843121\n",
      " -0.61069395 -2.17220049  0.7655401   0.45798338 -0.27789357  0.34758049\n",
      " -0.23906384  1.47425186  1.24940827 -0.28119441  0.22477148 -0.17039601\n",
      " -0.01418433  1.13841179  0.21269476 -0.14727151 -0.33559381  0.15603316\n",
      "  0.62307624 -0.12219227 -1.29066362  0.75848448 -0.41504608  0.03898218\n",
      " -0.73529585  0.56968061 -1.5428259   1.89668803 -1.5229711  -1.40355797\n",
      " -0.08224193  0.14115111 -0.53062049  0.44044105  1.06949559  1.85119491\n",
      " -0.77909181 -0.2752294   0.19631754 -1.28555935  1.09691046 -1.20295183\n",
      "  0.50933402  0.58043576  0.34668099  1.57191473 -0.23704368  0.14354882\n",
      " -1.64989174  0.78343129  1.28812437 -1.41650673  1.63982263  1.4725029\n",
      " -1.1396294  -0.42735802  1.02443653  2.05448694 -1.51692714  0.53123446\n",
      "  0.81279873 -1.02877813  3.00734856 -1.05479921 -0.50240192 -0.31817488\n",
      " -1.30414124  0.8860006  -0.59691384  0.57566146  1.12134616 -0.11373801\n",
      "  0.25020866  0.80290203  0.04146338  1.37258071  1.31869516 -0.15611964\n",
      " -0.95001221 -0.45738386  0.78213743 -0.34675527  1.30738311 -0.30927211\n",
      "  2.15630758  1.59137876 -1.54133809 -0.12400313 -0.53652435  0.79162494\n",
      "  0.00755616  2.11740351  0.39547384 -1.06896739 -1.7224039  -0.12964144\n",
      "  0.12927657  0.79508935  0.01611225 -1.69123025 -1.57018952  0.95682139\n",
      "  1.58938036 -0.75127043 -1.13520531 -1.12002429  2.35907117 -1.67924087\n",
      "  0.29837393 -0.37748836  0.85802027 -0.34120913 -0.32954208 -0.31048731\n",
      " -1.02711677 -1.15675503 -0.30473898  0.85379578  1.78766512 -1.65229537\n",
      " -1.26089762  0.35279812 -0.18345542 -0.19560361 -1.51922563 -1.49535001\n",
      "  0.36475761  0.28031911]\n",
      "**************************************************\n",
      "[3.00734856 2.35907117 2.15630758 2.11740351 2.05448694 1.89668803\n",
      " 1.85119491 1.78766512 1.67842386 1.63982263]\n"
     ]
    }
   ],
   "source": [
    "arr = np.random.randn(200)\n",
    "aryInfo(arr)\n",
    "print(\"*\"*50)\n",
    "\n",
    "result = np.sort(arr)[::-1][:int(0.05*len(arr))]\n",
    "print(result)"
   ]
  }
 ],
 "metadata": {
  "kernelspec": {
   "display_name": "Python 3",
   "language": "python",
   "name": "python3"
  },
  "language_info": {
   "codemirror_mode": {
    "name": "ipython",
    "version": 3
   },
   "file_extension": ".py",
   "mimetype": "text/x-python",
   "name": "python",
   "nbconvert_exporter": "python",
   "pygments_lexer": "ipython3",
   "version": "3.6.5"
  }
 },
 "nbformat": 4,
 "nbformat_minor": 2
}
