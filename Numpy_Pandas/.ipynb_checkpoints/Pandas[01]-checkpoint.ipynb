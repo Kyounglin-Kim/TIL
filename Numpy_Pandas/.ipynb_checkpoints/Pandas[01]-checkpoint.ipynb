{
 "cells": [
  {
   "cell_type": "markdown",
   "metadata": {},
   "source": [
    "# Pandas\n",
    "\n",
    "- 분석하려는 데이터는 대부분 시계열(Series)이거나 표(table)형태로 정의해야한다.\n",
    "- Series 클래스와 DataFrame 클래스를 제공한다"
   ]
  },
  {
   "cell_type": "code",
   "execution_count": 1,
   "metadata": {},
   "outputs": [],
   "source": [
    "import pandas as pd\n",
    "import numpy as np\n",
    "import matplotlib.pyplot as plt"
   ]
  },
  {
   "cell_type": "markdown",
   "metadata": {},
   "source": [
    "### Series 클래스\n",
    "- 넘파이의 1차원 배열과 비슷하지만 각 데이터의 의미를 표시하는 인덱스를 붙일 수 있다."
   ]
  },
  {
   "cell_type": "code",
   "execution_count": 2,
   "metadata": {},
   "outputs": [
    {
     "name": "stdout",
     "output_type": "stream",
     "text": [
      "[1 2 3 4 'jslim']\n",
      "object\n"
     ]
    }
   ],
   "source": [
    "# Series(어떤 데이터 타입이든 보유할 수 있는 레이블 된 1차원배열)와 numpy array 비교\n",
    "# numpy\n",
    "arr = np.array([1,2,3,4,'jslim'], dtype = np.object)\n",
    "print(arr)\n",
    "print(arr.dtype)"
   ]
  },
  {
   "cell_type": "code",
   "execution_count": 7,
   "metadata": {},
   "outputs": [
    {
     "name": "stdout",
     "output_type": "stream",
     "text": [
      "0    1.0\n",
      "1    2.0\n",
      "2    3.0\n",
      "3    4.0\n",
      "dtype: float64\n",
      "[1. 2. 3. 4.]\n",
      "<class 'numpy.ndarray'>\n",
      "RangeIndex(start=0, stop=4, step=1)\n"
     ]
    }
   ],
   "source": [
    "#pandas\n",
    "s = pd.Series([1,2,3,4],dtype = np.float64)\n",
    "print(s) # 인덱스가 데이터로 이루어져있는 형태\n",
    "print(s.values)\n",
    "print(type(s.values))\n",
    "print(s.index)"
   ]
  },
  {
   "cell_type": "code",
   "execution_count": 11,
   "metadata": {},
   "outputs": [],
   "source": [
    "def serieInfo(s):\n",
    "    print('value : ',s.values)\n",
    "    print('value type : ',type(s.values))\n",
    "    print('index : ', s.index)\n",
    "    print('index type : ', type(s.index))\n",
    "    print('index + value : ',s)"
   ]
  },
  {
   "cell_type": "code",
   "execution_count": 14,
   "metadata": {},
   "outputs": [
    {
     "name": "stdout",
     "output_type": "stream",
     "text": [
      "value :  [344234  23423   3453  43574]\n",
      "value type :  <class 'numpy.ndarray'>\n",
      "index :  Index(['서울', '부산', '대전', '광주'], dtype='object')\n",
      "index type :  <class 'pandas.core.indexes.base.Index'>\n",
      "index + value :  서울    344234\n",
      "부산     23423\n",
      "대전      3453\n",
      "광주     43574\n",
      "dtype: int64\n"
     ]
    }
   ],
   "source": [
    "# 인덱스의 라벨은 문자열뿐만아니라 날짜, 시간 정수 등 가능\n",
    "\n",
    "s = pd.Series([344234,23423,3453,43574],index = ['서울','부산','대전','광주']) \n",
    "# index = np.arange(5)도 가능하다\n",
    "serieInfo(s)"
   ]
  },
  {
   "cell_type": "code",
   "execution_count": 15,
   "metadata": {},
   "outputs": [
    {
     "name": "stdout",
     "output_type": "stream",
     "text": [
      "지역별\n",
      "서울    344234\n",
      "부산     23423\n",
      "대전      3453\n",
      "광주     43574\n",
      "dtype: int64\n"
     ]
    }
   ],
   "source": [
    "s.index.name = '지역별'\n",
    "print(s)"
   ]
  },
  {
   "cell_type": "code",
   "execution_count": 16,
   "metadata": {},
   "outputs": [
    {
     "data": {
      "text/plain": [
       "지역별\n",
       "서울    3.44234\n",
       "부산    0.23423\n",
       "대전    0.03453\n",
       "광주    0.43574\n",
       "dtype: float64"
      ]
     },
     "execution_count": 16,
     "metadata": {},
     "output_type": "execute_result"
    }
   ],
   "source": [
    "s/100000 # 데이터에 영향을 미치는 것이지 인덱스에는 영향을 주지 않는다"
   ]
  },
  {
   "cell_type": "markdown",
   "metadata": {},
   "source": [
    "- series indexing"
   ]
  },
  {
   "cell_type": "code",
   "execution_count": 17,
   "metadata": {},
   "outputs": [
    {
     "data": {
      "text/plain": [
       "344234"
      ]
     },
     "execution_count": 17,
     "metadata": {},
     "output_type": "execute_result"
    }
   ],
   "source": [
    "s['서울']"
   ]
  },
  {
   "cell_type": "code",
   "execution_count": 18,
   "metadata": {},
   "outputs": [
    {
     "data": {
      "text/plain": [
       "43574"
      ]
     },
     "execution_count": 18,
     "metadata": {},
     "output_type": "execute_result"
    }
   ],
   "source": [
    "s[3] # s['광주'] 가능하다 "
   ]
  },
  {
   "cell_type": "code",
   "execution_count": 20,
   "metadata": {},
   "outputs": [
    {
     "data": {
      "text/plain": [
       "지역별\n",
       "서울    344234\n",
       "부산     23423\n",
       "dtype: int64"
      ]
     },
     "execution_count": 20,
     "metadata": {},
     "output_type": "execute_result"
    }
   ],
   "source": [
    "s['서울':'부산'] #s[0:2] -> 라벨 인덱싱은 -1이 되지 않는다"
   ]
  },
  {
   "cell_type": "code",
   "execution_count": 22,
   "metadata": {},
   "outputs": [
    {
     "data": {
      "text/plain": [
       "지역별\n",
       "서울    344234\n",
       "대전      3453\n",
       "dtype: int64"
      ]
     },
     "execution_count": 22,
     "metadata": {},
     "output_type": "execute_result"
    }
   ],
   "source": [
    "# 부분인덱싱\n",
    "s[['서울','대전']] #[]를 더 써야한다."
   ]
  },
  {
   "cell_type": "code",
   "execution_count": 23,
   "metadata": {},
   "outputs": [
    {
     "data": {
      "text/plain": [
       "True"
      ]
     },
     "execution_count": 23,
     "metadata": {},
     "output_type": "execute_result"
    }
   ],
   "source": [
    "'서울' in s"
   ]
  },
  {
   "cell_type": "code",
   "execution_count": 24,
   "metadata": {},
   "outputs": [
    {
     "data": {
      "text/plain": [
       "False"
      ]
     },
     "execution_count": 24,
     "metadata": {},
     "output_type": "execute_result"
    }
   ],
   "source": [
    "'강원' in s"
   ]
  },
  {
   "cell_type": "code",
   "execution_count": 26,
   "metadata": {},
   "outputs": [
    {
     "name": "stdout",
     "output_type": "stream",
     "text": [
      "key : 서울 , value : 344234\n",
      "key : 부산 , value : 23423\n",
      "key : 대전 , value : 3453\n",
      "key : 광주 , value : 43574\n"
     ]
    }
   ],
   "source": [
    "for key, value in s.items():\n",
    "    print('key : {} , value : {}'.format(key,value))"
   ]
  },
  {
   "cell_type": "code",
   "execution_count": 28,
   "metadata": {},
   "outputs": [
    {
     "name": "stdout",
     "output_type": "stream",
     "text": [
      "value :  [ 1  5 -8 10]\n",
      "value type :  <class 'numpy.ndarray'>\n",
      "index :  Index(['c', 'b', 'a', 'k'], dtype='object')\n",
      "index type :  <class 'pandas.core.indexes.base.Index'>\n",
      "index + value :  c     1\n",
      "b     5\n",
      "a    -8\n",
      "k    10\n",
      "dtype: int64\n"
     ]
    }
   ],
   "source": [
    "# 딕셔너리로도 입력가능하다\n",
    "s2 = pd.Series({'c' : 1,'b' : 5 ,'a' : -8, 'k' : 10})\n",
    "serieInfo(s2)"
   ]
  },
  {
   "cell_type": "code",
   "execution_count": 32,
   "metadata": {},
   "outputs": [
    {
     "name": "stdout",
     "output_type": "stream",
     "text": [
      "fancy[0,2] indexing : c    1\n",
      "a   -8\n",
      "dtype: int64\n",
      "boolean s2%2==0 : a    -8\n",
      "k    10\n",
      "dtype: int64\n"
     ]
    }
   ],
   "source": [
    "# Fancy indexing & Boolean indexing\n",
    "print('fancy[0,2] indexing : {}'.format(s2[[0,2]]))\n",
    "#boolean indexing 2의 배수인 것\n",
    "print('boolean s2%2==0 : {}'.format(s2[s2%2==0]))"
   ]
  },
  {
   "cell_type": "code",
   "execution_count": 33,
   "metadata": {},
   "outputs": [
    {
     "name": "stdout",
     "output_type": "stream",
     "text": [
      "value :  [    nan  43574.  23423. 344234.]\n",
      "value type :  <class 'numpy.ndarray'>\n",
      "index :  Index(['광주', '대전', '부산', '서울'], dtype='object')\n",
      "index type :  <class 'pandas.core.indexes.base.Index'>\n",
      "index + value :  광주         NaN\n",
      "대전     43574.0\n",
      "부산     23423.0\n",
      "서울    344234.0\n",
      "dtype: float64\n"
     ]
    }
   ],
   "source": [
    "# 인덱스의 라벨은 문자열뿐만아니라 날짜, 시간 정수 등 가능\n",
    "\n",
    "s3 = pd.Series({'서울' : 344234,'부산' : 23423, '인천' : 3453, '대전' : 43574},\n",
    "               dtype=np.int32,\n",
    "               index = ['광주','대전','부산','서울']) # 우리가 만든 인덱스 우선\n",
    "\n",
    "serieInfo(s3)\n",
    "\n",
    "# index + value :  광주  NaN 인 이유는 key에 없는 이름이기때문에 인덱스는 가질수 있지만 데이터는 가질 수 없다"
   ]
  },
  {
   "cell_type": "code",
   "execution_count": 34,
   "metadata": {},
   "outputs": [
    {
     "name": "stdout",
     "output_type": "stream",
     "text": [
      "a    NaN\n",
      "b    NaN\n",
      "c    NaN\n",
      "k    NaN\n",
      "광주   NaN\n",
      "대전   NaN\n",
      "부산   NaN\n",
      "서울   NaN\n",
      "dtype: float64\n"
     ]
    }
   ],
   "source": [
    "diff_s = s-s2 #연산은 가능하지만 배열의 인덱스가다르면 연산이 불가능하다\n",
    "print(diff_s)"
   ]
  },
  {
   "cell_type": "code",
   "execution_count": null,
   "metadata": {},
   "outputs": [],
   "source": [
    "# A공장의 2019-01-01 부터 10일간의 생산량을 Series 저장\n",
    "# 생산량은 평균이 50이고 편차가 5인 정규분포 생성(정수)\n",
    "\n",
    "# B공장의 2019-01-01 부터 10일간의 생산략을 Series 저장\n",
    "# 생산량은 평균이 70이고 편차가 6인 정규분포 생성(정수)\n",
    "\n",
    "# 날짜별로 모든 공장의 생산량 합계를 구한다면?"
   ]
  },
  {
   "cell_type": "code",
   "execution_count": 35,
   "metadata": {},
   "outputs": [],
   "source": [
    "import numpy as np\n",
    "import pandas as pd\n",
    "from datetime import date, datetime, timedelta\n",
    "from dateutil.parser import parse"
   ]
  },
  {
   "cell_type": "code",
   "execution_count": 47,
   "metadata": {},
   "outputs": [
    {
     "name": "stdout",
     "output_type": "stream",
     "text": [
      "2019-01-01    56\n",
      "2019-01-02    50\n",
      "2019-01-03    39\n",
      "2019-01-04    46\n",
      "2019-01-05    51\n",
      "2019-01-06    46\n",
      "2019-01-07    45\n",
      "2019-01-08    49\n",
      "2019-01-09    37\n",
      "2019-01-10    49\n",
      "dtype: int64\n",
      "**************************************************\n",
      "2019-01-01    70\n",
      "2019-01-02    73\n",
      "2019-01-03    73\n",
      "2019-01-04    65\n",
      "2019-01-05    78\n",
      "2019-01-06    74\n",
      "2019-01-07    69\n",
      "2019-01-08    73\n",
      "2019-01-09    69\n",
      "2019-01-10    64\n",
      "dtype: int64\n",
      "**************************************************\n",
      "2019-01-01    126\n",
      "2019-01-02    123\n",
      "2019-01-03    112\n",
      "2019-01-04    111\n",
      "2019-01-05    129\n",
      "2019-01-06    120\n",
      "2019-01-07    114\n",
      "2019-01-08    122\n",
      "2019-01-09    106\n",
      "2019-01-10    113\n",
      "dtype: int64\n"
     ]
    }
   ],
   "source": [
    "start_day = datetime(2019,1,1)\n",
    "#print(start_day)\n",
    "facA = pd.Series([int(x) for x in np.random.normal(50,5,(10,))],\n",
    "                index=[start_day + timedelta(days=x) for x in range(10)])\n",
    "print(facA)\n",
    "\n",
    "print(\"*\"*50)\n",
    "\n",
    "facB = pd.Series([int(x) for x in np.random.normal(70,6,(10,))],\n",
    "                index=[start_day + timedelta(days=x) for x in range(10)])\n",
    "print(facB)\n",
    "\n",
    "print(\"*\"*50)\n",
    "\n",
    "print(facA+facB)"
   ]
  }
 ],
 "metadata": {
  "kernelspec": {
   "display_name": "Python 3",
   "language": "python",
   "name": "python3"
  },
  "language_info": {
   "codemirror_mode": {
    "name": "ipython",
    "version": 3
   },
   "file_extension": ".py",
   "mimetype": "text/x-python",
   "name": "python",
   "nbconvert_exporter": "python",
   "pygments_lexer": "ipython3",
   "version": "3.6.5"
  }
 },
 "nbformat": 4,
 "nbformat_minor": 2
}
