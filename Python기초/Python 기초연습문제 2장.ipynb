{
 "cells": [
  {
   "cell_type": "markdown",
   "metadata": {},
   "source": [
    "# Python 기초 공부\n",
    "\n",
    "### 점프 투 파이썬 연습문제 2장 풀기\n"
   ]
  },
  {
   "cell_type": "code",
   "execution_count": 3,
   "metadata": {},
   "outputs": [
    {
     "name": "stdout",
     "output_type": "stream",
     "text": [
      "70.0\n"
     ]
    }
   ],
   "source": [
    "# 01 - 홍길동의 평균 점수를 구해보기\n",
    "korean = 80 \n",
    "english = 75\n",
    "math = 55\n",
    "\n",
    "score = (korean+english+math)/3\n",
    "print(score)"
   ]
  },
  {
   "cell_type": "code",
   "execution_count": 7,
   "metadata": {},
   "outputs": [
    {
     "name": "stdout",
     "output_type": "stream",
     "text": [
      "odd\n"
     ]
    }
   ],
   "source": [
    "# 02 - 자연수 13이 홀수 인지 짝수인지 판별할 수 있는 방법 찾기\n",
    "a = 13\n",
    "\n",
    "if a % 2 == 1:\n",
    "    print(\"odd\")\n",
    "else:\n",
    "    print(\"even\")\n",
    "\n"
   ]
  },
  {
   "cell_type": "code",
   "execution_count": 9,
   "metadata": {},
   "outputs": [
    {
     "name": "stdout",
     "output_type": "stream",
     "text": [
      "19881120\n",
      "1068234\n"
     ]
    }
   ],
   "source": [
    "# 03 \n",
    "pin = \"881120-1068234\"\n",
    "yyyymmdd = \"19\"+pin[0:6]\n",
    "num = pin[7:]\n",
    "print(yyyymmdd)\n",
    "print(num)"
   ]
  },
  {
   "cell_type": "code",
   "execution_count": 10,
   "metadata": {},
   "outputs": [
    {
     "name": "stdout",
     "output_type": "stream",
     "text": [
      "1\n"
     ]
    }
   ],
   "source": [
    "# 04 - 성별을 나타내는 숫자 출력\n",
    "print(pin[7])\n"
   ]
  },
  {
   "cell_type": "code",
   "execution_count": 12,
   "metadata": {},
   "outputs": [
    {
     "name": "stdout",
     "output_type": "stream",
     "text": [
      "a#b#c#d\n"
     ]
    }
   ],
   "source": [
    "# 05 - replace 활용하여 문자 변경\n",
    "\n",
    "a = \"a:b:c:d\"\n",
    "b= a.replace(\":\",\"#\")\n",
    "print(b)"
   ]
  },
  {
   "cell_type": "code",
   "execution_count": 16,
   "metadata": {},
   "outputs": [
    {
     "name": "stdout",
     "output_type": "stream",
     "text": [
      "[5, 4, 3, 2, 1]\n"
     ]
    }
   ],
   "source": [
    "# 06 - [1,3,5,4,2] 리스트를 [5,4,3,2,1]로 바꾸기\n",
    "a = [1,3,5,4,2]\n",
    "a.sort()\n",
    "a.reverse()\n",
    "print(a)"
   ]
  },
  {
   "cell_type": "code",
   "execution_count": 3,
   "metadata": {},
   "outputs": [
    {
     "name": "stdout",
     "output_type": "stream",
     "text": [
      "Life is too short\n"
     ]
    }
   ],
   "source": [
    "# 07 - 리스트를 문자열로 바꾸기\n",
    "a = ['Life','is','too','short']\n",
    "result = \" \".join(a)\n",
    "print(result)"
   ]
  },
  {
   "cell_type": "code",
   "execution_count": 9,
   "metadata": {},
   "outputs": [
    {
     "name": "stdout",
     "output_type": "stream",
     "text": [
      "(1, 2, 3, 4)\n"
     ]
    }
   ],
   "source": [
    "# 08 - (1,2,3) 튜플에 값 4를 추가하여 (1,2,3,4) 만들기\n",
    "# 튜플은 1개의 원소를 가질 때 ex) (1,) 이런식으로 표현해야 한다\n",
    "a=(1,2,3)\n",
    "a = a+(4,)\n",
    "print(a)"
   ]
  },
  {
   "cell_type": "code",
   "execution_count": 11,
   "metadata": {},
   "outputs": [],
   "source": [
    "# 09 - 딕셔너리\n",
    "# 딕셔너리 안의 key 값은 변하는 값이 들어가면 안된다. 그러므로 list는 들어가면 안된다"
   ]
  },
  {
   "cell_type": "code",
   "execution_count": 14,
   "metadata": {},
   "outputs": [
    {
     "name": "stdout",
     "output_type": "stream",
     "text": [
      "{'A': 90, 'C': 70}\n",
      "80\n"
     ]
    }
   ],
   "source": [
    "# 10 - 딕셔너리 a에서 'B'에 해당하는 값을 추출하기\n",
    "a = {'A':90,'B':80,'C':70}\n",
    "# result=a['B'] 둘다 가능하다\n",
    "result=a.pop('B')\n",
    "print(a)\n",
    "print(result)"
   ]
  },
  {
   "cell_type": "code",
   "execution_count": 15,
   "metadata": {},
   "outputs": [
    {
     "name": "stdout",
     "output_type": "stream",
     "text": [
      "[1, 2, 3, 4, 5]\n"
     ]
    }
   ],
   "source": [
    "# 11 - 리스트의 중복 숫자 제거\n",
    "a=[1,1,1,2,2,3,3,3,4,4,5]\n",
    "aSet=set(a) # 집합 자료형은 중복이 들어갈 수 없다\n",
    "b=list(aSet)\n",
    "print(b)"
   ]
  },
  {
   "cell_type": "code",
   "execution_count": 16,
   "metadata": {},
   "outputs": [
    {
     "name": "stdout",
     "output_type": "stream",
     "text": [
      "[1, 4, 3]\n"
     ]
    }
   ],
   "source": [
    "# 12 - 결과 확인해 보기\n",
    "a=b=[1,2,3]\n",
    "a[1]=4\n",
    "print(b)"
   ]
  }
 ],
 "metadata": {
  "kernelspec": {
   "display_name": "Python 3",
   "language": "python",
   "name": "python3"
  },
  "language_info": {
   "codemirror_mode": {
    "name": "ipython",
    "version": 3
   },
   "file_extension": ".py",
   "mimetype": "text/x-python",
   "name": "python",
   "nbconvert_exporter": "python",
   "pygments_lexer": "ipython3",
   "version": "3.6.5"
  }
 },
 "nbformat": 4,
 "nbformat_minor": 2
}
