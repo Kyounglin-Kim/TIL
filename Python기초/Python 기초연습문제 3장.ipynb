{
 "cells": [
  {
   "cell_type": "code",
   "execution_count": 2,
   "metadata": {},
   "outputs": [
    {
     "name": "stdout",
     "output_type": "stream",
     "text": [
      "shirt\n"
     ]
    }
   ],
   "source": [
    "# 문제1\n",
    "\n",
    "# 다음 코드의 결과 값은 무엇일까?\n",
    "\n",
    "a = 'Life is too short, you need python'\n",
    "\n",
    "if 'wife' in a :\n",
    "    print('wife')\n",
    "elif 'python' in a and 'you' not in a:\n",
    "    print('python')\n",
    "elif 'shirt' not in a:\n",
    "    print('shirt')\n",
    "elif 'need' not in a:\n",
    "    print('need')\n",
    "else:\n",
    "    print('none')\n",
    "\n",
    "    \n",
    "# 가장 먼저 참인 값 출력"
   ]
  },
  {
   "cell_type": "code",
   "execution_count": 13,
   "metadata": {},
   "outputs": [
    {
     "name": "stdout",
     "output_type": "stream",
     "text": [
      "166833\n"
     ]
    }
   ],
   "source": [
    "# 문제2\n",
    "\n",
    "# while 문을 이용해 1~1000까지의 자연수 중 3의 배수의 합을 구하기\n",
    "\n",
    "result = 0\n",
    "i = 1\n",
    "while i <= 1000:\n",
    "    if i % 3 == 0:\n",
    "        result += i\n",
    "    i += 1\n",
    "    \n",
    "print(result)"
   ]
  },
  {
   "cell_type": "code",
   "execution_count": 16,
   "metadata": {},
   "outputs": [
    {
     "name": "stdout",
     "output_type": "stream",
     "text": [
      "*\n",
      "**\n",
      "***\n",
      "****\n",
      "*****\n"
     ]
    }
   ],
   "source": [
    "# 문제3\n",
    "\n",
    "# while문을 사용하여 다음과 같이 별(*)을 표시하는 프로그램을 작성해 보자\n",
    "\n",
    "i = 0\n",
    "while True:\n",
    "    i+=1\n",
    "    if i>5 : break\n",
    "    print(i*'*')"
   ]
  },
  {
   "cell_type": "code",
   "execution_count": 24,
   "metadata": {},
   "outputs": [
    {
     "name": "stdout",
     "output_type": "stream",
     "text": [
      "1\n",
      "2\n",
      "3\n",
      "4\n",
      "5\n",
      "6\n",
      "7\n",
      "8\n",
      "9\n",
      "10\n",
      "11\n",
      "12\n",
      "13\n",
      "14\n",
      "15\n",
      "16\n",
      "17\n",
      "18\n",
      "19\n",
      "20\n"
     ]
    }
   ],
   "source": [
    "# 문제4\n",
    "\n",
    "# for문을 사용해 1부터 20까지의 수를 출력해 보자\n",
    "\n",
    "for i in range(1,21):\n",
    "    print(i)"
   ]
  },
  {
   "cell_type": "code",
   "execution_count": 26,
   "metadata": {},
   "outputs": [
    {
     "name": "stdout",
     "output_type": "stream",
     "text": [
      "78.88888888888889\n"
     ]
    }
   ],
   "source": [
    "# 문제5\n",
    "\n",
    "# A 학급에 총 10명의 학생이 있다. 이 학생들의 중간고사 점수는 다음과 같다.\n",
    "\n",
    "# for문을 사용하여 A학급의 평균 점수를 구해보자\n",
    "A =[70,60,55,75,95,90,80,85,100]\n",
    "total = 0\n",
    "for score in A:\n",
    "    total += score\n",
    "average = total/len(A)\n",
    "print(average)\n"
   ]
  },
  {
   "cell_type": "code",
   "execution_count": 29,
   "metadata": {},
   "outputs": [
    {
     "name": "stdout",
     "output_type": "stream",
     "text": [
      "[2, 6, 10]\n"
     ]
    }
   ],
   "source": [
    "# 문제6\n",
    "\n",
    "# 리스트 중에서 홀수에만 2를 곱하여 저장하는 코드가 있다.\n",
    "# 위 코드를 list comprehension를 사용하여 표현해보자\n",
    "\n",
    "# for문\n",
    "\n",
    "numbers = [1,2,3,4,5]\n",
    "\n",
    "result = []\n",
    "for n in numbers:\n",
    "    if n % 2 == 1:\n",
    "        result.append(n*2)\n",
    "print(result)"
   ]
  },
  {
   "cell_type": "code",
   "execution_count": 31,
   "metadata": {},
   "outputs": [
    {
     "name": "stdout",
     "output_type": "stream",
     "text": [
      "[2, 6, 10]\n"
     ]
    }
   ],
   "source": [
    "numbers = [1,2,3,4,5]\n",
    "result = [n*2 for n in numbers if n % 2 ==1] \n",
    "print(result)"
   ]
  }
 ],
 "metadata": {
  "kernelspec": {
   "display_name": "Python 3",
   "language": "python",
   "name": "python3"
  },
  "language_info": {
   "codemirror_mode": {
    "name": "ipython",
    "version": 3
   },
   "file_extension": ".py",
   "mimetype": "text/x-python",
   "name": "python",
   "nbconvert_exporter": "python",
   "pygments_lexer": "ipython3",
   "version": "3.6.12"
  }
 },
 "nbformat": 4,
 "nbformat_minor": 4
}
