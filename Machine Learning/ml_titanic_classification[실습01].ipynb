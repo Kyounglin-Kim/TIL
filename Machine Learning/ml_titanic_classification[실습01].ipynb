{
 "cells": [
  {
   "cell_type": "code",
   "execution_count": 9,
   "metadata": {},
   "outputs": [],
   "source": [
    "import numpy as np\n",
    "import pandas as pd\n",
    "import matplotlib.pyplot as plt\n",
    "import seaborn as sns\n",
    "%matplotlib inline\n",
    "import missingno as msno\n",
    "from sklearn.impute import SimpleImputer\n",
    "import sklearn"
   ]
  },
  {
   "cell_type": "code",
   "execution_count": 10,
   "metadata": {},
   "outputs": [],
   "source": [
    "from sklearn.datasets import load_iris, load_breast_cancer\n",
    "from sklearn.tree import DecisionTreeClassifier\n",
    "from sklearn.model_selection import GridSearchCV, train_test_split\n",
    "from sklearn.metrics import accuracy_score\n",
    "\n",
    "from sklearn.preprocessing import LabelEncoder\n",
    "\n",
    "import pandas as pd\n",
    "import numpy  as np"
   ]
  },
  {
   "cell_type": "code",
   "execution_count": 155,
   "metadata": {},
   "outputs": [
    {
     "data": {
      "text/html": [
       "<div>\n",
       "<style scoped>\n",
       "    .dataframe tbody tr th:only-of-type {\n",
       "        vertical-align: middle;\n",
       "    }\n",
       "\n",
       "    .dataframe tbody tr th {\n",
       "        vertical-align: top;\n",
       "    }\n",
       "\n",
       "    .dataframe thead th {\n",
       "        text-align: right;\n",
       "    }\n",
       "</style>\n",
       "<table border=\"1\" class=\"dataframe\">\n",
       "  <thead>\n",
       "    <tr style=\"text-align: right;\">\n",
       "      <th></th>\n",
       "      <th>PassengerId</th>\n",
       "      <th>Survived</th>\n",
       "      <th>Pclass</th>\n",
       "      <th>Name</th>\n",
       "      <th>Sex</th>\n",
       "      <th>Age</th>\n",
       "      <th>SibSp</th>\n",
       "      <th>Parch</th>\n",
       "      <th>Ticket</th>\n",
       "      <th>Fare</th>\n",
       "      <th>Cabin</th>\n",
       "      <th>Embarked</th>\n",
       "    </tr>\n",
       "  </thead>\n",
       "  <tbody>\n",
       "    <tr>\n",
       "      <th>0</th>\n",
       "      <td>1</td>\n",
       "      <td>0</td>\n",
       "      <td>3</td>\n",
       "      <td>Braund, Mr. Owen Harris</td>\n",
       "      <td>male</td>\n",
       "      <td>22.0</td>\n",
       "      <td>1</td>\n",
       "      <td>0</td>\n",
       "      <td>A/5 21171</td>\n",
       "      <td>7.2500</td>\n",
       "      <td>NaN</td>\n",
       "      <td>S</td>\n",
       "    </tr>\n",
       "    <tr>\n",
       "      <th>1</th>\n",
       "      <td>2</td>\n",
       "      <td>1</td>\n",
       "      <td>1</td>\n",
       "      <td>Cumings, Mrs. John Bradley (Florence Briggs Th...</td>\n",
       "      <td>female</td>\n",
       "      <td>38.0</td>\n",
       "      <td>1</td>\n",
       "      <td>0</td>\n",
       "      <td>PC 17599</td>\n",
       "      <td>71.2833</td>\n",
       "      <td>C85</td>\n",
       "      <td>C</td>\n",
       "    </tr>\n",
       "    <tr>\n",
       "      <th>2</th>\n",
       "      <td>3</td>\n",
       "      <td>1</td>\n",
       "      <td>3</td>\n",
       "      <td>Heikkinen, Miss. Laina</td>\n",
       "      <td>female</td>\n",
       "      <td>26.0</td>\n",
       "      <td>0</td>\n",
       "      <td>0</td>\n",
       "      <td>STON/O2. 3101282</td>\n",
       "      <td>7.9250</td>\n",
       "      <td>NaN</td>\n",
       "      <td>S</td>\n",
       "    </tr>\n",
       "  </tbody>\n",
       "</table>\n",
       "</div>"
      ],
      "text/plain": [
       "   PassengerId  Survived  Pclass  \\\n",
       "0            1         0       3   \n",
       "1            2         1       1   \n",
       "2            3         1       3   \n",
       "\n",
       "                                                Name     Sex   Age  SibSp  \\\n",
       "0                            Braund, Mr. Owen Harris    male  22.0      1   \n",
       "1  Cumings, Mrs. John Bradley (Florence Briggs Th...  female  38.0      1   \n",
       "2                             Heikkinen, Miss. Laina  female  26.0      0   \n",
       "\n",
       "   Parch            Ticket     Fare Cabin Embarked  \n",
       "0      0         A/5 21171   7.2500   NaN        S  \n",
       "1      0          PC 17599  71.2833   C85        C  \n",
       "2      0  STON/O2. 3101282   7.9250   NaN        S  "
      ]
     },
     "execution_count": 155,
     "metadata": {},
     "output_type": "execute_result"
    }
   ],
   "source": [
    "titanic_df = pd.read_csv('./data/titanic_train.csv')\n",
    "titanic_df.head(3)"
   ]
  },
  {
   "cell_type": "code",
   "execution_count": 26,
   "metadata": {
    "scrolled": true
   },
   "outputs": [
    {
     "data": {
      "image/png": "[encoded data removed]",
      "text/plain": [
       "<Figure size 1800x720 with 2 Axes>"
      ]
     },
     "metadata": {
      "needs_background": "light"
     },
     "output_type": "display_data"
    }
   ],
   "source": [
    "#3. missingno 패키지를 이용한 결측값을 가지는 컬럼 확인 및 처리\n",
    "msno.matrix(titanic_df)\n",
    "plt.show()"
   ]
  },
  {
   "cell_type": "code",
   "execution_count": 156,
   "metadata": {},
   "outputs": [
    {
     "data": {
      "image/png": "[encoded data removed]",
      "text/plain": [
       "<Figure size 1800x720 with 2 Axes>"
      ]
     },
     "metadata": {},
     "output_type": "display_data"
    }
   ],
   "source": [
    "# -  age는 평균으로, cabin 'N', embarked 'N' 으로 대체\n",
    "# mean, median, most_frequent\n",
    "\n",
    "titanic_age_imputer = SimpleImputer(strategy = 'mean')\n",
    "titanic_df['Age'] = titanic_age_imputer.fit_transform(titanic_df[['Age']])\n",
    "\n",
    "\n",
    "titanic_df['Embarked']=titanic_df['Embarked'].fillna('N')\n",
    "titanic_df['Cabin']=titanic_df['Cabin'].fillna('N')\n",
    "\n",
    "msno.matrix(titanic_df)\n",
    "plt.show()\n"
   ]
  },
  {
   "cell_type": "code",
   "execution_count": 40,
   "metadata": {
    "scrolled": true
   },
   "outputs": [
    {
     "data": {
      "text/plain": [
       "<AxesSubplot:>"
      ]
     },
     "execution_count": 40,
     "metadata": {},
     "output_type": "execute_result"
    },
    {
     "data": {
      "image/png": "[encoded data removed]",
      "text/plain": [
       "<Figure size 432x288 with 1 Axes>"
      ]
     },
     "metadata": {
      "needs_background": "light"
     },
     "output_type": "display_data"
    }
   ],
   "source": [
    "# 4. age , cabin , embarked 빈도확인\n",
    "titanic_df['Age'].plot()"
   ]
  },
  {
   "cell_type": "code",
   "execution_count": 157,
   "metadata": {},
   "outputs": [],
   "source": [
    "def get_category(age):\n",
    "    category = \"\"\n",
    "    if age <=5:\n",
    "        category = 'baby'\n",
    "    elif age <=12 :\n",
    "        category = 'child'\n",
    "    elif age <=19 :\n",
    "        category = 'teenager'\n",
    "    elif age <=24 :\n",
    "        category = 'student'\n",
    "    elif age <=39 :\n",
    "        category = 'young adult'\n",
    "    elif age <=60 :\n",
    "        category = 'adult'\n",
    "    else :\n",
    "        category = 'elderly'\n",
    "         \n",
    "    return category \n"
   ]
  },
  {
   "cell_type": "code",
   "execution_count": 158,
   "metadata": {},
   "outputs": [
    {
     "data": {
      "text/plain": [
       "young adult    451\n",
       "adult          141\n",
       "student        113\n",
       "teenager        95\n",
       "baby            44\n",
       "child           25\n",
       "elderly         22\n",
       "Name: age_category, dtype: int64"
      ]
     },
     "execution_count": 158,
     "metadata": {},
     "output_type": "execute_result"
    }
   ],
   "source": [
    "titanic_df['age_category'] = titanic_df['Age'].apply(lambda x : get_category(x))\n",
    "titanic_df['age_category'].value_counts()"
   ]
  },
  {
   "cell_type": "code",
   "execution_count": 80,
   "metadata": {},
   "outputs": [
    {
     "data": {
      "text/plain": [
       "<AxesSubplot:xlabel='age_category', ylabel='count'>"
      ]
     },
     "execution_count": 80,
     "metadata": {},
     "output_type": "execute_result"
    },
    {
     "data": {
      "image/png": "[encoded data removed]",
      "text/plain": [
       "<Figure size 432x288 with 1 Axes>"
      ]
     },
     "metadata": {},
     "output_type": "display_data"
    }
   ],
   "source": [
    "sns.set_style('whitegrid')\n",
    "\n",
    "sns.countplot(x='age_category',data=titanic_df,palette='Set3')"
   ]
  },
  {
   "cell_type": "code",
   "execution_count": 163,
   "metadata": {},
   "outputs": [
    {
     "data": {
      "text/plain": [
       "<AxesSubplot:xlabel='age_category', ylabel='Survived'>"
      ]
     },
     "execution_count": 163,
     "metadata": {},
     "output_type": "execute_result"
    },
    {
     "data": {
      "image/png": "[encoded data removed]",
      "text/plain": [
       "<Figure size 432x288 with 1 Axes>"
      ]
     },
     "metadata": {},
     "output_type": "display_data"
    }
   ],
   "source": [
    "sns.barplot(x='age_category', y = 'Survived', hue='Sex', data=titanic_df,palette='Set2')"
   ]
  },
  {
   "cell_type": "code",
   "execution_count": 67,
   "metadata": {},
   "outputs": [
    {
     "data": {
      "text/plain": [
       "891"
      ]
     },
     "execution_count": 67,
     "metadata": {},
     "output_type": "execute_result"
    }
   ],
   "source": [
    "# 4. cabin 빈도확인\n",
    "titanic_df['Cabin'].count()"
   ]
  },
  {
   "cell_type": "code",
   "execution_count": 64,
   "metadata": {},
   "outputs": [
    {
     "data": {
      "text/html": [
       "<div>\n",
       "<style scoped>\n",
       "    .dataframe tbody tr th:only-of-type {\n",
       "        vertical-align: middle;\n",
       "    }\n",
       "\n",
       "    .dataframe tbody tr th {\n",
       "        vertical-align: top;\n",
       "    }\n",
       "\n",
       "    .dataframe thead th {\n",
       "        text-align: right;\n",
       "    }\n",
       "</style>\n",
       "<table border=\"1\" class=\"dataframe\">\n",
       "  <thead>\n",
       "    <tr style=\"text-align: right;\">\n",
       "      <th></th>\n",
       "      <th>freq</th>\n",
       "    </tr>\n",
       "    <tr>\n",
       "      <th>Embarked</th>\n",
       "      <th></th>\n",
       "    </tr>\n",
       "  </thead>\n",
       "  <tbody>\n",
       "    <tr>\n",
       "      <th>C</th>\n",
       "      <td>168</td>\n",
       "    </tr>\n",
       "    <tr>\n",
       "      <th>N</th>\n",
       "      <td>2</td>\n",
       "    </tr>\n",
       "    <tr>\n",
       "      <th>Q</th>\n",
       "      <td>77</td>\n",
       "    </tr>\n",
       "    <tr>\n",
       "      <th>S</th>\n",
       "      <td>644</td>\n",
       "    </tr>\n",
       "  </tbody>\n",
       "</table>\n",
       "</div>"
      ],
      "text/plain": [
       "          freq\n",
       "Embarked      \n",
       "C          168\n",
       "N            2\n",
       "Q           77\n",
       "S          644"
      ]
     },
     "execution_count": 64,
     "metadata": {},
     "output_type": "execute_result"
    }
   ],
   "source": [
    "# 4. embarked 빈도확인\n",
    "freq_Embarked=titanic_df.groupby('Embarked').count()\n",
    "freq_Embarked=pd.DataFrame(freq_Embarked['PassengerId'])\n",
    "freq_Embarked.rename(columns = {'PassengerId' : 'freq'}, inplace = True)\n",
    "freq_Embarked"
   ]
  },
  {
   "cell_type": "code",
   "execution_count": 76,
   "metadata": {},
   "outputs": [
    {
     "data": {
      "text/plain": [
       "<AxesSubplot:xlabel='Embarked', ylabel='count'>"
      ]
     },
     "execution_count": 76,
     "metadata": {},
     "output_type": "execute_result"
    },
    {
     "data": {
      "image/png": "[encoded data removed]",
      "text/plain": [
       "<Figure size 432x288 with 1 Axes>"
      ]
     },
     "metadata": {},
     "output_type": "display_data"
    }
   ],
   "source": [
    "sns.set_style('whitegrid')\n",
    "\n",
    "sns.countplot(x='Embarked',data=titanic_df,palette='Set2')"
   ]
  },
  {
   "cell_type": "code",
   "execution_count": 73,
   "metadata": {},
   "outputs": [
    {
     "data": {
      "text/plain": [
       "<AxesSubplot:xlabel='Survived', ylabel='Age'>"
      ]
     },
     "execution_count": 73,
     "metadata": {},
     "output_type": "execute_result"
    },
    {
     "data": {
      "image/png": "[encoded data removed]",
      "text/plain": [
       "<Figure size 432x288 with 1 Axes>"
      ]
     },
     "metadata": {},
     "output_type": "display_data"
    }
   ],
   "source": [
    "sns.set_style('whitegrid')\n",
    "\n",
    "sns.boxplot(x='Survived', y='Age',data=titanic_df,palette='Set3')"
   ]
  },
  {
   "cell_type": "code",
   "execution_count": 107,
   "metadata": {},
   "outputs": [],
   "source": [
    "# 6. sex , cabin , embarked 에 대한 라벨인코딩\n",
    "from sklearn.preprocessing import LabelEncoder\n",
    "\n",
    "sex_label = titanic_df['Sex']\n",
    "encoder = LabelEncoder()\n",
    "encoder.fit(sex_label)\n",
    "sex_digit_label = encoder.transform(sex_label)\n",
    "\n",
    "\n",
    "cabin_label = titanic_df['Cabin']\n",
    "encoder = LabelEncoder()\n",
    "encoder.fit(cabin_label)\n",
    "cabin_digit_label = encoder.transform(cabin_label)\n",
    "\n",
    "\n",
    "embarked_label = titanic_df['Embarked']\n",
    "encoder = LabelEncoder()\n",
    "encoder.fit(embarked_label)\n",
    "embarked_digit_label = encoder.transform(embarked_label)\n",
    "\n",
    "\n",
    "titanic_df['Sex'] = sex_digit_label\n",
    "titanic_df['Cabin'] = cabin_digit_label\n",
    "titanic_df['Embarked'] = embarked_digit_label"
   ]
  },
  {
   "cell_type": "code",
   "execution_count": 109,
   "metadata": {},
   "outputs": [
    {
     "data": {
      "text/html": [
       "<div>\n",
       "<style scoped>\n",
       "    .dataframe tbody tr th:only-of-type {\n",
       "        vertical-align: middle;\n",
       "    }\n",
       "\n",
       "    .dataframe tbody tr th {\n",
       "        vertical-align: top;\n",
       "    }\n",
       "\n",
       "    .dataframe thead th {\n",
       "        text-align: right;\n",
       "    }\n",
       "</style>\n",
       "<table border=\"1\" class=\"dataframe\">\n",
       "  <thead>\n",
       "    <tr style=\"text-align: right;\">\n",
       "      <th></th>\n",
       "      <th>PassengerId</th>\n",
       "      <th>Survived</th>\n",
       "      <th>Pclass</th>\n",
       "      <th>Name</th>\n",
       "      <th>Sex</th>\n",
       "      <th>Age</th>\n",
       "      <th>SibSp</th>\n",
       "      <th>Parch</th>\n",
       "      <th>Ticket</th>\n",
       "      <th>Fare</th>\n",
       "      <th>Cabin</th>\n",
       "      <th>Embarked</th>\n",
       "    </tr>\n",
       "  </thead>\n",
       "  <tbody>\n",
       "    <tr>\n",
       "      <th>0</th>\n",
       "      <td>1</td>\n",
       "      <td>0</td>\n",
       "      <td>3</td>\n",
       "      <td>Braund, Mr. Owen Harris</td>\n",
       "      <td>1</td>\n",
       "      <td>22.0</td>\n",
       "      <td>1</td>\n",
       "      <td>0</td>\n",
       "      <td>A/5 21171</td>\n",
       "      <td>7.2500</td>\n",
       "      <td>146</td>\n",
       "      <td>3</td>\n",
       "    </tr>\n",
       "    <tr>\n",
       "      <th>1</th>\n",
       "      <td>2</td>\n",
       "      <td>1</td>\n",
       "      <td>1</td>\n",
       "      <td>Cumings, Mrs. John Bradley (Florence Briggs Th...</td>\n",
       "      <td>0</td>\n",
       "      <td>38.0</td>\n",
       "      <td>1</td>\n",
       "      <td>0</td>\n",
       "      <td>PC 17599</td>\n",
       "      <td>71.2833</td>\n",
       "      <td>81</td>\n",
       "      <td>0</td>\n",
       "    </tr>\n",
       "    <tr>\n",
       "      <th>2</th>\n",
       "      <td>3</td>\n",
       "      <td>1</td>\n",
       "      <td>3</td>\n",
       "      <td>Heikkinen, Miss. Laina</td>\n",
       "      <td>0</td>\n",
       "      <td>26.0</td>\n",
       "      <td>0</td>\n",
       "      <td>0</td>\n",
       "      <td>STON/O2. 3101282</td>\n",
       "      <td>7.9250</td>\n",
       "      <td>146</td>\n",
       "      <td>3</td>\n",
       "    </tr>\n",
       "  </tbody>\n",
       "</table>\n",
       "</div>"
      ],
      "text/plain": [
       "   PassengerId  Survived  Pclass  \\\n",
       "0            1         0       3   \n",
       "1            2         1       1   \n",
       "2            3         1       3   \n",
       "\n",
       "                                                Name  Sex   Age  SibSp  Parch  \\\n",
       "0                            Braund, Mr. Owen Harris    1  22.0      1      0   \n",
       "1  Cumings, Mrs. John Bradley (Florence Briggs Th...    0  38.0      1      0   \n",
       "2                             Heikkinen, Miss. Laina    0  26.0      0      0   \n",
       "\n",
       "             Ticket     Fare  Cabin  Embarked  \n",
       "0         A/5 21171   7.2500    146         3  \n",
       "1          PC 17599  71.2833     81         0  \n",
       "2  STON/O2. 3101282   7.9250    146         3  "
      ]
     },
     "execution_count": 109,
     "metadata": {},
     "output_type": "execute_result"
    }
   ],
   "source": [
    "# [ML학습]\n",
    "# 1. 원본 데이터를 재로딩 하고, feature데이터 셋과 Label 데이터 셋 추출\n",
    "titanic_df.head(3)"
   ]
  },
  {
   "cell_type": "code",
   "execution_count": 127,
   "metadata": {},
   "outputs": [],
   "source": [
    "titanic = titanic_df.drop(['PassengerId','Name','Ticket'], axis='columns',inplace=False)"
   ]
  },
  {
   "cell_type": "code",
   "execution_count": 128,
   "metadata": {},
   "outputs": [],
   "source": [
    "feature = titanic.drop('Survived', axis='columns',inplace=False)\n",
    "label = titanic['Survived']"
   ]
  },
  {
   "cell_type": "code",
   "execution_count": 129,
   "metadata": {},
   "outputs": [],
   "source": [
    "# 2. 80:20 으로 데이터 분리(train_test_split)\n",
    "# 학습 데이터 , 테스트 데이터 분리\n",
    "X_train , X_test , y_train, y_test = train_test_split(feature , label,\n",
    "                                                      test_size=0.2, \n",
    "                                                      random_state=100)"
   ]
  },
  {
   "cell_type": "code",
   "execution_count": 130,
   "metadata": {},
   "outputs": [
    {
     "name": "stdout",
     "output_type": "stream",
     "text": [
      "예측 정확도 : 0.78\n"
     ]
    }
   ],
   "source": [
    "# 3. 의사결정트리를 이용한 학습, 예측 및 정확도 확인\n",
    "# 학습을 위한 학습기 - 알고리즘으로 이루어져 있는 객체\n",
    "titanic_dtc = DecisionTreeClassifier()\n",
    "titanic_dtc.fit(X_train, y_train)\n",
    "prediction = titanic_dtc.predict(X_test)\n",
    "# 예측 정확도 평가\n",
    "from sklearn.metrics import accuracy_score\n",
    "print( '예측 정확도 : {0:.2f}'.format(accuracy_score(y_test, prediction)))"
   ]
  },
  {
   "cell_type": "code",
   "execution_count": 148,
   "metadata": {
    "scrolled": true
   },
   "outputs": [],
   "source": [
    "# # 4. KFold=5 를 이용한 교차검증 및 평균정확도 확인\n",
    "# # k=5\n",
    "# from sklearn.model_selection import StratifiedKFold\n",
    "\n",
    "# result_skfold = StratifiedKFold(n_splits=5)\n",
    "# result_clf = DecisionTreeClassifier(random_state=100)\n",
    "# idx_iter=0\n",
    "# cv_accuracy=[]\n",
    "\n",
    "# # StratifiedKFold의 split( ) 호출시 반드시 레이블 데이터 셋도 추가 입력 필요  \n",
    "# for train_index, test_index in result_skfold.split(feature,label):\n",
    "#     # split( )으로 반환된 인덱스를 이용하여 학습용, 검증용 테스트 데이터 추출\n",
    "#     X_train, X_test = feature[train_index],feature[test_index]\n",
    "#     y_train, y_test = label[train_index], label[test_index]\n",
    "    \n",
    "#     #학습 및 예측 \n",
    "#     result_clf.fit(X_train , y_train)    \n",
    "#     pred = result_clf.predict(X_test)\n",
    "\n",
    "#     # 반복 시 마다 정확도 측정 \n",
    "#     idx_iter += 1\n",
    "#     accuracy = np.round(accuracy_score(y_test,pred), 4)\n",
    "#     train_size = X_train.shape[0]\n",
    "#     test_size = X_test.shape[0]\n",
    "    \n",
    "#     print('\\n#{0} 교차 검증 정확도 :{1}, 학습 데이터 크기: {2}, 검증 데이터 크기: {3}'\n",
    "#           .format(idx_iter, accuracy, train_size, test_size))\n",
    "#     print('#{0} 검증 세트 인덱스:{1}'.format(idx_iter,test_index))\n",
    "#     cv_accuracy.append(accuracy)"
   ]
  },
  {
   "cell_type": "code",
   "execution_count": 132,
   "metadata": {},
   "outputs": [],
   "source": [
    "from sklearn.datasets import load_iris\n",
    "from sklearn.tree import DecisionTreeClassifier\n",
    "from sklearn.model_selection import cross_val_score, cross_validate\n",
    "import pandas as pd\n",
    "import numpy  as np"
   ]
  },
  {
   "cell_type": "code",
   "execution_count": 133,
   "metadata": {},
   "outputs": [
    {
     "name": "stdout",
     "output_type": "stream",
     "text": [
      "교차 검증별 정확도 :  [0.75084175 0.78451178 0.78114478]\n",
      "{'fit_time': array([0.0159204 , 0.01038408, 0.00997424]), 'score_time': array([0.00408721, 0.0064888 , 0.00552273]), 'test_score': array([0.75084175, 0.78451178, 0.78114478])}\n",
      "교차 검증 시간 :  [0.0159204  0.01038408 0.00997424]\n",
      "**************************************************\n",
      "교차 검증별 정확도 :  [0.75084175 0.78451178 0.78114478]\n",
      "평균 검증 정확도 :  0.7721661054994389\n"
     ]
    }
   ],
   "source": [
    "#5. cross_val_score 를 이용한 교차검증 및 평균정확도 확인\n",
    "cvs_feature = feature\n",
    "cvs_label = label\n",
    "cvs_dtc = DecisionTreeClassifier(random_state=100)\n",
    "\n",
    "scoring1 = cross_val_score(cvs_dtc,cvs_feature,cvs_label,scoring='accuracy',cv=3)\n",
    "scoring2 = cross_validate(cvs_dtc,cvs_feature,cvs_label,scoring='accuracy',cv=3)\n",
    "\n",
    "\n",
    "print('교차 검증별 정확도 : ', scoring2['test_score'])\n",
    "print(scoring2) # 실행 시간도 확인 할 수 있다\n",
    "print('교차 검증 시간 : ', scoring2['fit_time'])\n",
    "\n",
    "print('*'*50)\n",
    "\n",
    "print('교차 검증별 정확도 : ', scoring1)\n",
    "print('평균 검증 정확도 : ', np.mean(scoring1))"
   ]
  },
  {
   "cell_type": "code",
   "execution_count": 134,
   "metadata": {},
   "outputs": [],
   "source": [
    "# 6. GridSearchCV 를 이용한 교차검증 및 평균정확도 확인\n",
    "# 하이퍼 파라미터 적용해보기\n",
    "from sklearn.datasets import load_iris\n",
    "from sklearn.tree import DecisionTreeClassifier\n",
    "from sklearn.model_selection import GridSearchCV, train_test_split\n",
    "from sklearn.metrics import accuracy_score\n",
    "import pandas as pd\n",
    "import numpy  as np"
   ]
  },
  {
   "cell_type": "code",
   "execution_count": 146,
   "metadata": {},
   "outputs": [
    {
     "data": {
      "text/html": [
       "<div>\n",
       "<style scoped>\n",
       "    .dataframe tbody tr th:only-of-type {\n",
       "        vertical-align: middle;\n",
       "    }\n",
       "\n",
       "    .dataframe tbody tr th {\n",
       "        vertical-align: top;\n",
       "    }\n",
       "\n",
       "    .dataframe thead th {\n",
       "        text-align: right;\n",
       "    }\n",
       "</style>\n",
       "<table border=\"1\" class=\"dataframe\">\n",
       "  <thead>\n",
       "    <tr style=\"text-align: right;\">\n",
       "      <th></th>\n",
       "      <th>params</th>\n",
       "      <th>mean_test_score</th>\n",
       "      <th>rank_test_score</th>\n",
       "      <th>split0_test_score</th>\n",
       "      <th>split1_test_score</th>\n",
       "      <th>split2_test_score</th>\n",
       "    </tr>\n",
       "  </thead>\n",
       "  <tbody>\n",
       "    <tr>\n",
       "      <th>0</th>\n",
       "      <td>{'max_depth': 2, 'min_samples_leaf': 1, 'min_s...</td>\n",
       "      <td>0.780902</td>\n",
       "      <td>26</td>\n",
       "      <td>0.762238</td>\n",
       "      <td>0.797203</td>\n",
       "      <td>0.816901</td>\n",
       "    </tr>\n",
       "    <tr>\n",
       "      <th>1</th>\n",
       "      <td>{'max_depth': 2, 'min_samples_leaf': 1, 'min_s...</td>\n",
       "      <td>0.780902</td>\n",
       "      <td>26</td>\n",
       "      <td>0.762238</td>\n",
       "      <td>0.797203</td>\n",
       "      <td>0.816901</td>\n",
       "    </tr>\n",
       "    <tr>\n",
       "      <th>2</th>\n",
       "      <td>{'max_depth': 2, 'min_samples_leaf': 1, 'min_s...</td>\n",
       "      <td>0.780902</td>\n",
       "      <td>26</td>\n",
       "      <td>0.762238</td>\n",
       "      <td>0.797203</td>\n",
       "      <td>0.816901</td>\n",
       "    </tr>\n",
       "    <tr>\n",
       "      <th>3</th>\n",
       "      <td>{'max_depth': 2, 'min_samples_leaf': 5, 'min_s...</td>\n",
       "      <td>0.780902</td>\n",
       "      <td>26</td>\n",
       "      <td>0.762238</td>\n",
       "      <td>0.797203</td>\n",
       "      <td>0.816901</td>\n",
       "    </tr>\n",
       "    <tr>\n",
       "      <th>4</th>\n",
       "      <td>{'max_depth': 2, 'min_samples_leaf': 5, 'min_s...</td>\n",
       "      <td>0.780902</td>\n",
       "      <td>26</td>\n",
       "      <td>0.762238</td>\n",
       "      <td>0.797203</td>\n",
       "      <td>0.816901</td>\n",
       "    </tr>\n",
       "    <tr>\n",
       "      <th>5</th>\n",
       "      <td>{'max_depth': 2, 'min_samples_leaf': 5, 'min_s...</td>\n",
       "      <td>0.780902</td>\n",
       "      <td>26</td>\n",
       "      <td>0.762238</td>\n",
       "      <td>0.797203</td>\n",
       "      <td>0.816901</td>\n",
       "    </tr>\n",
       "    <tr>\n",
       "      <th>6</th>\n",
       "      <td>{'max_depth': 2, 'min_samples_leaf': 8, 'min_s...</td>\n",
       "      <td>0.780902</td>\n",
       "      <td>26</td>\n",
       "      <td>0.762238</td>\n",
       "      <td>0.797203</td>\n",
       "      <td>0.816901</td>\n",
       "    </tr>\n",
       "    <tr>\n",
       "      <th>7</th>\n",
       "      <td>{'max_depth': 2, 'min_samples_leaf': 8, 'min_s...</td>\n",
       "      <td>0.780902</td>\n",
       "      <td>26</td>\n",
       "      <td>0.762238</td>\n",
       "      <td>0.797203</td>\n",
       "      <td>0.816901</td>\n",
       "    </tr>\n",
       "    <tr>\n",
       "      <th>8</th>\n",
       "      <td>{'max_depth': 2, 'min_samples_leaf': 8, 'min_s...</td>\n",
       "      <td>0.780902</td>\n",
       "      <td>26</td>\n",
       "      <td>0.762238</td>\n",
       "      <td>0.797203</td>\n",
       "      <td>0.816901</td>\n",
       "    </tr>\n",
       "    <tr>\n",
       "      <th>9</th>\n",
       "      <td>{'max_depth': 3, 'min_samples_leaf': 1, 'min_s...</td>\n",
       "      <td>0.810421</td>\n",
       "      <td>7</td>\n",
       "      <td>0.776224</td>\n",
       "      <td>0.825175</td>\n",
       "      <td>0.823944</td>\n",
       "    </tr>\n",
       "    <tr>\n",
       "      <th>10</th>\n",
       "      <td>{'max_depth': 3, 'min_samples_leaf': 1, 'min_s...</td>\n",
       "      <td>0.810421</td>\n",
       "      <td>7</td>\n",
       "      <td>0.776224</td>\n",
       "      <td>0.825175</td>\n",
       "      <td>0.823944</td>\n",
       "    </tr>\n",
       "    <tr>\n",
       "      <th>11</th>\n",
       "      <td>{'max_depth': 3, 'min_samples_leaf': 1, 'min_s...</td>\n",
       "      <td>0.810421</td>\n",
       "      <td>7</td>\n",
       "      <td>0.776224</td>\n",
       "      <td>0.825175</td>\n",
       "      <td>0.823944</td>\n",
       "    </tr>\n",
       "    <tr>\n",
       "      <th>12</th>\n",
       "      <td>{'max_depth': 3, 'min_samples_leaf': 5, 'min_s...</td>\n",
       "      <td>0.804787</td>\n",
       "      <td>10</td>\n",
       "      <td>0.776224</td>\n",
       "      <td>0.825175</td>\n",
       "      <td>0.823944</td>\n",
       "    </tr>\n",
       "    <tr>\n",
       "      <th>13</th>\n",
       "      <td>{'max_depth': 3, 'min_samples_leaf': 5, 'min_s...</td>\n",
       "      <td>0.804787</td>\n",
       "      <td>10</td>\n",
       "      <td>0.776224</td>\n",
       "      <td>0.825175</td>\n",
       "      <td>0.823944</td>\n",
       "    </tr>\n",
       "    <tr>\n",
       "      <th>14</th>\n",
       "      <td>{'max_depth': 3, 'min_samples_leaf': 5, 'min_s...</td>\n",
       "      <td>0.804787</td>\n",
       "      <td>10</td>\n",
       "      <td>0.776224</td>\n",
       "      <td>0.825175</td>\n",
       "      <td>0.823944</td>\n",
       "    </tr>\n",
       "    <tr>\n",
       "      <th>15</th>\n",
       "      <td>{'max_depth': 3, 'min_samples_leaf': 8, 'min_s...</td>\n",
       "      <td>0.793529</td>\n",
       "      <td>14</td>\n",
       "      <td>0.769231</td>\n",
       "      <td>0.825175</td>\n",
       "      <td>0.781690</td>\n",
       "    </tr>\n",
       "    <tr>\n",
       "      <th>16</th>\n",
       "      <td>{'max_depth': 3, 'min_samples_leaf': 8, 'min_s...</td>\n",
       "      <td>0.793529</td>\n",
       "      <td>14</td>\n",
       "      <td>0.769231</td>\n",
       "      <td>0.825175</td>\n",
       "      <td>0.781690</td>\n",
       "    </tr>\n",
       "    <tr>\n",
       "      <th>17</th>\n",
       "      <td>{'max_depth': 3, 'min_samples_leaf': 8, 'min_s...</td>\n",
       "      <td>0.793529</td>\n",
       "      <td>14</td>\n",
       "      <td>0.769231</td>\n",
       "      <td>0.825175</td>\n",
       "      <td>0.781690</td>\n",
       "    </tr>\n",
       "    <tr>\n",
       "      <th>18</th>\n",
       "      <td>{'max_depth': 5, 'min_samples_leaf': 1, 'min_s...</td>\n",
       "      <td>0.813218</td>\n",
       "      <td>6</td>\n",
       "      <td>0.797203</td>\n",
       "      <td>0.818182</td>\n",
       "      <td>0.838028</td>\n",
       "    </tr>\n",
       "    <tr>\n",
       "      <th>19</th>\n",
       "      <td>{'max_depth': 5, 'min_samples_leaf': 1, 'min_s...</td>\n",
       "      <td>0.818852</td>\n",
       "      <td>2</td>\n",
       "      <td>0.797203</td>\n",
       "      <td>0.818182</td>\n",
       "      <td>0.838028</td>\n",
       "    </tr>\n",
       "    <tr>\n",
       "      <th>20</th>\n",
       "      <td>{'max_depth': 5, 'min_samples_leaf': 1, 'min_s...</td>\n",
       "      <td>0.820270</td>\n",
       "      <td>1</td>\n",
       "      <td>0.797203</td>\n",
       "      <td>0.811189</td>\n",
       "      <td>0.838028</td>\n",
       "    </tr>\n",
       "    <tr>\n",
       "      <th>21</th>\n",
       "      <td>{'max_depth': 5, 'min_samples_leaf': 5, 'min_s...</td>\n",
       "      <td>0.814636</td>\n",
       "      <td>3</td>\n",
       "      <td>0.797203</td>\n",
       "      <td>0.811189</td>\n",
       "      <td>0.838028</td>\n",
       "    </tr>\n",
       "    <tr>\n",
       "      <th>22</th>\n",
       "      <td>{'max_depth': 5, 'min_samples_leaf': 5, 'min_s...</td>\n",
       "      <td>0.814636</td>\n",
       "      <td>3</td>\n",
       "      <td>0.797203</td>\n",
       "      <td>0.811189</td>\n",
       "      <td>0.838028</td>\n",
       "    </tr>\n",
       "    <tr>\n",
       "      <th>23</th>\n",
       "      <td>{'max_depth': 5, 'min_samples_leaf': 5, 'min_s...</td>\n",
       "      <td>0.814636</td>\n",
       "      <td>3</td>\n",
       "      <td>0.797203</td>\n",
       "      <td>0.811189</td>\n",
       "      <td>0.838028</td>\n",
       "    </tr>\n",
       "    <tr>\n",
       "      <th>24</th>\n",
       "      <td>{'max_depth': 5, 'min_samples_leaf': 8, 'min_s...</td>\n",
       "      <td>0.792111</td>\n",
       "      <td>20</td>\n",
       "      <td>0.790210</td>\n",
       "      <td>0.811189</td>\n",
       "      <td>0.774648</td>\n",
       "    </tr>\n",
       "    <tr>\n",
       "      <th>25</th>\n",
       "      <td>{'max_depth': 5, 'min_samples_leaf': 8, 'min_s...</td>\n",
       "      <td>0.792111</td>\n",
       "      <td>20</td>\n",
       "      <td>0.790210</td>\n",
       "      <td>0.811189</td>\n",
       "      <td>0.774648</td>\n",
       "    </tr>\n",
       "    <tr>\n",
       "      <th>26</th>\n",
       "      <td>{'max_depth': 5, 'min_samples_leaf': 8, 'min_s...</td>\n",
       "      <td>0.792111</td>\n",
       "      <td>20</td>\n",
       "      <td>0.790210</td>\n",
       "      <td>0.811189</td>\n",
       "      <td>0.774648</td>\n",
       "    </tr>\n",
       "    <tr>\n",
       "      <th>27</th>\n",
       "      <td>{'max_depth': 10, 'min_samples_leaf': 1, 'min_...</td>\n",
       "      <td>0.775288</td>\n",
       "      <td>35</td>\n",
       "      <td>0.748252</td>\n",
       "      <td>0.797203</td>\n",
       "      <td>0.795775</td>\n",
       "    </tr>\n",
       "    <tr>\n",
       "      <th>28</th>\n",
       "      <td>{'max_depth': 10, 'min_samples_leaf': 1, 'min_...</td>\n",
       "      <td>0.773880</td>\n",
       "      <td>36</td>\n",
       "      <td>0.734266</td>\n",
       "      <td>0.811189</td>\n",
       "      <td>0.802817</td>\n",
       "    </tr>\n",
       "    <tr>\n",
       "      <th>29</th>\n",
       "      <td>{'max_depth': 10, 'min_samples_leaf': 1, 'min_...</td>\n",
       "      <td>0.783729</td>\n",
       "      <td>25</td>\n",
       "      <td>0.748252</td>\n",
       "      <td>0.804196</td>\n",
       "      <td>0.809859</td>\n",
       "    </tr>\n",
       "    <tr>\n",
       "      <th>30</th>\n",
       "      <td>{'max_depth': 10, 'min_samples_leaf': 5, 'min_...</td>\n",
       "      <td>0.787885</td>\n",
       "      <td>24</td>\n",
       "      <td>0.776224</td>\n",
       "      <td>0.825175</td>\n",
       "      <td>0.823944</td>\n",
       "    </tr>\n",
       "    <tr>\n",
       "      <th>31</th>\n",
       "      <td>{'max_depth': 10, 'min_samples_leaf': 5, 'min_...</td>\n",
       "      <td>0.790702</td>\n",
       "      <td>23</td>\n",
       "      <td>0.776224</td>\n",
       "      <td>0.825175</td>\n",
       "      <td>0.823944</td>\n",
       "    </tr>\n",
       "    <tr>\n",
       "      <th>32</th>\n",
       "      <td>{'max_depth': 10, 'min_samples_leaf': 5, 'min_...</td>\n",
       "      <td>0.797676</td>\n",
       "      <td>13</td>\n",
       "      <td>0.811189</td>\n",
       "      <td>0.839161</td>\n",
       "      <td>0.823944</td>\n",
       "    </tr>\n",
       "    <tr>\n",
       "      <th>33</th>\n",
       "      <td>{'max_depth': 10, 'min_samples_leaf': 8, 'min_...</td>\n",
       "      <td>0.793529</td>\n",
       "      <td>14</td>\n",
       "      <td>0.797203</td>\n",
       "      <td>0.797203</td>\n",
       "      <td>0.788732</td>\n",
       "    </tr>\n",
       "    <tr>\n",
       "      <th>34</th>\n",
       "      <td>{'max_depth': 10, 'min_samples_leaf': 8, 'min_...</td>\n",
       "      <td>0.792130</td>\n",
       "      <td>18</td>\n",
       "      <td>0.790210</td>\n",
       "      <td>0.797203</td>\n",
       "      <td>0.788732</td>\n",
       "    </tr>\n",
       "    <tr>\n",
       "      <th>35</th>\n",
       "      <td>{'max_depth': 10, 'min_samples_leaf': 8, 'min_...</td>\n",
       "      <td>0.792130</td>\n",
       "      <td>18</td>\n",
       "      <td>0.790210</td>\n",
       "      <td>0.797203</td>\n",
       "      <td>0.788732</td>\n",
       "    </tr>\n",
       "  </tbody>\n",
       "</table>\n",
       "</div>"
      ],
      "text/plain": [
       "                                               params  mean_test_score  \\\n",
       "0   {'max_depth': 2, 'min_samples_leaf': 1, 'min_s...         0.780902   \n",
       "1   {'max_depth': 2, 'min_samples_leaf': 1, 'min_s...         0.780902   \n",
       "2   {'max_depth': 2, 'min_samples_leaf': 1, 'min_s...         0.780902   \n",
       "3   {'max_depth': 2, 'min_samples_leaf': 5, 'min_s...         0.780902   \n",
       "4   {'max_depth': 2, 'min_samples_leaf': 5, 'min_s...         0.780902   \n",
       "5   {'max_depth': 2, 'min_samples_leaf': 5, 'min_s...         0.780902   \n",
       "6   {'max_depth': 2, 'min_samples_leaf': 8, 'min_s...         0.780902   \n",
       "7   {'max_depth': 2, 'min_samples_leaf': 8, 'min_s...         0.780902   \n",
       "8   {'max_depth': 2, 'min_samples_leaf': 8, 'min_s...         0.780902   \n",
       "9   {'max_depth': 3, 'min_samples_leaf': 1, 'min_s...         0.810421   \n",
       "10  {'max_depth': 3, 'min_samples_leaf': 1, 'min_s...         0.810421   \n",
       "11  {'max_depth': 3, 'min_samples_leaf': 1, 'min_s...         0.810421   \n",
       "12  {'max_depth': 3, 'min_samples_leaf': 5, 'min_s...         0.804787   \n",
       "13  {'max_depth': 3, 'min_samples_leaf': 5, 'min_s...         0.804787   \n",
       "14  {'max_depth': 3, 'min_samples_leaf': 5, 'min_s...         0.804787   \n",
       "15  {'max_depth': 3, 'min_samples_leaf': 8, 'min_s...         0.793529   \n",
       "16  {'max_depth': 3, 'min_samples_leaf': 8, 'min_s...         0.793529   \n",
       "17  {'max_depth': 3, 'min_samples_leaf': 8, 'min_s...         0.793529   \n",
       "18  {'max_depth': 5, 'min_samples_leaf': 1, 'min_s...         0.813218   \n",
       "19  {'max_depth': 5, 'min_samples_leaf': 1, 'min_s...         0.818852   \n",
       "20  {'max_depth': 5, 'min_samples_leaf': 1, 'min_s...         0.820270   \n",
       "21  {'max_depth': 5, 'min_samples_leaf': 5, 'min_s...         0.814636   \n",
       "22  {'max_depth': 5, 'min_samples_leaf': 5, 'min_s...         0.814636   \n",
       "23  {'max_depth': 5, 'min_samples_leaf': 5, 'min_s...         0.814636   \n",
       "24  {'max_depth': 5, 'min_samples_leaf': 8, 'min_s...         0.792111   \n",
       "25  {'max_depth': 5, 'min_samples_leaf': 8, 'min_s...         0.792111   \n",
       "26  {'max_depth': 5, 'min_samples_leaf': 8, 'min_s...         0.792111   \n",
       "27  {'max_depth': 10, 'min_samples_leaf': 1, 'min_...         0.775288   \n",
       "28  {'max_depth': 10, 'min_samples_leaf': 1, 'min_...         0.773880   \n",
       "29  {'max_depth': 10, 'min_samples_leaf': 1, 'min_...         0.783729   \n",
       "30  {'max_depth': 10, 'min_samples_leaf': 5, 'min_...         0.787885   \n",
       "31  {'max_depth': 10, 'min_samples_leaf': 5, 'min_...         0.790702   \n",
       "32  {'max_depth': 10, 'min_samples_leaf': 5, 'min_...         0.797676   \n",
       "33  {'max_depth': 10, 'min_samples_leaf': 8, 'min_...         0.793529   \n",
       "34  {'max_depth': 10, 'min_samples_leaf': 8, 'min_...         0.792130   \n",
       "35  {'max_depth': 10, 'min_samples_leaf': 8, 'min_...         0.792130   \n",
       "\n",
       "    rank_test_score  split0_test_score  split1_test_score  split2_test_score  \n",
       "0                26           0.762238           0.797203           0.816901  \n",
       "1                26           0.762238           0.797203           0.816901  \n",
       "2                26           0.762238           0.797203           0.816901  \n",
       "3                26           0.762238           0.797203           0.816901  \n",
       "4                26           0.762238           0.797203           0.816901  \n",
       "5                26           0.762238           0.797203           0.816901  \n",
       "6                26           0.762238           0.797203           0.816901  \n",
       "7                26           0.762238           0.797203           0.816901  \n",
       "8                26           0.762238           0.797203           0.816901  \n",
       "9                 7           0.776224           0.825175           0.823944  \n",
       "10                7           0.776224           0.825175           0.823944  \n",
       "11                7           0.776224           0.825175           0.823944  \n",
       "12               10           0.776224           0.825175           0.823944  \n",
       "13               10           0.776224           0.825175           0.823944  \n",
       "14               10           0.776224           0.825175           0.823944  \n",
       "15               14           0.769231           0.825175           0.781690  \n",
       "16               14           0.769231           0.825175           0.781690  \n",
       "17               14           0.769231           0.825175           0.781690  \n",
       "18                6           0.797203           0.818182           0.838028  \n",
       "19                2           0.797203           0.818182           0.838028  \n",
       "20                1           0.797203           0.811189           0.838028  \n",
       "21                3           0.797203           0.811189           0.838028  \n",
       "22                3           0.797203           0.811189           0.838028  \n",
       "23                3           0.797203           0.811189           0.838028  \n",
       "24               20           0.790210           0.811189           0.774648  \n",
       "25               20           0.790210           0.811189           0.774648  \n",
       "26               20           0.790210           0.811189           0.774648  \n",
       "27               35           0.748252           0.797203           0.795775  \n",
       "28               36           0.734266           0.811189           0.802817  \n",
       "29               25           0.748252           0.804196           0.809859  \n",
       "30               24           0.776224           0.825175           0.823944  \n",
       "31               23           0.776224           0.825175           0.823944  \n",
       "32               13           0.811189           0.839161           0.823944  \n",
       "33               14           0.797203           0.797203           0.788732  \n",
       "34               18           0.790210           0.797203           0.788732  \n",
       "35               18           0.790210           0.797203           0.788732  "
      ]
     },
     "execution_count": 146,
     "metadata": {},
     "output_type": "execute_result"
    }
   ],
   "source": [
    "# GridSearchCV 하이퍼 파라미터 튜닝\n",
    "titanic_feature = feature\n",
    "titanic_label = label\n",
    "\n",
    "# 학습 데이터 , 테스트 데이터 분리\n",
    "X_train , X_test , y_train, y_test = train_test_split(titanic_feature , titanic_label ,\n",
    "                                                      test_size=0.2, \n",
    "                                                      random_state=100)\n",
    "\n",
    "ancer_dtc = DecisionTreeClassifier()\n",
    "\n",
    "params = {'max_depth':[2,3,5,10],\n",
    "             'min_samples_split':[2,3,5], 'min_samples_leaf':[1,5,8]}\n",
    "\n",
    "titanic_grid_tree = GridSearchCV(ancer_dtc, \n",
    "                              param_grid = params, cv=5, refit=True,scoring='accuracy')\n",
    "\n",
    "titanic_grid_tree.fit(X_train,y_train)\n",
    "\n",
    "titanic_grid_df = pd.DataFrame(titanic_grid_tree.cv_results_)\n",
    "titanic_grid_df[['params','mean_test_score','rank_test_score','split0_test_score','split1_test_score','split2_test_score']]"
   ]
  },
  {
   "cell_type": "code",
   "execution_count": 147,
   "metadata": {},
   "outputs": [
    {
     "name": "stdout",
     "output_type": "stream",
     "text": [
      "최적의 파라미터 :  {'max_depth': 5, 'min_samples_leaf': 1, 'min_samples_split': 5}\n",
      "높은 정확도 :  0.8202698709740964\n"
     ]
    }
   ],
   "source": [
    "print('최적의 파라미터 : ', titanic_grid_tree.best_params_)\n",
    "print('높은 정확도 : ', titanic_grid_tree.best_score_)"
   ]
  }
 ],
 "metadata": {
  "kernelspec": {
   "display_name": "Python 3",
   "language": "python",
   "name": "python3"
  },
  "language_info": {
   "codemirror_mode": {
    "name": "ipython",
    "version": 3
   },
   "file_extension": ".py",
   "mimetype": "text/x-python",
   "name": "python",
   "nbconvert_exporter": "python",
   "pygments_lexer": "ipython3",
   "version": "3.6.12"
  }
 },
 "nbformat": 4,
 "nbformat_minor": 4
}
